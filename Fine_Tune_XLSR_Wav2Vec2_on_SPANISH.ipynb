{
  "nbformat": 4,
  "nbformat_minor": 2,
  "metadata": {
    "colab": {
      "name": "Fine-Tune XLSR-Wav2Vec2 on Turkish ASR with 🤗 Transformers.ipynb",
      "provenance": [],
      "collapsed_sections": [],
      "machine_shape": "hm"
    },
    "kernelspec": {
      "name": "python3",
      "display_name": "Python 3.9.7 64-bit ('PyDS': conda)"
    },
    "accelerator": "TPU",
    "widgets": {
      "application/vnd.jupyter.widget-state+json": {
        "7f67dfaeb12f4ce58ebd7124decc60a9": {
          "model_module": "@jupyter-widgets/controls",
          "model_name": "HBoxModel",
          "model_module_version": "1.5.0",
          "state": {
            "_view_name": "HBoxView",
            "_dom_classes": [],
            "_model_name": "HBoxModel",
            "_view_module": "@jupyter-widgets/controls",
            "_model_module_version": "1.5.0",
            "_view_count": null,
            "_view_module_version": "1.5.0",
            "box_style": "",
            "layout": "IPY_MODEL_5edd75790601407bb26471b3ce741b7b",
            "_model_module": "@jupyter-widgets/controls",
            "children": [
              "IPY_MODEL_16708ce768354af3af3f31fd25da575f",
              "IPY_MODEL_3f518eef519247098c0b1cb13a031302",
              "IPY_MODEL_e1129bf430f04199832ef7c6b9d9e685"
            ]
          }
        },
        "5edd75790601407bb26471b3ce741b7b": {
          "model_module": "@jupyter-widgets/base",
          "model_name": "LayoutModel",
          "model_module_version": "1.2.0",
          "state": {
            "_view_name": "LayoutView",
            "grid_template_rows": null,
            "right": null,
            "justify_content": null,
            "_view_module": "@jupyter-widgets/base",
            "overflow": null,
            "_model_module_version": "1.2.0",
            "_view_count": null,
            "flex_flow": null,
            "width": null,
            "min_width": null,
            "border": null,
            "align_items": null,
            "bottom": null,
            "_model_module": "@jupyter-widgets/base",
            "top": null,
            "grid_column": null,
            "overflow_y": null,
            "overflow_x": null,
            "grid_auto_flow": null,
            "grid_area": null,
            "grid_template_columns": null,
            "flex": null,
            "_model_name": "LayoutModel",
            "justify_items": null,
            "grid_row": null,
            "max_height": null,
            "align_content": null,
            "visibility": null,
            "align_self": null,
            "height": null,
            "min_height": null,
            "padding": null,
            "grid_auto_rows": null,
            "grid_gap": null,
            "max_width": null,
            "order": null,
            "_view_module_version": "1.2.0",
            "grid_template_areas": null,
            "object_position": null,
            "object_fit": null,
            "grid_auto_columns": null,
            "margin": null,
            "display": null,
            "left": null
          }
        },
        "16708ce768354af3af3f31fd25da575f": {
          "model_module": "@jupyter-widgets/controls",
          "model_name": "HTMLModel",
          "model_module_version": "1.5.0",
          "state": {
            "_view_name": "HTMLView",
            "style": "IPY_MODEL_bbfc3f8575834cf6aef62ce375093283",
            "_dom_classes": [],
            "description": "",
            "_model_name": "HTMLModel",
            "placeholder": "​",
            "_view_module": "@jupyter-widgets/controls",
            "_model_module_version": "1.5.0",
            "value": "Downloading: ",
            "_view_count": null,
            "_view_module_version": "1.5.0",
            "description_tooltip": null,
            "_model_module": "@jupyter-widgets/controls",
            "layout": "IPY_MODEL_a725436afef14c25a65cdc70cf2f7880"
          }
        },
        "3f518eef519247098c0b1cb13a031302": {
          "model_module": "@jupyter-widgets/controls",
          "model_name": "FloatProgressModel",
          "model_module_version": "1.5.0",
          "state": {
            "_view_name": "ProgressView",
            "style": "IPY_MODEL_f01360e409c741fa9ad5d595e0c24e9d",
            "_dom_classes": [],
            "description": "",
            "_model_name": "FloatProgressModel",
            "bar_style": "success",
            "max": 4444,
            "_view_module": "@jupyter-widgets/controls",
            "_model_module_version": "1.5.0",
            "value": 4444,
            "_view_count": null,
            "_view_module_version": "1.5.0",
            "orientation": "horizontal",
            "min": 0,
            "description_tooltip": null,
            "_model_module": "@jupyter-widgets/controls",
            "layout": "IPY_MODEL_ee1f80e412404639bdef784025e02b5f"
          }
        },
        "e1129bf430f04199832ef7c6b9d9e685": {
          "model_module": "@jupyter-widgets/controls",
          "model_name": "HTMLModel",
          "model_module_version": "1.5.0",
          "state": {
            "_view_name": "HTMLView",
            "style": "IPY_MODEL_72ee615459b141be90755e97ce7b3ef5",
            "_dom_classes": [],
            "description": "",
            "_model_name": "HTMLModel",
            "placeholder": "​",
            "_view_module": "@jupyter-widgets/controls",
            "_model_module_version": "1.5.0",
            "value": " 22.5k/? [00:00&lt;00:00, 433kB/s]",
            "_view_count": null,
            "_view_module_version": "1.5.0",
            "description_tooltip": null,
            "_model_module": "@jupyter-widgets/controls",
            "layout": "IPY_MODEL_66793ad9c6504b65968d53609365ed21"
          }
        },
        "bbfc3f8575834cf6aef62ce375093283": {
          "model_module": "@jupyter-widgets/controls",
          "model_name": "DescriptionStyleModel",
          "model_module_version": "1.5.0",
          "state": {
            "_view_name": "StyleView",
            "_model_name": "DescriptionStyleModel",
            "description_width": "",
            "_view_module": "@jupyter-widgets/base",
            "_model_module_version": "1.5.0",
            "_view_count": null,
            "_view_module_version": "1.2.0",
            "_model_module": "@jupyter-widgets/controls"
          }
        },
        "a725436afef14c25a65cdc70cf2f7880": {
          "model_module": "@jupyter-widgets/base",
          "model_name": "LayoutModel",
          "model_module_version": "1.2.0",
          "state": {
            "_view_name": "LayoutView",
            "grid_template_rows": null,
            "right": null,
            "justify_content": null,
            "_view_module": "@jupyter-widgets/base",
            "overflow": null,
            "_model_module_version": "1.2.0",
            "_view_count": null,
            "flex_flow": null,
            "width": null,
            "min_width": null,
            "border": null,
            "align_items": null,
            "bottom": null,
            "_model_module": "@jupyter-widgets/base",
            "top": null,
            "grid_column": null,
            "overflow_y": null,
            "overflow_x": null,
            "grid_auto_flow": null,
            "grid_area": null,
            "grid_template_columns": null,
            "flex": null,
            "_model_name": "LayoutModel",
            "justify_items": null,
            "grid_row": null,
            "max_height": null,
            "align_content": null,
            "visibility": null,
            "align_self": null,
            "height": null,
            "min_height": null,
            "padding": null,
            "grid_auto_rows": null,
            "grid_gap": null,
            "max_width": null,
            "order": null,
            "_view_module_version": "1.2.0",
            "grid_template_areas": null,
            "object_position": null,
            "object_fit": null,
            "grid_auto_columns": null,
            "margin": null,
            "display": null,
            "left": null
          }
        },
        "f01360e409c741fa9ad5d595e0c24e9d": {
          "model_module": "@jupyter-widgets/controls",
          "model_name": "ProgressStyleModel",
          "model_module_version": "1.5.0",
          "state": {
            "_view_name": "StyleView",
            "_model_name": "ProgressStyleModel",
            "description_width": "",
            "_view_module": "@jupyter-widgets/base",
            "_model_module_version": "1.5.0",
            "_view_count": null,
            "_view_module_version": "1.2.0",
            "bar_color": null,
            "_model_module": "@jupyter-widgets/controls"
          }
        },
        "ee1f80e412404639bdef784025e02b5f": {
          "model_module": "@jupyter-widgets/base",
          "model_name": "LayoutModel",
          "model_module_version": "1.2.0",
          "state": {
            "_view_name": "LayoutView",
            "grid_template_rows": null,
            "right": null,
            "justify_content": null,
            "_view_module": "@jupyter-widgets/base",
            "overflow": null,
            "_model_module_version": "1.2.0",
            "_view_count": null,
            "flex_flow": null,
            "width": null,
            "min_width": null,
            "border": null,
            "align_items": null,
            "bottom": null,
            "_model_module": "@jupyter-widgets/base",
            "top": null,
            "grid_column": null,
            "overflow_y": null,
            "overflow_x": null,
            "grid_auto_flow": null,
            "grid_area": null,
            "grid_template_columns": null,
            "flex": null,
            "_model_name": "LayoutModel",
            "justify_items": null,
            "grid_row": null,
            "max_height": null,
            "align_content": null,
            "visibility": null,
            "align_self": null,
            "height": null,
            "min_height": null,
            "padding": null,
            "grid_auto_rows": null,
            "grid_gap": null,
            "max_width": null,
            "order": null,
            "_view_module_version": "1.2.0",
            "grid_template_areas": null,
            "object_position": null,
            "object_fit": null,
            "grid_auto_columns": null,
            "margin": null,
            "display": null,
            "left": null
          }
        },
        "72ee615459b141be90755e97ce7b3ef5": {
          "model_module": "@jupyter-widgets/controls",
          "model_name": "DescriptionStyleModel",
          "model_module_version": "1.5.0",
          "state": {
            "_view_name": "StyleView",
            "_model_name": "DescriptionStyleModel",
            "description_width": "",
            "_view_module": "@jupyter-widgets/base",
            "_model_module_version": "1.5.0",
            "_view_count": null,
            "_view_module_version": "1.2.0",
            "_model_module": "@jupyter-widgets/controls"
          }
        },
        "66793ad9c6504b65968d53609365ed21": {
          "model_module": "@jupyter-widgets/base",
          "model_name": "LayoutModel",
          "model_module_version": "1.2.0",
          "state": {
            "_view_name": "LayoutView",
            "grid_template_rows": null,
            "right": null,
            "justify_content": null,
            "_view_module": "@jupyter-widgets/base",
            "overflow": null,
            "_model_module_version": "1.2.0",
            "_view_count": null,
            "flex_flow": null,
            "width": null,
            "min_width": null,
            "border": null,
            "align_items": null,
            "bottom": null,
            "_model_module": "@jupyter-widgets/base",
            "top": null,
            "grid_column": null,
            "overflow_y": null,
            "overflow_x": null,
            "grid_auto_flow": null,
            "grid_area": null,
            "grid_template_columns": null,
            "flex": null,
            "_model_name": "LayoutModel",
            "justify_items": null,
            "grid_row": null,
            "max_height": null,
            "align_content": null,
            "visibility": null,
            "align_self": null,
            "height": null,
            "min_height": null,
            "padding": null,
            "grid_auto_rows": null,
            "grid_gap": null,
            "max_width": null,
            "order": null,
            "_view_module_version": "1.2.0",
            "grid_template_areas": null,
            "object_position": null,
            "object_fit": null,
            "grid_auto_columns": null,
            "margin": null,
            "display": null,
            "left": null
          }
        },
        "20dfd67858e94684a52556cd97f0cdcc": {
          "model_module": "@jupyter-widgets/controls",
          "model_name": "HBoxModel",
          "model_module_version": "1.5.0",
          "state": {
            "_view_name": "HBoxView",
            "_dom_classes": [],
            "_model_name": "HBoxModel",
            "_view_module": "@jupyter-widgets/controls",
            "_model_module_version": "1.5.0",
            "_view_count": null,
            "_view_module_version": "1.5.0",
            "box_style": "",
            "layout": "IPY_MODEL_7c81383f41994f7aa96c9a2c3927384e",
            "_model_module": "@jupyter-widgets/controls",
            "children": [
              "IPY_MODEL_97f3d5693dab47f5baa56b3d2a82e435",
              "IPY_MODEL_1f815195969c402a866a53489d9b0b90",
              "IPY_MODEL_2026928d6aa444fa869d6dce6463e8cf"
            ]
          }
        },
        "7c81383f41994f7aa96c9a2c3927384e": {
          "model_module": "@jupyter-widgets/base",
          "model_name": "LayoutModel",
          "model_module_version": "1.2.0",
          "state": {
            "_view_name": "LayoutView",
            "grid_template_rows": null,
            "right": null,
            "justify_content": null,
            "_view_module": "@jupyter-widgets/base",
            "overflow": null,
            "_model_module_version": "1.2.0",
            "_view_count": null,
            "flex_flow": null,
            "width": null,
            "min_width": null,
            "border": null,
            "align_items": null,
            "bottom": null,
            "_model_module": "@jupyter-widgets/base",
            "top": null,
            "grid_column": null,
            "overflow_y": null,
            "overflow_x": null,
            "grid_auto_flow": null,
            "grid_area": null,
            "grid_template_columns": null,
            "flex": null,
            "_model_name": "LayoutModel",
            "justify_items": null,
            "grid_row": null,
            "max_height": null,
            "align_content": null,
            "visibility": null,
            "align_self": null,
            "height": null,
            "min_height": null,
            "padding": null,
            "grid_auto_rows": null,
            "grid_gap": null,
            "max_width": null,
            "order": null,
            "_view_module_version": "1.2.0",
            "grid_template_areas": null,
            "object_position": null,
            "object_fit": null,
            "grid_auto_columns": null,
            "margin": null,
            "display": null,
            "left": null
          }
        },
        "97f3d5693dab47f5baa56b3d2a82e435": {
          "model_module": "@jupyter-widgets/controls",
          "model_name": "HTMLModel",
          "model_module_version": "1.5.0",
          "state": {
            "_view_name": "HTMLView",
            "style": "IPY_MODEL_4ac6573ccb97482a9574f910b81b5fd6",
            "_dom_classes": [],
            "description": "",
            "_model_name": "HTMLModel",
            "placeholder": "​",
            "_view_module": "@jupyter-widgets/controls",
            "_model_module_version": "1.5.0",
            "value": "Downloading: ",
            "_view_count": null,
            "_view_module_version": "1.5.0",
            "description_tooltip": null,
            "_model_module": "@jupyter-widgets/controls",
            "layout": "IPY_MODEL_139369df3d8842bd996ef8f0984553f4"
          }
        },
        "1f815195969c402a866a53489d9b0b90": {
          "model_module": "@jupyter-widgets/controls",
          "model_name": "FloatProgressModel",
          "model_module_version": "1.5.0",
          "state": {
            "_view_name": "ProgressView",
            "style": "IPY_MODEL_fac767db66cd44db81c62fdd6abcf7a2",
            "_dom_classes": [],
            "description": "",
            "_model_name": "FloatProgressModel",
            "bar_style": "success",
            "max": 10151,
            "_view_module": "@jupyter-widgets/controls",
            "_model_module_version": "1.5.0",
            "value": 10151,
            "_view_count": null,
            "_view_module_version": "1.5.0",
            "orientation": "horizontal",
            "min": 0,
            "description_tooltip": null,
            "_model_module": "@jupyter-widgets/controls",
            "layout": "IPY_MODEL_19d22f6602d24fa79808d3965805cc86"
          }
        },
        "2026928d6aa444fa869d6dce6463e8cf": {
          "model_module": "@jupyter-widgets/controls",
          "model_name": "HTMLModel",
          "model_module_version": "1.5.0",
          "state": {
            "_view_name": "HTMLView",
            "style": "IPY_MODEL_433e7aac8bb34ea29a8e821bf54cf1d6",
            "_dom_classes": [],
            "description": "",
            "_model_name": "HTMLModel",
            "placeholder": "​",
            "_view_module": "@jupyter-widgets/controls",
            "_model_module_version": "1.5.0",
            "value": " 161k/? [00:00&lt;00:00, 2.76MB/s]",
            "_view_count": null,
            "_view_module_version": "1.5.0",
            "description_tooltip": null,
            "_model_module": "@jupyter-widgets/controls",
            "layout": "IPY_MODEL_56fd43a2022c484d85a1c392b7617f1c"
          }
        },
        "4ac6573ccb97482a9574f910b81b5fd6": {
          "model_module": "@jupyter-widgets/controls",
          "model_name": "DescriptionStyleModel",
          "model_module_version": "1.5.0",
          "state": {
            "_view_name": "StyleView",
            "_model_name": "DescriptionStyleModel",
            "description_width": "",
            "_view_module": "@jupyter-widgets/base",
            "_model_module_version": "1.5.0",
            "_view_count": null,
            "_view_module_version": "1.2.0",
            "_model_module": "@jupyter-widgets/controls"
          }
        },
        "139369df3d8842bd996ef8f0984553f4": {
          "model_module": "@jupyter-widgets/base",
          "model_name": "LayoutModel",
          "model_module_version": "1.2.0",
          "state": {
            "_view_name": "LayoutView",
            "grid_template_rows": null,
            "right": null,
            "justify_content": null,
            "_view_module": "@jupyter-widgets/base",
            "overflow": null,
            "_model_module_version": "1.2.0",
            "_view_count": null,
            "flex_flow": null,
            "width": null,
            "min_width": null,
            "border": null,
            "align_items": null,
            "bottom": null,
            "_model_module": "@jupyter-widgets/base",
            "top": null,
            "grid_column": null,
            "overflow_y": null,
            "overflow_x": null,
            "grid_auto_flow": null,
            "grid_area": null,
            "grid_template_columns": null,
            "flex": null,
            "_model_name": "LayoutModel",
            "justify_items": null,
            "grid_row": null,
            "max_height": null,
            "align_content": null,
            "visibility": null,
            "align_self": null,
            "height": null,
            "min_height": null,
            "padding": null,
            "grid_auto_rows": null,
            "grid_gap": null,
            "max_width": null,
            "order": null,
            "_view_module_version": "1.2.0",
            "grid_template_areas": null,
            "object_position": null,
            "object_fit": null,
            "grid_auto_columns": null,
            "margin": null,
            "display": null,
            "left": null
          }
        },
        "fac767db66cd44db81c62fdd6abcf7a2": {
          "model_module": "@jupyter-widgets/controls",
          "model_name": "ProgressStyleModel",
          "model_module_version": "1.5.0",
          "state": {
            "_view_name": "StyleView",
            "_model_name": "ProgressStyleModel",
            "description_width": "",
            "_view_module": "@jupyter-widgets/base",
            "_model_module_version": "1.5.0",
            "_view_count": null,
            "_view_module_version": "1.2.0",
            "bar_color": null,
            "_model_module": "@jupyter-widgets/controls"
          }
        },
        "19d22f6602d24fa79808d3965805cc86": {
          "model_module": "@jupyter-widgets/base",
          "model_name": "LayoutModel",
          "model_module_version": "1.2.0",
          "state": {
            "_view_name": "LayoutView",
            "grid_template_rows": null,
            "right": null,
            "justify_content": null,
            "_view_module": "@jupyter-widgets/base",
            "overflow": null,
            "_model_module_version": "1.2.0",
            "_view_count": null,
            "flex_flow": null,
            "width": null,
            "min_width": null,
            "border": null,
            "align_items": null,
            "bottom": null,
            "_model_module": "@jupyter-widgets/base",
            "top": null,
            "grid_column": null,
            "overflow_y": null,
            "overflow_x": null,
            "grid_auto_flow": null,
            "grid_area": null,
            "grid_template_columns": null,
            "flex": null,
            "_model_name": "LayoutModel",
            "justify_items": null,
            "grid_row": null,
            "max_height": null,
            "align_content": null,
            "visibility": null,
            "align_self": null,
            "height": null,
            "min_height": null,
            "padding": null,
            "grid_auto_rows": null,
            "grid_gap": null,
            "max_width": null,
            "order": null,
            "_view_module_version": "1.2.0",
            "grid_template_areas": null,
            "object_position": null,
            "object_fit": null,
            "grid_auto_columns": null,
            "margin": null,
            "display": null,
            "left": null
          }
        },
        "433e7aac8bb34ea29a8e821bf54cf1d6": {
          "model_module": "@jupyter-widgets/controls",
          "model_name": "DescriptionStyleModel",
          "model_module_version": "1.5.0",
          "state": {
            "_view_name": "StyleView",
            "_model_name": "DescriptionStyleModel",
            "description_width": "",
            "_view_module": "@jupyter-widgets/base",
            "_model_module_version": "1.5.0",
            "_view_count": null,
            "_view_module_version": "1.2.0",
            "_model_module": "@jupyter-widgets/controls"
          }
        },
        "56fd43a2022c484d85a1c392b7617f1c": {
          "model_module": "@jupyter-widgets/base",
          "model_name": "LayoutModel",
          "model_module_version": "1.2.0",
          "state": {
            "_view_name": "LayoutView",
            "grid_template_rows": null,
            "right": null,
            "justify_content": null,
            "_view_module": "@jupyter-widgets/base",
            "overflow": null,
            "_model_module_version": "1.2.0",
            "_view_count": null,
            "flex_flow": null,
            "width": null,
            "min_width": null,
            "border": null,
            "align_items": null,
            "bottom": null,
            "_model_module": "@jupyter-widgets/base",
            "top": null,
            "grid_column": null,
            "overflow_y": null,
            "overflow_x": null,
            "grid_auto_flow": null,
            "grid_area": null,
            "grid_template_columns": null,
            "flex": null,
            "_model_name": "LayoutModel",
            "justify_items": null,
            "grid_row": null,
            "max_height": null,
            "align_content": null,
            "visibility": null,
            "align_self": null,
            "height": null,
            "min_height": null,
            "padding": null,
            "grid_auto_rows": null,
            "grid_gap": null,
            "max_width": null,
            "order": null,
            "_view_module_version": "1.2.0",
            "grid_template_areas": null,
            "object_position": null,
            "object_fit": null,
            "grid_auto_columns": null,
            "margin": null,
            "display": null,
            "left": null
          }
        },
        "e4a889500d9c4487b32695a3d3ecfb85": {
          "model_module": "@jupyter-widgets/controls",
          "model_name": "HBoxModel",
          "model_module_version": "1.5.0",
          "state": {
            "_view_name": "HBoxView",
            "_dom_classes": [],
            "_model_name": "HBoxModel",
            "_view_module": "@jupyter-widgets/controls",
            "_model_module_version": "1.5.0",
            "_view_count": null,
            "_view_module_version": "1.5.0",
            "box_style": "",
            "layout": "IPY_MODEL_3a867a7403804e3ead32bcbcbe88e979",
            "_model_module": "@jupyter-widgets/controls",
            "children": [
              "IPY_MODEL_e55b70a58b3b41bb87121498455ca5c6",
              "IPY_MODEL_0906f5eebab04b75845dfc091718c786",
              "IPY_MODEL_42efbb23bd5c4a3f940d5474df5e6c88"
            ]
          }
        },
        "3a867a7403804e3ead32bcbcbe88e979": {
          "model_module": "@jupyter-widgets/base",
          "model_name": "LayoutModel",
          "model_module_version": "1.2.0",
          "state": {
            "_view_name": "LayoutView",
            "grid_template_rows": null,
            "right": null,
            "justify_content": null,
            "_view_module": "@jupyter-widgets/base",
            "overflow": null,
            "_model_module_version": "1.2.0",
            "_view_count": null,
            "flex_flow": null,
            "width": null,
            "min_width": null,
            "border": null,
            "align_items": null,
            "bottom": null,
            "_model_module": "@jupyter-widgets/base",
            "top": null,
            "grid_column": null,
            "overflow_y": null,
            "overflow_x": null,
            "grid_auto_flow": null,
            "grid_area": null,
            "grid_template_columns": null,
            "flex": null,
            "_model_name": "LayoutModel",
            "justify_items": null,
            "grid_row": null,
            "max_height": null,
            "align_content": null,
            "visibility": null,
            "align_self": null,
            "height": null,
            "min_height": null,
            "padding": null,
            "grid_auto_rows": null,
            "grid_gap": null,
            "max_width": null,
            "order": null,
            "_view_module_version": "1.2.0",
            "grid_template_areas": null,
            "object_position": null,
            "object_fit": null,
            "grid_auto_columns": null,
            "margin": null,
            "display": null,
            "left": null
          }
        },
        "e55b70a58b3b41bb87121498455ca5c6": {
          "model_module": "@jupyter-widgets/controls",
          "model_name": "HTMLModel",
          "model_module_version": "1.5.0",
          "state": {
            "_view_name": "HTMLView",
            "style": "IPY_MODEL_e4b838ac4ddf4c43bcf4c2e0b4802cca",
            "_dom_classes": [],
            "description": "",
            "_model_name": "HTMLModel",
            "placeholder": "​",
            "_view_module": "@jupyter-widgets/controls",
            "_model_module_version": "1.5.0",
            "value": "Downloading: 100%",
            "_view_count": null,
            "_view_module_version": "1.5.0",
            "description_tooltip": null,
            "_model_module": "@jupyter-widgets/controls",
            "layout": "IPY_MODEL_cc6f25071831499ebca580daabefcb99"
          }
        },
        "0906f5eebab04b75845dfc091718c786": {
          "model_module": "@jupyter-widgets/controls",
          "model_name": "FloatProgressModel",
          "model_module_version": "1.5.0",
          "state": {
            "_view_name": "ProgressView",
            "style": "IPY_MODEL_772603b9377140bf9692eaf6c88acbf2",
            "_dom_classes": [],
            "description": "",
            "_model_name": "FloatProgressModel",
            "bar_style": "success",
            "max": 16188844718,
            "_view_module": "@jupyter-widgets/controls",
            "_model_module_version": "1.5.0",
            "value": 16188844718,
            "_view_count": null,
            "_view_module_version": "1.5.0",
            "orientation": "horizontal",
            "min": 0,
            "description_tooltip": null,
            "_model_module": "@jupyter-widgets/controls",
            "layout": "IPY_MODEL_105b52d5de4b4b829dd0d49f34919019"
          }
        },
        "42efbb23bd5c4a3f940d5474df5e6c88": {
          "model_module": "@jupyter-widgets/controls",
          "model_name": "HTMLModel",
          "model_module_version": "1.5.0",
          "state": {
            "_view_name": "HTMLView",
            "style": "IPY_MODEL_8c648b1310e94c829095ab3728510bd1",
            "_dom_classes": [],
            "description": "",
            "_model_name": "HTMLModel",
            "placeholder": "​",
            "_view_module": "@jupyter-widgets/controls",
            "_model_module_version": "1.5.0",
            "value": " 16.2G/16.2G [06:57&lt;00:00, 38.8MB/s]",
            "_view_count": null,
            "_view_module_version": "1.5.0",
            "description_tooltip": null,
            "_model_module": "@jupyter-widgets/controls",
            "layout": "IPY_MODEL_844f915f3a5046ec8fe9e0b4b1cb862d"
          }
        },
        "e4b838ac4ddf4c43bcf4c2e0b4802cca": {
          "model_module": "@jupyter-widgets/controls",
          "model_name": "DescriptionStyleModel",
          "model_module_version": "1.5.0",
          "state": {
            "_view_name": "StyleView",
            "_model_name": "DescriptionStyleModel",
            "description_width": "",
            "_view_module": "@jupyter-widgets/base",
            "_model_module_version": "1.5.0",
            "_view_count": null,
            "_view_module_version": "1.2.0",
            "_model_module": "@jupyter-widgets/controls"
          }
        },
        "cc6f25071831499ebca580daabefcb99": {
          "model_module": "@jupyter-widgets/base",
          "model_name": "LayoutModel",
          "model_module_version": "1.2.0",
          "state": {
            "_view_name": "LayoutView",
            "grid_template_rows": null,
            "right": null,
            "justify_content": null,
            "_view_module": "@jupyter-widgets/base",
            "overflow": null,
            "_model_module_version": "1.2.0",
            "_view_count": null,
            "flex_flow": null,
            "width": null,
            "min_width": null,
            "border": null,
            "align_items": null,
            "bottom": null,
            "_model_module": "@jupyter-widgets/base",
            "top": null,
            "grid_column": null,
            "overflow_y": null,
            "overflow_x": null,
            "grid_auto_flow": null,
            "grid_area": null,
            "grid_template_columns": null,
            "flex": null,
            "_model_name": "LayoutModel",
            "justify_items": null,
            "grid_row": null,
            "max_height": null,
            "align_content": null,
            "visibility": null,
            "align_self": null,
            "height": null,
            "min_height": null,
            "padding": null,
            "grid_auto_rows": null,
            "grid_gap": null,
            "max_width": null,
            "order": null,
            "_view_module_version": "1.2.0",
            "grid_template_areas": null,
            "object_position": null,
            "object_fit": null,
            "grid_auto_columns": null,
            "margin": null,
            "display": null,
            "left": null
          }
        },
        "772603b9377140bf9692eaf6c88acbf2": {
          "model_module": "@jupyter-widgets/controls",
          "model_name": "ProgressStyleModel",
          "model_module_version": "1.5.0",
          "state": {
            "_view_name": "StyleView",
            "_model_name": "ProgressStyleModel",
            "description_width": "",
            "_view_module": "@jupyter-widgets/base",
            "_model_module_version": "1.5.0",
            "_view_count": null,
            "_view_module_version": "1.2.0",
            "bar_color": null,
            "_model_module": "@jupyter-widgets/controls"
          }
        },
        "105b52d5de4b4b829dd0d49f34919019": {
          "model_module": "@jupyter-widgets/base",
          "model_name": "LayoutModel",
          "model_module_version": "1.2.0",
          "state": {
            "_view_name": "LayoutView",
            "grid_template_rows": null,
            "right": null,
            "justify_content": null,
            "_view_module": "@jupyter-widgets/base",
            "overflow": null,
            "_model_module_version": "1.2.0",
            "_view_count": null,
            "flex_flow": null,
            "width": null,
            "min_width": null,
            "border": null,
            "align_items": null,
            "bottom": null,
            "_model_module": "@jupyter-widgets/base",
            "top": null,
            "grid_column": null,
            "overflow_y": null,
            "overflow_x": null,
            "grid_auto_flow": null,
            "grid_area": null,
            "grid_template_columns": null,
            "flex": null,
            "_model_name": "LayoutModel",
            "justify_items": null,
            "grid_row": null,
            "max_height": null,
            "align_content": null,
            "visibility": null,
            "align_self": null,
            "height": null,
            "min_height": null,
            "padding": null,
            "grid_auto_rows": null,
            "grid_gap": null,
            "max_width": null,
            "order": null,
            "_view_module_version": "1.2.0",
            "grid_template_areas": null,
            "object_position": null,
            "object_fit": null,
            "grid_auto_columns": null,
            "margin": null,
            "display": null,
            "left": null
          }
        },
        "8c648b1310e94c829095ab3728510bd1": {
          "model_module": "@jupyter-widgets/controls",
          "model_name": "DescriptionStyleModel",
          "model_module_version": "1.5.0",
          "state": {
            "_view_name": "StyleView",
            "_model_name": "DescriptionStyleModel",
            "description_width": "",
            "_view_module": "@jupyter-widgets/base",
            "_model_module_version": "1.5.0",
            "_view_count": null,
            "_view_module_version": "1.2.0",
            "_model_module": "@jupyter-widgets/controls"
          }
        },
        "844f915f3a5046ec8fe9e0b4b1cb862d": {
          "model_module": "@jupyter-widgets/base",
          "model_name": "LayoutModel",
          "model_module_version": "1.2.0",
          "state": {
            "_view_name": "LayoutView",
            "grid_template_rows": null,
            "right": null,
            "justify_content": null,
            "_view_module": "@jupyter-widgets/base",
            "overflow": null,
            "_model_module_version": "1.2.0",
            "_view_count": null,
            "flex_flow": null,
            "width": null,
            "min_width": null,
            "border": null,
            "align_items": null,
            "bottom": null,
            "_model_module": "@jupyter-widgets/base",
            "top": null,
            "grid_column": null,
            "overflow_y": null,
            "overflow_x": null,
            "grid_auto_flow": null,
            "grid_area": null,
            "grid_template_columns": null,
            "flex": null,
            "_model_name": "LayoutModel",
            "justify_items": null,
            "grid_row": null,
            "max_height": null,
            "align_content": null,
            "visibility": null,
            "align_self": null,
            "height": null,
            "min_height": null,
            "padding": null,
            "grid_auto_rows": null,
            "grid_gap": null,
            "max_width": null,
            "order": null,
            "_view_module_version": "1.2.0",
            "grid_template_areas": null,
            "object_position": null,
            "object_fit": null,
            "grid_auto_columns": null,
            "margin": null,
            "display": null,
            "left": null
          }
        },
        "87fec5e55f8d48af93d388747b8d2113": {
          "model_module": "@jupyter-widgets/controls",
          "model_name": "HBoxModel",
          "model_module_version": "1.5.0",
          "state": {
            "_view_name": "HBoxView",
            "_dom_classes": [],
            "_model_name": "HBoxModel",
            "_view_module": "@jupyter-widgets/controls",
            "_model_module_version": "1.5.0",
            "_view_count": null,
            "_view_module_version": "1.5.0",
            "box_style": "",
            "layout": "IPY_MODEL_dd73f086ac3f4d74a16093b43d1e8178",
            "_model_module": "@jupyter-widgets/controls",
            "children": [
              "IPY_MODEL_bc69a91c55754f699341ac5fee33b60d",
              "IPY_MODEL_6cf0d87cb34b425a980c2bfc1facb2b4",
              "IPY_MODEL_0e4cf6a8b1934515b3a3afa0ce1d8ada"
            ]
          }
        },
        "dd73f086ac3f4d74a16093b43d1e8178": {
          "model_module": "@jupyter-widgets/base",
          "model_name": "LayoutModel",
          "model_module_version": "1.2.0",
          "state": {
            "_view_name": "LayoutView",
            "grid_template_rows": null,
            "right": null,
            "justify_content": null,
            "_view_module": "@jupyter-widgets/base",
            "overflow": null,
            "_model_module_version": "1.2.0",
            "_view_count": null,
            "flex_flow": null,
            "width": null,
            "min_width": null,
            "border": null,
            "align_items": null,
            "bottom": null,
            "_model_module": "@jupyter-widgets/base",
            "top": null,
            "grid_column": null,
            "overflow_y": null,
            "overflow_x": null,
            "grid_auto_flow": null,
            "grid_area": null,
            "grid_template_columns": null,
            "flex": null,
            "_model_name": "LayoutModel",
            "justify_items": null,
            "grid_row": null,
            "max_height": null,
            "align_content": null,
            "visibility": null,
            "align_self": null,
            "height": null,
            "min_height": null,
            "padding": null,
            "grid_auto_rows": null,
            "grid_gap": null,
            "max_width": null,
            "order": null,
            "_view_module_version": "1.2.0",
            "grid_template_areas": null,
            "object_position": null,
            "object_fit": null,
            "grid_auto_columns": null,
            "margin": null,
            "display": null,
            "left": null
          }
        },
        "bc69a91c55754f699341ac5fee33b60d": {
          "model_module": "@jupyter-widgets/controls",
          "model_name": "HTMLModel",
          "model_module_version": "1.5.0",
          "state": {
            "_view_name": "HTMLView",
            "style": "IPY_MODEL_bca027fe5d7a4331afbbf87f46c4aaea",
            "_dom_classes": [],
            "description": "",
            "_model_name": "HTMLModel",
            "placeholder": "​",
            "_view_module": "@jupyter-widgets/controls",
            "_model_module_version": "1.5.0",
            "value": "",
            "_view_count": null,
            "_view_module_version": "1.5.0",
            "description_tooltip": null,
            "_model_module": "@jupyter-widgets/controls",
            "layout": "IPY_MODEL_e938454fac6249f399ad067f0a4343a3"
          }
        },
        "6cf0d87cb34b425a980c2bfc1facb2b4": {
          "model_module": "@jupyter-widgets/controls",
          "model_name": "FloatProgressModel",
          "model_module_version": "1.5.0",
          "state": {
            "_view_name": "ProgressView",
            "style": "IPY_MODEL_74842bc2a6994c1b950e37d164c52d6c",
            "_dom_classes": [],
            "description": "",
            "_model_name": "FloatProgressModel",
            "bar_style": "info",
            "max": 1,
            "_view_module": "@jupyter-widgets/controls",
            "_model_module_version": "1.5.0",
            "value": 1,
            "_view_count": null,
            "_view_module_version": "1.5.0",
            "orientation": "horizontal",
            "min": 0,
            "description_tooltip": null,
            "_model_module": "@jupyter-widgets/controls",
            "layout": "IPY_MODEL_01e115aa0dc441f8b680b26e352e9c41"
          }
        },
        "0e4cf6a8b1934515b3a3afa0ce1d8ada": {
          "model_module": "@jupyter-widgets/controls",
          "model_name": "HTMLModel",
          "model_module_version": "1.5.0",
          "state": {
            "_view_name": "HTMLView",
            "style": "IPY_MODEL_641bbf062df04223b5d5d0de0f21bded",
            "_dom_classes": [],
            "description": "",
            "_model_name": "HTMLModel",
            "placeholder": "​",
            "_view_module": "@jupyter-widgets/controls",
            "_model_module_version": "1.5.0",
            "value": " 161738/0 [00:16&lt;00:00, 9393.61 examples/s]",
            "_view_count": null,
            "_view_module_version": "1.5.0",
            "description_tooltip": null,
            "_model_module": "@jupyter-widgets/controls",
            "layout": "IPY_MODEL_20fd553e3a844a4fb57aa8b1389450cb"
          }
        },
        "bca027fe5d7a4331afbbf87f46c4aaea": {
          "model_module": "@jupyter-widgets/controls",
          "model_name": "DescriptionStyleModel",
          "model_module_version": "1.5.0",
          "state": {
            "_view_name": "StyleView",
            "_model_name": "DescriptionStyleModel",
            "description_width": "",
            "_view_module": "@jupyter-widgets/base",
            "_model_module_version": "1.5.0",
            "_view_count": null,
            "_view_module_version": "1.2.0",
            "_model_module": "@jupyter-widgets/controls"
          }
        },
        "e938454fac6249f399ad067f0a4343a3": {
          "model_module": "@jupyter-widgets/base",
          "model_name": "LayoutModel",
          "model_module_version": "1.2.0",
          "state": {
            "_view_name": "LayoutView",
            "grid_template_rows": null,
            "right": null,
            "justify_content": null,
            "_view_module": "@jupyter-widgets/base",
            "overflow": null,
            "_model_module_version": "1.2.0",
            "_view_count": null,
            "flex_flow": null,
            "width": null,
            "min_width": null,
            "border": null,
            "align_items": null,
            "bottom": null,
            "_model_module": "@jupyter-widgets/base",
            "top": null,
            "grid_column": null,
            "overflow_y": null,
            "overflow_x": null,
            "grid_auto_flow": null,
            "grid_area": null,
            "grid_template_columns": null,
            "flex": null,
            "_model_name": "LayoutModel",
            "justify_items": null,
            "grid_row": null,
            "max_height": null,
            "align_content": null,
            "visibility": null,
            "align_self": null,
            "height": null,
            "min_height": null,
            "padding": null,
            "grid_auto_rows": null,
            "grid_gap": null,
            "max_width": null,
            "order": null,
            "_view_module_version": "1.2.0",
            "grid_template_areas": null,
            "object_position": null,
            "object_fit": null,
            "grid_auto_columns": null,
            "margin": null,
            "display": null,
            "left": null
          }
        },
        "74842bc2a6994c1b950e37d164c52d6c": {
          "model_module": "@jupyter-widgets/controls",
          "model_name": "ProgressStyleModel",
          "model_module_version": "1.5.0",
          "state": {
            "_view_name": "StyleView",
            "_model_name": "ProgressStyleModel",
            "description_width": "",
            "_view_module": "@jupyter-widgets/base",
            "_model_module_version": "1.5.0",
            "_view_count": null,
            "_view_module_version": "1.2.0",
            "bar_color": null,
            "_model_module": "@jupyter-widgets/controls"
          }
        },
        "01e115aa0dc441f8b680b26e352e9c41": {
          "model_module": "@jupyter-widgets/base",
          "model_name": "LayoutModel",
          "model_module_version": "1.2.0",
          "state": {
            "_view_name": "LayoutView",
            "grid_template_rows": null,
            "right": null,
            "justify_content": null,
            "_view_module": "@jupyter-widgets/base",
            "overflow": null,
            "_model_module_version": "1.2.0",
            "_view_count": null,
            "flex_flow": null,
            "width": "20px",
            "min_width": null,
            "border": null,
            "align_items": null,
            "bottom": null,
            "_model_module": "@jupyter-widgets/base",
            "top": null,
            "grid_column": null,
            "overflow_y": null,
            "overflow_x": null,
            "grid_auto_flow": null,
            "grid_area": null,
            "grid_template_columns": null,
            "flex": null,
            "_model_name": "LayoutModel",
            "justify_items": null,
            "grid_row": null,
            "max_height": null,
            "align_content": null,
            "visibility": null,
            "align_self": null,
            "height": null,
            "min_height": null,
            "padding": null,
            "grid_auto_rows": null,
            "grid_gap": null,
            "max_width": null,
            "order": null,
            "_view_module_version": "1.2.0",
            "grid_template_areas": null,
            "object_position": null,
            "object_fit": null,
            "grid_auto_columns": null,
            "margin": null,
            "display": null,
            "left": null
          }
        },
        "641bbf062df04223b5d5d0de0f21bded": {
          "model_module": "@jupyter-widgets/controls",
          "model_name": "DescriptionStyleModel",
          "model_module_version": "1.5.0",
          "state": {
            "_view_name": "StyleView",
            "_model_name": "DescriptionStyleModel",
            "description_width": "",
            "_view_module": "@jupyter-widgets/base",
            "_model_module_version": "1.5.0",
            "_view_count": null,
            "_view_module_version": "1.2.0",
            "_model_module": "@jupyter-widgets/controls"
          }
        },
        "20fd553e3a844a4fb57aa8b1389450cb": {
          "model_module": "@jupyter-widgets/base",
          "model_name": "LayoutModel",
          "model_module_version": "1.2.0",
          "state": {
            "_view_name": "LayoutView",
            "grid_template_rows": null,
            "right": null,
            "justify_content": null,
            "_view_module": "@jupyter-widgets/base",
            "overflow": null,
            "_model_module_version": "1.2.0",
            "_view_count": null,
            "flex_flow": null,
            "width": null,
            "min_width": null,
            "border": null,
            "align_items": null,
            "bottom": null,
            "_model_module": "@jupyter-widgets/base",
            "top": null,
            "grid_column": null,
            "overflow_y": null,
            "overflow_x": null,
            "grid_auto_flow": null,
            "grid_area": null,
            "grid_template_columns": null,
            "flex": null,
            "_model_name": "LayoutModel",
            "justify_items": null,
            "grid_row": null,
            "max_height": null,
            "align_content": null,
            "visibility": null,
            "align_self": null,
            "height": null,
            "min_height": null,
            "padding": null,
            "grid_auto_rows": null,
            "grid_gap": null,
            "max_width": null,
            "order": null,
            "_view_module_version": "1.2.0",
            "grid_template_areas": null,
            "object_position": null,
            "object_fit": null,
            "grid_auto_columns": null,
            "margin": null,
            "display": null,
            "left": null
          }
        },
        "3e2cf8a37754474b9c73275405e80585": {
          "model_module": "@jupyter-widgets/controls",
          "model_name": "HBoxModel",
          "model_module_version": "1.5.0",
          "state": {
            "_view_name": "HBoxView",
            "_dom_classes": [],
            "_model_name": "HBoxModel",
            "_view_module": "@jupyter-widgets/controls",
            "_model_module_version": "1.5.0",
            "_view_count": null,
            "_view_module_version": "1.5.0",
            "box_style": "",
            "layout": "IPY_MODEL_d0cc3cf4940f494495908bd0882fbaa6",
            "_model_module": "@jupyter-widgets/controls",
            "children": [
              "IPY_MODEL_1709f95a25204b78b4672c314067d0c7",
              "IPY_MODEL_5c556b96ce024f06b1412f61fb16d50f",
              "IPY_MODEL_7de17112bc6c4c0e99d9dd113ca8dc79"
            ]
          }
        },
        "d0cc3cf4940f494495908bd0882fbaa6": {
          "model_module": "@jupyter-widgets/base",
          "model_name": "LayoutModel",
          "model_module_version": "1.2.0",
          "state": {
            "_view_name": "LayoutView",
            "grid_template_rows": null,
            "right": null,
            "justify_content": null,
            "_view_module": "@jupyter-widgets/base",
            "overflow": null,
            "_model_module_version": "1.2.0",
            "_view_count": null,
            "flex_flow": null,
            "width": null,
            "min_width": null,
            "border": null,
            "align_items": null,
            "bottom": null,
            "_model_module": "@jupyter-widgets/base",
            "top": null,
            "grid_column": null,
            "overflow_y": null,
            "overflow_x": null,
            "grid_auto_flow": null,
            "grid_area": null,
            "grid_template_columns": null,
            "flex": null,
            "_model_name": "LayoutModel",
            "justify_items": null,
            "grid_row": null,
            "max_height": null,
            "align_content": null,
            "visibility": null,
            "align_self": null,
            "height": null,
            "min_height": null,
            "padding": null,
            "grid_auto_rows": null,
            "grid_gap": null,
            "max_width": null,
            "order": null,
            "_view_module_version": "1.2.0",
            "grid_template_areas": null,
            "object_position": null,
            "object_fit": null,
            "grid_auto_columns": null,
            "margin": null,
            "display": null,
            "left": null
          }
        },
        "1709f95a25204b78b4672c314067d0c7": {
          "model_module": "@jupyter-widgets/controls",
          "model_name": "HTMLModel",
          "model_module_version": "1.5.0",
          "state": {
            "_view_name": "HTMLView",
            "style": "IPY_MODEL_c1f266b81c224696bb65ca2a2f085d98",
            "_dom_classes": [],
            "description": "",
            "_model_name": "HTMLModel",
            "placeholder": "​",
            "_view_module": "@jupyter-widgets/controls",
            "_model_module_version": "1.5.0",
            "value": "",
            "_view_count": null,
            "_view_module_version": "1.5.0",
            "description_tooltip": null,
            "_model_module": "@jupyter-widgets/controls",
            "layout": "IPY_MODEL_b1d1b2c9d7224bbdaa9c41d21555c3d9"
          }
        },
        "5c556b96ce024f06b1412f61fb16d50f": {
          "model_module": "@jupyter-widgets/controls",
          "model_name": "FloatProgressModel",
          "model_module_version": "1.5.0",
          "state": {
            "_view_name": "ProgressView",
            "style": "IPY_MODEL_d9acaa7a62cc4ba4b63602ed27a41671",
            "_dom_classes": [],
            "description": "",
            "_model_name": "FloatProgressModel",
            "bar_style": "info",
            "max": 1,
            "_view_module": "@jupyter-widgets/controls",
            "_model_module_version": "1.5.0",
            "value": 1,
            "_view_count": null,
            "_view_module_version": "1.5.0",
            "orientation": "horizontal",
            "min": 0,
            "description_tooltip": null,
            "_model_module": "@jupyter-widgets/controls",
            "layout": "IPY_MODEL_4694d4e0c8524f67a94dc5bc13fc5bd4"
          }
        },
        "7de17112bc6c4c0e99d9dd113ca8dc79": {
          "model_module": "@jupyter-widgets/controls",
          "model_name": "HTMLModel",
          "model_module_version": "1.5.0",
          "state": {
            "_view_name": "HTMLView",
            "style": "IPY_MODEL_01baf5a6d0da45cbaac54fbc6a721c26",
            "_dom_classes": [],
            "description": "",
            "_model_name": "HTMLModel",
            "placeholder": "​",
            "_view_module": "@jupyter-widgets/controls",
            "_model_module_version": "1.5.0",
            "value": " 14853/0 [00:01&lt;00:00, 9926.31 examples/s]",
            "_view_count": null,
            "_view_module_version": "1.5.0",
            "description_tooltip": null,
            "_model_module": "@jupyter-widgets/controls",
            "layout": "IPY_MODEL_70baa61425074f249c51bea59817a307"
          }
        },
        "c1f266b81c224696bb65ca2a2f085d98": {
          "model_module": "@jupyter-widgets/controls",
          "model_name": "DescriptionStyleModel",
          "model_module_version": "1.5.0",
          "state": {
            "_view_name": "StyleView",
            "_model_name": "DescriptionStyleModel",
            "description_width": "",
            "_view_module": "@jupyter-widgets/base",
            "_model_module_version": "1.5.0",
            "_view_count": null,
            "_view_module_version": "1.2.0",
            "_model_module": "@jupyter-widgets/controls"
          }
        },
        "b1d1b2c9d7224bbdaa9c41d21555c3d9": {
          "model_module": "@jupyter-widgets/base",
          "model_name": "LayoutModel",
          "model_module_version": "1.2.0",
          "state": {
            "_view_name": "LayoutView",
            "grid_template_rows": null,
            "right": null,
            "justify_content": null,
            "_view_module": "@jupyter-widgets/base",
            "overflow": null,
            "_model_module_version": "1.2.0",
            "_view_count": null,
            "flex_flow": null,
            "width": null,
            "min_width": null,
            "border": null,
            "align_items": null,
            "bottom": null,
            "_model_module": "@jupyter-widgets/base",
            "top": null,
            "grid_column": null,
            "overflow_y": null,
            "overflow_x": null,
            "grid_auto_flow": null,
            "grid_area": null,
            "grid_template_columns": null,
            "flex": null,
            "_model_name": "LayoutModel",
            "justify_items": null,
            "grid_row": null,
            "max_height": null,
            "align_content": null,
            "visibility": null,
            "align_self": null,
            "height": null,
            "min_height": null,
            "padding": null,
            "grid_auto_rows": null,
            "grid_gap": null,
            "max_width": null,
            "order": null,
            "_view_module_version": "1.2.0",
            "grid_template_areas": null,
            "object_position": null,
            "object_fit": null,
            "grid_auto_columns": null,
            "margin": null,
            "display": null,
            "left": null
          }
        },
        "d9acaa7a62cc4ba4b63602ed27a41671": {
          "model_module": "@jupyter-widgets/controls",
          "model_name": "ProgressStyleModel",
          "model_module_version": "1.5.0",
          "state": {
            "_view_name": "StyleView",
            "_model_name": "ProgressStyleModel",
            "description_width": "",
            "_view_module": "@jupyter-widgets/base",
            "_model_module_version": "1.5.0",
            "_view_count": null,
            "_view_module_version": "1.2.0",
            "bar_color": null,
            "_model_module": "@jupyter-widgets/controls"
          }
        },
        "4694d4e0c8524f67a94dc5bc13fc5bd4": {
          "model_module": "@jupyter-widgets/base",
          "model_name": "LayoutModel",
          "model_module_version": "1.2.0",
          "state": {
            "_view_name": "LayoutView",
            "grid_template_rows": null,
            "right": null,
            "justify_content": null,
            "_view_module": "@jupyter-widgets/base",
            "overflow": null,
            "_model_module_version": "1.2.0",
            "_view_count": null,
            "flex_flow": null,
            "width": "20px",
            "min_width": null,
            "border": null,
            "align_items": null,
            "bottom": null,
            "_model_module": "@jupyter-widgets/base",
            "top": null,
            "grid_column": null,
            "overflow_y": null,
            "overflow_x": null,
            "grid_auto_flow": null,
            "grid_area": null,
            "grid_template_columns": null,
            "flex": null,
            "_model_name": "LayoutModel",
            "justify_items": null,
            "grid_row": null,
            "max_height": null,
            "align_content": null,
            "visibility": null,
            "align_self": null,
            "height": null,
            "min_height": null,
            "padding": null,
            "grid_auto_rows": null,
            "grid_gap": null,
            "max_width": null,
            "order": null,
            "_view_module_version": "1.2.0",
            "grid_template_areas": null,
            "object_position": null,
            "object_fit": null,
            "grid_auto_columns": null,
            "margin": null,
            "display": null,
            "left": null
          }
        },
        "01baf5a6d0da45cbaac54fbc6a721c26": {
          "model_module": "@jupyter-widgets/controls",
          "model_name": "DescriptionStyleModel",
          "model_module_version": "1.5.0",
          "state": {
            "_view_name": "StyleView",
            "_model_name": "DescriptionStyleModel",
            "description_width": "",
            "_view_module": "@jupyter-widgets/base",
            "_model_module_version": "1.5.0",
            "_view_count": null,
            "_view_module_version": "1.2.0",
            "_model_module": "@jupyter-widgets/controls"
          }
        },
        "70baa61425074f249c51bea59817a307": {
          "model_module": "@jupyter-widgets/base",
          "model_name": "LayoutModel",
          "model_module_version": "1.2.0",
          "state": {
            "_view_name": "LayoutView",
            "grid_template_rows": null,
            "right": null,
            "justify_content": null,
            "_view_module": "@jupyter-widgets/base",
            "overflow": null,
            "_model_module_version": "1.2.0",
            "_view_count": null,
            "flex_flow": null,
            "width": null,
            "min_width": null,
            "border": null,
            "align_items": null,
            "bottom": null,
            "_model_module": "@jupyter-widgets/base",
            "top": null,
            "grid_column": null,
            "overflow_y": null,
            "overflow_x": null,
            "grid_auto_flow": null,
            "grid_area": null,
            "grid_template_columns": null,
            "flex": null,
            "_model_name": "LayoutModel",
            "justify_items": null,
            "grid_row": null,
            "max_height": null,
            "align_content": null,
            "visibility": null,
            "align_self": null,
            "height": null,
            "min_height": null,
            "padding": null,
            "grid_auto_rows": null,
            "grid_gap": null,
            "max_width": null,
            "order": null,
            "_view_module_version": "1.2.0",
            "grid_template_areas": null,
            "object_position": null,
            "object_fit": null,
            "grid_auto_columns": null,
            "margin": null,
            "display": null,
            "left": null
          }
        },
        "3e75fcfa4c8547cb80135faba26e99b3": {
          "model_module": "@jupyter-widgets/controls",
          "model_name": "HBoxModel",
          "model_module_version": "1.5.0",
          "state": {
            "_view_name": "HBoxView",
            "_dom_classes": [],
            "_model_name": "HBoxModel",
            "_view_module": "@jupyter-widgets/controls",
            "_model_module_version": "1.5.0",
            "_view_count": null,
            "_view_module_version": "1.5.0",
            "box_style": "",
            "layout": "IPY_MODEL_a2842cdf8e5a4a84965254d869ed9cce",
            "_model_module": "@jupyter-widgets/controls",
            "children": [
              "IPY_MODEL_23e7931d4d59453083687a6eec861af1",
              "IPY_MODEL_805b61c9830048c5a7d66b83e2295fed",
              "IPY_MODEL_a2764f94f680433cb8ceb1cdb86a868b"
            ]
          }
        },
        "a2842cdf8e5a4a84965254d869ed9cce": {
          "model_module": "@jupyter-widgets/base",
          "model_name": "LayoutModel",
          "model_module_version": "1.2.0",
          "state": {
            "_view_name": "LayoutView",
            "grid_template_rows": null,
            "right": null,
            "justify_content": null,
            "_view_module": "@jupyter-widgets/base",
            "overflow": null,
            "_model_module_version": "1.2.0",
            "_view_count": null,
            "flex_flow": null,
            "width": null,
            "min_width": null,
            "border": null,
            "align_items": null,
            "bottom": null,
            "_model_module": "@jupyter-widgets/base",
            "top": null,
            "grid_column": null,
            "overflow_y": null,
            "overflow_x": null,
            "grid_auto_flow": null,
            "grid_area": null,
            "grid_template_columns": null,
            "flex": null,
            "_model_name": "LayoutModel",
            "justify_items": null,
            "grid_row": null,
            "max_height": null,
            "align_content": null,
            "visibility": null,
            "align_self": null,
            "height": null,
            "min_height": null,
            "padding": null,
            "grid_auto_rows": null,
            "grid_gap": null,
            "max_width": null,
            "order": null,
            "_view_module_version": "1.2.0",
            "grid_template_areas": null,
            "object_position": null,
            "object_fit": null,
            "grid_auto_columns": null,
            "margin": null,
            "display": null,
            "left": null
          }
        },
        "23e7931d4d59453083687a6eec861af1": {
          "model_module": "@jupyter-widgets/controls",
          "model_name": "HTMLModel",
          "model_module_version": "1.5.0",
          "state": {
            "_view_name": "HTMLView",
            "style": "IPY_MODEL_7380289f7fe44cfa9a8a64805d88177c",
            "_dom_classes": [],
            "description": "",
            "_model_name": "HTMLModel",
            "placeholder": "​",
            "_view_module": "@jupyter-widgets/controls",
            "_model_module_version": "1.5.0",
            "value": "",
            "_view_count": null,
            "_view_module_version": "1.5.0",
            "description_tooltip": null,
            "_model_module": "@jupyter-widgets/controls",
            "layout": "IPY_MODEL_4fa2489c1abb46dc97e33d954335e4fe"
          }
        },
        "805b61c9830048c5a7d66b83e2295fed": {
          "model_module": "@jupyter-widgets/controls",
          "model_name": "FloatProgressModel",
          "model_module_version": "1.5.0",
          "state": {
            "_view_name": "ProgressView",
            "style": "IPY_MODEL_b157db2b5d91449aa1025ce4d3789b08",
            "_dom_classes": [],
            "description": "",
            "_model_name": "FloatProgressModel",
            "bar_style": "info",
            "max": 1,
            "_view_module": "@jupyter-widgets/controls",
            "_model_module_version": "1.5.0",
            "value": 1,
            "_view_count": null,
            "_view_module_version": "1.5.0",
            "orientation": "horizontal",
            "min": 0,
            "description_tooltip": null,
            "_model_module": "@jupyter-widgets/controls",
            "layout": "IPY_MODEL_08643d857a7040d590559bf3fc552325"
          }
        },
        "a2764f94f680433cb8ceb1cdb86a868b": {
          "model_module": "@jupyter-widgets/controls",
          "model_name": "HTMLModel",
          "model_module_version": "1.5.0",
          "state": {
            "_view_name": "HTMLView",
            "style": "IPY_MODEL_0aa99a5ba1624870a8afeb771f71d29b",
            "_dom_classes": [],
            "description": "",
            "_model_name": "HTMLModel",
            "placeholder": "​",
            "_view_module": "@jupyter-widgets/controls",
            "_model_module_version": "1.5.0",
            "value": " 14057/0 [00:01&lt;00:00, 10906.63 examples/s]",
            "_view_count": null,
            "_view_module_version": "1.5.0",
            "description_tooltip": null,
            "_model_module": "@jupyter-widgets/controls",
            "layout": "IPY_MODEL_7d9ae218d20f44ea969f748f49d6de44"
          }
        },
        "7380289f7fe44cfa9a8a64805d88177c": {
          "model_module": "@jupyter-widgets/controls",
          "model_name": "DescriptionStyleModel",
          "model_module_version": "1.5.0",
          "state": {
            "_view_name": "StyleView",
            "_model_name": "DescriptionStyleModel",
            "description_width": "",
            "_view_module": "@jupyter-widgets/base",
            "_model_module_version": "1.5.0",
            "_view_count": null,
            "_view_module_version": "1.2.0",
            "_model_module": "@jupyter-widgets/controls"
          }
        },
        "4fa2489c1abb46dc97e33d954335e4fe": {
          "model_module": "@jupyter-widgets/base",
          "model_name": "LayoutModel",
          "model_module_version": "1.2.0",
          "state": {
            "_view_name": "LayoutView",
            "grid_template_rows": null,
            "right": null,
            "justify_content": null,
            "_view_module": "@jupyter-widgets/base",
            "overflow": null,
            "_model_module_version": "1.2.0",
            "_view_count": null,
            "flex_flow": null,
            "width": null,
            "min_width": null,
            "border": null,
            "align_items": null,
            "bottom": null,
            "_model_module": "@jupyter-widgets/base",
            "top": null,
            "grid_column": null,
            "overflow_y": null,
            "overflow_x": null,
            "grid_auto_flow": null,
            "grid_area": null,
            "grid_template_columns": null,
            "flex": null,
            "_model_name": "LayoutModel",
            "justify_items": null,
            "grid_row": null,
            "max_height": null,
            "align_content": null,
            "visibility": null,
            "align_self": null,
            "height": null,
            "min_height": null,
            "padding": null,
            "grid_auto_rows": null,
            "grid_gap": null,
            "max_width": null,
            "order": null,
            "_view_module_version": "1.2.0",
            "grid_template_areas": null,
            "object_position": null,
            "object_fit": null,
            "grid_auto_columns": null,
            "margin": null,
            "display": null,
            "left": null
          }
        },
        "b157db2b5d91449aa1025ce4d3789b08": {
          "model_module": "@jupyter-widgets/controls",
          "model_name": "ProgressStyleModel",
          "model_module_version": "1.5.0",
          "state": {
            "_view_name": "StyleView",
            "_model_name": "ProgressStyleModel",
            "description_width": "",
            "_view_module": "@jupyter-widgets/base",
            "_model_module_version": "1.5.0",
            "_view_count": null,
            "_view_module_version": "1.2.0",
            "bar_color": null,
            "_model_module": "@jupyter-widgets/controls"
          }
        },
        "08643d857a7040d590559bf3fc552325": {
          "model_module": "@jupyter-widgets/base",
          "model_name": "LayoutModel",
          "model_module_version": "1.2.0",
          "state": {
            "_view_name": "LayoutView",
            "grid_template_rows": null,
            "right": null,
            "justify_content": null,
            "_view_module": "@jupyter-widgets/base",
            "overflow": null,
            "_model_module_version": "1.2.0",
            "_view_count": null,
            "flex_flow": null,
            "width": "20px",
            "min_width": null,
            "border": null,
            "align_items": null,
            "bottom": null,
            "_model_module": "@jupyter-widgets/base",
            "top": null,
            "grid_column": null,
            "overflow_y": null,
            "overflow_x": null,
            "grid_auto_flow": null,
            "grid_area": null,
            "grid_template_columns": null,
            "flex": null,
            "_model_name": "LayoutModel",
            "justify_items": null,
            "grid_row": null,
            "max_height": null,
            "align_content": null,
            "visibility": null,
            "align_self": null,
            "height": null,
            "min_height": null,
            "padding": null,
            "grid_auto_rows": null,
            "grid_gap": null,
            "max_width": null,
            "order": null,
            "_view_module_version": "1.2.0",
            "grid_template_areas": null,
            "object_position": null,
            "object_fit": null,
            "grid_auto_columns": null,
            "margin": null,
            "display": null,
            "left": null
          }
        },
        "0aa99a5ba1624870a8afeb771f71d29b": {
          "model_module": "@jupyter-widgets/controls",
          "model_name": "DescriptionStyleModel",
          "model_module_version": "1.5.0",
          "state": {
            "_view_name": "StyleView",
            "_model_name": "DescriptionStyleModel",
            "description_width": "",
            "_view_module": "@jupyter-widgets/base",
            "_model_module_version": "1.5.0",
            "_view_count": null,
            "_view_module_version": "1.2.0",
            "_model_module": "@jupyter-widgets/controls"
          }
        },
        "7d9ae218d20f44ea969f748f49d6de44": {
          "model_module": "@jupyter-widgets/base",
          "model_name": "LayoutModel",
          "model_module_version": "1.2.0",
          "state": {
            "_view_name": "LayoutView",
            "grid_template_rows": null,
            "right": null,
            "justify_content": null,
            "_view_module": "@jupyter-widgets/base",
            "overflow": null,
            "_model_module_version": "1.2.0",
            "_view_count": null,
            "flex_flow": null,
            "width": null,
            "min_width": null,
            "border": null,
            "align_items": null,
            "bottom": null,
            "_model_module": "@jupyter-widgets/base",
            "top": null,
            "grid_column": null,
            "overflow_y": null,
            "overflow_x": null,
            "grid_auto_flow": null,
            "grid_area": null,
            "grid_template_columns": null,
            "flex": null,
            "_model_name": "LayoutModel",
            "justify_items": null,
            "grid_row": null,
            "max_height": null,
            "align_content": null,
            "visibility": null,
            "align_self": null,
            "height": null,
            "min_height": null,
            "padding": null,
            "grid_auto_rows": null,
            "grid_gap": null,
            "max_width": null,
            "order": null,
            "_view_module_version": "1.2.0",
            "grid_template_areas": null,
            "object_position": null,
            "object_fit": null,
            "grid_auto_columns": null,
            "margin": null,
            "display": null,
            "left": null
          }
        },
        "5122ddb3ca974c448bb62587780560ad": {
          "model_module": "@jupyter-widgets/controls",
          "model_name": "HBoxModel",
          "model_module_version": "1.5.0",
          "state": {
            "_view_name": "HBoxView",
            "_dom_classes": [],
            "_model_name": "HBoxModel",
            "_view_module": "@jupyter-widgets/controls",
            "_model_module_version": "1.5.0",
            "_view_count": null,
            "_view_module_version": "1.5.0",
            "box_style": "",
            "layout": "IPY_MODEL_0ec56ad4d1e34bc1935ee922105705bb",
            "_model_module": "@jupyter-widgets/controls",
            "children": [
              "IPY_MODEL_9ea5495325e44b2ab544459c72852e77",
              "IPY_MODEL_e2dac2120f1c4f759f4a5c30464e68a1",
              "IPY_MODEL_12d003926ee141fb8c798da933747a54"
            ]
          }
        },
        "0ec56ad4d1e34bc1935ee922105705bb": {
          "model_module": "@jupyter-widgets/base",
          "model_name": "LayoutModel",
          "model_module_version": "1.2.0",
          "state": {
            "_view_name": "LayoutView",
            "grid_template_rows": null,
            "right": null,
            "justify_content": null,
            "_view_module": "@jupyter-widgets/base",
            "overflow": null,
            "_model_module_version": "1.2.0",
            "_view_count": null,
            "flex_flow": null,
            "width": null,
            "min_width": null,
            "border": null,
            "align_items": null,
            "bottom": null,
            "_model_module": "@jupyter-widgets/base",
            "top": null,
            "grid_column": null,
            "overflow_y": null,
            "overflow_x": null,
            "grid_auto_flow": null,
            "grid_area": null,
            "grid_template_columns": null,
            "flex": null,
            "_model_name": "LayoutModel",
            "justify_items": null,
            "grid_row": null,
            "max_height": null,
            "align_content": null,
            "visibility": null,
            "align_self": null,
            "height": null,
            "min_height": null,
            "padding": null,
            "grid_auto_rows": null,
            "grid_gap": null,
            "max_width": null,
            "order": null,
            "_view_module_version": "1.2.0",
            "grid_template_areas": null,
            "object_position": null,
            "object_fit": null,
            "grid_auto_columns": null,
            "margin": null,
            "display": null,
            "left": null
          }
        },
        "9ea5495325e44b2ab544459c72852e77": {
          "model_module": "@jupyter-widgets/controls",
          "model_name": "HTMLModel",
          "model_module_version": "1.5.0",
          "state": {
            "_view_name": "HTMLView",
            "style": "IPY_MODEL_1b0210d36abc4f7fb3b191ca71483fb4",
            "_dom_classes": [],
            "description": "",
            "_model_name": "HTMLModel",
            "placeholder": "​",
            "_view_module": "@jupyter-widgets/controls",
            "_model_module_version": "1.5.0",
            "value": "",
            "_view_count": null,
            "_view_module_version": "1.5.0",
            "description_tooltip": null,
            "_model_module": "@jupyter-widgets/controls",
            "layout": "IPY_MODEL_335bc6594e38402d9caed119b0b40de1"
          }
        },
        "e2dac2120f1c4f759f4a5c30464e68a1": {
          "model_module": "@jupyter-widgets/controls",
          "model_name": "FloatProgressModel",
          "model_module_version": "1.5.0",
          "state": {
            "_view_name": "ProgressView",
            "style": "IPY_MODEL_27c00938a52547b2ab33fa77b90fd8e1",
            "_dom_classes": [],
            "description": "",
            "_model_name": "FloatProgressModel",
            "bar_style": "info",
            "max": 1,
            "_view_module": "@jupyter-widgets/controls",
            "_model_module_version": "1.5.0",
            "value": 1,
            "_view_count": null,
            "_view_module_version": "1.5.0",
            "orientation": "horizontal",
            "min": 0,
            "description_tooltip": null,
            "_model_module": "@jupyter-widgets/controls",
            "layout": "IPY_MODEL_42079621b17c4c95a165d711520eee93"
          }
        },
        "12d003926ee141fb8c798da933747a54": {
          "model_module": "@jupyter-widgets/controls",
          "model_name": "HTMLModel",
          "model_module_version": "1.5.0",
          "state": {
            "_view_name": "HTMLView",
            "style": "IPY_MODEL_68a135b38213404e9a68a99f1ab003d1",
            "_dom_classes": [],
            "description": "",
            "_model_name": "HTMLModel",
            "placeholder": "​",
            "_view_module": "@jupyter-widgets/controls",
            "_model_module_version": "1.5.0",
            "value": " 144668/0 [00:14&lt;00:00, 11081.03 examples/s]",
            "_view_count": null,
            "_view_module_version": "1.5.0",
            "description_tooltip": null,
            "_model_module": "@jupyter-widgets/controls",
            "layout": "IPY_MODEL_7ed0bc18ee84473291a7d6bff2159a49"
          }
        },
        "1b0210d36abc4f7fb3b191ca71483fb4": {
          "model_module": "@jupyter-widgets/controls",
          "model_name": "DescriptionStyleModel",
          "model_module_version": "1.5.0",
          "state": {
            "_view_name": "StyleView",
            "_model_name": "DescriptionStyleModel",
            "description_width": "",
            "_view_module": "@jupyter-widgets/base",
            "_model_module_version": "1.5.0",
            "_view_count": null,
            "_view_module_version": "1.2.0",
            "_model_module": "@jupyter-widgets/controls"
          }
        },
        "335bc6594e38402d9caed119b0b40de1": {
          "model_module": "@jupyter-widgets/base",
          "model_name": "LayoutModel",
          "model_module_version": "1.2.0",
          "state": {
            "_view_name": "LayoutView",
            "grid_template_rows": null,
            "right": null,
            "justify_content": null,
            "_view_module": "@jupyter-widgets/base",
            "overflow": null,
            "_model_module_version": "1.2.0",
            "_view_count": null,
            "flex_flow": null,
            "width": null,
            "min_width": null,
            "border": null,
            "align_items": null,
            "bottom": null,
            "_model_module": "@jupyter-widgets/base",
            "top": null,
            "grid_column": null,
            "overflow_y": null,
            "overflow_x": null,
            "grid_auto_flow": null,
            "grid_area": null,
            "grid_template_columns": null,
            "flex": null,
            "_model_name": "LayoutModel",
            "justify_items": null,
            "grid_row": null,
            "max_height": null,
            "align_content": null,
            "visibility": null,
            "align_self": null,
            "height": null,
            "min_height": null,
            "padding": null,
            "grid_auto_rows": null,
            "grid_gap": null,
            "max_width": null,
            "order": null,
            "_view_module_version": "1.2.0",
            "grid_template_areas": null,
            "object_position": null,
            "object_fit": null,
            "grid_auto_columns": null,
            "margin": null,
            "display": null,
            "left": null
          }
        },
        "27c00938a52547b2ab33fa77b90fd8e1": {
          "model_module": "@jupyter-widgets/controls",
          "model_name": "ProgressStyleModel",
          "model_module_version": "1.5.0",
          "state": {
            "_view_name": "StyleView",
            "_model_name": "ProgressStyleModel",
            "description_width": "",
            "_view_module": "@jupyter-widgets/base",
            "_model_module_version": "1.5.0",
            "_view_count": null,
            "_view_module_version": "1.2.0",
            "bar_color": null,
            "_model_module": "@jupyter-widgets/controls"
          }
        },
        "42079621b17c4c95a165d711520eee93": {
          "model_module": "@jupyter-widgets/base",
          "model_name": "LayoutModel",
          "model_module_version": "1.2.0",
          "state": {
            "_view_name": "LayoutView",
            "grid_template_rows": null,
            "right": null,
            "justify_content": null,
            "_view_module": "@jupyter-widgets/base",
            "overflow": null,
            "_model_module_version": "1.2.0",
            "_view_count": null,
            "flex_flow": null,
            "width": "20px",
            "min_width": null,
            "border": null,
            "align_items": null,
            "bottom": null,
            "_model_module": "@jupyter-widgets/base",
            "top": null,
            "grid_column": null,
            "overflow_y": null,
            "overflow_x": null,
            "grid_auto_flow": null,
            "grid_area": null,
            "grid_template_columns": null,
            "flex": null,
            "_model_name": "LayoutModel",
            "justify_items": null,
            "grid_row": null,
            "max_height": null,
            "align_content": null,
            "visibility": null,
            "align_self": null,
            "height": null,
            "min_height": null,
            "padding": null,
            "grid_auto_rows": null,
            "grid_gap": null,
            "max_width": null,
            "order": null,
            "_view_module_version": "1.2.0",
            "grid_template_areas": null,
            "object_position": null,
            "object_fit": null,
            "grid_auto_columns": null,
            "margin": null,
            "display": null,
            "left": null
          }
        },
        "68a135b38213404e9a68a99f1ab003d1": {
          "model_module": "@jupyter-widgets/controls",
          "model_name": "DescriptionStyleModel",
          "model_module_version": "1.5.0",
          "state": {
            "_view_name": "StyleView",
            "_model_name": "DescriptionStyleModel",
            "description_width": "",
            "_view_module": "@jupyter-widgets/base",
            "_model_module_version": "1.5.0",
            "_view_count": null,
            "_view_module_version": "1.2.0",
            "_model_module": "@jupyter-widgets/controls"
          }
        },
        "7ed0bc18ee84473291a7d6bff2159a49": {
          "model_module": "@jupyter-widgets/base",
          "model_name": "LayoutModel",
          "model_module_version": "1.2.0",
          "state": {
            "_view_name": "LayoutView",
            "grid_template_rows": null,
            "right": null,
            "justify_content": null,
            "_view_module": "@jupyter-widgets/base",
            "overflow": null,
            "_model_module_version": "1.2.0",
            "_view_count": null,
            "flex_flow": null,
            "width": null,
            "min_width": null,
            "border": null,
            "align_items": null,
            "bottom": null,
            "_model_module": "@jupyter-widgets/base",
            "top": null,
            "grid_column": null,
            "overflow_y": null,
            "overflow_x": null,
            "grid_auto_flow": null,
            "grid_area": null,
            "grid_template_columns": null,
            "flex": null,
            "_model_name": "LayoutModel",
            "justify_items": null,
            "grid_row": null,
            "max_height": null,
            "align_content": null,
            "visibility": null,
            "align_self": null,
            "height": null,
            "min_height": null,
            "padding": null,
            "grid_auto_rows": null,
            "grid_gap": null,
            "max_width": null,
            "order": null,
            "_view_module_version": "1.2.0",
            "grid_template_areas": null,
            "object_position": null,
            "object_fit": null,
            "grid_auto_columns": null,
            "margin": null,
            "display": null,
            "left": null
          }
        },
        "6a3e5a6a08a14e6fa7479112d3fb3ec3": {
          "model_module": "@jupyter-widgets/controls",
          "model_name": "HBoxModel",
          "model_module_version": "1.5.0",
          "state": {
            "_view_name": "HBoxView",
            "_dom_classes": [],
            "_model_name": "HBoxModel",
            "_view_module": "@jupyter-widgets/controls",
            "_model_module_version": "1.5.0",
            "_view_count": null,
            "_view_module_version": "1.5.0",
            "box_style": "",
            "layout": "IPY_MODEL_229fd959fd114217a1993bca348231d4",
            "_model_module": "@jupyter-widgets/controls",
            "children": [
              "IPY_MODEL_44c7eaafbc03494884ce7f87ead8e098",
              "IPY_MODEL_e2683af016d642bb9ea1ce476b447352",
              "IPY_MODEL_74705079692b4edaa1b3c4f01a533d77"
            ]
          }
        },
        "229fd959fd114217a1993bca348231d4": {
          "model_module": "@jupyter-widgets/base",
          "model_name": "LayoutModel",
          "model_module_version": "1.2.0",
          "state": {
            "_view_name": "LayoutView",
            "grid_template_rows": null,
            "right": null,
            "justify_content": null,
            "_view_module": "@jupyter-widgets/base",
            "overflow": null,
            "_model_module_version": "1.2.0",
            "_view_count": null,
            "flex_flow": null,
            "width": null,
            "min_width": null,
            "border": null,
            "align_items": null,
            "bottom": null,
            "_model_module": "@jupyter-widgets/base",
            "top": null,
            "grid_column": null,
            "overflow_y": null,
            "overflow_x": null,
            "grid_auto_flow": null,
            "grid_area": null,
            "grid_template_columns": null,
            "flex": null,
            "_model_name": "LayoutModel",
            "justify_items": null,
            "grid_row": null,
            "max_height": null,
            "align_content": null,
            "visibility": null,
            "align_self": null,
            "height": null,
            "min_height": null,
            "padding": null,
            "grid_auto_rows": null,
            "grid_gap": null,
            "max_width": null,
            "order": null,
            "_view_module_version": "1.2.0",
            "grid_template_areas": null,
            "object_position": null,
            "object_fit": null,
            "grid_auto_columns": null,
            "margin": null,
            "display": null,
            "left": null
          }
        },
        "44c7eaafbc03494884ce7f87ead8e098": {
          "model_module": "@jupyter-widgets/controls",
          "model_name": "HTMLModel",
          "model_module_version": "1.5.0",
          "state": {
            "_view_name": "HTMLView",
            "style": "IPY_MODEL_dee18edbc5cb4be0b43d82ef7ac00850",
            "_dom_classes": [],
            "description": "",
            "_model_name": "HTMLModel",
            "placeholder": "​",
            "_view_module": "@jupyter-widgets/controls",
            "_model_module_version": "1.5.0",
            "value": "",
            "_view_count": null,
            "_view_module_version": "1.5.0",
            "description_tooltip": null,
            "_model_module": "@jupyter-widgets/controls",
            "layout": "IPY_MODEL_d42465b5497942a69052de12fad50af2"
          }
        },
        "e2683af016d642bb9ea1ce476b447352": {
          "model_module": "@jupyter-widgets/controls",
          "model_name": "FloatProgressModel",
          "model_module_version": "1.5.0",
          "state": {
            "_view_name": "ProgressView",
            "style": "IPY_MODEL_23ee8f71b732425491218266467521b9",
            "_dom_classes": [],
            "description": "",
            "_model_name": "FloatProgressModel",
            "bar_style": "info",
            "max": 1,
            "_view_module": "@jupyter-widgets/controls",
            "_model_module_version": "1.5.0",
            "value": 1,
            "_view_count": null,
            "_view_module_version": "1.5.0",
            "orientation": "horizontal",
            "min": 0,
            "description_tooltip": null,
            "_model_module": "@jupyter-widgets/controls",
            "layout": "IPY_MODEL_65abface788f4728af20bb55730ff59c"
          }
        },
        "74705079692b4edaa1b3c4f01a533d77": {
          "model_module": "@jupyter-widgets/controls",
          "model_name": "HTMLModel",
          "model_module_version": "1.5.0",
          "state": {
            "_view_name": "HTMLView",
            "style": "IPY_MODEL_61503a247c8640d290f835f76df42370",
            "_dom_classes": [],
            "description": "",
            "_model_name": "HTMLModel",
            "placeholder": "​",
            "_view_module": "@jupyter-widgets/controls",
            "_model_module_version": "1.5.0",
            "value": " 39876/0 [00:04&lt;00:00, 11318.96 examples/s]",
            "_view_count": null,
            "_view_module_version": "1.5.0",
            "description_tooltip": null,
            "_model_module": "@jupyter-widgets/controls",
            "layout": "IPY_MODEL_c3496bc6f5514fc1a28c68d453c6b414"
          }
        },
        "dee18edbc5cb4be0b43d82ef7ac00850": {
          "model_module": "@jupyter-widgets/controls",
          "model_name": "DescriptionStyleModel",
          "model_module_version": "1.5.0",
          "state": {
            "_view_name": "StyleView",
            "_model_name": "DescriptionStyleModel",
            "description_width": "",
            "_view_module": "@jupyter-widgets/base",
            "_model_module_version": "1.5.0",
            "_view_count": null,
            "_view_module_version": "1.2.0",
            "_model_module": "@jupyter-widgets/controls"
          }
        },
        "d42465b5497942a69052de12fad50af2": {
          "model_module": "@jupyter-widgets/base",
          "model_name": "LayoutModel",
          "model_module_version": "1.2.0",
          "state": {
            "_view_name": "LayoutView",
            "grid_template_rows": null,
            "right": null,
            "justify_content": null,
            "_view_module": "@jupyter-widgets/base",
            "overflow": null,
            "_model_module_version": "1.2.0",
            "_view_count": null,
            "flex_flow": null,
            "width": null,
            "min_width": null,
            "border": null,
            "align_items": null,
            "bottom": null,
            "_model_module": "@jupyter-widgets/base",
            "top": null,
            "grid_column": null,
            "overflow_y": null,
            "overflow_x": null,
            "grid_auto_flow": null,
            "grid_area": null,
            "grid_template_columns": null,
            "flex": null,
            "_model_name": "LayoutModel",
            "justify_items": null,
            "grid_row": null,
            "max_height": null,
            "align_content": null,
            "visibility": null,
            "align_self": null,
            "height": null,
            "min_height": null,
            "padding": null,
            "grid_auto_rows": null,
            "grid_gap": null,
            "max_width": null,
            "order": null,
            "_view_module_version": "1.2.0",
            "grid_template_areas": null,
            "object_position": null,
            "object_fit": null,
            "grid_auto_columns": null,
            "margin": null,
            "display": null,
            "left": null
          }
        },
        "23ee8f71b732425491218266467521b9": {
          "model_module": "@jupyter-widgets/controls",
          "model_name": "ProgressStyleModel",
          "model_module_version": "1.5.0",
          "state": {
            "_view_name": "StyleView",
            "_model_name": "ProgressStyleModel",
            "description_width": "",
            "_view_module": "@jupyter-widgets/base",
            "_model_module_version": "1.5.0",
            "_view_count": null,
            "_view_module_version": "1.2.0",
            "bar_color": null,
            "_model_module": "@jupyter-widgets/controls"
          }
        },
        "65abface788f4728af20bb55730ff59c": {
          "model_module": "@jupyter-widgets/base",
          "model_name": "LayoutModel",
          "model_module_version": "1.2.0",
          "state": {
            "_view_name": "LayoutView",
            "grid_template_rows": null,
            "right": null,
            "justify_content": null,
            "_view_module": "@jupyter-widgets/base",
            "overflow": null,
            "_model_module_version": "1.2.0",
            "_view_count": null,
            "flex_flow": null,
            "width": "20px",
            "min_width": null,
            "border": null,
            "align_items": null,
            "bottom": null,
            "_model_module": "@jupyter-widgets/base",
            "top": null,
            "grid_column": null,
            "overflow_y": null,
            "overflow_x": null,
            "grid_auto_flow": null,
            "grid_area": null,
            "grid_template_columns": null,
            "flex": null,
            "_model_name": "LayoutModel",
            "justify_items": null,
            "grid_row": null,
            "max_height": null,
            "align_content": null,
            "visibility": null,
            "align_self": null,
            "height": null,
            "min_height": null,
            "padding": null,
            "grid_auto_rows": null,
            "grid_gap": null,
            "max_width": null,
            "order": null,
            "_view_module_version": "1.2.0",
            "grid_template_areas": null,
            "object_position": null,
            "object_fit": null,
            "grid_auto_columns": null,
            "margin": null,
            "display": null,
            "left": null
          }
        },
        "61503a247c8640d290f835f76df42370": {
          "model_module": "@jupyter-widgets/controls",
          "model_name": "DescriptionStyleModel",
          "model_module_version": "1.5.0",
          "state": {
            "_view_name": "StyleView",
            "_model_name": "DescriptionStyleModel",
            "description_width": "",
            "_view_module": "@jupyter-widgets/base",
            "_model_module_version": "1.5.0",
            "_view_count": null,
            "_view_module_version": "1.2.0",
            "_model_module": "@jupyter-widgets/controls"
          }
        },
        "c3496bc6f5514fc1a28c68d453c6b414": {
          "model_module": "@jupyter-widgets/base",
          "model_name": "LayoutModel",
          "model_module_version": "1.2.0",
          "state": {
            "_view_name": "LayoutView",
            "grid_template_rows": null,
            "right": null,
            "justify_content": null,
            "_view_module": "@jupyter-widgets/base",
            "overflow": null,
            "_model_module_version": "1.2.0",
            "_view_count": null,
            "flex_flow": null,
            "width": null,
            "min_width": null,
            "border": null,
            "align_items": null,
            "bottom": null,
            "_model_module": "@jupyter-widgets/base",
            "top": null,
            "grid_column": null,
            "overflow_y": null,
            "overflow_x": null,
            "grid_auto_flow": null,
            "grid_area": null,
            "grid_template_columns": null,
            "flex": null,
            "_model_name": "LayoutModel",
            "justify_items": null,
            "grid_row": null,
            "max_height": null,
            "align_content": null,
            "visibility": null,
            "align_self": null,
            "height": null,
            "min_height": null,
            "padding": null,
            "grid_auto_rows": null,
            "grid_gap": null,
            "max_width": null,
            "order": null,
            "_view_module_version": "1.2.0",
            "grid_template_areas": null,
            "object_position": null,
            "object_fit": null,
            "grid_auto_columns": null,
            "margin": null,
            "display": null,
            "left": null
          }
        },
        "1370bb48a35740ad8d600fdbad60c5f1": {
          "model_module": "@jupyter-widgets/controls",
          "model_name": "HBoxModel",
          "model_module_version": "1.5.0",
          "state": {
            "_view_name": "HBoxView",
            "_dom_classes": [],
            "_model_name": "HBoxModel",
            "_view_module": "@jupyter-widgets/controls",
            "_model_module_version": "1.5.0",
            "_view_count": null,
            "_view_module_version": "1.5.0",
            "box_style": "",
            "layout": "IPY_MODEL_d0120594d3a84aa2884a581f79055860",
            "_model_module": "@jupyter-widgets/controls",
            "children": [
              "IPY_MODEL_d6b96a28c94942a7928326b105aad02f",
              "IPY_MODEL_c0fa444314e14efd90a4adda70f18c2a",
              "IPY_MODEL_a311f3f14a5744bd838c2a0341ce681e"
            ]
          }
        },
        "d0120594d3a84aa2884a581f79055860": {
          "model_module": "@jupyter-widgets/base",
          "model_name": "LayoutModel",
          "model_module_version": "1.2.0",
          "state": {
            "_view_name": "LayoutView",
            "grid_template_rows": null,
            "right": null,
            "justify_content": null,
            "_view_module": "@jupyter-widgets/base",
            "overflow": null,
            "_model_module_version": "1.2.0",
            "_view_count": null,
            "flex_flow": null,
            "width": null,
            "min_width": null,
            "border": null,
            "align_items": null,
            "bottom": null,
            "_model_module": "@jupyter-widgets/base",
            "top": null,
            "grid_column": null,
            "overflow_y": null,
            "overflow_x": null,
            "grid_auto_flow": null,
            "grid_area": null,
            "grid_template_columns": null,
            "flex": null,
            "_model_name": "LayoutModel",
            "justify_items": null,
            "grid_row": null,
            "max_height": null,
            "align_content": null,
            "visibility": null,
            "align_self": null,
            "height": null,
            "min_height": null,
            "padding": null,
            "grid_auto_rows": null,
            "grid_gap": null,
            "max_width": null,
            "order": null,
            "_view_module_version": "1.2.0",
            "grid_template_areas": null,
            "object_position": null,
            "object_fit": null,
            "grid_auto_columns": null,
            "margin": null,
            "display": null,
            "left": null
          }
        },
        "d6b96a28c94942a7928326b105aad02f": {
          "model_module": "@jupyter-widgets/controls",
          "model_name": "HTMLModel",
          "model_module_version": "1.5.0",
          "state": {
            "_view_name": "HTMLView",
            "style": "IPY_MODEL_3c384ca0ad6d4736a82903056bad1dc5",
            "_dom_classes": [],
            "description": "",
            "_model_name": "HTMLModel",
            "placeholder": "​",
            "_view_module": "@jupyter-widgets/controls",
            "_model_module_version": "1.5.0",
            "value": "100%",
            "_view_count": null,
            "_view_module_version": "1.5.0",
            "description_tooltip": null,
            "_model_module": "@jupyter-widgets/controls",
            "layout": "IPY_MODEL_b64b292bb5bc4bcca4258cceb9bba62d"
          }
        },
        "c0fa444314e14efd90a4adda70f18c2a": {
          "model_module": "@jupyter-widgets/controls",
          "model_name": "FloatProgressModel",
          "model_module_version": "1.5.0",
          "state": {
            "_view_name": "ProgressView",
            "style": "IPY_MODEL_43ff3e7425304f62b7d908e483cefe41",
            "_dom_classes": [],
            "description": "",
            "_model_name": "FloatProgressModel",
            "bar_style": "success",
            "max": 176902,
            "_view_module": "@jupyter-widgets/controls",
            "_model_module_version": "1.5.0",
            "value": 176902,
            "_view_count": null,
            "_view_module_version": "1.5.0",
            "orientation": "horizontal",
            "min": 0,
            "description_tooltip": null,
            "_model_module": "@jupyter-widgets/controls",
            "layout": "IPY_MODEL_dac48cd16d9d4d4396491f4d44b9b5b4"
          }
        },
        "a311f3f14a5744bd838c2a0341ce681e": {
          "model_module": "@jupyter-widgets/controls",
          "model_name": "HTMLModel",
          "model_module_version": "1.5.0",
          "state": {
            "_view_name": "HTMLView",
            "style": "IPY_MODEL_07e12bf7fbb84bb8979ec12f846240a5",
            "_dom_classes": [],
            "description": "",
            "_model_name": "HTMLModel",
            "placeholder": "​",
            "_view_module": "@jupyter-widgets/controls",
            "_model_module_version": "1.5.0",
            "value": " 176902/176902 [00:18&lt;00:00, 10716.82ex/s]",
            "_view_count": null,
            "_view_module_version": "1.5.0",
            "description_tooltip": null,
            "_model_module": "@jupyter-widgets/controls",
            "layout": "IPY_MODEL_db09df581bf24ab6aa39ea1d1122eb69"
          }
        },
        "3c384ca0ad6d4736a82903056bad1dc5": {
          "model_module": "@jupyter-widgets/controls",
          "model_name": "DescriptionStyleModel",
          "model_module_version": "1.5.0",
          "state": {
            "_view_name": "StyleView",
            "_model_name": "DescriptionStyleModel",
            "description_width": "",
            "_view_module": "@jupyter-widgets/base",
            "_model_module_version": "1.5.0",
            "_view_count": null,
            "_view_module_version": "1.2.0",
            "_model_module": "@jupyter-widgets/controls"
          }
        },
        "b64b292bb5bc4bcca4258cceb9bba62d": {
          "model_module": "@jupyter-widgets/base",
          "model_name": "LayoutModel",
          "model_module_version": "1.2.0",
          "state": {
            "_view_name": "LayoutView",
            "grid_template_rows": null,
            "right": null,
            "justify_content": null,
            "_view_module": "@jupyter-widgets/base",
            "overflow": null,
            "_model_module_version": "1.2.0",
            "_view_count": null,
            "flex_flow": null,
            "width": null,
            "min_width": null,
            "border": null,
            "align_items": null,
            "bottom": null,
            "_model_module": "@jupyter-widgets/base",
            "top": null,
            "grid_column": null,
            "overflow_y": null,
            "overflow_x": null,
            "grid_auto_flow": null,
            "grid_area": null,
            "grid_template_columns": null,
            "flex": null,
            "_model_name": "LayoutModel",
            "justify_items": null,
            "grid_row": null,
            "max_height": null,
            "align_content": null,
            "visibility": null,
            "align_self": null,
            "height": null,
            "min_height": null,
            "padding": null,
            "grid_auto_rows": null,
            "grid_gap": null,
            "max_width": null,
            "order": null,
            "_view_module_version": "1.2.0",
            "grid_template_areas": null,
            "object_position": null,
            "object_fit": null,
            "grid_auto_columns": null,
            "margin": null,
            "display": null,
            "left": null
          }
        },
        "43ff3e7425304f62b7d908e483cefe41": {
          "model_module": "@jupyter-widgets/controls",
          "model_name": "ProgressStyleModel",
          "model_module_version": "1.5.0",
          "state": {
            "_view_name": "StyleView",
            "_model_name": "ProgressStyleModel",
            "description_width": "",
            "_view_module": "@jupyter-widgets/base",
            "_model_module_version": "1.5.0",
            "_view_count": null,
            "_view_module_version": "1.2.0",
            "bar_color": null,
            "_model_module": "@jupyter-widgets/controls"
          }
        },
        "dac48cd16d9d4d4396491f4d44b9b5b4": {
          "model_module": "@jupyter-widgets/base",
          "model_name": "LayoutModel",
          "model_module_version": "1.2.0",
          "state": {
            "_view_name": "LayoutView",
            "grid_template_rows": null,
            "right": null,
            "justify_content": null,
            "_view_module": "@jupyter-widgets/base",
            "overflow": null,
            "_model_module_version": "1.2.0",
            "_view_count": null,
            "flex_flow": null,
            "width": null,
            "min_width": null,
            "border": null,
            "align_items": null,
            "bottom": null,
            "_model_module": "@jupyter-widgets/base",
            "top": null,
            "grid_column": null,
            "overflow_y": null,
            "overflow_x": null,
            "grid_auto_flow": null,
            "grid_area": null,
            "grid_template_columns": null,
            "flex": null,
            "_model_name": "LayoutModel",
            "justify_items": null,
            "grid_row": null,
            "max_height": null,
            "align_content": null,
            "visibility": null,
            "align_self": null,
            "height": null,
            "min_height": null,
            "padding": null,
            "grid_auto_rows": null,
            "grid_gap": null,
            "max_width": null,
            "order": null,
            "_view_module_version": "1.2.0",
            "grid_template_areas": null,
            "object_position": null,
            "object_fit": null,
            "grid_auto_columns": null,
            "margin": null,
            "display": null,
            "left": null
          }
        },
        "07e12bf7fbb84bb8979ec12f846240a5": {
          "model_module": "@jupyter-widgets/controls",
          "model_name": "DescriptionStyleModel",
          "model_module_version": "1.5.0",
          "state": {
            "_view_name": "StyleView",
            "_model_name": "DescriptionStyleModel",
            "description_width": "",
            "_view_module": "@jupyter-widgets/base",
            "_model_module_version": "1.5.0",
            "_view_count": null,
            "_view_module_version": "1.2.0",
            "_model_module": "@jupyter-widgets/controls"
          }
        },
        "db09df581bf24ab6aa39ea1d1122eb69": {
          "model_module": "@jupyter-widgets/base",
          "model_name": "LayoutModel",
          "model_module_version": "1.2.0",
          "state": {
            "_view_name": "LayoutView",
            "grid_template_rows": null,
            "right": null,
            "justify_content": null,
            "_view_module": "@jupyter-widgets/base",
            "overflow": null,
            "_model_module_version": "1.2.0",
            "_view_count": null,
            "flex_flow": null,
            "width": null,
            "min_width": null,
            "border": null,
            "align_items": null,
            "bottom": null,
            "_model_module": "@jupyter-widgets/base",
            "top": null,
            "grid_column": null,
            "overflow_y": null,
            "overflow_x": null,
            "grid_auto_flow": null,
            "grid_area": null,
            "grid_template_columns": null,
            "flex": null,
            "_model_name": "LayoutModel",
            "justify_items": null,
            "grid_row": null,
            "max_height": null,
            "align_content": null,
            "visibility": null,
            "align_self": null,
            "height": null,
            "min_height": null,
            "padding": null,
            "grid_auto_rows": null,
            "grid_gap": null,
            "max_width": null,
            "order": null,
            "_view_module_version": "1.2.0",
            "grid_template_areas": null,
            "object_position": null,
            "object_fit": null,
            "grid_auto_columns": null,
            "margin": null,
            "display": null,
            "left": null
          }
        },
        "f340b2bffeab4d37b975e28b79cbe1a1": {
          "model_module": "@jupyter-widgets/controls",
          "model_name": "HBoxModel",
          "model_module_version": "1.5.0",
          "state": {
            "_view_name": "HBoxView",
            "_dom_classes": [],
            "_model_name": "HBoxModel",
            "_view_module": "@jupyter-widgets/controls",
            "_model_module_version": "1.5.0",
            "_view_count": null,
            "_view_module_version": "1.5.0",
            "box_style": "",
            "layout": "IPY_MODEL_70dc6fe20b8149abab0dddd11baed548",
            "_model_module": "@jupyter-widgets/controls",
            "children": [
              "IPY_MODEL_5ee3016e8a2941e7b2d187a6e49a08f4",
              "IPY_MODEL_d242a5cf1e40429eb756a997b4998ad3",
              "IPY_MODEL_4f8eb698ab4e4499ada13b626ce634f3"
            ]
          }
        },
        "70dc6fe20b8149abab0dddd11baed548": {
          "model_module": "@jupyter-widgets/base",
          "model_name": "LayoutModel",
          "model_module_version": "1.2.0",
          "state": {
            "_view_name": "LayoutView",
            "grid_template_rows": null,
            "right": null,
            "justify_content": null,
            "_view_module": "@jupyter-widgets/base",
            "overflow": null,
            "_model_module_version": "1.2.0",
            "_view_count": null,
            "flex_flow": null,
            "width": null,
            "min_width": null,
            "border": null,
            "align_items": null,
            "bottom": null,
            "_model_module": "@jupyter-widgets/base",
            "top": null,
            "grid_column": null,
            "overflow_y": null,
            "overflow_x": null,
            "grid_auto_flow": null,
            "grid_area": null,
            "grid_template_columns": null,
            "flex": null,
            "_model_name": "LayoutModel",
            "justify_items": null,
            "grid_row": null,
            "max_height": null,
            "align_content": null,
            "visibility": null,
            "align_self": null,
            "height": null,
            "min_height": null,
            "padding": null,
            "grid_auto_rows": null,
            "grid_gap": null,
            "max_width": null,
            "order": null,
            "_view_module_version": "1.2.0",
            "grid_template_areas": null,
            "object_position": null,
            "object_fit": null,
            "grid_auto_columns": null,
            "margin": null,
            "display": null,
            "left": null
          }
        },
        "5ee3016e8a2941e7b2d187a6e49a08f4": {
          "model_module": "@jupyter-widgets/controls",
          "model_name": "HTMLModel",
          "model_module_version": "1.5.0",
          "state": {
            "_view_name": "HTMLView",
            "style": "IPY_MODEL_22bc608d67c2467689f5355575a5e92f",
            "_dom_classes": [],
            "description": "",
            "_model_name": "HTMLModel",
            "placeholder": "​",
            "_view_module": "@jupyter-widgets/controls",
            "_model_module_version": "1.5.0",
            "value": "100%",
            "_view_count": null,
            "_view_module_version": "1.5.0",
            "description_tooltip": null,
            "_model_module": "@jupyter-widgets/controls",
            "layout": "IPY_MODEL_4c0c6ce838184e72b1b740739bea1e25"
          }
        },
        "d242a5cf1e40429eb756a997b4998ad3": {
          "model_module": "@jupyter-widgets/controls",
          "model_name": "FloatProgressModel",
          "model_module_version": "1.5.0",
          "state": {
            "_view_name": "ProgressView",
            "style": "IPY_MODEL_b7386f4cb6344ea981eacecf132b5610",
            "_dom_classes": [],
            "description": "",
            "_model_name": "FloatProgressModel",
            "bar_style": "success",
            "max": 15089,
            "_view_module": "@jupyter-widgets/controls",
            "_model_module_version": "1.5.0",
            "value": 15089,
            "_view_count": null,
            "_view_module_version": "1.5.0",
            "orientation": "horizontal",
            "min": 0,
            "description_tooltip": null,
            "_model_module": "@jupyter-widgets/controls",
            "layout": "IPY_MODEL_a148f24760af4670b728fa02a0c102bf"
          }
        },
        "4f8eb698ab4e4499ada13b626ce634f3": {
          "model_module": "@jupyter-widgets/controls",
          "model_name": "HTMLModel",
          "model_module_version": "1.5.0",
          "state": {
            "_view_name": "HTMLView",
            "style": "IPY_MODEL_a547521f93064f3181c3be193abea40c",
            "_dom_classes": [],
            "description": "",
            "_model_name": "HTMLModel",
            "placeholder": "​",
            "_view_module": "@jupyter-widgets/controls",
            "_model_module_version": "1.5.0",
            "value": " 15089/15089 [00:01&lt;00:00, 9202.39ex/s]",
            "_view_count": null,
            "_view_module_version": "1.5.0",
            "description_tooltip": null,
            "_model_module": "@jupyter-widgets/controls",
            "layout": "IPY_MODEL_3964fe3ffb0340aa981b18c0f7805e21"
          }
        },
        "22bc608d67c2467689f5355575a5e92f": {
          "model_module": "@jupyter-widgets/controls",
          "model_name": "DescriptionStyleModel",
          "model_module_version": "1.5.0",
          "state": {
            "_view_name": "StyleView",
            "_model_name": "DescriptionStyleModel",
            "description_width": "",
            "_view_module": "@jupyter-widgets/base",
            "_model_module_version": "1.5.0",
            "_view_count": null,
            "_view_module_version": "1.2.0",
            "_model_module": "@jupyter-widgets/controls"
          }
        },
        "4c0c6ce838184e72b1b740739bea1e25": {
          "model_module": "@jupyter-widgets/base",
          "model_name": "LayoutModel",
          "model_module_version": "1.2.0",
          "state": {
            "_view_name": "LayoutView",
            "grid_template_rows": null,
            "right": null,
            "justify_content": null,
            "_view_module": "@jupyter-widgets/base",
            "overflow": null,
            "_model_module_version": "1.2.0",
            "_view_count": null,
            "flex_flow": null,
            "width": null,
            "min_width": null,
            "border": null,
            "align_items": null,
            "bottom": null,
            "_model_module": "@jupyter-widgets/base",
            "top": null,
            "grid_column": null,
            "overflow_y": null,
            "overflow_x": null,
            "grid_auto_flow": null,
            "grid_area": null,
            "grid_template_columns": null,
            "flex": null,
            "_model_name": "LayoutModel",
            "justify_items": null,
            "grid_row": null,
            "max_height": null,
            "align_content": null,
            "visibility": null,
            "align_self": null,
            "height": null,
            "min_height": null,
            "padding": null,
            "grid_auto_rows": null,
            "grid_gap": null,
            "max_width": null,
            "order": null,
            "_view_module_version": "1.2.0",
            "grid_template_areas": null,
            "object_position": null,
            "object_fit": null,
            "grid_auto_columns": null,
            "margin": null,
            "display": null,
            "left": null
          }
        },
        "b7386f4cb6344ea981eacecf132b5610": {
          "model_module": "@jupyter-widgets/controls",
          "model_name": "ProgressStyleModel",
          "model_module_version": "1.5.0",
          "state": {
            "_view_name": "StyleView",
            "_model_name": "ProgressStyleModel",
            "description_width": "",
            "_view_module": "@jupyter-widgets/base",
            "_model_module_version": "1.5.0",
            "_view_count": null,
            "_view_module_version": "1.2.0",
            "bar_color": null,
            "_model_module": "@jupyter-widgets/controls"
          }
        },
        "a148f24760af4670b728fa02a0c102bf": {
          "model_module": "@jupyter-widgets/base",
          "model_name": "LayoutModel",
          "model_module_version": "1.2.0",
          "state": {
            "_view_name": "LayoutView",
            "grid_template_rows": null,
            "right": null,
            "justify_content": null,
            "_view_module": "@jupyter-widgets/base",
            "overflow": null,
            "_model_module_version": "1.2.0",
            "_view_count": null,
            "flex_flow": null,
            "width": null,
            "min_width": null,
            "border": null,
            "align_items": null,
            "bottom": null,
            "_model_module": "@jupyter-widgets/base",
            "top": null,
            "grid_column": null,
            "overflow_y": null,
            "overflow_x": null,
            "grid_auto_flow": null,
            "grid_area": null,
            "grid_template_columns": null,
            "flex": null,
            "_model_name": "LayoutModel",
            "justify_items": null,
            "grid_row": null,
            "max_height": null,
            "align_content": null,
            "visibility": null,
            "align_self": null,
            "height": null,
            "min_height": null,
            "padding": null,
            "grid_auto_rows": null,
            "grid_gap": null,
            "max_width": null,
            "order": null,
            "_view_module_version": "1.2.0",
            "grid_template_areas": null,
            "object_position": null,
            "object_fit": null,
            "grid_auto_columns": null,
            "margin": null,
            "display": null,
            "left": null
          }
        },
        "a547521f93064f3181c3be193abea40c": {
          "model_module": "@jupyter-widgets/controls",
          "model_name": "DescriptionStyleModel",
          "model_module_version": "1.5.0",
          "state": {
            "_view_name": "StyleView",
            "_model_name": "DescriptionStyleModel",
            "description_width": "",
            "_view_module": "@jupyter-widgets/base",
            "_model_module_version": "1.5.0",
            "_view_count": null,
            "_view_module_version": "1.2.0",
            "_model_module": "@jupyter-widgets/controls"
          }
        },
        "3964fe3ffb0340aa981b18c0f7805e21": {
          "model_module": "@jupyter-widgets/base",
          "model_name": "LayoutModel",
          "model_module_version": "1.2.0",
          "state": {
            "_view_name": "LayoutView",
            "grid_template_rows": null,
            "right": null,
            "justify_content": null,
            "_view_module": "@jupyter-widgets/base",
            "overflow": null,
            "_model_module_version": "1.2.0",
            "_view_count": null,
            "flex_flow": null,
            "width": null,
            "min_width": null,
            "border": null,
            "align_items": null,
            "bottom": null,
            "_model_module": "@jupyter-widgets/base",
            "top": null,
            "grid_column": null,
            "overflow_y": null,
            "overflow_x": null,
            "grid_auto_flow": null,
            "grid_area": null,
            "grid_template_columns": null,
            "flex": null,
            "_model_name": "LayoutModel",
            "justify_items": null,
            "grid_row": null,
            "max_height": null,
            "align_content": null,
            "visibility": null,
            "align_self": null,
            "height": null,
            "min_height": null,
            "padding": null,
            "grid_auto_rows": null,
            "grid_gap": null,
            "max_width": null,
            "order": null,
            "_view_module_version": "1.2.0",
            "grid_template_areas": null,
            "object_position": null,
            "object_fit": null,
            "grid_auto_columns": null,
            "margin": null,
            "display": null,
            "left": null
          }
        },
        "896cf52da805421da3e822687ae09a0f": {
          "model_module": "@jupyter-widgets/controls",
          "model_name": "HBoxModel",
          "model_module_version": "1.5.0",
          "state": {
            "_view_name": "HBoxView",
            "_dom_classes": [],
            "_model_name": "HBoxModel",
            "_view_module": "@jupyter-widgets/controls",
            "_model_module_version": "1.5.0",
            "_view_count": null,
            "_view_module_version": "1.5.0",
            "box_style": "",
            "layout": "IPY_MODEL_75a9aed8df154ee8bd5824bd002fa40a",
            "_model_module": "@jupyter-widgets/controls",
            "children": [
              "IPY_MODEL_0eed9176ac924cc2b085e6a358c98602",
              "IPY_MODEL_93c613fe7da04ebebd5abeb6421ac81b",
              "IPY_MODEL_94dda7d4815e4e5fb964f56451aa2b9d"
            ]
          }
        },
        "75a9aed8df154ee8bd5824bd002fa40a": {
          "model_module": "@jupyter-widgets/base",
          "model_name": "LayoutModel",
          "model_module_version": "1.2.0",
          "state": {
            "_view_name": "LayoutView",
            "grid_template_rows": null,
            "right": null,
            "justify_content": null,
            "_view_module": "@jupyter-widgets/base",
            "overflow": null,
            "_model_module_version": "1.2.0",
            "_view_count": null,
            "flex_flow": null,
            "width": null,
            "min_width": null,
            "border": null,
            "align_items": null,
            "bottom": null,
            "_model_module": "@jupyter-widgets/base",
            "top": null,
            "grid_column": null,
            "overflow_y": null,
            "overflow_x": null,
            "grid_auto_flow": null,
            "grid_area": null,
            "grid_template_columns": null,
            "flex": null,
            "_model_name": "LayoutModel",
            "justify_items": null,
            "grid_row": null,
            "max_height": null,
            "align_content": null,
            "visibility": null,
            "align_self": null,
            "height": null,
            "min_height": null,
            "padding": null,
            "grid_auto_rows": null,
            "grid_gap": null,
            "max_width": null,
            "order": null,
            "_view_module_version": "1.2.0",
            "grid_template_areas": null,
            "object_position": null,
            "object_fit": null,
            "grid_auto_columns": null,
            "margin": null,
            "display": null,
            "left": null
          }
        },
        "0eed9176ac924cc2b085e6a358c98602": {
          "model_module": "@jupyter-widgets/controls",
          "model_name": "HTMLModel",
          "model_module_version": "1.5.0",
          "state": {
            "_view_name": "HTMLView",
            "style": "IPY_MODEL_10bfe9d4e9204aea89ce1b15f1b20241",
            "_dom_classes": [],
            "description": "",
            "_model_name": "HTMLModel",
            "placeholder": "​",
            "_view_module": "@jupyter-widgets/controls",
            "_model_module_version": "1.5.0",
            "value": "100%",
            "_view_count": null,
            "_view_module_version": "1.5.0",
            "description_tooltip": null,
            "_model_module": "@jupyter-widgets/controls",
            "layout": "IPY_MODEL_e652cb0b201a45028eb350886b6b3cfa"
          }
        },
        "93c613fe7da04ebebd5abeb6421ac81b": {
          "model_module": "@jupyter-widgets/controls",
          "model_name": "FloatProgressModel",
          "model_module_version": "1.5.0",
          "state": {
            "_view_name": "ProgressView",
            "style": "IPY_MODEL_a87cc3a328874edaaf2245b119a88f82",
            "_dom_classes": [],
            "description": "",
            "_model_name": "FloatProgressModel",
            "bar_style": "success",
            "max": 1,
            "_view_module": "@jupyter-widgets/controls",
            "_model_module_version": "1.5.0",
            "value": 1,
            "_view_count": null,
            "_view_module_version": "1.5.0",
            "orientation": "horizontal",
            "min": 0,
            "description_tooltip": null,
            "_model_module": "@jupyter-widgets/controls",
            "layout": "IPY_MODEL_3507208dea9542b7853bb4b3fbcf23fa"
          }
        },
        "94dda7d4815e4e5fb964f56451aa2b9d": {
          "model_module": "@jupyter-widgets/controls",
          "model_name": "HTMLModel",
          "model_module_version": "1.5.0",
          "state": {
            "_view_name": "HTMLView",
            "style": "IPY_MODEL_b1601a9371d346398e73f23173944684",
            "_dom_classes": [],
            "description": "",
            "_model_name": "HTMLModel",
            "placeholder": "​",
            "_view_module": "@jupyter-widgets/controls",
            "_model_module_version": "1.5.0",
            "value": " 1/1 [00:00&lt;00:00,  1.00ba/s]",
            "_view_count": null,
            "_view_module_version": "1.5.0",
            "description_tooltip": null,
            "_model_module": "@jupyter-widgets/controls",
            "layout": "IPY_MODEL_6e435c4d93e64260b58699fd1204a715"
          }
        },
        "10bfe9d4e9204aea89ce1b15f1b20241": {
          "model_module": "@jupyter-widgets/controls",
          "model_name": "DescriptionStyleModel",
          "model_module_version": "1.5.0",
          "state": {
            "_view_name": "StyleView",
            "_model_name": "DescriptionStyleModel",
            "description_width": "",
            "_view_module": "@jupyter-widgets/base",
            "_model_module_version": "1.5.0",
            "_view_count": null,
            "_view_module_version": "1.2.0",
            "_model_module": "@jupyter-widgets/controls"
          }
        },
        "e652cb0b201a45028eb350886b6b3cfa": {
          "model_module": "@jupyter-widgets/base",
          "model_name": "LayoutModel",
          "model_module_version": "1.2.0",
          "state": {
            "_view_name": "LayoutView",
            "grid_template_rows": null,
            "right": null,
            "justify_content": null,
            "_view_module": "@jupyter-widgets/base",
            "overflow": null,
            "_model_module_version": "1.2.0",
            "_view_count": null,
            "flex_flow": null,
            "width": null,
            "min_width": null,
            "border": null,
            "align_items": null,
            "bottom": null,
            "_model_module": "@jupyter-widgets/base",
            "top": null,
            "grid_column": null,
            "overflow_y": null,
            "overflow_x": null,
            "grid_auto_flow": null,
            "grid_area": null,
            "grid_template_columns": null,
            "flex": null,
            "_model_name": "LayoutModel",
            "justify_items": null,
            "grid_row": null,
            "max_height": null,
            "align_content": null,
            "visibility": null,
            "align_self": null,
            "height": null,
            "min_height": null,
            "padding": null,
            "grid_auto_rows": null,
            "grid_gap": null,
            "max_width": null,
            "order": null,
            "_view_module_version": "1.2.0",
            "grid_template_areas": null,
            "object_position": null,
            "object_fit": null,
            "grid_auto_columns": null,
            "margin": null,
            "display": null,
            "left": null
          }
        },
        "a87cc3a328874edaaf2245b119a88f82": {
          "model_module": "@jupyter-widgets/controls",
          "model_name": "ProgressStyleModel",
          "model_module_version": "1.5.0",
          "state": {
            "_view_name": "StyleView",
            "_model_name": "ProgressStyleModel",
            "description_width": "",
            "_view_module": "@jupyter-widgets/base",
            "_model_module_version": "1.5.0",
            "_view_count": null,
            "_view_module_version": "1.2.0",
            "bar_color": null,
            "_model_module": "@jupyter-widgets/controls"
          }
        },
        "3507208dea9542b7853bb4b3fbcf23fa": {
          "model_module": "@jupyter-widgets/base",
          "model_name": "LayoutModel",
          "model_module_version": "1.2.0",
          "state": {
            "_view_name": "LayoutView",
            "grid_template_rows": null,
            "right": null,
            "justify_content": null,
            "_view_module": "@jupyter-widgets/base",
            "overflow": null,
            "_model_module_version": "1.2.0",
            "_view_count": null,
            "flex_flow": null,
            "width": null,
            "min_width": null,
            "border": null,
            "align_items": null,
            "bottom": null,
            "_model_module": "@jupyter-widgets/base",
            "top": null,
            "grid_column": null,
            "overflow_y": null,
            "overflow_x": null,
            "grid_auto_flow": null,
            "grid_area": null,
            "grid_template_columns": null,
            "flex": null,
            "_model_name": "LayoutModel",
            "justify_items": null,
            "grid_row": null,
            "max_height": null,
            "align_content": null,
            "visibility": null,
            "align_self": null,
            "height": null,
            "min_height": null,
            "padding": null,
            "grid_auto_rows": null,
            "grid_gap": null,
            "max_width": null,
            "order": null,
            "_view_module_version": "1.2.0",
            "grid_template_areas": null,
            "object_position": null,
            "object_fit": null,
            "grid_auto_columns": null,
            "margin": null,
            "display": null,
            "left": null
          }
        },
        "b1601a9371d346398e73f23173944684": {
          "model_module": "@jupyter-widgets/controls",
          "model_name": "DescriptionStyleModel",
          "model_module_version": "1.5.0",
          "state": {
            "_view_name": "StyleView",
            "_model_name": "DescriptionStyleModel",
            "description_width": "",
            "_view_module": "@jupyter-widgets/base",
            "_model_module_version": "1.5.0",
            "_view_count": null,
            "_view_module_version": "1.2.0",
            "_model_module": "@jupyter-widgets/controls"
          }
        },
        "6e435c4d93e64260b58699fd1204a715": {
          "model_module": "@jupyter-widgets/base",
          "model_name": "LayoutModel",
          "model_module_version": "1.2.0",
          "state": {
            "_view_name": "LayoutView",
            "grid_template_rows": null,
            "right": null,
            "justify_content": null,
            "_view_module": "@jupyter-widgets/base",
            "overflow": null,
            "_model_module_version": "1.2.0",
            "_view_count": null,
            "flex_flow": null,
            "width": null,
            "min_width": null,
            "border": null,
            "align_items": null,
            "bottom": null,
            "_model_module": "@jupyter-widgets/base",
            "top": null,
            "grid_column": null,
            "overflow_y": null,
            "overflow_x": null,
            "grid_auto_flow": null,
            "grid_area": null,
            "grid_template_columns": null,
            "flex": null,
            "_model_name": "LayoutModel",
            "justify_items": null,
            "grid_row": null,
            "max_height": null,
            "align_content": null,
            "visibility": null,
            "align_self": null,
            "height": null,
            "min_height": null,
            "padding": null,
            "grid_auto_rows": null,
            "grid_gap": null,
            "max_width": null,
            "order": null,
            "_view_module_version": "1.2.0",
            "grid_template_areas": null,
            "object_position": null,
            "object_fit": null,
            "grid_auto_columns": null,
            "margin": null,
            "display": null,
            "left": null
          }
        },
        "3a459ba4143848aca7d890a78be865a5": {
          "model_module": "@jupyter-widgets/controls",
          "model_name": "HBoxModel",
          "model_module_version": "1.5.0",
          "state": {
            "_view_name": "HBoxView",
            "_dom_classes": [],
            "_model_name": "HBoxModel",
            "_view_module": "@jupyter-widgets/controls",
            "_model_module_version": "1.5.0",
            "_view_count": null,
            "_view_module_version": "1.5.0",
            "box_style": "",
            "layout": "IPY_MODEL_edfc0dffeb624819a163bc93b28a1b39",
            "_model_module": "@jupyter-widgets/controls",
            "children": [
              "IPY_MODEL_c24b3454d871490497a373dd0f0c2c0a",
              "IPY_MODEL_2ad9777918e04c8d9e2670908d8c10b2",
              "IPY_MODEL_15c1b3457169493db58d067a0ad10841"
            ]
          }
        },
        "edfc0dffeb624819a163bc93b28a1b39": {
          "model_module": "@jupyter-widgets/base",
          "model_name": "LayoutModel",
          "model_module_version": "1.2.0",
          "state": {
            "_view_name": "LayoutView",
            "grid_template_rows": null,
            "right": null,
            "justify_content": null,
            "_view_module": "@jupyter-widgets/base",
            "overflow": null,
            "_model_module_version": "1.2.0",
            "_view_count": null,
            "flex_flow": null,
            "width": null,
            "min_width": null,
            "border": null,
            "align_items": null,
            "bottom": null,
            "_model_module": "@jupyter-widgets/base",
            "top": null,
            "grid_column": null,
            "overflow_y": null,
            "overflow_x": null,
            "grid_auto_flow": null,
            "grid_area": null,
            "grid_template_columns": null,
            "flex": null,
            "_model_name": "LayoutModel",
            "justify_items": null,
            "grid_row": null,
            "max_height": null,
            "align_content": null,
            "visibility": null,
            "align_self": null,
            "height": null,
            "min_height": null,
            "padding": null,
            "grid_auto_rows": null,
            "grid_gap": null,
            "max_width": null,
            "order": null,
            "_view_module_version": "1.2.0",
            "grid_template_areas": null,
            "object_position": null,
            "object_fit": null,
            "grid_auto_columns": null,
            "margin": null,
            "display": null,
            "left": null
          }
        },
        "c24b3454d871490497a373dd0f0c2c0a": {
          "model_module": "@jupyter-widgets/controls",
          "model_name": "HTMLModel",
          "model_module_version": "1.5.0",
          "state": {
            "_view_name": "HTMLView",
            "style": "IPY_MODEL_9fd7050be1a54b0fb2bbefca1f15dbc3",
            "_dom_classes": [],
            "description": "",
            "_model_name": "HTMLModel",
            "placeholder": "​",
            "_view_module": "@jupyter-widgets/controls",
            "_model_module_version": "1.5.0",
            "value": "100%",
            "_view_count": null,
            "_view_module_version": "1.5.0",
            "description_tooltip": null,
            "_model_module": "@jupyter-widgets/controls",
            "layout": "IPY_MODEL_104826c851324c38a0eb7fd53f04bdd7"
          }
        },
        "2ad9777918e04c8d9e2670908d8c10b2": {
          "model_module": "@jupyter-widgets/controls",
          "model_name": "FloatProgressModel",
          "model_module_version": "1.5.0",
          "state": {
            "_view_name": "ProgressView",
            "style": "IPY_MODEL_820ea523d9904697a390b57ef24ca0af",
            "_dom_classes": [],
            "description": "",
            "_model_name": "FloatProgressModel",
            "bar_style": "success",
            "max": 1,
            "_view_module": "@jupyter-widgets/controls",
            "_model_module_version": "1.5.0",
            "value": 1,
            "_view_count": null,
            "_view_module_version": "1.5.0",
            "orientation": "horizontal",
            "min": 0,
            "description_tooltip": null,
            "_model_module": "@jupyter-widgets/controls",
            "layout": "IPY_MODEL_d4ad6b4c16654e3c8addf26adb1890a4"
          }
        },
        "15c1b3457169493db58d067a0ad10841": {
          "model_module": "@jupyter-widgets/controls",
          "model_name": "HTMLModel",
          "model_module_version": "1.5.0",
          "state": {
            "_view_name": "HTMLView",
            "style": "IPY_MODEL_4dbfa2839de94c4cad0126b14cd9eebe",
            "_dom_classes": [],
            "description": "",
            "_model_name": "HTMLModel",
            "placeholder": "​",
            "_view_module": "@jupyter-widgets/controls",
            "_model_module_version": "1.5.0",
            "value": " 1/1 [00:00&lt;00:00,  7.33ba/s]",
            "_view_count": null,
            "_view_module_version": "1.5.0",
            "description_tooltip": null,
            "_model_module": "@jupyter-widgets/controls",
            "layout": "IPY_MODEL_f65e3d70b0f0436db3b9fd6f5bc4ce20"
          }
        },
        "9fd7050be1a54b0fb2bbefca1f15dbc3": {
          "model_module": "@jupyter-widgets/controls",
          "model_name": "DescriptionStyleModel",
          "model_module_version": "1.5.0",
          "state": {
            "_view_name": "StyleView",
            "_model_name": "DescriptionStyleModel",
            "description_width": "",
            "_view_module": "@jupyter-widgets/base",
            "_model_module_version": "1.5.0",
            "_view_count": null,
            "_view_module_version": "1.2.0",
            "_model_module": "@jupyter-widgets/controls"
          }
        },
        "104826c851324c38a0eb7fd53f04bdd7": {
          "model_module": "@jupyter-widgets/base",
          "model_name": "LayoutModel",
          "model_module_version": "1.2.0",
          "state": {
            "_view_name": "LayoutView",
            "grid_template_rows": null,
            "right": null,
            "justify_content": null,
            "_view_module": "@jupyter-widgets/base",
            "overflow": null,
            "_model_module_version": "1.2.0",
            "_view_count": null,
            "flex_flow": null,
            "width": null,
            "min_width": null,
            "border": null,
            "align_items": null,
            "bottom": null,
            "_model_module": "@jupyter-widgets/base",
            "top": null,
            "grid_column": null,
            "overflow_y": null,
            "overflow_x": null,
            "grid_auto_flow": null,
            "grid_area": null,
            "grid_template_columns": null,
            "flex": null,
            "_model_name": "LayoutModel",
            "justify_items": null,
            "grid_row": null,
            "max_height": null,
            "align_content": null,
            "visibility": null,
            "align_self": null,
            "height": null,
            "min_height": null,
            "padding": null,
            "grid_auto_rows": null,
            "grid_gap": null,
            "max_width": null,
            "order": null,
            "_view_module_version": "1.2.0",
            "grid_template_areas": null,
            "object_position": null,
            "object_fit": null,
            "grid_auto_columns": null,
            "margin": null,
            "display": null,
            "left": null
          }
        },
        "820ea523d9904697a390b57ef24ca0af": {
          "model_module": "@jupyter-widgets/controls",
          "model_name": "ProgressStyleModel",
          "model_module_version": "1.5.0",
          "state": {
            "_view_name": "StyleView",
            "_model_name": "ProgressStyleModel",
            "description_width": "",
            "_view_module": "@jupyter-widgets/base",
            "_model_module_version": "1.5.0",
            "_view_count": null,
            "_view_module_version": "1.2.0",
            "bar_color": null,
            "_model_module": "@jupyter-widgets/controls"
          }
        },
        "d4ad6b4c16654e3c8addf26adb1890a4": {
          "model_module": "@jupyter-widgets/base",
          "model_name": "LayoutModel",
          "model_module_version": "1.2.0",
          "state": {
            "_view_name": "LayoutView",
            "grid_template_rows": null,
            "right": null,
            "justify_content": null,
            "_view_module": "@jupyter-widgets/base",
            "overflow": null,
            "_model_module_version": "1.2.0",
            "_view_count": null,
            "flex_flow": null,
            "width": null,
            "min_width": null,
            "border": null,
            "align_items": null,
            "bottom": null,
            "_model_module": "@jupyter-widgets/base",
            "top": null,
            "grid_column": null,
            "overflow_y": null,
            "overflow_x": null,
            "grid_auto_flow": null,
            "grid_area": null,
            "grid_template_columns": null,
            "flex": null,
            "_model_name": "LayoutModel",
            "justify_items": null,
            "grid_row": null,
            "max_height": null,
            "align_content": null,
            "visibility": null,
            "align_self": null,
            "height": null,
            "min_height": null,
            "padding": null,
            "grid_auto_rows": null,
            "grid_gap": null,
            "max_width": null,
            "order": null,
            "_view_module_version": "1.2.0",
            "grid_template_areas": null,
            "object_position": null,
            "object_fit": null,
            "grid_auto_columns": null,
            "margin": null,
            "display": null,
            "left": null
          }
        },
        "4dbfa2839de94c4cad0126b14cd9eebe": {
          "model_module": "@jupyter-widgets/controls",
          "model_name": "DescriptionStyleModel",
          "model_module_version": "1.5.0",
          "state": {
            "_view_name": "StyleView",
            "_model_name": "DescriptionStyleModel",
            "description_width": "",
            "_view_module": "@jupyter-widgets/base",
            "_model_module_version": "1.5.0",
            "_view_count": null,
            "_view_module_version": "1.2.0",
            "_model_module": "@jupyter-widgets/controls"
          }
        },
        "f65e3d70b0f0436db3b9fd6f5bc4ce20": {
          "model_module": "@jupyter-widgets/base",
          "model_name": "LayoutModel",
          "model_module_version": "1.2.0",
          "state": {
            "_view_name": "LayoutView",
            "grid_template_rows": null,
            "right": null,
            "justify_content": null,
            "_view_module": "@jupyter-widgets/base",
            "overflow": null,
            "_model_module_version": "1.2.0",
            "_view_count": null,
            "flex_flow": null,
            "width": null,
            "min_width": null,
            "border": null,
            "align_items": null,
            "bottom": null,
            "_model_module": "@jupyter-widgets/base",
            "top": null,
            "grid_column": null,
            "overflow_y": null,
            "overflow_x": null,
            "grid_auto_flow": null,
            "grid_area": null,
            "grid_template_columns": null,
            "flex": null,
            "_model_name": "LayoutModel",
            "justify_items": null,
            "grid_row": null,
            "max_height": null,
            "align_content": null,
            "visibility": null,
            "align_self": null,
            "height": null,
            "min_height": null,
            "padding": null,
            "grid_auto_rows": null,
            "grid_gap": null,
            "max_width": null,
            "order": null,
            "_view_module_version": "1.2.0",
            "grid_template_areas": null,
            "object_position": null,
            "object_fit": null,
            "grid_auto_columns": null,
            "margin": null,
            "display": null,
            "left": null
          }
        }
      }
    },
    "language_info": {
      "name": "python",
      "version": "3.9.7",
      "mimetype": "text/x-python",
      "codemirror_mode": {
        "name": "ipython",
        "version": 3
      },
      "pygments_lexer": "ipython3",
      "nbconvert_exporter": "python",
      "file_extension": ".py"
    },
    "interpreter": {
      "hash": "a1bdae28d166940ab09ee6cadf356f3a1c4c778af36b5d481c29c84d20fa9cea"
    }
  },
  "cells": [
    {
      "cell_type": "markdown",
      "source": [
        "# **Fine-tuning XLSR-Wav2Vec2 for Multi-Lingual ASR with 🤗 Transformers**"
      ],
      "metadata": {
        "id": "LBSYoWbi-45k"
      }
    },
    {
      "cell_type": "markdown",
      "source": [
        "Wav2Vec2 is a pretrained model for Automatic Speech Recognition (ASR) and was released in [September 2020](https://ai.facebook.com/blog/wav2vec-20-learning-the-structure-of-speech-from-raw-audio/) by Alexei Baevski, Michael Auli, and Alex Conneau.  Soon after the superior performance of Wav2Vec2 was demonstrated on the English ASR dataset LibriSpeech, *Facebook AI* presented XLSR-Wav2Vec2 (click [here](https://arxiv.org/abs/2006.13979)). XLSR stands for *cross-lingual  speech representations* and refers to XLSR-Wav2Vec2's ability to learn speech representations that are useful across multiple languages.\n",
        "\n",
        "Similar to Wav2Vec2, XLSR-Wav2Vec2 learns powerful speech representations from hundreds of thousands of hours of speech in more than 50 languages of unlabeled speech. Similar, to [BERT's masked language modeling](http://jalammar.github.io/illustrated-bert/), the model learns contextualized speech representations by randomly masking feature vectors before passing them to a transformer network.\n",
        "\n",
        "![wav2vec2_structure](https://raw.githubusercontent.com/patrickvonplaten/scientific_images/master/xlsr_wav2vec2.png)\n",
        "\n",
        "The authors show for the first time that massively pretraining an ASR model on cross-lingual unlabeled speech data, followed by language-specific fine-tuning on very little labeled data achieves state-of-the-art results. See Table 1-5 of the official [paper](https://arxiv.org/pdf/2006.13979.pdf)."
      ],
      "metadata": {
        "id": "V7YOT2mnUiea"
      }
    },
    {
      "cell_type": "markdown",
      "source": [
        "In this notebook, we will give an in-detail explanation of how XLSR-Wav2Vec2's pretrained checkpoint can be fine-tuned on a low-resource ASR dataset of any language. Note that in this notebook, we will fine-tune XLSR-Wav2Vec2 without making use of a language model. It is much simpler and more efficient to use XLSR-Wav2Vec2 without a language model, but better results can be achieved by including a language model. \n",
        "\n",
        "For demonstration purposes, we fine-tune the [wav2vec2-large-xlsr-53](https://huggingface.co/facebook/wav2vec2-large-xlsr-53) on the low resource Turkish ASR dataset of [Common Voice](https://huggingface.co/datasets/common_voice) that contains just ~6h of validated training data."
      ],
      "metadata": {
        "id": "nT_QrfWtsxIz"
      }
    },
    {
      "cell_type": "markdown",
      "source": [
        "XLSR-Wav2Vec2 is fine-tuned using Connectionist Temporal Classification (CTC), which is an algorithm that is used to train neural networks for sequence-to-sequence problems and mainly in Automatic Speech Recognition and handwriting recognition. \n",
        "\n",
        "I highly recommend reading the blog post [Sequence Modeling with CTC (2017)](https://distill.pub/2017/ctc/) very well-written blog post by Awni Hannun."
      ],
      "metadata": {
        "id": "Gx9OdDYrCtQ1"
      }
    },
    {
      "cell_type": "markdown",
      "source": [
        "Before we start, let's install both `datasets` and `transformers` from master. Also, we need the `torchaudio` and `librosa` package to load audio files and the `jiwer` to evaluate our fine-tuned model using the [word error rate (WER)](https://huggingface.co/metrics/wer) metric ${}^1$."
      ],
      "metadata": {
        "id": "e335hPmdtASZ"
      }
    },
    {
      "cell_type": "code",
      "execution_count": 2,
      "source": [
        "%%capture\r\n",
        "!pip install datasets==1.13.3\r\n",
        "!pip install transformers==4.11.3\r\n",
        "!pip install torchaudio\r\n",
        "!pip install librosa\r\n",
        "!pip install jiwer"
      ],
      "outputs": [],
      "metadata": {
        "id": "c8eh87Hoee5d"
      }
    },
    {
      "cell_type": "markdown",
      "source": [
        "\n",
        "\n",
        "\n",
        "---\n",
        "\n",
        "${}^1$ In the [paper](https://arxiv.org/pdf/2006.13979.pdf), the model was evaluated using the phoneme error rate (PER), but by far the most common metric in ASR is the word error rate (WER). To keep this notebook as general as possible we decided to evaluate the model using WER."
      ],
      "metadata": {
        "id": "Mn9swf6EQ9Vd"
      }
    },
    {
      "cell_type": "markdown",
      "source": [
        "## Prepare Data, Tokenizer, Feature Extractor"
      ],
      "metadata": {
        "id": "0mW-C1Nt-j7k"
      }
    },
    {
      "cell_type": "markdown",
      "source": [
        "ASR models transcribe speech to text, which means that we both need a feature extractor that processes the speech signal to the model's input format, *e.g.* a feature vector, and a tokenizer that processes the model's output format to text. \n",
        "\n",
        "In 🤗 Transformers, the XLSR-Wav2Vec2 model is thus accompanied by both a tokenizer, called [Wav2Vec2CTCTokenizer](https://huggingface.co/transformers/master/model_doc/wav2vec2.html#wav2vec2ctctokenizer), and a feature extractor, called [Wav2Vec2FeatureExtractor](https://huggingface.co/transformers/master/model_doc/wav2vec2.html#wav2vec2featureextractor).\n",
        "\n",
        "Let's start by creating the tokenizer responsible for decoding the model's predictions."
      ],
      "metadata": {
        "id": "BeBosnY9BH3e"
      }
    },
    {
      "cell_type": "markdown",
      "source": [
        "### Create Wav2Vec2CTCTokenizer"
      ],
      "metadata": {
        "id": "sEXEWEJGQPqD"
      }
    },
    {
      "cell_type": "markdown",
      "source": [
        "The [pretrained Wav2Vec2 checkpoint]( ) maps the speech signal to a sequence of context representations as illustrated in the figure above. A fine-tuned XLSR-Wav2Vec2 checkpoint needs to map this sequence of context representations to its corresponding transcription so that a linear layer has to be added on top of the transformer block (shown in yellow). This linear layer is used to classifies each context representation to a token class analogous how, *e.g.*, after pretraining a linear layer is added on top of BERT's embeddings for further classification - *cf.* with *'BERT'* section of this [blog post](https://huggingface.co/blog/warm-starting-encoder-decoder).\n",
        "\n",
        "The output size of this layer corresponds to the number of tokens in the vocabulary, which does **not** depend on XLSR-Wav2Vec2's pretraining task, but only on the labeled dataset used for fine-tuning. So in the first step, we will take a look at Common Voice and define a vocabulary based on the dataset's transcriptions."
      ],
      "metadata": {
        "id": "tWmMikuNEKl_"
      }
    },
    {
      "cell_type": "markdown",
      "source": [
        "First, let's go to [Common Voice](https://commonvoice.mozilla.org/en/datasets) and pick a language to fine-tune XLSR-Wav2Vec2 on. For this notebook, we will use Turkish. \n",
        "\n",
        "For each language-specific dataset, you can find a language code corresponding to your chosen language. On [Common Voice](https://commonvoice.mozilla.org/en/datasets), look for the field \"Version\". The language code then corresponds to the prefix before the underscore. For Turkish, *e.g.* the language code is `\"tr\"`.\n",
        "\n",
        "Great, now we can use 🤗 Datasets' simple API to download the data. The dataset name will be `\"common_voice\"`, the config name corresponds to the language code - `\"tr\"` in our case."
      ],
      "metadata": {
        "id": "idBczw8mWzgt"
      }
    },
    {
      "cell_type": "markdown",
      "source": [
        "Common Voice has many different splits including `invalidated`, which refers to data that was not rated as \"clean enough\" to be considered useful. In this notebook, we will only make use of the splits `\"train\"`, `\"validation\"` and `\"test\"`. \n",
        "\n",
        "Because the Turkish dataset is so small, we will merge both the validation and training data into a training dataset and simply use the test data for validation."
      ],
      "metadata": {
        "id": "bee4g9rpLxll"
      }
    },
    {
      "cell_type": "code",
      "execution_count": 3,
      "source": [
        "from datasets import load_dataset, load_metric, Audio\r\n",
        "\r\n",
        "common_voice_train = load_dataset(\"common_voice\", \"es\", split=\"train+validation\")\r\n",
        "common_voice_test = load_dataset(\"common_voice\", \"es\", split=\"test\")"
      ],
      "outputs": [
        {
          "output_type": "stream",
          "name": "stderr",
          "text": [
            "Downloading: 22.5kB [00:00, 1.44MB/s]                   \n",
            "Downloading: 161kB [00:00, 32.2MB/s]                    \n"
          ]
        },
        {
          "output_type": "error",
          "ename": "OSError",
          "evalue": "Not enough disk space. Needed: 15.23 GiB (download: 15.08 GiB, generated: 158.21 MiB, post-processed: Unknown size)",
          "traceback": [
            "\u001b[1;31m---------------------------------------------------------------------------\u001b[0m",
            "\u001b[1;31mOSError\u001b[0m                                   Traceback (most recent call last)",
            "\u001b[1;32m<ipython-input-3-7b02e29abae8>\u001b[0m in \u001b[0;36m<module>\u001b[1;34m\u001b[0m\n\u001b[0;32m      1\u001b[0m \u001b[1;32mfrom\u001b[0m \u001b[0mdatasets\u001b[0m \u001b[1;32mimport\u001b[0m \u001b[0mload_dataset\u001b[0m\u001b[1;33m,\u001b[0m \u001b[0mload_metric\u001b[0m\u001b[1;33m,\u001b[0m \u001b[0mAudio\u001b[0m\u001b[1;33m\u001b[0m\u001b[1;33m\u001b[0m\u001b[0m\n\u001b[0;32m      2\u001b[0m \u001b[1;33m\u001b[0m\u001b[0m\n\u001b[1;32m----> 3\u001b[1;33m \u001b[0mcommon_voice_train\u001b[0m \u001b[1;33m=\u001b[0m \u001b[0mload_dataset\u001b[0m\u001b[1;33m(\u001b[0m\u001b[1;34m\"common_voice\"\u001b[0m\u001b[1;33m,\u001b[0m \u001b[1;34m\"es\"\u001b[0m\u001b[1;33m,\u001b[0m \u001b[0msplit\u001b[0m\u001b[1;33m=\u001b[0m\u001b[1;34m\"train+validation\"\u001b[0m\u001b[1;33m)\u001b[0m\u001b[1;33m\u001b[0m\u001b[1;33m\u001b[0m\u001b[0m\n\u001b[0m\u001b[0;32m      4\u001b[0m \u001b[0mcommon_voice_test\u001b[0m \u001b[1;33m=\u001b[0m \u001b[0mload_dataset\u001b[0m\u001b[1;33m(\u001b[0m\u001b[1;34m\"common_voice\"\u001b[0m\u001b[1;33m,\u001b[0m \u001b[1;34m\"es\"\u001b[0m\u001b[1;33m,\u001b[0m \u001b[0msplit\u001b[0m\u001b[1;33m=\u001b[0m\u001b[1;34m\"test\"\u001b[0m\u001b[1;33m)\u001b[0m\u001b[1;33m\u001b[0m\u001b[1;33m\u001b[0m\u001b[0m\n",
            "\u001b[1;32m~\\.conda\\envs\\PyDS\\lib\\site-packages\\datasets\\load.py\u001b[0m in \u001b[0;36mload_dataset\u001b[1;34m(path, name, data_dir, data_files, split, cache_dir, features, download_config, download_mode, ignore_verifications, keep_in_memory, save_infos, revision, use_auth_token, task, streaming, script_version, **config_kwargs)\u001b[0m\n\u001b[0;32m   1625\u001b[0m \u001b[1;33m\u001b[0m\u001b[0m\n\u001b[0;32m   1626\u001b[0m     \u001b[1;31m# Download and prepare data\u001b[0m\u001b[1;33m\u001b[0m\u001b[1;33m\u001b[0m\u001b[0m\n\u001b[1;32m-> 1627\u001b[1;33m     builder_instance.download_and_prepare(\n\u001b[0m\u001b[0;32m   1628\u001b[0m         \u001b[0mdownload_config\u001b[0m\u001b[1;33m=\u001b[0m\u001b[0mdownload_config\u001b[0m\u001b[1;33m,\u001b[0m\u001b[1;33m\u001b[0m\u001b[1;33m\u001b[0m\u001b[0m\n\u001b[0;32m   1629\u001b[0m         \u001b[0mdownload_mode\u001b[0m\u001b[1;33m=\u001b[0m\u001b[0mdownload_mode\u001b[0m\u001b[1;33m,\u001b[0m\u001b[1;33m\u001b[0m\u001b[1;33m\u001b[0m\u001b[0m\n",
            "\u001b[1;32m~\\.conda\\envs\\PyDS\\lib\\site-packages\\datasets\\builder.py\u001b[0m in \u001b[0;36mdownload_and_prepare\u001b[1;34m(self, download_config, download_mode, ignore_verifications, try_from_hf_gcs, dl_manager, base_path, use_auth_token, **download_and_prepare_kwargs)\u001b[0m\n\u001b[0;32m    546\u001b[0m             \u001b[1;32mif\u001b[0m \u001b[1;32mnot\u001b[0m \u001b[0mis_remote_url\u001b[0m\u001b[1;33m(\u001b[0m\u001b[0mself\u001b[0m\u001b[1;33m.\u001b[0m\u001b[0m_cache_dir_root\u001b[0m\u001b[1;33m)\u001b[0m\u001b[1;33m:\u001b[0m  \u001b[1;31m# if cache dir is local, check for available space\u001b[0m\u001b[1;33m\u001b[0m\u001b[1;33m\u001b[0m\u001b[0m\n\u001b[0;32m    547\u001b[0m                 \u001b[1;32mif\u001b[0m \u001b[1;32mnot\u001b[0m \u001b[0mutils\u001b[0m\u001b[1;33m.\u001b[0m\u001b[0mhas_sufficient_disk_space\u001b[0m\u001b[1;33m(\u001b[0m\u001b[0mself\u001b[0m\u001b[1;33m.\u001b[0m\u001b[0minfo\u001b[0m\u001b[1;33m.\u001b[0m\u001b[0msize_in_bytes\u001b[0m \u001b[1;32mor\u001b[0m \u001b[1;36m0\u001b[0m\u001b[1;33m,\u001b[0m \u001b[0mdirectory\u001b[0m\u001b[1;33m=\u001b[0m\u001b[0mself\u001b[0m\u001b[1;33m.\u001b[0m\u001b[0m_cache_dir_root\u001b[0m\u001b[1;33m)\u001b[0m\u001b[1;33m:\u001b[0m\u001b[1;33m\u001b[0m\u001b[1;33m\u001b[0m\u001b[0m\n\u001b[1;32m--> 548\u001b[1;33m                     raise IOError(\n\u001b[0m\u001b[0;32m    549\u001b[0m                         \"Not enough disk space. Needed: {} (download: {}, generated: {}, post-processed: {})\".format(\n\u001b[0;32m    550\u001b[0m                             \u001b[0mutils\u001b[0m\u001b[1;33m.\u001b[0m\u001b[0msize_str\u001b[0m\u001b[1;33m(\u001b[0m\u001b[0mself\u001b[0m\u001b[1;33m.\u001b[0m\u001b[0minfo\u001b[0m\u001b[1;33m.\u001b[0m\u001b[0msize_in_bytes\u001b[0m \u001b[1;32mor\u001b[0m \u001b[1;36m0\u001b[0m\u001b[1;33m)\u001b[0m\u001b[1;33m,\u001b[0m\u001b[1;33m\u001b[0m\u001b[1;33m\u001b[0m\u001b[0m\n",
            "\u001b[1;31mOSError\u001b[0m: Not enough disk space. Needed: 15.23 GiB (download: 15.08 GiB, generated: 158.21 MiB, post-processed: Unknown size)"
          ]
        }
      ],
      "metadata": {
        "id": "2MMXcWFFgCXU",
        "colab": {
          "base_uri": "https://localhost:8080/",
          "height": 344,
          "referenced_widgets": [
            "7f67dfaeb12f4ce58ebd7124decc60a9",
            "5edd75790601407bb26471b3ce741b7b",
            "16708ce768354af3af3f31fd25da575f",
            "3f518eef519247098c0b1cb13a031302",
            "e1129bf430f04199832ef7c6b9d9e685",
            "bbfc3f8575834cf6aef62ce375093283",
            "a725436afef14c25a65cdc70cf2f7880",
            "f01360e409c741fa9ad5d595e0c24e9d",
            "ee1f80e412404639bdef784025e02b5f",
            "72ee615459b141be90755e97ce7b3ef5",
            "66793ad9c6504b65968d53609365ed21",
            "20dfd67858e94684a52556cd97f0cdcc",
            "7c81383f41994f7aa96c9a2c3927384e",
            "97f3d5693dab47f5baa56b3d2a82e435",
            "1f815195969c402a866a53489d9b0b90",
            "2026928d6aa444fa869d6dce6463e8cf",
            "4ac6573ccb97482a9574f910b81b5fd6",
            "139369df3d8842bd996ef8f0984553f4",
            "fac767db66cd44db81c62fdd6abcf7a2",
            "19d22f6602d24fa79808d3965805cc86",
            "433e7aac8bb34ea29a8e821bf54cf1d6",
            "56fd43a2022c484d85a1c392b7617f1c",
            "e4a889500d9c4487b32695a3d3ecfb85",
            "3a867a7403804e3ead32bcbcbe88e979",
            "e55b70a58b3b41bb87121498455ca5c6",
            "0906f5eebab04b75845dfc091718c786",
            "42efbb23bd5c4a3f940d5474df5e6c88",
            "e4b838ac4ddf4c43bcf4c2e0b4802cca",
            "cc6f25071831499ebca580daabefcb99",
            "772603b9377140bf9692eaf6c88acbf2",
            "105b52d5de4b4b829dd0d49f34919019",
            "8c648b1310e94c829095ab3728510bd1",
            "844f915f3a5046ec8fe9e0b4b1cb862d",
            "87fec5e55f8d48af93d388747b8d2113",
            "dd73f086ac3f4d74a16093b43d1e8178",
            "bc69a91c55754f699341ac5fee33b60d",
            "6cf0d87cb34b425a980c2bfc1facb2b4",
            "0e4cf6a8b1934515b3a3afa0ce1d8ada",
            "bca027fe5d7a4331afbbf87f46c4aaea",
            "e938454fac6249f399ad067f0a4343a3",
            "74842bc2a6994c1b950e37d164c52d6c",
            "01e115aa0dc441f8b680b26e352e9c41",
            "641bbf062df04223b5d5d0de0f21bded",
            "20fd553e3a844a4fb57aa8b1389450cb",
            "3e2cf8a37754474b9c73275405e80585",
            "d0cc3cf4940f494495908bd0882fbaa6",
            "1709f95a25204b78b4672c314067d0c7",
            "5c556b96ce024f06b1412f61fb16d50f",
            "7de17112bc6c4c0e99d9dd113ca8dc79",
            "c1f266b81c224696bb65ca2a2f085d98",
            "b1d1b2c9d7224bbdaa9c41d21555c3d9",
            "d9acaa7a62cc4ba4b63602ed27a41671",
            "4694d4e0c8524f67a94dc5bc13fc5bd4",
            "01baf5a6d0da45cbaac54fbc6a721c26",
            "70baa61425074f249c51bea59817a307",
            "3e75fcfa4c8547cb80135faba26e99b3",
            "a2842cdf8e5a4a84965254d869ed9cce",
            "23e7931d4d59453083687a6eec861af1",
            "805b61c9830048c5a7d66b83e2295fed",
            "a2764f94f680433cb8ceb1cdb86a868b",
            "7380289f7fe44cfa9a8a64805d88177c",
            "4fa2489c1abb46dc97e33d954335e4fe",
            "b157db2b5d91449aa1025ce4d3789b08",
            "08643d857a7040d590559bf3fc552325",
            "0aa99a5ba1624870a8afeb771f71d29b",
            "7d9ae218d20f44ea969f748f49d6de44",
            "5122ddb3ca974c448bb62587780560ad",
            "0ec56ad4d1e34bc1935ee922105705bb",
            "9ea5495325e44b2ab544459c72852e77",
            "e2dac2120f1c4f759f4a5c30464e68a1",
            "12d003926ee141fb8c798da933747a54",
            "1b0210d36abc4f7fb3b191ca71483fb4",
            "335bc6594e38402d9caed119b0b40de1",
            "27c00938a52547b2ab33fa77b90fd8e1",
            "42079621b17c4c95a165d711520eee93",
            "68a135b38213404e9a68a99f1ab003d1",
            "7ed0bc18ee84473291a7d6bff2159a49",
            "6a3e5a6a08a14e6fa7479112d3fb3ec3",
            "229fd959fd114217a1993bca348231d4",
            "44c7eaafbc03494884ce7f87ead8e098",
            "e2683af016d642bb9ea1ce476b447352",
            "74705079692b4edaa1b3c4f01a533d77",
            "dee18edbc5cb4be0b43d82ef7ac00850",
            "d42465b5497942a69052de12fad50af2",
            "23ee8f71b732425491218266467521b9",
            "65abface788f4728af20bb55730ff59c",
            "61503a247c8640d290f835f76df42370",
            "c3496bc6f5514fc1a28c68d453c6b414"
          ]
        },
        "outputId": "847c5b73-d678-4bfd-ad4e-a28642005d77"
      }
    },
    {
      "cell_type": "code",
      "execution_count": null,
      "source": [
        "#common_voice_train = common_voice[:int(len(common_voice)*.8)]\r\n",
        "#common_voice_test = common_voice[int(len(common_voice)*.8):]"
      ],
      "outputs": [],
      "metadata": {
        "id": "TEHw_Tkn6pqk"
      }
    },
    {
      "cell_type": "markdown",
      "source": [
        "Many ASR datasets only provide the target text, `'sentence'` for each audio array `'audio'` and file `'path'`. Common Voice actually provides much more information about each audio file, such as the `'accent'`, etc. However, we want to keep the notebook as general as possible, so that we will only consider the transcribed text for fine-tuning.\n",
        "\n"
      ],
      "metadata": {
        "id": "ri5y5N_HMANq"
      }
    },
    {
      "cell_type": "code",
      "execution_count": null,
      "source": [
        "common_voice_train = common_voice_train.remove_columns([\"accent\", \"age\", \"client_id\", \"down_votes\", \"gender\", \"locale\", \"segment\", \"up_votes\"])\r\n",
        "common_voice_test = common_voice_test.remove_columns([\"accent\", \"age\", \"client_id\", \"down_votes\", \"gender\", \"locale\", \"segment\", \"up_votes\"])"
      ],
      "outputs": [],
      "metadata": {
        "id": "kbyq6lDgQc2a"
      }
    },
    {
      "cell_type": "markdown",
      "source": [
        "Let's write a short function to display some random samples of the dataset and run it a couple of times to get a feeling for the transcriptions."
      ],
      "metadata": {
        "id": "Go9Hq4e4NDT9"
      }
    },
    {
      "cell_type": "code",
      "execution_count": null,
      "source": [
        "from datasets import ClassLabel\r\n",
        "import random\r\n",
        "import pandas as pd\r\n",
        "from IPython.display import display, HTML\r\n",
        "\r\n",
        "def show_random_elements(dataset, num_examples=10):\r\n",
        "    assert num_examples <= len(dataset), \"Can't pick more elements than there are in the dataset.\"\r\n",
        "    picks = []\r\n",
        "    for _ in range(num_examples):\r\n",
        "        pick = random.randint(0, len(dataset)-1)\r\n",
        "        while pick in picks:\r\n",
        "            pick = random.randint(0, len(dataset)-1)\r\n",
        "        picks.append(pick)\r\n",
        "    \r\n",
        "    df = pd.DataFrame(dataset[picks])\r\n",
        "    display(HTML(df.to_html()))"
      ],
      "outputs": [],
      "metadata": {
        "id": "72737oog2F6U"
      }
    },
    {
      "cell_type": "code",
      "execution_count": null,
      "source": [
        "show_random_elements(common_voice_train.remove_columns([\"path\", \"audio\"]), num_examples=10)"
      ],
      "outputs": [
        {
          "output_type": "display_data",
          "data": {
            "text/html": [
              "<table border=\"1\" class=\"dataframe\">\n",
              "  <thead>\n",
              "    <tr style=\"text-align: right;\">\n",
              "      <th></th>\n",
              "      <th>sentence</th>\n",
              "    </tr>\n",
              "  </thead>\n",
              "  <tbody>\n",
              "    <tr>\n",
              "      <th>0</th>\n",
              "      <td>Esta casado con la locutora británica Emma Freud, quien es bisnieta de Sigmund Freud.</td>\n",
              "    </tr>\n",
              "    <tr>\n",
              "      <th>1</th>\n",
              "      <td>Son árboles, arbustos o trepadoras leñosas; plantas dioicas.</td>\n",
              "    </tr>\n",
              "    <tr>\n",
              "      <th>2</th>\n",
              "      <td>La inflorescencia es un racimo de pequeñas flores blancas o rosadas.</td>\n",
              "    </tr>\n",
              "    <tr>\n",
              "      <th>3</th>\n",
              "      <td>\"Que se cumplan sus deseos\"\".\"</td>\n",
              "    </tr>\n",
              "    <tr>\n",
              "      <th>4</th>\n",
              "      <td>\"Llegó a militar en Primera \"\"B\"\", la segunda categoría más importante del fútbol uruguayo.\"</td>\n",
              "    </tr>\n",
              "    <tr>\n",
              "      <th>5</th>\n",
              "      <td>Ahora es la Comisión Juvenil de Texas.</td>\n",
              "    </tr>\n",
              "    <tr>\n",
              "      <th>6</th>\n",
              "      <td>Además de recibir la Presea Luminaria de Oro como mejor actriz.</td>\n",
              "    </tr>\n",
              "    <tr>\n",
              "      <th>7</th>\n",
              "      <td>Como forma de locomoción, prefieren saltar sobre el suelo.</td>\n",
              "    </tr>\n",
              "    <tr>\n",
              "      <th>8</th>\n",
              "      <td>Existen investigaciones en conflicto respecto a cuándo los acueductos fueron construidos realmente.</td>\n",
              "    </tr>\n",
              "    <tr>\n",
              "      <th>9</th>\n",
              "      <td>La alternativa a esta conmutación de paquetes es el circuito virtual, orientado a conexión.</td>\n",
              "    </tr>\n",
              "  </tbody>\n",
              "</table>"
            ],
            "text/plain": [
              "<IPython.core.display.HTML object>"
            ]
          },
          "metadata": {}
        }
      ],
      "metadata": {
        "id": "K_JUmf3G3b9S",
        "colab": {
          "base_uri": "https://localhost:8080/",
          "height": 359
        },
        "outputId": "333f1eb2-b0ee-4ebe-e434-0e4e4ddae435"
      }
    },
    {
      "cell_type": "markdown",
      "source": [
        "Alright! The transcriptions look fairly clean. Having translated the transcribed sentences, it seems that the language corresponds more to written-out text than noisy dialogue. This makes sense considering that [Common Voice](https://huggingface.co/datasets/common_voice) is a crowd-sourced read speech corpus."
      ],
      "metadata": {
        "id": "fowcOllGNNju"
      }
    },
    {
      "cell_type": "markdown",
      "source": [
        "We can see that the transcriptions contain some special characters, such as `,.?!;:`. Without a language model, it is much harder to classify speech chunks to such special characters because they don't really correspond to a characteristic sound unit. *E.g.*, the letter `\"s\"` has a more or less clear sound, whereas the special character `\".\"` does not.\n",
        "Also in order to understand the meaning of a speech signal, it is usually not necessary to include special characters in the transcription.\n",
        "\n",
        "In addition, we normalize the text to only have lower case letters and append a word separator token at the end."
      ],
      "metadata": {
        "id": "vq7OR50LN49m"
      }
    },
    {
      "cell_type": "code",
      "execution_count": null,
      "source": [
        "import re\r\n",
        "chars_to_ignore_regex = '[\\,\\?\\.\\!\\-\\;\\:\\\"\\“\\%\\‘\\”\\�]'\r\n",
        "\r\n",
        "def remove_special_characters(batch):\r\n",
        "    batch[\"sentence\"] = re.sub(chars_to_ignore_regex, '', batch[\"sentence\"]).lower() + \" \"\r\n",
        "    return batch"
      ],
      "outputs": [],
      "metadata": {
        "id": "svKzVJ_hQGK6"
      }
    },
    {
      "cell_type": "code",
      "execution_count": null,
      "source": [
        "common_voice_train = common_voice_train.map(remove_special_characters)\r\n",
        "common_voice_test = common_voice_test.map(remove_special_characters)"
      ],
      "outputs": [
        {
          "output_type": "display_data",
          "data": {
            "application/vnd.jupyter.widget-view+json": {
              "model_id": "1370bb48a35740ad8d600fdbad60c5f1",
              "version_minor": 0,
              "version_major": 2
            },
            "text/plain": [
              "  0%|          | 0/176902 [00:00<?, ?ex/s]"
            ]
          },
          "metadata": {}
        },
        {
          "output_type": "display_data",
          "data": {
            "application/vnd.jupyter.widget-view+json": {
              "model_id": "f340b2bffeab4d37b975e28b79cbe1a1",
              "version_minor": 0,
              "version_major": 2
            },
            "text/plain": [
              "  0%|          | 0/15089 [00:00<?, ?ex/s]"
            ]
          },
          "metadata": {}
        }
      ],
      "metadata": {
        "id": "XIHocAuTQbBR",
        "colab": {
          "base_uri": "https://localhost:8080/",
          "height": 81,
          "referenced_widgets": [
            "1370bb48a35740ad8d600fdbad60c5f1",
            "d0120594d3a84aa2884a581f79055860",
            "d6b96a28c94942a7928326b105aad02f",
            "c0fa444314e14efd90a4adda70f18c2a",
            "a311f3f14a5744bd838c2a0341ce681e",
            "3c384ca0ad6d4736a82903056bad1dc5",
            "b64b292bb5bc4bcca4258cceb9bba62d",
            "43ff3e7425304f62b7d908e483cefe41",
            "dac48cd16d9d4d4396491f4d44b9b5b4",
            "07e12bf7fbb84bb8979ec12f846240a5",
            "db09df581bf24ab6aa39ea1d1122eb69",
            "f340b2bffeab4d37b975e28b79cbe1a1",
            "70dc6fe20b8149abab0dddd11baed548",
            "5ee3016e8a2941e7b2d187a6e49a08f4",
            "d242a5cf1e40429eb756a997b4998ad3",
            "4f8eb698ab4e4499ada13b626ce634f3",
            "22bc608d67c2467689f5355575a5e92f",
            "4c0c6ce838184e72b1b740739bea1e25",
            "b7386f4cb6344ea981eacecf132b5610",
            "a148f24760af4670b728fa02a0c102bf",
            "a547521f93064f3181c3be193abea40c",
            "3964fe3ffb0340aa981b18c0f7805e21"
          ]
        },
        "outputId": "d359f718-f72e-4cb1-ffa0-b31a09021df2"
      }
    },
    {
      "cell_type": "code",
      "execution_count": null,
      "source": [
        "show_random_elements(common_voice_train.remove_columns([\"path\",\"audio\"]))"
      ],
      "outputs": [
        {
          "output_type": "display_data",
          "data": {
            "text/html": [
              "<table border=\"1\" class=\"dataframe\">\n",
              "  <thead>\n",
              "    <tr style=\"text-align: right;\">\n",
              "      <th></th>\n",
              "      <th>sentence</th>\n",
              "    </tr>\n",
              "  </thead>\n",
              "  <tbody>\n",
              "    <tr>\n",
              "      <th>0</th>\n",
              "      <td>los cerdos son omnívoros que quiere decir que pueden comer plantas y animales</td>\n",
              "    </tr>\n",
              "    <tr>\n",
              "      <th>1</th>\n",
              "      <td>ha jugado cinco amistosos con la selección de fútbol del país vasco</td>\n",
              "    </tr>\n",
              "    <tr>\n",
              "      <th>2</th>\n",
              "      <td>allí escribió su primera novela que perdió más tarde durante la huida</td>\n",
              "    </tr>\n",
              "    <tr>\n",
              "      <th>3</th>\n",
              "      <td>sin embargo es rápidamente derrotado por vegeta</td>\n",
              "    </tr>\n",
              "    <tr>\n",
              "      <th>4</th>\n",
              "      <td>yo besé su mano y ella con una sonrisa de extraña crueldad murmuró</td>\n",
              "    </tr>\n",
              "    <tr>\n",
              "      <th>5</th>\n",
              "      <td>son muchos los automóviles deportivos asociados en mayor o menor medida a carroll shelby</td>\n",
              "    </tr>\n",
              "    <tr>\n",
              "      <th>6</th>\n",
              "      <td>pasó gran parte de su juventud cazando antes de alistarse</td>\n",
              "    </tr>\n",
              "    <tr>\n",
              "      <th>7</th>\n",
              "      <td>tiene pequeños agujeros</td>\n",
              "    </tr>\n",
              "    <tr>\n",
              "      <th>8</th>\n",
              "      <td>el dulce típico es el hecho de fríjol</td>\n",
              "    </tr>\n",
              "    <tr>\n",
              "      <th>9</th>\n",
              "      <td>benítez fundó el grupo estudiantil radicales libres</td>\n",
              "    </tr>\n",
              "  </tbody>\n",
              "</table>"
            ],
            "text/plain": [
              "<IPython.core.display.HTML object>"
            ]
          },
          "metadata": {}
        }
      ],
      "metadata": {
        "id": "RBDRAAYxRE6n",
        "colab": {
          "base_uri": "https://localhost:8080/",
          "height": 359
        },
        "outputId": "566218c6-cf4d-4bd0-d00d-95d3d549462f"
      }
    },
    {
      "cell_type": "markdown",
      "source": [
        "Good! This looks better. We have removed most special characters from transcriptions and normalized them to lower-case only.\n",
        "\n",
        "In CTC, it is common to classify speech chunks into letters, so we will do the same here. \n",
        "Let's extract all distinct letters of the training and test data and build our vocabulary from this set of letters.\n",
        "\n",
        "We write a mapping function that concatenates all transcriptions into one long transcription and then transforms the string into a set of chars. \n",
        "It is important to pass the argument `batched=True` to the `map(...)` function so that the mapping function has access to all transcriptions at once."
      ],
      "metadata": {
        "id": "jwfaptH5RJwA"
      }
    },
    {
      "cell_type": "code",
      "execution_count": null,
      "source": [
        "def extract_all_chars(batch):\r\n",
        "  all_text = \" \".join(batch[\"sentence\"])\r\n",
        "  vocab = list(set(all_text))\r\n",
        "  return {\"vocab\": [vocab], \"all_text\": [all_text]}"
      ],
      "outputs": [],
      "metadata": {
        "id": "LwCshNbbeRZR"
      }
    },
    {
      "cell_type": "code",
      "execution_count": null,
      "source": [
        "vocab_train = common_voice_train.map(extract_all_chars, batched=True, batch_size=-1, keep_in_memory=True, remove_columns=common_voice_train.column_names)\r\n",
        "vocab_test = common_voice_test.map(extract_all_chars, batched=True, batch_size=-1, keep_in_memory=True, remove_columns=common_voice_test.column_names)"
      ],
      "outputs": [
        {
          "output_type": "display_data",
          "data": {
            "application/vnd.jupyter.widget-view+json": {
              "model_id": "896cf52da805421da3e822687ae09a0f",
              "version_minor": 0,
              "version_major": 2
            },
            "text/plain": [
              "  0%|          | 0/1 [00:00<?, ?ba/s]"
            ]
          },
          "metadata": {}
        },
        {
          "output_type": "display_data",
          "data": {
            "application/vnd.jupyter.widget-view+json": {
              "model_id": "3a459ba4143848aca7d890a78be865a5",
              "version_minor": 0,
              "version_major": 2
            },
            "text/plain": [
              "  0%|          | 0/1 [00:00<?, ?ba/s]"
            ]
          },
          "metadata": {}
        }
      ],
      "metadata": {
        "id": "_m6uUjjcfbjH",
        "colab": {
          "base_uri": "https://localhost:8080/",
          "height": 81,
          "referenced_widgets": [
            "896cf52da805421da3e822687ae09a0f",
            "75a9aed8df154ee8bd5824bd002fa40a",
            "0eed9176ac924cc2b085e6a358c98602",
            "93c613fe7da04ebebd5abeb6421ac81b",
            "94dda7d4815e4e5fb964f56451aa2b9d",
            "10bfe9d4e9204aea89ce1b15f1b20241",
            "e652cb0b201a45028eb350886b6b3cfa",
            "a87cc3a328874edaaf2245b119a88f82",
            "3507208dea9542b7853bb4b3fbcf23fa",
            "b1601a9371d346398e73f23173944684",
            "6e435c4d93e64260b58699fd1204a715",
            "3a459ba4143848aca7d890a78be865a5",
            "edfc0dffeb624819a163bc93b28a1b39",
            "c24b3454d871490497a373dd0f0c2c0a",
            "2ad9777918e04c8d9e2670908d8c10b2",
            "15c1b3457169493db58d067a0ad10841",
            "9fd7050be1a54b0fb2bbefca1f15dbc3",
            "104826c851324c38a0eb7fd53f04bdd7",
            "820ea523d9904697a390b57ef24ca0af",
            "d4ad6b4c16654e3c8addf26adb1890a4",
            "4dbfa2839de94c4cad0126b14cd9eebe",
            "f65e3d70b0f0436db3b9fd6f5bc4ce20"
          ]
        },
        "outputId": "af967223-a095-4d7d-a4bb-a805e8e4aa29"
      }
    },
    {
      "cell_type": "markdown",
      "source": [
        "Now, we create the union of all distinct letters in the training dataset and test dataset and convert the resulting list into an enumerated dictionary."
      ],
      "metadata": {
        "id": "7oVgE8RZSJNP"
      }
    },
    {
      "cell_type": "code",
      "execution_count": null,
      "source": [
        "vocab_list = list(set(vocab_train[\"vocab\"][0]) | set(vocab_test[\"vocab\"][0]))"
      ],
      "outputs": [],
      "metadata": {
        "id": "aQfneNsmlJI0"
      }
    },
    {
      "cell_type": "code",
      "execution_count": null,
      "source": [
        "vocab_dict = {v: k for k, v in enumerate(vocab_list)}\r\n",
        "vocab_dict"
      ],
      "outputs": [
        {
          "output_type": "execute_result",
          "data": {
            "text/plain": [
              "{' ': 87,\n",
              " '$': 227,\n",
              " '&': 158,\n",
              " \"'\": 149,\n",
              " '=': 6,\n",
              " '_': 5,\n",
              " '`': 154,\n",
              " 'a': 2,\n",
              " 'b': 162,\n",
              " 'c': 181,\n",
              " 'd': 129,\n",
              " 'e': 137,\n",
              " 'f': 192,\n",
              " 'g': 226,\n",
              " 'h': 112,\n",
              " 'i': 172,\n",
              " 'j': 204,\n",
              " 'k': 229,\n",
              " 'l': 20,\n",
              " 'm': 21,\n",
              " 'n': 138,\n",
              " 'o': 196,\n",
              " 'p': 105,\n",
              " 'q': 225,\n",
              " 'r': 84,\n",
              " 's': 103,\n",
              " 't': 37,\n",
              " 'u': 214,\n",
              " 'v': 141,\n",
              " 'w': 79,\n",
              " 'x': 64,\n",
              " 'y': 184,\n",
              " 'z': 144,\n",
              " '{': 63,\n",
              " '|': 32,\n",
              " '}': 39,\n",
              " '~': 51,\n",
              " '¡': 143,\n",
              " '¨': 96,\n",
              " 'ª': 86,\n",
              " '«': 176,\n",
              " '®': 19,\n",
              " '°': 124,\n",
              " '´': 126,\n",
              " '·': 221,\n",
              " '»': 118,\n",
              " '¿': 231,\n",
              " 'ß': 53,\n",
              " 'à': 206,\n",
              " 'á': 104,\n",
              " 'â': 77,\n",
              " 'ã': 17,\n",
              " 'ä': 215,\n",
              " 'å': 163,\n",
              " 'æ': 95,\n",
              " 'ç': 185,\n",
              " 'é': 40,\n",
              " 'ê': 224,\n",
              " 'ë': 83,\n",
              " 'ì': 89,\n",
              " 'í': 213,\n",
              " 'î': 198,\n",
              " 'ï': 68,\n",
              " 'ð': 4,\n",
              " 'ñ': 139,\n",
              " 'ò': 102,\n",
              " 'ó': 69,\n",
              " 'ô': 135,\n",
              " 'õ': 190,\n",
              " 'ö': 113,\n",
              " 'ø': 116,\n",
              " 'ù': 119,\n",
              " 'ú': 57,\n",
              " 'û': 222,\n",
              " 'ü': 0,\n",
              " 'ý': 145,\n",
              " 'þ': 81,\n",
              " 'ā': 36,\n",
              " 'ă': 142,\n",
              " 'ć': 78,\n",
              " 'č': 115,\n",
              " 'đ': 171,\n",
              " 'ė': 173,\n",
              " 'ę': 72,\n",
              " 'ě': 212,\n",
              " 'ğ': 230,\n",
              " 'ī': 165,\n",
              " 'ı': 67,\n",
              " 'ł': 157,\n",
              " 'ń': 3,\n",
              " 'ō': 197,\n",
              " 'ŏ': 52,\n",
              " 'ő': 182,\n",
              " 'œ': 8,\n",
              " 'ř': 27,\n",
              " 'ś': 195,\n",
              " 'ş': 85,\n",
              " 'š': 152,\n",
              " 'ū': 121,\n",
              " 'ź': 35,\n",
              " 'ż': 82,\n",
              " 'ž': 203,\n",
              " 'ș': 194,\n",
              " 'ț': 9,\n",
              " 'ə': 217,\n",
              " 'ʷ': 122,\n",
              " 'ʻ': 117,\n",
              " 'ʽ': 150,\n",
              " 'ʿ': 151,\n",
              " 'ː': 186,\n",
              " '́': 58,\n",
              " '̇': 188,\n",
              " 'ϙ': 133,\n",
              " 'а': 54,\n",
              " 'б': 216,\n",
              " 'в': 201,\n",
              " 'г': 42,\n",
              " 'д': 24,\n",
              " 'е': 94,\n",
              " 'и': 183,\n",
              " 'й': 18,\n",
              " 'к': 101,\n",
              " 'л': 41,\n",
              " 'н': 155,\n",
              " 'о': 71,\n",
              " 'п': 90,\n",
              " 'р': 128,\n",
              " 'с': 33,\n",
              " 'т': 25,\n",
              " 'ч': 47,\n",
              " 'ш': 91,\n",
              " 'ы': 61,\n",
              " 'ь': 208,\n",
              " 'ю': 134,\n",
              " 'я': 100,\n",
              " 'ё': 166,\n",
              " 'ү': 130,\n",
              " 'ө': 170,\n",
              " 'ְ': 106,\n",
              " 'ִ': 187,\n",
              " 'ֵ': 107,\n",
              " 'ָ': 76,\n",
              " 'ֹ': 49,\n",
              " 'ּ': 211,\n",
              " 'ב': 161,\n",
              " 'ה': 80,\n",
              " 'ו': 15,\n",
              " 'י': 156,\n",
              " 'כ': 191,\n",
              " 'ל': 7,\n",
              " 'ם': 31,\n",
              " 'מ': 56,\n",
              " 'נ': 193,\n",
              " 'ס': 73,\n",
              " 'ק': 93,\n",
              " 'ר': 108,\n",
              " 'ש': 223,\n",
              " 'ת': 205,\n",
              " 'ا': 220,\n",
              " 'ب': 14,\n",
              " 'ة': 12,\n",
              " 'د': 23,\n",
              " 'ذ': 131,\n",
              " 'ر': 164,\n",
              " 'ل': 65,\n",
              " 'م': 29,\n",
              " 'ه': 111,\n",
              " 'و': 189,\n",
              " 'ي': 218,\n",
              " 'ਆ': 127,\n",
              " 'ਘ': 28,\n",
              " 'ਤ': 98,\n",
              " 'ਨ': 114,\n",
              " 'ਮ': 219,\n",
              " 'ਸ': 16,\n",
              " 'ਾ': 75,\n",
              " 'ਿ': 148,\n",
              " 'ੰ': 159,\n",
              " 'ṁ': 199,\n",
              " 'ṃ': 109,\n",
              " 'ṇ': 38,\n",
              " 'ồ': 146,\n",
              " '‐': 177,\n",
              " '‑': 209,\n",
              " '–': 62,\n",
              " '—': 22,\n",
              " '―': 13,\n",
              " '’': 55,\n",
              " '„': 45,\n",
              " '…': 26,\n",
              " '‧': 178,\n",
              " '‹': 60,\n",
              " '›': 179,\n",
              " '→': 210,\n",
              " '≪': 132,\n",
              " '≫': 228,\n",
              " 'し': 1,\n",
              " 'の': 97,\n",
              " 'ひ': 202,\n",
              " 'ら': 66,\n",
              " 'ゴ': 34,\n",
              " 'ヒ': 120,\n",
              " 'ミ': 169,\n",
              " 'ム': 200,\n",
              " 'ラ': 167,\n",
              " '㓁': 74,\n",
              " '口': 48,\n",
              " '周': 46,\n",
              " '夷': 160,\n",
              " '山': 88,\n",
              " '戌': 11,\n",
              " '日': 43,\n",
              " '本': 168,\n",
              " '比': 99,\n",
              " '毵': 70,\n",
              " '消': 59,\n",
              " '生': 92,\n",
              " '申': 140,\n",
              " '真': 123,\n",
              " '箱': 136,\n",
              " '网': 180,\n",
              " '罒': 153,\n",
              " '罓': 44,\n",
              " '肋': 147,\n",
              " '肌': 50,\n",
              " '背': 125,\n",
              " '良': 174,\n",
              " '蝦': 110,\n",
              " '鮓': 207,\n",
              " '鮨': 30,\n",
              " 'ﬁ': 175,\n",
              " '￼': 10}"
            ]
          },
          "metadata": {},
          "execution_count": 13
        }
      ],
      "metadata": {
        "id": "_0kRndSvqaKk",
        "colab": {
          "base_uri": "https://localhost:8080/"
        },
        "outputId": "1df323b2-fe9c-459d-e19d-216faa4a9b96"
      }
    },
    {
      "cell_type": "markdown",
      "source": [
        "Cool, we see that all letters of the alphabet occur in the dataset (which is not really surprising) and we also extracted the special characters `\" \"` and `'`. Note that we did not exclude those special characters because: \n",
        "\n",
        "- The model has to learn to predict when a word is finished or else the model prediction would always be a sequence of chars which would make it impossible to separate words from each other.\n",
        "- From the transcriptions above it seems that words that include an apostrophe, such as `maktouf'un` do exist in Turkish, so I decided to keep the apostrophe in the dataset. This might be a wrong assumption though.\n",
        "\n",
        "One should always keep in mind that the data-preprocessing is a very important step before training your model. E.g., we don't want our model to differentiate between `a` and `A` just because we forgot to normalize the data. The difference between `a` and `A` does not depend on the \"sound\" of the letter at all, but more on grammatical rules - *e.g.* use a capitalized letter at the beginning of the sentence. So it is sensible to remove the difference between capitalized and non-capitalized letters so that the model has an easier time learning to transcribe speech. \n",
        "\n",
        "It is always advantageous to get help from a native speaker of the language you would like to transcribe to verify whether the assumptions you made are sensible, *e.g.* I should have made sure that keeping `'`, but removing other special characters is a sensible choice for Turkish. "
      ],
      "metadata": {
        "id": "JOSzbvs9SXT1"
      }
    },
    {
      "cell_type": "markdown",
      "source": [
        "To make it clearer that `\" \"` has its own token class, we give it a more visible character `|`. In addition, we also add an \"unknown\" token so that the model can later deal with characters not encountered in Common Voice's training set. \n",
        "\n",
        "Finally, we also add a padding token that corresponds to CTC's \"*blank token*\". The \"blank token\" is a core component of the CTC algorithm. For more information, please take a look at the \"Alignment\" section [here](https://distill.pub/2017/ctc/)."
      ],
      "metadata": {
        "id": "b1fBRCn-TRaO"
      }
    },
    {
      "cell_type": "code",
      "execution_count": null,
      "source": [
        "vocab_dict[\"|\"] = vocab_dict[\" \"]\r\n",
        "del vocab_dict[\" \"]"
      ],
      "outputs": [],
      "metadata": {
        "id": "npbIbBoLgaFX"
      }
    },
    {
      "cell_type": "code",
      "execution_count": null,
      "source": [
        "vocab_dict[\"[UNK]\"] = len(vocab_dict)\r\n",
        "vocab_dict[\"[PAD]\"] = len(vocab_dict)\r\n",
        "len(vocab_dict)"
      ],
      "outputs": [
        {
          "output_type": "execute_result",
          "data": {
            "text/plain": [
              "233"
            ]
          },
          "metadata": {},
          "execution_count": 15
        }
      ],
      "metadata": {
        "id": "znF0bNunsjbl",
        "colab": {
          "base_uri": "https://localhost:8080/"
        },
        "outputId": "5230957f-1838-45a8-e7df-b8ccedf25982"
      }
    },
    {
      "cell_type": "markdown",
      "source": [
        "Cool, now our vocabulary is complete and consists of 39 tokens, which means that the linear layer that we will add on top of the pretrained XLSR-Wav2Vec2 checkpoint will have an output dimension of 39."
      ],
      "metadata": {
        "id": "SFPGfet8U5sL"
      }
    },
    {
      "cell_type": "markdown",
      "source": [
        "Let's now save the vocabulary as a json file."
      ],
      "metadata": {
        "id": "1CujRgBNVRaD"
      }
    },
    {
      "cell_type": "code",
      "execution_count": null,
      "source": [
        "import json\r\n",
        "with open('vocab.json', 'w') as vocab_file:\r\n",
        "    json.dump(vocab_dict, vocab_file)"
      ],
      "outputs": [],
      "metadata": {
        "id": "ehyUoh9vk191"
      }
    },
    {
      "cell_type": "markdown",
      "source": [
        "In a final step, we use the json file to instantiate an object of the `Wav2Vec2CTCTokenizer` class."
      ],
      "metadata": {
        "id": "SHJDaKlIVVim"
      }
    },
    {
      "cell_type": "code",
      "execution_count": null,
      "source": [
        "from transformers import Wav2Vec2CTCTokenizer\r\n",
        "\r\n",
        "tokenizer = Wav2Vec2CTCTokenizer(\"./vocab.json\", unk_token=\"[UNK]\", pad_token=\"[PAD]\", word_delimiter_token=\"|\")"
      ],
      "outputs": [],
      "metadata": {
        "id": "xriFGEWQkO4M"
      }
    },
    {
      "cell_type": "markdown",
      "source": [
        "Next, we will create the feature extractor."
      ],
      "metadata": {
        "id": "KvL12DrNV4cx"
      }
    },
    {
      "cell_type": "markdown",
      "source": [
        "### Create XLSR-Wav2Vec2 Feature Extractor"
      ],
      "metadata": {
        "id": "mYcIiR2FQ96i"
      }
    },
    {
      "cell_type": "markdown",
      "source": [
        "Speech is a continuous signal and to be treated by computers, it first has to be discretized, which is usually called **sampling**. The sampling rate hereby plays an important role in that it defines how many data points of the speech signal are measured per second. Therefore, sampling with a higher sampling rate results in a better approximation of the *real* speech signal but also necessitates more values per second.\n",
        "\n",
        "A pretrained checkpoint expects its input data to have been sampled more or less from the same distribution as the data it was trained on. The same speech signals sampled at two different rates have a very different distribution, *e.g.*, doubling the sampling rate results in data points being twice as long. Thus, \n",
        "before fine-tuning a pretrained checkpoint of an ASR model, it is crucial to verify that the sampling rate of the data that was used to pretrain the model matches the sampling rate of the dataset used to fine-tune the model.\n",
        "\n",
        "XLSR-Wav2Vec2 was pretrained on the audio data of [Babel](https://huggingface.co/datasets/librispeech_asr), \n",
        "[Multilingual LibriSpeech (MLS)](https://ai.facebook.com/blog/a-new-open-data-set-for-multilingual-speech-research/), and [Common Voice](https://huggingface.co/datasets/common_voice). Most of those datasets were sampled at 16kHz, so that Common Voice, sampled at 48kHz, has to be downsampled to 16kHz for training. Therefore, we will have to downsample our fine-tuning data to 16kHz in the following.\n",
        "\n"
      ],
      "metadata": {
        "id": "Y6mDEyW719rx"
      }
    },
    {
      "cell_type": "markdown",
      "source": [
        "A XLSR-Wav2Vec2 feature extractor object requires the following parameters to be instantiated:\n",
        "\n",
        "- `feature_size`: Speech models take a sequence of feature vectors as an input. While the length of this sequence obviously varies, the feature size should not. In the case of Wav2Vec2, the feature size is 1 because the model was trained on the raw speech signal ${}^2$.\n",
        "- `sampling_rate`: The sampling rate at which the model is trained on.\n",
        "- `padding_value`: For batched inference, shorter inputs need to be padded with a specific value\n",
        "- `do_normalize`: Whether the input should be *zero-mean-unit-variance* normalized or not. Usually, speech models perform better when normalizing the input\n",
        "- `return_attention_mask`: Whether the model should make use of an `attention_mask` for batched inference. In general, XLSR-Wav2Vec2 models should **always** make use of the `attention_mask`."
      ],
      "metadata": {
        "id": "KuUbPW7oV-B5"
      }
    },
    {
      "cell_type": "code",
      "execution_count": null,
      "source": [
        "from transformers import Wav2Vec2FeatureExtractor\r\n",
        "\r\n",
        "feature_extractor = Wav2Vec2FeatureExtractor(feature_size=1, sampling_rate=16000, padding_value=0.0, do_normalize=True, return_attention_mask=True)"
      ],
      "outputs": [],
      "metadata": {
        "id": "kAR0-2KLkopp"
      }
    },
    {
      "cell_type": "markdown",
      "source": [
        "Great, XLSR-Wav2Vec2's feature extraction pipeline is thereby fully defined!\n",
        "\n",
        "To make the usage of XLSR-Wav2Vec2 as user-friendly as possible, the feature extractor and tokenizer are *wrapped* into a single `Wav2Vec2Processor` class so that one only needs a `model` and `processor` object."
      ],
      "metadata": {
        "id": "qUETetgqYC3W"
      }
    },
    {
      "cell_type": "code",
      "execution_count": null,
      "source": [
        "from transformers import Wav2Vec2Processor\r\n",
        "\r\n",
        "processor = Wav2Vec2Processor(feature_extractor=feature_extractor, tokenizer=tokenizer)"
      ],
      "outputs": [],
      "metadata": {
        "id": "KYZtoW-tlZgl"
      }
    },
    {
      "cell_type": "markdown",
      "source": [
        "If one wants to re-use the just created processor and the fine-tuned model of this notebook, one can mount his/her google drive to the notebook and save all relevant files there. To do so, please uncomment the following lines. \n",
        "\n",
        "We will give the fine-tuned model the name `\"wav2vec2-large-xlsr-turkish-demo\"`."
      ],
      "metadata": {
        "id": "fTfFDSS0YfMN"
      }
    },
    {
      "cell_type": "code",
      "execution_count": null,
      "source": [
        "# from google.colab import drive\r\n",
        "# drive.mount('/content/gdrive/')"
      ],
      "outputs": [],
      "metadata": {
        "id": "yq7Bzuzz4zjQ"
      }
    },
    {
      "cell_type": "code",
      "execution_count": null,
      "source": [
        "# processor.save_pretrained(\"/content/gdrive/MyDrive/wav2vec2-large-xlsr-turkish-demo\")"
      ],
      "outputs": [],
      "metadata": {
        "id": "Par9rpypPsml"
      }
    },
    {
      "cell_type": "markdown",
      "source": [
        "Next, we can prepare the dataset."
      ],
      "metadata": {
        "id": "DrKnYuvDIoOO"
      }
    },
    {
      "cell_type": "markdown",
      "source": [
        "### Preprocess Data\n",
        "\n",
        "So far, we have not looked at the actual values of the speech signal but just the transcriptio. In addition to `sentence`, our datasets include two more column names `path` and `audio`. `path` states the absolute path of the audio file. Let's take a look.\n"
      ],
      "metadata": {
        "id": "YFmShnl7RE35"
      }
    },
    {
      "cell_type": "code",
      "execution_count": null,
      "source": [
        "common_voice_train[0][\"path\"]"
      ],
      "outputs": [
        {
          "output_type": "execute_result",
          "data": {
            "application/vnd.google.colaboratory.intrinsic+json": {
              "type": "string"
            },
            "text/plain": [
              "'/root/.cache/huggingface/datasets/downloads/extracted/a5cb4d3d1fbac1d159b9f453de6826b6546fe0bd7607ae4fea7479f209d732f0/cv-corpus-6.1-2020-12-11/es/clips/common_voice_es_19589265.mp3'"
            ]
          },
          "metadata": {},
          "execution_count": 22
        }
      ],
      "metadata": {
        "id": "TTCS7W6XJ9BG",
        "colab": {
          "base_uri": "https://localhost:8080/",
          "height": 52
        },
        "outputId": "e26a5c4d-d2b9-432c-a6a2-96ce254b795b"
      }
    },
    {
      "cell_type": "markdown",
      "source": [
        "However, `XLSR-Wav2Vec2` expects the input in the format of a 1-dimensional array of 16 kHz. This means that the audio file has to be loaded and resampled.\n",
        "\n",
        " Thankfully, `datasets` does this automatically by calling the other column `audio`. Let try it out. "
      ],
      "metadata": {
        "id": "T6ndIjHGFp0W"
      }
    },
    {
      "cell_type": "code",
      "execution_count": null,
      "source": [
        "common_voice_train[0][\"audio\"]"
      ],
      "outputs": [
        {
          "output_type": "execute_result",
          "data": {
            "text/plain": [
              "{'array': array([ 0.        ,  0.        ,  0.        , ..., -0.00404125,\n",
              "        -0.00365043, -0.0046134 ], dtype=float32),\n",
              " 'path': '/root/.cache/huggingface/datasets/downloads/extracted/a5cb4d3d1fbac1d159b9f453de6826b6546fe0bd7607ae4fea7479f209d732f0/cv-corpus-6.1-2020-12-11/es/clips/common_voice_es_19589265.mp3',\n",
              " 'sampling_rate': 48000}"
            ]
          },
          "metadata": {},
          "execution_count": 23
        }
      ],
      "metadata": {
        "id": "qj_z5Zc3GAs9",
        "colab": {
          "base_uri": "https://localhost:8080/"
        },
        "outputId": "265957e4-f15d-44ee-be08-0ce1d0de68fc"
      }
    },
    {
      "cell_type": "markdown",
      "source": [
        "Great, we can see that the audio file has automatically been loaded. This is thanks to the new [`\"Audio\"` feature](https://huggingface.co/docs/datasets/package_reference/main_classes.html?highlight=audio#datasets.Audio) introduced in `datasets == 4.13.3`, which loads and resamples audio files on-the-fly upon calling.\n",
        "\n",
        "In the example above we can see that the audio data is loaded with a sampling rate of 48kHZ whereas 16kHz are expected by the model. We can set the audio feature to the correct sampling rate by making use of [`cast_column`](https://huggingface.co/docs/datasets/package_reference/main_classes.html?highlight=cast_column#datasets.DatasetDict.cast_column):"
      ],
      "metadata": {
        "id": "WUUTgI1bGHW-"
      }
    },
    {
      "cell_type": "code",
      "execution_count": null,
      "source": [
        "common_voice_train = common_voice_train.cast_column(\"audio\", Audio(sampling_rate=16_000))\r\n",
        "common_voice_test = common_voice_test.cast_column(\"audio\", Audio(sampling_rate=16_000))"
      ],
      "outputs": [],
      "metadata": {
        "id": "rrv65aj7G95i"
      }
    },
    {
      "cell_type": "markdown",
      "source": [
        "Let's take a look at `\"audio\"` again."
      ],
      "metadata": {
        "id": "PcnO4x-NGBEi"
      }
    },
    {
      "cell_type": "code",
      "execution_count": null,
      "source": [
        "common_voice_train[0][\"audio\"]"
      ],
      "outputs": [
        {
          "output_type": "execute_result",
          "data": {
            "text/plain": [
              "{'array': array([ 0.        ,  0.        ,  0.        , ..., -0.00253266,\n",
              "        -0.0033257 , -0.00416896], dtype=float32),\n",
              " 'path': '/root/.cache/huggingface/datasets/downloads/extracted/a5cb4d3d1fbac1d159b9f453de6826b6546fe0bd7607ae4fea7479f209d732f0/cv-corpus-6.1-2020-12-11/es/clips/common_voice_es_19589265.mp3',\n",
              " 'sampling_rate': 16000}"
            ]
          },
          "metadata": {},
          "execution_count": 25
        }
      ],
      "metadata": {
        "id": "aKtkc1o_HWHC",
        "colab": {
          "base_uri": "https://localhost:8080/"
        },
        "outputId": "a5a4f760-abbd-409f-cf41-3c78b8fb5915"
      }
    },
    {
      "cell_type": "markdown",
      "source": [
        "This seemed to have worked! Let's listen to a couple of audio files to better understand the dataset and verify that the audio was correctly loaded. \n",
        "\n",
        "**Note**: *You can click the following cell a couple of times to listen to different speech samples.*"
      ],
      "metadata": {
        "id": "SOckzFd4Mbzq"
      }
    },
    {
      "cell_type": "code",
      "execution_count": null,
      "source": [
        "import IPython.display as ipd\r\n",
        "import numpy as np\r\n",
        "import random\r\n",
        "\r\n",
        "rand_int = random.randint(0, len(common_voice_train)-1)\r\n",
        "\r\n",
        "ipd.Audio(data=common_voice_train[rand_int][\"audio\"][\"array\"], autoplay=True, rate=16000)"
      ],
      "outputs": [
        {
          "output_type": "execute_result",
          "data": {
            "text/html": [
              "\n",
              "                <audio controls=\"controls\" autoplay=\"autoplay\">\n",
              "                    <source src=\"data:audio/wav;base64,UklGRiRhAgBXQVZFZm10IBAAAAABAAEAgD4AAAB9AAACABAAZGF0YQBhAgAAAAAAAAAAAAAAAAAAAAAAAAAAAAAAAAAAAAAAAAAAAAAAAAAAAAAAAAAAAAAAAAAAAAAAAAAAAAAAAAAAAAAAAAAAAAAAAAAAAAAAAAAAAAAAAAAAAAAAAAAAAAAAAAAAAAAAAAAAAAAAAAAAAAAAAAAAAAAAAAAAAAAAAAAAAAAAAAAAAAAAAAAAAAAAAAAAAAAAAAAAAAAAAAAAAAAAAAAAAAAAAAAAAAAAAAAAAAAAAAAAAAAAAAAAAAAAAAAAAAAAAAAAAAAAAAAAAAAAAAAAAAAAAAAAAAAAAAAAAAAAAAAAAAAAAAAAAAAAAAAAAAAAAAAAAAAAAAAAAAAAAAAAAAAAAAAAAAAAAAAAAAAAAAAAAAAAAAAAAAAAAAAAAAAAAAAAAAAAAAAAAAAAAAAAAAAAAAAAAAAAAAAAAAAAAAAAAAAAAAAAAAAAAAAAAAAAAAAAAAAAAAAAAAAAAAAAAAAAAAAAAAAAAAAAAAAAAAAAAAAAAAAAAAAAAAAAAAAAAAAAAAAAAAAAAAAAAAAAAAAAAAAAAAAAAAAAAAAAAAAAAAAAAAAAAAAAAAAAAAAAAAAAAAAAAAAAAAAAAAAAAAAAAAAAAAAAAAAAAAAAAAAAAAAAAAAAAAAAAAAAAAAAAAAAAAAAAAAAAAAAAAAAAAAAAAAAAAAAAAAAAAAAAAAAAAAAAAAAAAAAAAAAAAAAAAAAAAAAAAAAAAAAAAAAAAAAAAAAAAAAAAAAAAAAAAAAAAAAAAAAAAAAAAAAAAAAAAAAAAAAAAAAAAAAAAAAAAAAAAAAAAAAAAAAAAAAAAAAAAAAAAAAAAAAAAAAAAAAAAAAAAAAAAAAAAAAAAAAAAAAAAAAAAAAAAAAAAAAAAAAAAAAAAAAAAAAAAAAAAAAAAAAAAAAAAAAAAAAAAAAAAAAAAAAAAAAAAAAAAAAAAAAAAAAAAAAAAAAAAAAAAAAAAAAAAAAAAAAAAAAAAAAAAAAAAAAAAAAAAAAAAAAAAAAAAAAAAAAAAAAAAAAAAAAAAAAAAAAAAAAAAAAAAAAAAAAAAAAAAAA/////wAA////////AAAAAAAAAQAAAAAAAAABAAAAAQAEAAIAAAAAAAEAAAD+/wAA/v8AAAAAAAAAAAEAAQD//wAAAgAAAAAAAwD///7/AAAAAAAA//8DAAAA/v////v/AAAAAP7/+/8AAAkABAAIAAYAAgD///z//v8AAP7//f8AAP//AgAAAAcA///9/wAA+f8IAAsAAAD5//r/CwADAPn/AAARAAwAAwALAMr/P/9e/7z/fv9F/0v/cf9g/0b/O/8i/yX/A/8d/9//AADE/9T//v/5/+f/YgDKAOkAxAC8AA8BEAHgAO0ASwEsAQoBAQEJASIBJwEfAUMBSAFTAWYBGgEcAV4BTQHqAO8ARgEnAboAuwAeATAB/wDLAKwABQElAfMAxwAFAR0BugB0AHYApgCdAGQAlgC0ALkAsgCiANUA5gDEAKMAxgCBAHgAlgCZAMQAugDQAK8AgQCrAN0AgQBcAHgAPwBRAG8ABwDB//7/OQAjAND/6f84AC8AOwD//zkATwBMAEIAGQBLACsA1wB2ALr/MAA8ABkAkP+8/wAAJQDB/4X/CQAxAOv/xv/c/+L/rP+8/9f/vv+n/9v/4f/S/63/x/8ZALL/lf+//x4A9/+F/4//uP+3/6//Yv9//+n/4v+3/9v/IwAIANX/2P/J//n/xv+s/6L/ff/K/7//Zf9K/1D/3/8UABoAIgA4ADsAIQBvAKQA9gAFARQBPQEHAQMBNwERARYBJAFdASwB9wA6AXMBUQH1AOoAVwFlAQwBzgDxACEBGQHkALcAGQH6ALYAygDAAMkArwDMAMUAkgC8AKEAngCWAMgAygC/AIUAmwB+ADYAGgAsAGEAdgB4AK4A7QCjAIkArgAyADwAQgAVADkATgA1AAMA///7/xUALgAnAPf/+v9MAB4AAwDa/+3/yP+n/8//+P+b/3n/s/+d/5n/o/+y/43/h/95/1b/o/92/2//h/9U/4f/lv+I/6D/uf/R/9//wv+w/8X/+v/k/6D/wP/e//b/sv+b/+T/BwDP/9P/BQALAOT/rf/S//r/yP+2/+b/+//X/47/ff+S/4v/i/+a/6P/qf+w/6D/oP/m/+3/k/+q/8v/cf90/2f/Y//P//f/IwBMADAAEgAeAGwAygDmAN8A0wD0AP4A3ADWAOoA6QDiANkA7wAAAeAAzADqAAABwACeANAA3QDrAN0AmwDKAPEA0gDIAKEAogCwALQAygDBANwAuQCrALgAnACbAJUAqgCfAJ8AnQCbAJoAlwC6ALMAmQCtAJsAlwC+AJEASgASADUAnQCgAGwAegBaAP//AQDv/z0AVQAaAFUASgBDAEwAMAAWAFsAZgA7ADwASwAlABQAHwA/ACYADwAqAPj/5P/h/5H/kv9e/4T/Xf9Q/3D/jv+B/5r/0v+t/9H/yv+5/9H/x//S/9X/CwAGAPn/5//c/9P/2P/o/8X/m/+X/5P/j/97/23/jP+k/7r/rP+V/7j/mP+c/4L/S/9p/1b/gP+U/07/WP9a/0n/Wv9V/yj/M/8S/+r+D/8m/3j/z/+a/5//zP+4/4H/vP8rAHsARgBLAI4AiQChAI8AaQCvALIAcQBhAIYAxQCLAJIA5gDNAJQAiwCOAJQAigCNAIwAnQCUAIoAiAB7AHUAOwBVAE4AZgCQAE0AEgAAABcA7/8EAO3/EQAuAPH/9/+9/wYAEADb/wYAbgCmAKUArgCtAIoAgQD4/7r/DwDW/8v/AwDK/9f/j/+D/4v/fP+H/47/pf+g/2v/qv/4//b/6f8UADAALwAHAML/3//z/+7/vv/h/7z/aP+X/1b/VP+M/2n/if+q/6z/gP+O/43/o/+y/67/kP+b/5X/bv99/3r/jv+6/3P/i/+p/2//VP9t/13/V/9v/3n/cf8q/wr/8v7I/sf+3/7w/vP+9P75/hL/LP8M/wn/I/8c//X+QP9J/yP/QP80/yL/EP/e/rj+Kf9c/03/dv9R/2n/dP+z/xUAKgBOAFQAYABrAEIAVQA5AD8AMQAuAE4AKQA4AFMAOQAgAE0AOgAvAD8AJgBUAF4APwAyAEcARwAeAEMAQADz/+T/NgAGAAgAGgAAAPr/9f8FAAwANwAaABMAGwAPAAMA/v/+//D/CQAUAPX/+/8EAO7/zP8DAMD/MQA2AOH/VQBcAC0AGwALAAAAIQAGAA4A4v/+/9P/x//O/4j/+P8sABoAHwATAB0AOgBPABYAHQAYAPP/1v/h/4T/If81/xn/Qf8s/yz/NP87/2f/S/9M/3D/kv+T/6//p/9x/2L/dP9o/2j/bP98/1X/I/81/yz/Nf8S/xH/L/8Y/xb/Af/u/v/+8f7c/tL+x/7q/vr+wf7P/s/+0P6+/sH+xv6//pf+mP6j/rH+of6b/rX+jv7F/lX/QP9f/yz/Yv9M/0P/3f/i/wcAGgAdADkAUwBNAC8AKwAdAC8ATwAsAEIAQABMACkAAAA8AD8ARgBEABEAYgCJADIARgAaABwAIQBTAEcASwBhAEwAKgAkADoAMgApABkA6P/8/y0AEQDx/wQAIQAOABgACAAVAGIAWABfAGkAXACUAEAA7v/s/7T/3v/G/7X/tf/K/+j/l/+B/7P/hv84/1H/Y/9C/zz/bP9y/4f/fP9D/zn/a/+Z/6P/d/+r/8//z/+2/5b/Rf9W/xn/NP8d/+L+DP/+/gz/CP8M/yv/Qf9C/yT/QP8n/w3/Df8K/zr/MP8W/0P/MP8v/x3/KP80/0n/M/8l/yP/Sv8u/xT/Av8R/yX/B/8J/yb/Kv8r/yP/Rf9B/07/QP8o/yn/MP8X/yD/K/8p/0H/Wv9I/3D/zP/d/xUAAwD3/+3/BQCOAIIAgwCkALcA7QDtAAkBCQEHAfwA7QDVAOUA0QCjAK0AvQAEAdkAswDUAMEA1QDeAOsAEQEKAdoAuACoAJAAwgDAALcAtgDXAOsA6wDEAJgAjgBkAEEAVQB2AEEALABHADUARwBVAD0AdwBBAEEAOgAGAPP/7/9GAFQAPAA8ADYA0v/S/6r/IwAyABEAMAD8//f//v/d/woA4P/P/+L/v//k/9v/hf9y/5//Zf+d/6L/vv+s/5n/l/9t/8H/jf+V/77/lv9z/0H/W/9o/2f/Wf+J/5z/lP9x/3P/bf+O/3f/g/9w/2X/Sf9B/yz/V/9J/0z/W/9m/37/a/87/0b/JP89/0j/Qf9C/2f/Y/9h/2j/Wf9m/2//av9h/5H/ef9k/1//c/9W/xz/NP9B/wz/Qv/g/83/qf/A/9L/tP+z/1IAkwCZALwAuwCrAJUAtQCXAI8AkgC9AIsAcQCiAKcAngC2AIcAdQBQAIoAfQBsAIUAbgB3AH0AbAB5AGgAHwArAEMAQwAyAA4AAAD0/9n/5f/o/97/7f/3/9H/4//c/wwA0v/B/8b/3v8WAFIAZQCAAEkAGQAPAOP/dv+K/5T/mf/G/8//xv+L/5j/tf9//5n/rv+p/+n/7P/x/zIALQAQAN//1P/f/9n/KADC/4D/ZP9b/4r/W/8e/3X/of9b/4X/d/9S/zb/R/+B/7L/0P/w/wgA3//j//3/xv+9/9T/uP/H/7j/s/+D/1v/PP80/1v/d/94/3D/gv9c/2b/av9G/17/av9S/1P/UP9O/zj/HP9+/2X/WP9M/yb/Pv9T/3X/iP9p/3z/af8y/zr/7/5P/8X/u//e//n/BQDw//P/dAB/AHgAzwDrAOQAxwCwAL8AtwDPANEAtQC2ANwAxQDWAKUAxQCmAIwA5ADJAKEAvAC1ALAAfgCEAJkAfQCkALEAdQBZAHUAZQBBACwAXABWADEAIAAuACUATABMAC8AJABXAGIAgABfAD0AWgBpADYAQQD6/y4ALABTAFkAOgBpAA4AKgA/AC4AUABNAFcAgQBqAD0ALwA4AEQAYABfAEYAhQBiAG0AggBJAGAAVwBiAE4AhQBlABYA/P98/53/sP+n/4T/cP+q/4n/t/+x/6j/nP/A/87/j//l/8P/nP+2/8z/rv+b/6P/kv+k/7H/mP+N/6b/gf9o/2T/fP9n/07/X/80/zD/Mf8x/yD/KP8N//v++P7k/uz+5v7e/vX+9f6z/sH+9P7f/vH+8P4B//L+VP+h/6b/w//Z/8v/nP8jAGQALQBqAJQAiwBhAGYAggCCAJoAkwCDAFYAUwCJAKAAXQBJAHoAZwBeAEoASQBXAGUAbQBpAEgAagBHAFMAagBMAFIABAAcACgAFgAZAOP/3v/n/+v/EgAaAP//7P/Z/xAA9/8QAAwAPABeAJoAuQDIAOcArAA/AB8A6P/M/7j/3//4/8P/0v+r/5v/gv+G/07/bP9k/3r/f/9f/23/hf+j/63/sf8GAMf/kP/P/9D/vv+g/2H/tv+o/5P/YP8v/0P/8P4a/1z/Wf9w/3H/e/+f/6P/tP+W/3j/fP9o/3n/q/+Z/3//ZP9J/0r/HP8a/yL/Fv8L/wD/Fv/0/gz/Bf/g/sL+5f77/un+Ev8O/+P+4v7u/tr+9f4B/y3/3v7o/vH+1P7T/tj+z/6r/p7+1f5R/0r/nP+m/5L/of+b/zIAQgB0AJkAYQCaAJUAgQCeAHkAiQBqAIoAwgC9AJMAmwCsAM4AzADDANgAsgCrANcAxwDQAMgA6ADMAM4A8ADMAMMA3QCxAK8AyQCkAIQAhgCZAE4AaAB8AHYAfwA4AHQAbQBKAGwATQB8AJkArQDiALcAvABEAF0AtABBAHIAWwA1ADEAKwD1/9P/lP/F/8f/vf+x/6P/1P/L//f/HwDT/+r/0v/Y/2AARAAmAAAAvP/t/xEAFADQ/63/sP9R/33/av9j/2D/av9t/37/r//3//f/8P/z/wcACQDv/+3/1P/f//P/x//K/6L/dP+E/3b/jP+L/43/a/9R/zH/Pv9m/2X/Z/9w/3T/ZP9s/2L/YP+I/3j/e/+d/1r/Z/+R/0D/T/99/0j/Q/9A/3D/N/89/6L/pv+5/wYAHgA1AOb/SwB/AGMAnwCaALMArQCfAMAAvgC0AJUAmADiAJ4AdACyANYA3wDEAPIA7ADCAL0AxgDhAKoAmgC6AK8AoAC9AOEAlwBuAJYAoABrAEoATQBKAD4ALgBRADEAKgB0AEcAMQD7/wkAAAAfADAARQCcAJYAkgC3ALAAcAABADcAGgDt/wQA4//k/9L/yf+s/5T/lf9l/3T/bf8Y/0n/cv+l/5D/lP+J/7f/zv8EAPD/+v/6/+D//P8ZANn/8/+6/1L/Kv85/zD/HP8F/wH/K/9U/13/jP9q/3//p/+B/1n/cv+Y/5//hP9n/4D/dv9V/4T/jv97/1X/UP+c/5f/gf+f/5P/iP+M/3H/U/9p/1z/W/+M/37/T/+f/7L/of+E/43/g/9z/5T/vv+C/2f/eP8z/zb/6P8bAAAA9v/j/+T/xP8pAF0AbwCOAJoArgDDAN0A8QDeACgBDQECAeUA4gAJAdUAqwD3ACYBBAHXAPMA3QCsAH8AvgDiANkA0wDvANUAjACuAMYA0wDLALwAzgCdAIsAfQB9AHcAMQCOAIMAeABKAFsAYgBuAFEAYwBOAIYARABYADcA9v///yYATADl/2EAXQC+/7H/3P8AAMr/tv/T/97/CACm/43/k/96/1n/lf/K/8T/s/++/+n/6f86AHIAVwCFAGMAggBpABEAAgAhAAkA4f/J//f/uf+K/7L/BgDE/2z/pv/T/6j/jv+0/6j/nf+Y/7T/yv+k/4D/bf+Z/5T/kv+S/4b/bP8j/1X/Xf8v/1T/fP+V/1n/Qv9r/2z/XP9+/4z/gf9j/23/mf+X/3L/Vf9a/1v/O/9B/0v/KP+z/wEA2P+9/7b/5v+j//7/cACuALUAxgDoAG4AkgC1ALsAtQCgALAApwCXAJgAjwCfAJsAeACRAKkAkwBcAD0ARgA/AEYAcABoAGoAMwApAFIAPQAZAD0AMwAeABEADwAeACEAFQA+AFYAGADp/wAAMADI/+T/4v8YAB4AUgB9AIcAcwBnACoACgDT/+D/FADk/+v/LgAfANf/1f8AAPb/6v/N//T/QwDy/9X/8P8EAMD/rv/d/7f/mP+U/4//n/93/5P/wf+W/3H/gP+g/3r/Wv+H/9f/wv+B/2j/mP/q/6L/of/p/8//2P/b/8L/kv+T/+b/2P+2/5//jv9v/2X/eP+J/2v/nP+m/4//U/+J/33/ev94/0v/Yv+B/5r/lf+j/8b/rP+x/5f/l/9g/17/Zf9h/3//SP9T/4j/Rv8+/8P/BQD2/+f/HgARAPL/UwC0AN4A8ADNAPkAHgETAd0AKgEpAQcBzADYANwArQDqABsBLAH+ACYBFAHrAPUACQEAAdYACQHlANoA6QDEAIsAowDpAO4A6QDFAKsAtgChALIAowCrAKYA7ADFAIEAggCdANQA4ADPAMEAmwCJAMcArABhADoAjwChACsAiQBpAPv/JQBsAGwAaAB4AEUAdQBDADMALABiAHYAjgC3ANUAwgCaAE8AYgBBAAsAMQBjAEwAKgBtAAsAof/o/8b/nP+o/5n/2v/o/+3/5f+5/+X/4v8AACgA+//v/+7/1//i/8L/1f8GANz/8f8RALz/kf91/3n/jv9n/5//jP9//6D/nv+1/4f/nf+d/5r/t/+G/4v/nP+d/6L/qf+3/7b/of/B/5D/h/9y/0P/EP8O///+Uv/j//j//v9JAD0AHABsAN4AzgDHANMA9QDVANUAPwE3ARQBDwEdAf0A2ADbAPwA0wCSAM4AzgCsALIADAH3AKcApgCZALIAogC8AJYAqgDsAOYA3QCxAHAAZgBrAFQAZgB3AGgAYABZAGoARAAxAGEAigCVAHgAgwDFANUABwFhAUYB+gDGADYAiACXAGEAjwCFAJ0AZwAwAEMAbwCBAJgAegBQAF0AOQA1ACMAewCmAEIACAA1AB0ABgAOAAcA7f/p//X/qf/Q/4v/TP9K/0P/iP97/2z/e/+S/7j/xP/q//j/0//X//T/x/+e/6T/2//x/+r/AQANANj/8f8DAOT/p//P/+3/3f+h/7b/rP9g/9j//P/u/9z/1/8UAOz/zv/2/wUA+f/v/+j/3P+y/6X/rv/Q/+b/wv+v/67/kv/X/0oAXQCoAJQArgCPALEAjAGoAXYBfgGVAbYBiwHBAfEBzwHLAY0BjwGlAXABcQFRAVMBSQF6AZgBaQF0AVoBUQF4AX0BRQE+AU8BSgFpAUUBMAFLAWoBTQHrAO0A8QDQAKwApQCkALwAywDHAJIAvQDMAKoAvADRAJUAsQD/APQAxQC6AOEAtQDEALwAtQClAHEAXwAxAE8AUgA8AFAAMgA8AFMAeABMAGMAYQB9AKQAqAC4ANQA4wCxAHQAfgB3AJIAwwBWAHQAHgD9////DAAWAM7/8P/q//f/AwAXAD4ABgDf/yUATgAAAOL/CAAPAAMAIQAuAA4AxP/C/7n/wP+U/7r/IADn/8X/xP/f/77/yf/L/73/tP/T//b/5P/R/+3/7v/3/wkAGQALANz/3v/b/9P/9f8OAOL/p/+B/83/GQBBAHAAUwBwAG8AjQD0ABQBbAFmASoBOQFNAVUBOAE4AUMBMQEWAfAAFgEeAScBFwEJAecA1QAfAfIA4QAdAS8BGgEOAeEA4wDtAN0A3ADtAPQAwgDUAMoAzQDMAKgAnAClAKMAqADGAOMAzADWAOEAnwCDAK4A7wDnAN0ACgE0AUUBRwEmAecApQCdAHcAjgB+AE4AIwDr/+n/0/8AAAIALABLABcAOABlAFoAVQBDAGoAqAB3AIcApwC8AMUAxACxAIsAOwDy/xEA3v+t/7v/t//n/wgAzv/Z/yAAPgAZAA0AFQAbAB4A8/8EADIALwBFACQA9f/8/+L/2P/X//n/AADB/37/oP/M/6H/qP/n/8v/gP+y/+r/FwAFAPv//f+d/5X/y//H/9T/9P8QAAsAx/8AAOf/yP+W/yr/rP8XABEAQwATABQABwBEAPYACQEGARwBCwESAR8BTQE4AQYB8ADSAAABAQHqAPsAswDQAOgA9gAAAeEAwgCSALoAwQC+ANgA0wDUAKoAwAC/AI8AwQDaANoAsQC1AMcApQB8AJIAmQC1AJAAxQDKAJAAegCTANQA8wDSAM0A0QDsANYAhwCRAK4AcQCVAIwAcgCUANUAigCOAIwAjwBWACUAXgAvACsAPQAKAOn/z//q/9L/yP8AAOv/BgAeAGYApQC2AMUAxQCTAIsAdAArADwAOwBDADkAMwBgABkAAQADAOz/2v/q/+//CAD0//z/9f/U/7n/nf9n/3n/uP+G/4X/xf+R/3L/W/9U/3f/d/+c/7j/hv+y/8r/vf/L/+f/xv+w/6f/wf+W/7j/0P+L/6T/t/+W/5D/Vv86/0z/Hf9V/wAA+f/v/+T/0f+z/8b/RwCSAKUAqwDfAN0A4gDcALsA4AChAIoAqQCqAKYAngDlAO4A9wDSAPQA3ADJAMwAkwCuAHgAewCFAHYAjwCNAIwAogCZAI4AnwCKAIAAhQCSAIsAYgCAALIAcQAtAG8ApAB9ADUAIAA0AHgAzgDNAO0A1wClAJIAYQAgAFYAIgD9/wIAPQAkADMAXQAfAB8AOADz//v/9f/v//b/DQAcAOL/+f9GAAgA7f/W/4z/Xv+y/8H/uf/m//H/+v96/07/lv9s/4r/g/9u/4r/ov/c/97/ov+x//X/tP+Y/7r/g/9g/3v/g/9T/0v/rf9c/wP/B/8X/w7/Qv9Y/23/PP9I/2b/Sf8T/xL/LP9Z/3b/jf9T/3H/WP8o/0//QP8+/13/fv+C/4L/cf83/xL/G/8V/yv/mf/p/w0A///Q/+//FwCAALYAwwDRAHwAlAB3AIQAzwDRAOYAwACkAIYAVwBQAIMArACeAOsAAgHWAOIA0wDnANgA4wDZAMcAtQDMANUA2wC1AOUA/wDFAJEAmgCKAGcAFAAAADQAXwBUADkAjwCqAIAAagB5AGcAaQBlAIEAhwBZAB0AGwDY/yAAIwAiAG4A1/+T/67/e/+r/0//r/+v/2v/fP9Y/7T/qP+p/wcADgAiAEAAXQA9ADIAggAXAEkAkgCiAGQAJADE/z7/Pf8e/w//K/9E/4j/Rv9Z/4//WP9j/4//m/+D/1f/f/9s/2T/W/87/zr/Zf9k/y3/I/84/xX/Nf8k/0P/e/8Z/xj/D/8c/zL/IP9p/5T/gf9b/1//QP8Y/yb/Cf80/zL/Q/8i//n+AP/P/gL/+/7u/tH+0/5R/2H/f/9z/63/z/9m/9P/WwB9AFcAPgBzAHcAiwCiALwAsQCRAIQAlACLAIkAvwDEAKoAsACHAHkAYQBDAFkAaQB2AH8AOgAqADcAYgBEADUANwAWAOb/3v/P/8n/n//T/+//FAAuABkAMADk/6n/5v/Y/8P//v8mABoAWwCUAIcAWQBFAAUA5v+4/9X/xP96/6f/uf/M/5P/yf/0/8b/V/9A/zD/Rf9v/3D/ZP9k/x7/h/+y/2X/jf/O/wQA8v/s//T/1/8HAIH/aP9X/3j/bP9I/+X+yf74/h7/NP9B/33/af+A/13/UP+S/83/tP/P/+3/yv/W/+n/5f+u/5j/u//Q/7n/o/+i/4b/hv+C/0v/MP9p/2j/Bv8A/x//EP8T/zj/Pf82/0//Yf87/yb/Bv/7/hj/M/8l/xr/S/9u/+n/DgDO/9j/5P/2/7T/DQCnAL4AsADIAPYA5ADbALwAqgC0AOoA5QDoAN8A9QDuANQApADRANQApgBmAJAAvACrAM8A6wCmAHIAiQC7AIUARQBFAIIArgCcAJkAbABeADIAZwCOAHAAlgBfAG8AJADz/yEAGgBfAFAAIQD0/wwA3v+y/6T/HAAiANb/GgApACUALQA7AEUAZACQAIgAeQBZAGEAZQB6AHgAewCeAA4ArP+m/wAA/v8SABIASgBXACIAPgAYACkA7f/6//j/8v/3/7j/XP9C/3L/m/+h/8T/t/8hAEcAIgANALv/0//G/9v/2P/O/wMA+v/o/+P/9//L/57/Uv9x/5j/c/+N/2z/ZP9m/5b/jf9H/zT/TP8y/1//wf/O/97//P+z/2D/N/9I/zv/IP8y/0j/hf9S/x3/a//d/8j/yf/a/+f/vP/y/18AVwBHAD8AgAB6AFYAWwBcAEcAJABEAF8ALgA9AE4AUgB0AJQAcwCHAJ0AugCoAKYAgACIAJAAcgCJALoAmQBbAGkAXQBqAFsAdgBHAAIAAwD3/zIACwAZABMA9f/y/7f/z/9t/5r/BgA3AGUAqQDWAM4A+wD0ADsAFwAeABQALwBBAG4AZQBPAGUAeQB2AD4AEADt/6b/pP8OAAUA2f+V/4f/kf9m/53/YP9p/6T/0//D/8j/EgA7ACcAyf+v/8b/o/+c/5j/kv+n/7P/zP+1/8v/0/+m/8n/i//H/9b/wf+S/3D/gP9q/3X/bP+P/27/XP8z/w7/IP8p/zn/NP8f/xH/Kv8z/yb//f4y/y//J/8d/wj/Q/8X/9X+BP8g/xP/FP88/2b/SP8k/xn/5f4r/zf/Tf9y/6L/1f+9/xcArwCoAGcAfwB+ANsA1gDGALwArAC2AHEAaQCRAIoAqACQAMAArgDKAPIABQHcANIAoQDOAOIABwEoARsB4QDoAN4AwwC2AMMAmACOAKkAvwDpAMMAzQB0AJQAdQA+AIQATwBkAD0AXQCMAFUArgCxAHUAJgAZAEMAVQB0AG8AegBvAFEAEgAjACIAKQAzABUABADv/xgAYgAYAAAA8f++/7n/tP+B/1v/Iv9i/23/q//B/57/vv+o/6j/Yf95/2H/ef9p/2b/NP81/zL/Mv9b/03/Sf9F/4j/qP+J/8j/uf+h/4z/nv9u/2H/Xv+I/4f/ef9m/0//Sf9j/2L/QP9f/4b/mf+K/2P/c/9F//n+EP9U/0r/KP8v/2b/Qf8T/yv/F/8u/yT/Nf9C/yL/Qv8T/8P/2P+q/7b/r//y/5P/7v91AJQAsADNANoAzACzAGcATgBXAMEApQCdALAA0wDmAM0A4QC/ALUAtgClAJMAkQCtAOIA/ADxAAMB7ADWAJsAswCyALAAlQCfAIEArADCAKEAbgBlAGkAYwBMAFgAhACAAHYAfABdALkA6QASAQIB+gAGAckAkwB8AEUAFwD6/6v/xf+f/7//rf/H/8X/sv/L/8T/z/+3/5f/s//B/+D/7f8lACUAKwARAAAA1f/g/wgAAACr/57/R/8w/yr/9v4R/wP/SP9B/zz/XP9o/1X/gf9i/3z/gP9B/z3/W/92/17/bf+E/2v/gf98/37/bf9C/1j/Zv9n/27/bv+A/07/Lf9F/0P/bf9s/2L/a/9z/1//Xv9p/3X/e/9+/0z/iP+R/3X/h/9a/2T/af8p/zf/pf8BAPz/6f8JABsADQAeAHIAnwC2ABUBGQEeAUYBPgEeAQ0B9ADZANcA9wDzADwBaAFWAT0BQQEsAekAmQDNAKcAjQB5AMcA1ADIAKgAnQBvAHEAkQBoAGcAUQBVAHoAlQBtAFoAQwBUADEAWQB4AEEAgQCuAJwAvQCuAKcAdwBeAFoAPgBSAGQAbACsAFMATQAzABoAEgC1/7r/qP9z/5//sf9p/4r/lv9w/1r/bv+J/7z/4P/X/93/9//n/9f/+v9EACoA1v+X/77/gP9L/2X/Of9N/1//J/82/2v/fv+a/3H/hf93/0n/fP++/6b/l/+Y/8H/of+N/37/iv+h/5r/p/+P/6P/qv9t/2P/Qf9a/4D/hP8z/2b/jv+O/1j/Df82/zX/M/8Z/xz/a/9v/yD/MP9D/zz/O//0/u/+6/5M/9L/6//p//3/AQDB/9j/PwBxAK0AwgCzAOUAygClAJAApQCjALEAkACqANMAnAC1ANEArACKAIoAoACRAGAAbQB/AHoAbwBwAGIAagCDAH4AWQBfAFcAbgBsAEQAOAAyAFEAGQD4//7/3v/x/w0ADADz/9z/x/+0/9L/rP/m/+z/1f/Q/xQAoP94/4j/if/I/4r/aP+d/6j/gP8K/y3/aP84/yn/Sv94/3n/eP8d/yz/Nv8l/0T/Kf9H/0j/DP9s/3v/vP++/3//fv+J/4L/cv9d/0v/L/8l/yH/Vv+u/7H/ZP99/4T/av+I/1f/e/+c/57/cP+f/6T/Yf94/2n/Rf9H/5H/af9o/5f/rf+e/37/UP8w/yv/L/8h/07/eP9+/2v/Cf8Q/0j/Pv9F///+Ef9C/zT/Gf8R/+3+Bf/A/vn+kv+X/8L/xf/y/8j/t/9kAIMAVgBvAEsAdwByAH0AnwC1ANYAtADQALoAbQB/AFIAPAAtAFMAhQB8AJUAmQCWAH0AagCCAHUAWgBmAFgAWABpAFoANAAMACoANAAzAC4AJgBiAHQAPwBWAFoAcQBDACoAaQCSAKQAsgCmAJ0AZQBRAAEA0/+j/9n/sP9x/+D/DAAnAC8ARQBCADwAKADw//j/CgAqACUAbACrAGkALwA7AAcABAAWAM3/FQBIAAwA+v8YAP7/PQDN/2D/m/+c/3L/UP93/1L/cf/H/6D/hv9L/zv/Pv8x/xz/O/94/5r/kP91/2H/Z/8M/wD/LP8f/+D+B/9J/2T/Af/u/vT+x/68/uf+A/8i/y7/Mv85/1H/Y//9/sf+2f76/gT/8v6w/rz+0v6u/qr+h/6Y/pn+jf4u/1z/f/9K/3D/O/8E/6P/MABXAGAAcwB3AGcAOgBGAFgAFwD8/xQAHwBJAFsAjACQAGEAbAC4AKEAiwBtAH4AiwBuAGoAnQCxAJwA1wDdAHkAvQCoAIAATwArAIAAdAA0AEQAjQCBAGQASgAyAGoASAAkAEYARQCiALkAIAHmALoABgHFAE8ABQDn/xoA8f84ACgA4P/u//X/CgA1AA8ADwDh/xwACwDG/x4A1P/j/7//+v/3/4P/AgAUAPz/9/+w/3T/IP9f/0z/Y/9t/47/gP+g/4//sP+8/6D/p/+w/7b/qP+o/3P/fv+G/3D/eP9+/2z/IP8U/1n/ev9z/2T/if9//3D/Vf8f/y7/P/8R/0P/O/87//3+wP7c/ub+Pv9j/0b/Yf9W/3X/j/+//3X/P/8t/3H/X/8O/+v+rP7o/nD/zf/x/5n/pv8EAOn/PwCWAMcA8gDdACUBJgEQAT0B8ABFARQB0ACYAJkAvADtAPkAOQHbABoBBwEbATsBDgEuASUBBgEZAcEA4ADcALQA3QDnAM0A0AAZASMBFQH/AOgAHQHuAJ8AogCqAK0A5gBJAe0A9AD7ALkAqgCSAKAAqQCEAJcA6ACyANAAzwCRAKEARABDAFQAfgB2AGkAhQBjAF0AHgDm/zsAUwBYAGsADgA8AGwAYABlAAIAOgA/ABIA1v+h/23/Y/+Z/0j//P5p/7r/of/A/37/0P8LAM7/qP/D/8L/vv+y/6H/dv9+/3f/df9u/3n/iP+S/4//if9c/4n/n/+e/3j/Xf9X/4j/X/9k/2b/Sf9O/1j/Vv9T/57/zv+q/4f/fP+N/3D/Z/96/2L/jf+4/6z/bf8T/yP/1f/U/77/2f8QANf/qf9iAKsAuAB/AJIA0gCZANgA2gDMALAA1gD/ABYBAwHqABMB1wDiAN8ApACWAOYA8AAgARYBAAH/ANAAqwCsAMgAUgBjAJwAtAC6AMgAgQBuAC8ABwAnAA4AHQA+ACEAWQBXAH8AUgAxAFsASQBrAJ8AzgAWAc0A6QDeAJMAggA0AFYAFQDH//7/1v+I/43/0//q/8L/7v/v//T/4//U//f/EAAgALP/c/9S/7T/1/+L/9P/zP/M/8r/hv/N/7n/3v9h/2z/sf+O/3H/RP92/4f/qf+0/8L/qP+8/8v/r//V/9D/3f/B/6f/mv+P/1z//f4V/yn/Hv9A/27/eP+Q/6L/0f+6/9L/0//X/8z/hP+0/5P/8//6/77/uv+C/53/gP94/4L/gf+v/8X/r/+N/4D/Wf/d/x4ANAAzAAsA/f/T/3EA3wCpAPYAKgFVAU0BLAE0ASMB/AAAAfUAKgFWARoB1QDhAPwA9ADBAMoA7wDdAOIAyADMANEAgACOAOsAxgCVAG8AVgB4AGoAggBjAEYAIgARAEsALwDy//7/5//8/wwALgAjAFEAGgDS/zsARAAfADAA8v/s/9D/SAA1AP7/cwAHAAYA//8cAPr/9/8bACUAGAATANn/kf+e/6r/jP+0/5f/ov+p/9//zf/F/5P/ov+z/wUARABNAHQAKgDO/7X/df93/5b/jP9//7j/wv/E/63/fv9o/1H/hv+0/7b/yv+g/5T/jf9e/13/L/8k/zv/M/9J/47/OP9Y/0T/TP9L//n+M/9C/0r/a/9b/5D/Lv8y/0r/KP8t/03/GP8//yj/K/8u//f+9v74/t7+9v73/lP/hv+U//j/qf97/4r/0f8xAD8AAwAMAE4AVwBpAGsAdAB8AI4AqwCOAHwAMQAdADcAagB7AIUAmAB3AGoAXgBVAG4AFgA1ACYARwB9AFcAbQBJADoAEAAUAAoAmv/X/wkA9f9BAE8ARQAQANj/rv/0/93/7//C/9L//P/v/0cAmQB0AHYA8P/H/6P/iP+H/3X/8f/d/7//7P/9/8n/EwAOAJ7/sf/g/7H/oP+L/9//q/+//4T/sP+d/2z/iP9h/4z/Sf8J/z3/FP8t/4b/gv9b/2j/l/8z/zT/Vf9O/4L/e/+C/3H/b/9C/0L/aP8W/+r+7v4D/yb/OP8n/0v/Mf9h/0n/G/8o/0v/Qv8n/2n/Of8a/0X/Uv86/wb/0v72/h7/IP8U/xD/MP/0/uj+5P66/sr+7f7f/tr+4v77/uj+F/97/3L/iP+G/3f/QP+R/wkAJQAtABUAKQA2AEwAeQBgAGAAawBDADgAOgAgAEoAaABnAGsAeABoAD8AQgAiAFAAWgA8AE4AIgATADUAOgBFAEsATgAiAEwALAApADIAEQAOAOz/3f/a/wMA7//s/yYAOwA1ACkAJgA4AGQAdwAdAAsA1f/h/8b/tv/q/9n/BgDp//b/9P8NAA8A6v/0/9f/3P8UAAcAPgBRAFkAJQDk/9P/ov/F/4z/VP9z/5v/pv+u/7X/c/+G/8v/aP91/0f/DP8b/xz/Q/87/1X/f/99/5b/nP+A/3P/Jv8D//b+Kv84//L+3f7q/u3+1f6p/p7+sP6q/tH+xf71/sP+qv71/tb+0/6e/qf+pf6M/pr+s/6Z/tT+6v7//vT+6/7u/pz+WP5z/qL+df5r/lb+OP6//vn+HP8r/yT/Of8Z/4P/GQAVAB4A9v/z//D/+f8tACYARgA9AEEAQQBAADYAMwBBACwAGAASAB4ACwACABQAHQAMAAsAPwBVAFIAKwAqABMAGwAmAEUA5v/J//j/8P/e/+r/CgAUAA0AFAAMAOj/6P/p/8T/v//R/xIAQAB9AJcAWwB3AD4AuP+H/2H/iP+G/yv/PP8s/xj/2/7d/jX/y/6y/gf/Ef86/0b/Pf+i/53/SP8z/z//Yv9O/zr/L/81/1b/YP9K/2X/4/6s/rP+Yf6R/rX+vf7I/vD+Ff8F/wz/BP8a/+j+8P4S//v+5/4M///+8/4c/+v+xv6s/rj+wv6w/oH+nP6Z/pv+kf6//rz+nf6m/rX+vf62/tH+5v7//vT+Jf8V/9b+7f7V/gj/Bf/Z/hb///7w/t3+1/65/ir/h/9V/3D/bf+5/8P/t/8oAE0ARQBrAKEAiwByAJ8AsQB4ALoAlwB+AIoAUwBkAIkAdgCHAKQArgCGADoAQwBiAFUAUABoADsAMQA6AD0AbwBBAFQANgAWAFMAHwAdACIAEwDb/+j/HQBEAAgAEQAqAO7/7f8RAPn/AgAaABoA6v/W/yUAtf8CACEAxf8LAOv/lP9a/3T/if97/3L/Zv+X/5v/s/+R/47/eP/H/+f/yf/Z/73/sv/K/7j/oP/i/9r/wP+C/4j/jv9B/yn/Ff8a/zL/I/9L/yH/Kf9p/3r/iv94/4X/jP+f/13/Q/9U/1z/af8t/wX/CP8M/xf/NP8a/zr/X/9H/27/Lf83/0D/G/86/xb/QP84/wb/NP8o/yf/NP8m/wr//f4T/0D/JP8J/yv/Gv8X/13/Jv8j//f+Lf+j/8H/0P/p/+3/DQA3AIYA0wDAALwA5ADRALUAiQCdALIAlwCbAM4AuAB/AJsAcgCMAHgAhwCXAHUAegBvAHAAUgBcAGoAYgBnAGoAagA2AFsAOwAfABYA+P/x/8r/5//x/7//xv/P/6z/wf+V/8n/5//f/4v/5f8qACMAUQBxAIcATQA9ABcAu/+0/6P/mf/m/xEA8v+8/7//t/+A/2T/U/8r/0b/Wf9c/2P/Xv+J/6T/lP/O/x4ATwAeABsAIgAtAPb/5//S/9L/yv84/yz/Sv81/yr/Lv9H/0T/dP+q/53/oP/C/8P/3f/V/9r/vP+//7X/nP+o/6z/e/9r/2r/iv9g/2D/ov+f/5n/k/+q/47/e/9y/5P/wv+y/6v/nv/h/9P/yv98/4v/b/9t/4r/o/+M/1D/Mf9K/07/Tf+A/wMAPwBAAGQAcgBWAIMA3gAXAfgAHwFJASEBGAEhAQgB9QAhASABMgEeASYBEQEMAf0ADgEXAQMB+QDMAMsA2gAEAfYA2AAQAeQA3wDeAOYA5QDSAL4AxwDNAKcA2ADPAMUAvAC4AMoAtgCOAFMAaQCNAJUAvwDJAK0AkQCoAKwAsgBSAFIAwwCIAPwA8ADaALQAjADHAM0A2gCjAJQAtACPAIoAZgBAAGgAaQCHAEUANwBPAEkASgBeAJEAgwCKAIMAswCQAGYA8wCsAJsAoQCYAGcARwBZABYAKQAgAO//MgAlABoAVQBAABQAKQAyACgAGgAFAC0AAgDE//r/5f/I/93/uf+q/73/yP+G/3v/p/+p/8z/qv/E/97/iv+P/8//3f+e/5H/ov+F/37/f/9r/0r/Lv8+/xv/Iv8L/0T/vv+6/+H/6f/3//f//f99ALgA2wDUAOEA4wDRABEBCgEDAe0A9ADcAL0A5AC4ALEApADOAMsAlgC0ALwAswCSAHsArQCOAKkAswCnAIAAeQCiAJsAuQCMAIMAigB4AH8AgQB5AJ0ArQC4AJ4AaQBxAHAAYQBEAC8AegCPAK8AzgC3AJQAqAA4ABIARQAPABIAIgBYAFQAJQBMAAgAHAAbAAIAcACLADYAMABGAFsAKAAoADsATAAiAOj/+P/V/9r/u//B/5P/qP+y/3b/rf+w/8H/sf+V/9T/7/8OABcAKQAKAAEAIwARAO3/DAAPAPr/6//q/9z/z//a//H/zP/C/4f/mP+t/4n/h/+C/1//S/8+/z7/Wv9v/23/lP+A/4L/b/+J/3n/S/9x/4X/YP9U/1z/jP+D/4T/cP9L/w//XP/l/8P/1P/8//H/6/8XAH8AvQDSAMMA2ADvAOgAAwHbAM0A3gAEARIB3wD7ACABIwEBAQcBEwH4ACgBOwEsATkBbgFBASEBGQEbAScBKQEqAckA4QDtANkABAHdAPoA8wDkAO8AvQDKANQA1wC1AM4A6wD2AMoAvACxAJMAvQC0AMAAqQB5AKwA2QCIAIsA5QCYAFQAVAAtAB8ALAAEAOj/BADz/wsADAAGAB4AKgAUADMAdwA9AEkAZgAxABkAFQAYABwA8v/+/9z/kP9U/1P/Rv8z/zr/Tv9p/3z/t/+y/5r/pv+5/9X/4/+6/8//x//l/9H/4P+a/4L/vf+K/4z/lv+A/0j/gP95/13/jf98/3//iP+K/z3/RP92/2L/bv+A/3f/eP+d/3P/Qf9A/xz/E//7/gb/If/5/uX++P4c/7D/sf/0//r/GgAAAPL/agCAAI8AvgD0APAACAE2AfcA8QAEAdIA5QDIAJwArACMAIYAjACDAFwAggCbALYAgACcAKMAjACOALgA2ADLAMwAwACnALYAoQCIAHQAaABVAF8ASwBNAD4ATgBUAFgAVAAUAB8AEwAWAH0AkwCkALsAswCrAKsAhABSAEgAXAA1AFAAMwAnAOn/s/+r/83/p/+r/6n/Zf+j/3n/W/9g/3X/cv96/6X/tv/L//j/q/+d/93/xP8RACUAxf/K/7X/nv+i/5f/ev9q/2P/O/9L/2H/Sv8u/1//Wf9o/3f/if9p/33/n/+W/4T/q/+3/6b/iP9p/4//iv93/67/xP+e/5L/nv97/3r/gP9e/2v/Sv+C/5L/k/+d/6//3//C/6T/kP9t/37/XP+J/2z/N//+/hL/t//I/9j/tv/C/6j/nf84AFAAegCBAHYAlwC0AMoAugDCALEA2gDVAO8A5QDqAAAB5ADjALoA2QD1AM4A4wDhANUAwAC1AKMApgDPAKQApwC3AJsAhACNAHcAXgA7AEgAXQBlAG0AWgBkAGcAWgBhAGAAcABcADwAZgBjAE4AMAAxABMACQAyABsAYAB4ADUAUQAxACgAOABnADAAagCeAFwAGwDy/wAALgAjAHcAJAAWAAIAy//F/63/vf+d/4v/jf+r/wAAbf/I/9z/lP+w/6v/pf/E/6r/dP+Q/8X////W/7r/zv/K/9z/zf/W//P/7f+8/7L/0f/a/9D/yP+z/67/sf+W/5P/pf+a/5D/bP90/2X/i/+T/6D/kv93/6L/b/9m/4D/mP+p/6X/mf+t/37/cP9s/y7/H/8x/wz/A/+e/8b/xP+j/57/5f+K/9//bQCOAHUAVQCdAHEAgQCpAIkAvwCgAMAA2gC0AMQAowCgAKgAvQCfAJIAvQCZAKkAZQBnAIQAhAChAL8AlQCUAKEArgDQALQAmgB5AGsAagBjAGoAnACVAHkAcwCAAJwArACcAI0AewCbAMQA1wD6AN4AtQD0AJUAJQBcABgAAQD9/1QAeQCQAHUAYAB2AF4AQgBQAEYAaQBjAFAAcgCjAJEAWQBTAGwAbABAADoANgALAPb/4f95/2P/a/9z/5T/mv9s/43/nf+l/9n/zP/S/+r/5P/P/9P/8v+6/5b/1P/t/9v/7//I/8r/6P+//8X/yf+h/8T/o//D/8H/uf+j/6r/mP+U/63/yf/Q/8D/3P/N/7L/p/+N/4L/iv+7/7T/pf+//8T/uP+a/6P/pv95/+7/OAAuAEUANABKAEEAeADYAN8A/AAyAT0BQAE4ATsBCgEEARQBFgEMAekA/wD1AN0AGQENAd8AAwEaASEBIAEnARIBAgEAAQEBFgEbASgBPQEaAQwB1QDjAPAA5QDPALcAyQDTAL8AjQCcAMsArwCpANcA0ADYAA8B5wDVAAAB0wCSAJUAiwC0AJgAkQC7AJAAlgCBAFwAVQBaAF8ARgBSAI4AfgB9AKcAgQBZAKUAiwCNAH0AjwCmAFwAdwCOAFoAeABIABwABwC//9b/jP+N/3z/Q/9r/4T/c/94/3r/f/+R/7f/p//f//P/5//x/wkA4v/S/9T/2f/m/8b/vf/k/7z/vP/J/87/0f+l/7b/o/+q/6L/lP+V/5f/jf+Y/5j/bP9z/4z/df+b/8P/kf+S/5D/kv9e/0f/c/9f/0L/mP8AAPv/+/8LABIA8/8eAKQA4gD7ABsBEgECATEBLQE3AR0BJgEsAUwBPgE0AR0BPwFtAU8BUwE1ASEBNgEIAdgA4ADtANQA9gD5ABsBJQHrAO8A7gDbAO4A6gDUANcA7QD5APcA2gDgAMQAxADeAM4A1gDVAMoADwEuAWABbgFfAYABZQFHASQB6ADgAMkABQHXAKMArwCTAG8AcwCrAFsASwA6ADgA6v8OADEAKwA4ACcAJgD7/wAADAAAAAUAQQCDAF4AOwAXAFgA/P/D/77/nv+d/6f/t//O/9H/tv/Y/+L/r//8/+H/0//F/83/EADa/7H/2P/2/+v/BgANAPD/BgAdADUABgDv/wYA5v/o/8f/2//M/6L/rv/T/8b/tf/l/+v/4f/3/7r/0v8GAOf/0//I/8f/+/8EAPD/9P9AAIoAoQCIAIQAjwCVAOAAgAGZAaEB1gHGAcABrgHXAccBrwGfAbcBrAGbAX0BtwGzAasBuwG7AbUBmwGqAYcBbgGEAZABZwEnAWcBWQEyAUEBXgGCAVMBXAGGAW8BTwEqARsBQgFAARoBPQEpARQB7ADHANwAAgEAAfoAGAEIAdUAzwBnAG4AngCFANoAmQCVAC4A+P91AFoAdgBXAD8AOQAhAEYAcAAwAG8AkgCJAE4ARwC7AHsAdQBxAJsAhwCXAIkASgAOAMr/JADn/+D/+P/y//H/DgANAP7/EwD///z/JgA9ACYAQAALAA4ADgDm//3//v8QAOr/3f/U/+n/6v/f/9n/+v/w/+L/DAAUAPP/y//V/+7/z/+7/7D/xf/Z/8v/wP/K/9z/6P/+/xEAFADz/+L/xP/O/7r/d/+D/+T/LgBKAGMAcABqACEAUADvAPEAAwEFAQEBJQExAVkBagGBAWgBVQFRAVgBTAEiAToBKAHuANoACQEqATkBDQH4AA8BEgEGAeAA7QD1AM0AlwDMAMsApADgANwA6gDdAMMAmwBrAJEArwCgAKAApQCvALoAmwCvAMAAAQEnASsBLwEFASoBNwGYAJ0AggCTAK0AZgBNAIMAdAA7ABUAAgAPABQAAwAdADMALAA1ABYAHgBVAFMAgwCPAKcAugBiAL0AwwC1ALEAbwAkAAUA5f8SAOL/vP/M/+b/6f/9/wAAOABHACEAKQBEAFYARwAiAD0AEQD0/wsA9v/2/w8A2v/S/7P/wP/d/+f/sf+l/5z/hv+S/3P/k/+9/8z/rP+K/3r/nP+y/7L/0f/b/8z/sv/g/9z/uv/G/8r/vP+f/6D/+P8zADgAewBeAFUAIgAtALsA1gDNANsAqgDHAKsAtgCyAJEAxQClALkA5QDUAM0A8wDRAPkA3ADzAPsA6QD2AAoBKAFKARoB7gD4APsAyADOAMsAxQCuAKMAxgCQAHwAtQB+AIAAcQCNALoAhQCQAJwAowCMAK0AngBzAGQAbQBdAC0AUwA1AFkAtwAvAFwAMgAtAEUA8v8cAP3/FgBGAA4AKwAdAAAA9/8GABAA8//9/wcADgDi/8X/yf+2/9D/BAA4ABMAiv+k/7v/sP/O/7X/wP/G/6z/vv+Q/6P/6v+m/5r/qf/a/9P/pP+F/7T/nv+D/0X/NP9C/wz/Df8Z//3+5P7n/gv/4/7g/vb+4f7s/gr/Af/6/gX//v48/0P/Lv83/xX///4C/zP/T/8+/yr/HP8L/wf/Fv8O/x7/8v7u/lv/fv+N/3n/nP+C/4b/IgAeADoASgA9AEoATQBfAC4ALABLAEIAIwAnACMAHAAsAC0AFQAsAF4AdgCJAHUANABkAHsApQCsAKcAogB3AI0ArgDBAMYAugCgAEgATABbADcAMAAYAEkARwBEABUAIADd/+b/AADc/wgAAAAIABMAKQA5ABcA5v+J/5r/tf9N/0f/lf96/1j/Y/96/0v/MP9u/2r/af9z/4L/sP/C/73/wv/c/+X/DAAIAMX/9v/4/xUA4v/Y/8P/mv/o/6r/vv9j/y7/Qf8o/zX/H/80/wz//P4Y//X+7v7Y/sr+xf6p/pr+wf4F/x7/H/8x///+5/7r/gH/Af/5/vT+zP7j/uX+BP/E/tf+7/7u/tT+4P60/sb+4/7Z/gT/D/8D/x3/Fv/v/gL/Lv9C/0H/Kv/8/vr+d/+k/7b/p/9w/3T/WP/K/wsAGgBIAFIARgA5ABUABwAkABAA5f8OABIAEQAGAOr/xv/p/xsADwD8/+r/tP+z/9H//v/E/4D/ff+S/7P/rv+P/6H/rv/Z/9D//v8VAFcAkACcALAAuADjABsBXAF9AbAB1wHOAasBYgFXATABzgClAFEASAAoAAAA+P/q/3H/K//a/q/+W/5O/lb+X/6T/pj+df5m/jv+W/4u/lH+iP5u/mP+g/7v/vH+oP7m/WH9e/3F/W7+6P79/qH+ZP7j/t/+K/8z/y3/aP8jAPAARgGtAeEBIgKQAtUC/QK5AkUC2gHlAQEC0wGnAQABRgDD/1f/pf7c/e78R/z1+7r7evv8+of6KPrO+Yr5iPmN+fT5ffrr+lf7g/v7+2/8Jf3A/c/9CP5B/p3++P75/qT+sv4p/3j/cP8M/07+8f3c/XT+v/5N/vD9yf0S/n3+Ef8J/zz/t/8VAK0AAgF6ASQC5wKtA1kEzwQkBaAFGgZIBkwGPQanBUgFAAWsBIAE7gNrA/cCKwJYAZcAhP+9/vL9dv0d/br8pPxV/Ej8Gvxd/MX83fz1/Cj9d/0f/q/++P5n/7n/4f/2/4P/P/+0/r/9N/0i/ED7nfoX+lL5DvhK93P2EPbR9Wz1aPUx9cT19fbo9wL5rfnL+kj8xv2N/xIBFAJ1A3gFhgcgCfIJgApwC70M/A36DmYPBQ/ODhYP2w44DrUMAAtaCWoIkAd3Bj8F9AOPAn0B8/+9/qP9kvzS+yL7FvsY+3772vvf+8X79PsQ/Nn7pPu3+637+/tm/E38R/zg+0j7Mfus+g/6U/kQ+Jz2svUD9dnzuPJp8T3wL+8z7h/uC+5W7e/sAe1F7ZTtfu6j78TwBfJL8/r0APd1+R38vf5zAecD4wbOCc4LyQ02D4gQWhJHFOsVshfYGHAZCBo6Gm4aqhlpGPIWRRVbFL8S/xB2DxIOqQw+C5YJjwfgBZwDmAGC/zn+Xf2S/OX7YftQ+0L7DfwY/Oz7R/v1+r/7l/wP/Wf9sP3F/p3/LwBMAJz/cf7W/MT7kPqZ+Qb4lva09fX0IvTf8lPxRO8P7TTrJ+p+6e7oD+gy6Oboy+k769brz+yw7EHtjO5o7y/xYvIV9Gb21Pnk/XEBkQTtBoIJ7AwRELoSixR1Fs4YDBxIHzUieiTNJQ8nnSeQJ/gmmSa9JWgkUyLeH00dyBkmFQIQRArMBO//C/uG9hbyGu7V6jboU+WN4jXhwOBx4eDi2eQh6PDrsvC89Vv6uP47AgMGBgpPDRYQQRI9FM8V+BWyFlAW5BMZEAcLrAWU/6z5jPPX7bboNuXK4c3e89y72uLYo9Yx1YjUcNRI1V7XV9oW3qniwOdh7Nvv6PKe9ZD3KfkN+mr7wPxn/pQAwgL7BGsHaAkEDE8P8xFUE6gUHRatFw4ZmRsYH9QiJifRKsculTG5MzA07zJLMOgrhiYyIbEb0xWTDgQI/QF7/Mb2L/EY69PkEd+o2sHXzNV91vXYd9wM4Q7n6u2N9D/7bAEmB8cMDhJSF8MaTh67IXEkpCWhJYokviH8HMsVAw5aBcD8TPT67MHm2+Bd3LbYIdZw0xHRTNDsz2TPhs+j0ajVYtq63+XlzuvP8I71zvlF/CP9/Pw4/b38QvvW+T75HvnK94/2l/b79vL2gfiO+6T9Uf9sAgUG4AhODAcSABhAHe0iXipJMnI4vT1bQUdD1EIVQPg8kDh+MWAoOSABGOwObgYEANX4avBS6Szknt9X23jZ49kC223dzeKj6SXx4vjYAKwI3A/RFgcdHyLHJXgofCqiK1cr0yh5Jasg1xl2EU4Iqf7E9KTsuuVS3ifXT9KWzk/LRMmByL3Ii8mCy17OZdHp1YLbF+Fw5YzqBfBy9J/3Afjp9+X2sfSt8fruuesw6JrkTOGe3knbbNmS2jXceN3B4ADofPCF9+X+5QZHDhQVZh07JuUtVDXHPUlGdkxeUTtWxFiSVwZTmUz9RME7xzGyJ6MdNhPxCckCSvtk8k7r7ecQ5BTf89yV3Q/eSd9i49/oie0M82P7OwMYCS8PXRZXGxodfh0BH0Yf0RwgGfcUURA4Cm8EPf9B+C7vs+cB4vnat9IUzWbKbMcjxAbDocM1xDvGEcrgzDvO5tDb1dTaGd704Svn7+tV7jLwkfLL81byOfCG7m/rmObW41TjZuF23qPe3uI95tbncOwB9RH9UQTrDHwVqRwvI5orcDQtO3ZBV0i9T+1Tk1blWddcR1sfViNR7kraQ587HTNQKVQdbxMqDNgDOfoU81PuautT6N/mN+in6Znr0u2P773xF/XM+sEAoAWUCnkQxBbIGqYccx2SHHwauxe/E2IPaQt6B58DW/9S+tL0t+946rTked4o2ZrVe9Khz0rNuczczMfN0c19zfTOyNDM0XfTTtWp15bZ4tt23uXfzeDh4SXi3+DD3t/cu9tf2mHYYdYH1mjXC9o/3aHhp+Y47Dj0q/2JBfELshK9Gbwf2CVRLHgyhDcnPJFAFkVsST9MY00nTUBKekWsQFY9hzc2LlElWh0PFM0KfAXb/034EPPb8Tfy5/DW8dj0lvWF9ET0evRX9Ln1Bfm7/BkAhATrCmwQcBLqEmMT2hKmD20LiAhNBcEA7P2y/Pf5hPWp8pXwn+sV5O7eaNzC2D/TOM+azYvMh8qyyQDKXMmWyMXKzcwMzDfLMM+d01HTrdIt1bvX9NfT18vYJthU1vPWLtnd2BDYVtoe33XjleWg6njz3vvWAq0LaxVmHaYk4i23NYI5yj2ERHhJ00qLTAFR+VS8V8ZZTlq+WVlYdlRaT9FHQT2IMUgm/BowDocDev0A+O/x5+848UXxXfBK8BbuPunW5X/k+eFs4OTi1edQ7W307fuRAR0G3QkCCmcGLgP//3v7ePaT82byIfIR8tvwfO5O6z/m2d+y2aHSusnHwbm96bqjtoa0Yba0tjC24LdVuhW7ErvkvZrB78IPxYjKGND605LVHtiK22vdVN4E4IHjSOXo5R3pEu6M8UD1KP3XBFUIWQxcFkogPCarK6Mz6TnIPIhBYUhwTaBQL1U/W6peiV+KYnlnZmhdZHhgfl9jW4NSR0vbRGk6ki5RJxsgRhOPB3ADUgBy+DHy4PCw7SXoRuS44wvhqt4p4OnifeN85dXswfXI+Uj75f5MAvUCUQGx//P8Pfku+DL4R/Uz8i/yRPI17Vnldd5k1zzP4caBvxO4ZrJnsM6v6a4tryayDLYzuDq4NrkWvMC+2cBmw7bGvcldzXDSZtcF2+3eVOQ36CTqnOvp7ZzwhPOO9Q34VPtr/+YD6QkeEVgXwR2HJfYr7S7KMiY6S0AxQxZHnkzHUFlTjVg+XgFg0WAWZIxm4mOZXmBcHlkVT1RC4DgtL3AiGxd/ENUIZf2t9vb1BPLG6cLlteSI3wfX69M21bvTS9ME2OvdKOFY5Svtc/Oe9E31YfgJ+iH48fWn9qb3Jvcd+Db6Y/ps+Mn26vPk65LhsdkM007KPsKsvXu7wrlcuOW4JboauvG4mLiCt4i0wLLRtHa4WboavRbF9M2Q07PYqt6u443mhOmj7QHxr/J492r+RAQSCTwPgRhlH68jmSmoMF02uzpvP2tELUdoSr9QgVYGWZxaXl59YrdkomVaZ5xoCGcHZEhhzlyDVjZQtUlBQa02Jy3HJvsejRVIDdoFWP4H9xjxsusJ5cveetrR1X/Qc8wTy0jLIcvny2DOh9HL1DbZRt6k4Y3ko+ju60HtN+548ST1xfbq95H4lvjP93X2l/Mr78HpreN73ZDXVNFJywbHIMWCwbq7FbhOt8y1d7JlsCWxTrHDsc61h7uDwK/Fsc1t1YHaZ9+y5nDuwfOO+Er/CQc/DjgV5xzLIxcpJC/9NYE6MDxgP1xElUfQSFRKvEyuTnhPtFAMUrJSBVJCUTVRuk9wTKlKV0ucSWtETUFOQRM/qDn1Na0zXC5HJtggnxxEFLkJjQLt/Yn1AOx259jkR94Y1xbU/tE4zPnGCMZlxIy/OL2pv3/B98E6xUTLLtDk0rfW/dsC4O/iPefB66Xu/fGU9iH6Vfvr+4H8LPyl+FXzNu/I6vDk/d442qLVCtAxzPbJCsdnw+3AUcHNwFe/6L9Gw4LG8sgDzpnUddqa4B3prPEl+Bn/MAiaEC8WPxx4JD4sdTAmNY47CkB7Qo1Gj0uCTQdNk05bUMdNOEpwSUpJm0WeQfk/vT23Os04bjhLNsEy3jD9L64scSjNJfgjUCFWHRAaqBYHE7sP3wsmB7UAvvrt9YvwD+sU5lLiVt7A2PXTRdAezNHHA8UFw//Acb9pv3HAlMHjwvrE8sjGzO7ODNGF1aLa0N0T4aDmBewe7z/yzPeX+/r8Xf+mArkCq/+3/qD/Ev6F+ob40/c89Q/yzvDz71ztWOtv6xLry+iq55zpo+sK7IvtN/GB9AP2lvnR/isCuQW1Cp4QYRQsGH0eGyV3KWkt6jJQOAk8A0DCQ0xGP0jIScZJXUg3R75FH0TKQTk/LjyPOBY1FjKTLTkouyMuICwcGxcDE3kQgw7ACx4JPAiNBhYDTQDv/d36FPdy9OLyt+9Z62bobOf35JLhDN/93JjZCNZY04rRBs8XzRDNN81fyxrKlssxzarMkswvz0rRM9Jk1H7Y0NvI3TThZOZs6QrrTe4b8xv2g/f++YP9vv9QAAsC5ASYBZMFdQZxB90GBgaWB/gIUgikB3UHPAdhBrMF4gW8BXYFKgY5BzYIwQmwDF0QthO0FhsadB1SIIwilCTSJRUm/SbyJ+knWCdaJ2UnsCZMJWsjyiAPHnUbFhmyFVYS/w8sDg0M4AlDCLwGZAVSBIcD4ALVAWwBbwIRA7ECUQIiAycDyQHUAIX/pP0X/DP6SPg89vHzM/LU8JzvKO0O6zLpxufU5LvhGeAi3mnbptnb2J7XidYZ1wzYsNi+2Q3cBt/x4A3jnuWu6KHrMO5P8XX0J/fV+SD99v9zAvUECQhhCqQLugw4DqEPTBD4EFoRBRLWEqQTTRQFFPQTgxTQFK8U1RSUFEsUIBS6E4USSBHaD0IODQygCUEHIQXlAl0A9f0g/AT7pfnx+E349/f797b4hvnp+QD62Prb+/f7LPwH/or/VQCsATQDeQS8BXUI6ApLC54LOg2hDooOIw4RDjgNIQyICwkLJgnxBrAF3gP5AJz93PvT+lX5Qffj9e/0ZvO98Y/wEe8Z7djrTOvm6dLn3uY+52HnleYi5t/mt+cV51DnVuju6CLq4+x071fxBvS699n79P4TApMFGAkXDCoO8RC7E6MWWxk2HaQgtCKQJEcnqylJKlEqviofKmooZSapJGYhLh3NGU4WBRJyDNQHugNi/ib47vKQ7uDpHuVC4iDgK90D283ar9rY2UDactyg3oXf8OAZ5PDmwOie6/3vQfNx9d74hfzy/Uz//AF6BO4EHQbQCHQLxgw5Dk0QgRJLExkUxhVOFk0VuhRMFOYSZRCKDpUN+wuXCUIIwwYrBA4BaP50+zX36vJc75rrL+f24qjfBt1N2hvY9dbX1rbXn9hc2rrcnN7+4I7kaOnK7Tryj/fb/BgB4AUnC6cPgBMtFxIbQx6JIPEiEyWsJjwnISjZKJ8ocSdbJpMkoCHpHcUZfRXBEBgMyAaCAXv8sfdQ8zLvUOuU52nkPOHd3dTaLNgt1oTUn9OT0mzSSdP01HjWkdix3NvfUOK45RbpX+vj7YzxN/Rl9oH6/f56A5oHlgu0EPoUNBhSGyYfAiKbI7gl2idpKBcpXioiK3YqJikQKJ4ljSHZHNsYphT0D6kLDgg5BNb/2/uB9y3zz+7I6pPnEOSP4FDecN2V3H7bDdxd3Sbfu+DM4jLla+ff6bvs++8/8w/3bvui/2cD9gaeCmIONBFmE2YVBxfYF5QXuBfTF20XvRZ1FukVRRRUEkMQdA1sCVEFmAGX/Qf56vRr8aHtfukj5qbiR9+5293Y5dYX1HzRHdAIz6nNC83IzmDQ8NGl1KDXpdr/3fjhIOZo6tPurfPR+N79EAOPCI8NARKaFhIbqh71IXIlDinwK30u4jAFM1I0NDWPNZY08jIKMSUubCqJJnIi6x0HGYMUuxDADMYItwSKAP37E/fs8hXvT+uG58DkAeJb38LdtNz02zzbpNtZ3M7c9N013zbh8eJ+5eXoWuy17/zznvft+kD+rgEkBeIHCQtPDg8RjhJxE4EULhUVFeIUOhULFH4SuBACDmIKHAbfAtP+//qB9mHypO4Q63fnj+QM4hjfu9za2urYUtYP1PbSqtIh0kXSA9SU1hHZ4tv+31nkVuiu7IXxj/Xq+Aj9iAGaBWAJQg3gEdEVZBkKHdkgISTuJjAqNC2mL0QxizK4M5szKzOkMskxLzC4Lb0qRSdFI2IezBkSF/0T6A+yDBYKjgYrAqf+0fuQ98zy4e6b6w/odOQT4kPgHt7y3FHdpt2p3VTehN8S4PXfQeHd4zHmI+gY6/vu//HN9CL4h/vg/ev/awJuBFIFLAZQByUIVgiYCBkJSgmjCAcIcgfHBWsDnQHV/3r9rPpg+Cz2fPP/8LPvk+6n7H/quOmd6M3mI+VR5IDk2+Nw5BTmS+eb6CfrfO598YT0dvji/JMAJwQMCAMMyA72EWsWCxqRHLEfRSSBJ8Apdiy4L/MxgTIBNCg1oDRAM0IyTTH/LnUsUiraJ1QkpyBIHaQZBxaYEoAPTgzXCMsERQDe+6j3a/KP7cDp7+Xk4QrfKd0G20DZeNg82KPXfdfs11zYMti12FDaONwM3obg8+Pj54zq5u3R8Qz1fvdV+lv9T/9SAHsB5AIkA2MDoARnBfwFHwdWCNYI6QdiB8AGwAVsBGkCVgDY/a/7sfnk93b25vSi8w7zX/Ia8XjwIPCI7wTv/+8O8QnynvNB9hX5T/ze/3YDWgcpC50O6BH3FCAYjxtWH80iOiYzKpMtoDDyMik2gTjyOZQ7OD20PTQ9/zz6OwU6mjdaNTYyiy4pKswl0iD7G4sWWhJGDmMJhgU/AQT9w/e28pjtlehW5PPfc9wU2TnWldTj0hHS2NGj0orTNtSc1UHXCNlI2wreaOFE5QbpJe2Z8S/16viz/HD/RQLXBA0HAwkMCnkKaAvSDDMNkw1NDkgPQw8HDxMO6AwjC8AIrwb5A/MAIv6N+974FPbu84vyGPF674Tuz+2q7F/rVerz6VzphOln6rnre+008NfzUvcY+xf/VANhB3cK1Q3mEKETpxarGRwdbyBdI4kmfSmFLI4ubzC2MdsyfDPIMy00EzOfMd4v3i0QKyEoECXiICkc8RcDE3IOYQo+BvkBKP7Y+pf28vEx7Z/onuTk4HDdTNr213TWItUq1CLUANW21Q/Xp9hs2gDcwt1k4GLjw+Zw6kfuA/Ol96L7kf/3A0IH/QoYDjEQ2BFtE4EUCBULFbEUwRQcFSAUHxMzEqIQjA5rDFYKcweLBJMBF/8k/DT53fbQ9CXzJfKE8czwfe/07nruG+747bfuve+G8ULzofUg+U787P/lAwkIyQv4DnsR6hNHFtsXqRkQHKYe6yDdIrQkESb4JjUoHimkKfEpQirDKccoKSckJYYjdiFFHp0a7RanEu8NmwntBUICH/9h/PH53faj86HwGO0B6B/krOF53qra19dL15nW0NVr1tvXxNlO28LczN4x4H/hNuOW5gjq7uzY8Kz1WPos/hYD7wihDdgQaBTHF38ZEhoFGn0auhosGm4ZKxk0GR0ZeBhxFzoW+BTzEkUQaA10CXsFFALY/jD7d/gG9yT1H/Sf8//yCPO18hLyOvE18WDx2fDt8FzyQPQT9oH4aPwfAKQDGwcjCmoM/Q6ZEV8TyhSDFgIZJhsqHYselyDlIh4kYCVgJhMn4SeyJyAnwyZ8JWojRCEiHl8aaBeSE8MO/woSCGQFMQJh/2/9Kfu39/XzbPDB6xDnkuOy3/Xb9Ni6173XBdiJ2DHak92H4DfigeT95yrqEOsC7U3w9vL19NX4tP34AfQFxwqpD+ASyhUZGWwbWxu0GsgaFBufGQoYpRfkFz8XCBYCFZETOhF7DokL7gdMA6b/0/yc+Of06vHj77btzetz6oHpyeiV53Pm2uVR5bXlveV85S3nlOmC64PtZPHO9pT7nP8jA0sH2ArJDH4P0xI9FTAXDhqSHQYgwyGAJG8n5CiMKTIrpiw+LE0qzSibJyclXyAcHD4Y1xJsDOwFOwFs/cv5vPY/9VH0k/EC74zs5OgC5Bbgrt032nvWndSG1XLW99c629LggOZX6uvtQfLv9SH4cvqm/eAAiASeCFYNshKeF9oc9iEpJmwpVSuTLFQsoCp+KNsljSOTIJgdRBrzFkYUhQ9YCUMEwf91+kv06e7/6XXlKOAx28fX8NNz0KfO6c0uzbbMTs4q0crTK9Za2lnf3+Ka5TPqIfD+9Mz5KwANCKsODRRdGdweLyM+JlQpdiwvLqEu6i53L3Mugy2mLTMuTi6eLQotSCwYKkAmQSLCHRMYLhGaCZgBxvma8YHqP+Z1417gNN3h2hXYrtTL0BHNPsqbx9vFK8UtxXzGGcnFzIHREdcI3kLmO+8395P+kgawDrIVKRwIIykq7C+KM+A2DjtoPnRAXEI1RNVEEUM1PwA6wjL1Kt8kaB51FkwODAcQ/8/11eyZ5a/fP9q+1YfR883gySvG/cPFwY7BZcMcxgvJ6swk0lTX69tw4GPmMuzL8Rf3jPsVAaUFBwv0DzAVjBqOH/8khSiMKRgqwSu8K5kqvin6KZ4oZiSHHywcwxgiFmcV8xUHFhsWOhbCFAUSNg+4DCoKFAVS/3f72faV8I3rHumm6EXp2emL6UXoeedl5bvi2d823i7ehd2M2+Ha9dql22bdzuDG5SHsNvNO+Vb+1ALWB/cMWxH0FHwZKh7kIF0hUSJvJKAmkighKmkqjiiCJMAe5RdqEJgKvQVJACb5qPFX6X3h6dlw04fQIc/WzcDL6Mmnx6zFm8XkxcXG48nUzuHT5ddw3ZDkOOvH8Nr3Cf9tBAoJbQ1KETgVihnzHXMieiVKKCwrwSzVK+EqAiujKTwnWyW8Ix4grRpXFQQRMA14CZ4HDQdoBgUGhgZHBhgFWgQ2A1gBaf58+5/49PXH8jzwZe4j7kDvzvAZ8RjwKO4P7CHqmefT5mfnBejl59/mROaa5QDmpOeW6nfwd/Yh/HwBBAbHCmsPBxScGPAbjR8bIpYjGyPpIswkVia+JcUkrSLNHSEXrRAfCuYDIf9i+vX0SO4p58PgWdq007DOU82KzFbKeciyx93HBMdbxtTHQ8sM0O7Vtts44TTmLOvc7yP1FvuiACYGxQqKDdIQchVGGm4dyR/KIYcjwCQSJJMi1SBYH1MdYhtRGTUWKhKdDVAI6APZAUQC/AMQBSoGdgeKCNgIVgmlC/4MEg3wDIYMMgxACqQGsgIIAM/+NP9xALL/PvyG+UX2uvJS7z/tHO7X7hPtiuqg6a7p+ekm67bth/FT9v/7VgFgBXEIDAzLECAUbhdpG8ce0B9MH4YfQSBoIAQgSB9wHQMamRT7DgcJSwP+/gL6nvTL7vnop+Ie3K7Wn9Hbz4nPzc0tzMDKzsnbyO3IR8oqzm3UNtsD4TrlJ+n87YTzaPnw/rgExAmdDRoRHxTuFxocGx9dIegh5yJjJO4jfSJaIHQezhuOGIIVtBEsDlkLsQefBHsDXwQwBnUHVAgYCp8MGg+LEWgTtRO2E4MTgBLVEfMR7hCvDQEJGwXUBKsGIwYaA7P/ifuA9p/x/+1D7MTqneip5pTklOH7347gReC04PXkgetU8QT1zvbi+GL8VQD7BQINcxJEFUAXuhh8GVIbTx6cIKsgHR6FGhkXcRJWDfoJugZ2A6L+zfjR8jjsZuZd4YfdgNpb2CPXBdWV0rXRBdFl0ETSP9ZA23nfRuMV5zvqUu6h8x/57fyX/+4CjgfCCn0NDhEjFasXixjxGgYefh+mIEYhNSCKHfAbXBwRG3sX8xMGEucQ0A3SDNQPthKPExYUlRWhF1sZghpjG2gaQBl3GPgYoBezE1QRxQ5rCRAFCQSPBuwFQQAh+n/1lfLq7srqwudR5fji5eBM38feFt5C3f7cKN4A4uToN/Bx9Pr2Rvn1/fUDNQo6DyYUuRhcG0gcNx1PH0wiCiOWIGkeCB6rG6YWkBGoDSwKOAc6A8n9mfbu7tzpv+Ph3B3ZcdjZ12DUbc83zM7KM8oFy5nNhNGo0yfWttlI3Obf/uSc6qHvCfMx+Br/3wO8Br8KaxD7FfQZJR6hIaAjCyXuJa0lpSU6JnwmPCSrH8McshuwGuAYZxeEFnUW/BaKFxMWmBSuFakXqxdeFgoWzxaMFiQUShLJEQ8SeRBPDD4IbwaxBswGpgML/xH86vmt9mXyd+7L6+vpeeiY53nmKuXh4h7ig+II5ZDp1O/T8yH29/jx/REDbQdjDE0SDhj/G4IfUyL+I1IlnSZPJzAnZyiJJ6Qj5h4AG78YOhaZEYkL3gXB/675EvRu7eDmP+OU4P7cOtkA1RvSLNEP0FrPi9H01VjZQttf3IbffuQx6N/qjO5c8y76IAAfAy8FygmPD7ITJhbaGGscIiAhIegg7CA5ICQfjBwCGnoZ8hlaGG0U2RDJDxgRchE1ELgOLg+lECMRbhAUD3APdBDbEB8QHBDQEd4S+BD6C/cI7wl9C6EKKAj2Bs0FWgNEADP8Ufki99T0y/M68/HxFPBN7hDsgeoZ7A7wdfR992T5Jf1WAVYE+AaGC8wQhBWXGQIcQB6JIIMhtiL+I0UljCa4JiMlXCJUH+EclBoVGLAUIxCHC28GqwAm+Rbz3++47Cvo/uP24Tzgdd082znaxdqw2wze5N9x4NHjl+eY6Tzq2+xr8Xv1Hvn1+7z/cANzBnkI0QkuC0gOlxHyE6MUeRQhFFUUrxMHEdgPQhCFEUkReg/ZDIsKugk2CncKYQuNDQQQTRGIERoRBBHCEewTJRWkFQwWkhbMFIoQHQ2aCx8LgQqbCe0IQwewBV4C6v3e+pH5wfnr+Dj3ZPV29JPzCfFm7jzvgfJ09SD3RPga+xv+JADKATcEPwgDDSMQthEOE40Vdhd4GDQZ8BmmG+AcuBv3GXUZzhlwGD4W5xPeEEgNPgmiBWYB4fw4+aH09+/Q7MHpseW94VHgPuCm37rfiuCE4BDhlOJF5LTl2ufz6hrtJu9z8kz20vn2/An/KwG8BGYJHQ2TDyYSMhXkFs4X8RdwGOYYgxm4GU8ZqBntGTAY5BUrFSgVMxaMFygYLBjxF5oXtBd6FocVGhaBFlEWIhWYE0wRWw2sCtoIjwc3B2QGgwSxAc/+JP2C+gD4K/eB90D3lPan9gf2RPQj8+fzm/QT9mf3sPmT/Lr9fv95Am0F4wfiCa8MtxC3Ep8UZha+F4QZhxnHGIAYjReFFkoVPhRLE3gRqw+bDMgHogL8/tX8T/mL9GjwIe0o6rDm4eIj3xvdcdzS2r3Zb9q93Kbdxt1l3uDfp+K/45Lj6+Wb6dvs0e/f8kX2Hfhe+Wj9AAASAu4G8QzsEfAURBjnGUsYwhUfFpgZ3h1ZIGIhBSLqIaQhOCLeI0olmCZ8KQUqAidBJE0j8SKzIMke9R2+G1sYWhOvDO8G3gRoBMEB/fyL+fP2WvJG7HLn8eWQ5s7mv+SG49vjEuPZ4DDfbeD25PnpQe7O8SD2VPql/twCjQYsDCUS9BdpG7kdLSEhI/4lpyf3J18naiXvIssfXB17G5IZBxebEfIJnQIn/SH3du9Q6uLmKuG22kjW59E2zXfJKcdkxvbGJ8mPzBjPW9CH0izW/dgz3MTfYuWd66TwkfSy+Eb9OwEJAzsFWgklD7ATEBemGQkb6hs6HM0bbxswHL8cpR1HHyQe3Br3GDIY2hZ9FbkV0BbMF4gXChaGFNATtRMkEi4Qyw8IEAMOYwoVBvECdAGLAF3+NfvV9zn1gPNF8HzsZOvd6h/qMuh45mPlneSD5IrijuHG41rn6+kR6y3tifDV9Hz4QPt3/0UFTwliC9UOYxMoFyYaOBz6HC4d7R0xHlkcxho7GroZwxeIE2AOXQkwBEf/Wfms807v2uoO5qLgGtse16XTV9C0zbnMOM7Az83Ppc+m0ADUoNab2B7br96k5MDpEO4/8wL4YP34APwC7wbaDH4RsxTtF70b+h6mIBciviKAI6EkGSVbJVIktCMZI1YiISFZHuocAR6lHVgb+xg9GfYZ0hf2FecTDhEoD6QNdQrDBucEIgOG/y78QvoT+Pv0bfKZ70/s/+mk6LPmCuW142bhKeBv4IHf4t484IfigePZ5PfoEu448Sv05fiO/H//jANIB64K7w5aE38WIRi2GXMawxlsGPUWixUnFG0TDBLYDigLPgY2AfP8Zfia88Tux+rk5g7iAt6R2izYbNSP0YDQVdBM0RHSMdO91O/WOtnM2nvdrOGq5Yrplu3F8bb25vqB/rABDAZaCjgNWxDGFN4YGRsMHXIfeCCuH3wgOyEHIUIhBSKgIM8c7RqcG68bOBurGwYbhBnKGdAZWRhCF4oXNha/E0ERkQ7xC3gJQQWZAMb9s/yB+s/1b/Kd74zsnulJ57vk8uKf4s3hgd/a3W/fRuH44dzixuQ76KnsHfIt9rn5wf7DA8EHPAxMEN0TaRhoHB4evh6JIeEjOyKFH7keeR1YG3AZ2xd+FGkQYAz9BVz+TPjJ88fujekk5dHgPNyu12vSY830yhjKKMkoyT/KTcs3zEnOAdAE0prVZto53oLgCeTM6Z/u5/HV9Vr7vP+vAeMDUwdSDPERMxaxF94YdBsuHIcbOhxUHdYeUiDhH/AcrRveHEIcDBu3G/Ucrx2hHQQdcBs8G7MbFRoMFxwVpROoET8P8QqyBccCrAH3/rH67/a69BHxEezh5y/lPOTL40njLOHW3rfen99a357fW+Is6NrsHO/u8c72p/z4ADgF0worEdsVABmnHFEg/iLWJJ8mNSfMJZEkjyO5IFwdtBt2GbkTHw1HBxQBFvuc9YzwpuoW5hTiVd0K2HLTUtBxzlLNr80qz1PRsdKe02DVO9g33NHgKOV16ZXtb/CI8xP3Evr0/I4AUwUXCP8JwwvJDZ0PUhG0EnAU+RUJFrwUvRPlE7ETnhNpE5YSsBHvETUSvBF8EUASoxN7FIgUHBS0FGEVuhTFEvgQ6g9pD60NEQl8BEsCcwEX/xj8RPkB9rDxHe016RLoq+jb6KvmqePJ4VPg89+b4APi9uUj623vMvLq9Fv5Kf5vAyEJew/PFSwbVh75H3oh5yPYJhQoyicWJ60mLCX9IS0erRo6GBMVbQ/iCA0Dw/1c9/jveOro5tzi2NzL1pPS9c9vzmPNx81Nz+rQudL607rVRtkv3hHjeuep64HvQvMl9275P/3OAuwIZQ2tDyMSLBNoE1cUQxbeGFEbOhzeGpsXpxUoFc8U3RP8EvISxBP3E4MS4xDQEHMQ/Q95EJsRKhMyE9ESrhF/DuEMGw1fC+EGcwPrAaoALv4p+2r4wPO871jtseme5lTnlehL55XkCOOA4UDgcuDn4evk1uo98YbzifSM95H7gQA1B5cOHBWGGoEe6x4sHhQgnSPyJGwlsCXnI1cgFhyyFzUSZA7gDTsLtgMv/N32DvGr6fniLN8D3Q3ag9RGzv7JCcleyWDKBswnz4vSe9VF14jYPN0S5FnqQO7s8Sj3m/tM/poAdQTtCb8PexNbFPkV/hi0G3MdHB+cIOghBCJmIAgeuBxcHf8d/xwOG2AaFxtxG4gZ6RfnF2oZzxsWHWYbpBo9GwYaLRe8FOgUZBTBD3oJTQSAAkcCjf6o+NTzY/Ao7Z/op+Po4NbhxuHu30HeD9zb20PbPduU3kflUe7v8531mPfH/GQDzgpLElgZ+CBRJokn/CY2JwQqGSzBK8YqyCgHJcQg/RrCFAUQPA2DCSsDZvt5863s5+YZ4XnbMtg21v/Rdsx9yPPG2sdLya/Kos310evVmNht2ordoeIh6a7vsvNy9yT9zgCdAiIFBwoCEH4TDxWKFmoYpBqtHCAezB7AIMkhFyCgHe8bthvwG3sb4xpJGqwaVhp0GT4ZeBrCG90cTh++H38fuiA8IOkdZRzjGxsaUxY8Ex4QEw1PCigH8wIG/i/6V/b88VvueOwm637p0+az41vgdN2T27LcguAY5UTpA+3L7+vxqPXh+7cDXgttEj8Zph53IakiICR1Juoo2CnMKpgqSSiLJdMhax3BGaAWchLIDKMGxP+T+EnxYuud5QLgBNxy1frOUcqQxnzELsXqxz7KKMyBzqPRotM21p3cvOPb6l/wVfWj+gv/rwIVB/gMABNhGIgceCCLIqIjeSXqJ90oHyn3KVspYycjJKAi9CFoIBgemB0BHq0cFhsnGcMYGRlfGd8aqxt8G0oa8BeUFXUUwxLRD5INwQvkCewH+QSaALD7XviS9ezxN+/T7RzsnOkM5/PkFOK037ndINwy3Xnh8+QC54fpn+xU7/fypfgt/+AFTAznER0W9RmQHXofASI/JTIn3CY+JrMldyPDIOse2Bw3GaAUuQ6nByYBkfvG9RDwiuvl5nDhjNuH1YXPcsspy4jM/81ozx3RV9IY01LVydkC4DjnaO7F89n4ff5YA6wGugo2EZAXCR1pIXUjgyQ3JrEnnihFKh0sGixCKSwmtCNUIZMgqh6mG1Aajhl1GLgVIBPuEH8QJBKZEwoV6xRbFIwS3BAhEHsQuA8pDpcNpA1xDKYJUAaJAhL/nPzY+y77Tfku9rHyw++d7UDrEehw5Yvkm+Qd5W/l1+Wt5uznU+l87AvyGvh1/fcASgQFCWcNMhHYFH0YmhvJHaweSB4tHb8cXhyuG9Ua2hm8FxsSxApPBQoCMv6E+QD1zPD/68Pme+Bu2njV2dPB083T/dN81L/U7dQ51cPXNtzx4fbmm+ov7/vzvvdI+xL/VgPKCHsOGBJ2E0wU0xe9Gk4bNhzqHbgeIR2ZGkcY7BYYFuATJhEfDwAODw09C24IMAZiBTAGIQfOB4sIkwkACdQHegfxCPUJXQn9CBcJ6QkCCkkJuweoBXADXgIqAk8BJACS/g79qvo7+IL2MPQS8dvvru9576DvDvDg74Xv9u9s8fr09/cB+gf9lABlA4IGQwmADGwP6xFEFEEVmBZQF/wXiRfyFisX6hbWFA0RjA6ADBkJywVbAzMA4/wH+u31IvDF7Gfqm+eB5STkQeNr4kvhD+GN4EXhYOOl5Tbnp+rm7bPvHvFi84P1gfhP/EX/2gDOAvAEzAbZB2YJ+Qq3CicKzQkfCYoIDwgUB+gENwPlAR0AHf7s/L/7lfp7+XL5WPmz+Hv4YPhU+GX5gfpx+3f8//2p/z4AVQANAU0CHARfBRsHxgj7CZQJxgh0Cc8K7QpTCtcJkAmBCOsG6wSAA/QCBwJAAfH/FP9V//b+9f2t/db+cQD5AE8ClwNgBI0FIgaXByIJ+QmxCycNTQ1jDWAONg8jD+YNrwzADGEM+QrQCD0HAwZbA24Amf2i+0v5/fa88/zwG/BE76TtjOs06Vbob+f05tjmM+jy6MPoieiW6ZDqz+tN7U3uB/D98RH0Gvba9on3yvic+UH7Kf3E/cr9JP5B/qr+w/6+/tz+wf4K/5n+hv1K/oj+I/2T/ID8df0e/S/8yfvb+8D8l/xr++H6dvsG/NX78Pto/Az9df0p/aP8wfzJ/j4AYQCiAMwB3gLRAgMCzAHqAjYERAUoBR8FSwa+BlUFfwRLBWUHmwjdBxcIIQmgCasJYwjgB6wIyQkJCqEIwwfDBz4HtQXtBfYGMQfUBv8EFANYAo8CbAHl/vT9dv3/++z5nPe99eHz+fIK8n7wBO+37mHthOsi6wXrEesw6n7pHeqi6jbrIus/63PrNexJ7Wru3+/J8OHxHvOH9KL25ve5+M75JPtA/Gb9mP4QAGEBWAKsAqkCpAP+AxsEQgRfBYoG9AYVB10G4wUYBu8FHgVeBF4EywQHBFMDqQLYAVYCDgH//6YAfwGAAj0CSAJSA18DAQQqBFEEdAWDB1EINwhwCEYIoAjHCAQJTAoZDHgNVA27DOQMZA6hDhsOaA6OD5EQxxAWEFoPig5nDZ0MiQszCysL2gkyB/IENgNYAST/fP3I++v59/cV9lnzcfAy7jvs+upP6YznzObl5Wjki+Lt4XTit+EK4VbhLuIJ45Pj4uON5HfltebQ583ojuph7JLtF+/C8DnztvVP99P4evqh/K39mf9dAvoDrwQCBSsGkQfPBz0IvwlZCh0KXgobCk0KwwlyCYIJ4whSCAQI/AeSBqcFUQUPBZUE0wMtAwcDxgJiApYCIALXAbkBlQHSAVoCngL9AucCOQOxAx4FrgXaBaIGwAcMCY4JcAo5C9QLrwzSDL0MmA1TDpAOkg7JDikONw43DsQMbwsyC3oKGwmLB9kGbQX1Aj4B+f/0/qP9B/s6+f/3G/Zh9Mrye/EE8F7voe5B7a3sRuyj60zrreqT6o/q8upE6/DqOevf65jsOu4W7+Lv+fBG8nnzyfRG9jv4yvnR+rL78Pxh/ln/XgAfAegB4gIqA7EDGQStA7ADawStBBYEBgTNA+QCIwLAAR4BqgByAKf/nv4X/qX9Af1x+y77u/oG+736YvoD+vT5A/rV+cX5ifoM/LL8VP3X/aH+Mv92/xsBhgI3A/wDRgV/BtAG4gYvB50HfAiNCMwIOgmUCdUJMAm0CKwIRQjIBywHIAZJBjYGWwVqBD8E5AOAAmIBtQHHANz/LP9m/sT95vwA/Hn7v/pE+gj67/mH+Rf5OPmY+If4lfhb+C/4XPhI+Lz4Jvk1+X75a/ni+Yb5Efkj+nT63PoC/Nv8ov35/ab+jf8iAOIAtwFAAscCywNlBBYEOQR3BD4EhgQwBR0FUQU4BXsE3QONAwoDwQKxASYBLgAZAFn/5v2+/C38tvus+jz65fma+TH5lfg8+CL4I/g6+I74H/li+Sj6zPpG+7v7W/wF/b79M/8/ADkBEgL1AkcDoAOiBMoEMgXMBQIG8AUuBnMF+gTZBMMEegSrBDgEmAPvApsC+gHKAVkBYAFVASAB2gCiACABWQEMAb8ASgEeAR8BwgHKAeYBMAKXAv4C6gKrAqACoAKGAngCKQIxAh0CVgGaAUcBDAH+AP4AswBwAO0A2QD+ACIBawGsAbUBIgJCA7AD7wOTBHwEtAQRBd4EjAW/BZoFpAW3BbIFPgUwBXAFLwWcBAIEnwM0A1MCcwH5AGcAo/+L/tP9Wv3Z/Lf80ft8+w/7bvpw+gj6afkB+on6QPo/+uP6J/um+wL8Tvwj/VX+9f4+//n/KgBjAeEBRQKFAp0DCATwA1AEegQ1BJwE+wQfBWEFUAXjBAIFOQUKBeIEIgUiBXMEAgTQA6sDIwPQAr8C3AKfAicCygGgAaQB3AGkAXgBfwGEAUkBLQG7AF8AowDCAE0A8v8MAKD/Uv8r/xn/5f7y/lP/+P6+/sj+xP4H/zD//v5D//b/FgAHAM4AOQLiAswCZAPaA+YDPwRTBbQFbwWzBQgG+AWNBS0F/gSxBD8E9APhA2sDBgOTAk8CHQLMAUsBCQHhAIYAawAjALv/hP/g/+3/x//X/7D/KgC6AMEAsAAgATcBiwHOAd4BHQJ6AqEC2gLqArUCfQLDAp4CLAKqAhQDdgMTA2kDMANNA4EDJgN3ApwCzAJsArkC5QKHA5gDYQPLA2ADaQOUAywDbQMEBDcE+QP0A7wDZgN0A6sDkQPRAjwCPwIgAmABvABFAF3/Rv/Q/jH+lP5o/i7+Xf2s/Qv+If5p/nn+z/59/wcA8//8/+EAcwFvAdwBMwJdAssC/gIqA8oDqwNtA2IDhQOVAx8DHwNYA6UCEgI9AfYA6QCMAYsBKAEOAa8AnwARAIT/1f8vAEMA0/8vAFgARQCQANsAoAB8ACYBPgHoAZMC2wLoAjIDqwNsAzMEwQS3BH8EZQREBE8EiARxBAAEpwPYA6gDTANtA84DJQNdA50DjgIQAmICTwJJArwCKwMAA74ClgIRAq0B8gIDAzgCbgJUA60CswFaAkMCLQJZAsgCCAK0AaUBMwHlAIwAWABXAJUA/f8VABgAcP9p/3b/nf96/3MAoQBKAKsAlQBoAIoANAEeAX4BNQKJAtEBvAH1Ac4BLwInA88CoQIjA68CwAG7ApsC4gGfAUEBBwHeAO8ACAB3/1L/g/8T/7X/oQBDAMb/6/8TALz/UgCtADAAaAAdAWEB4ABLAYABFQFtAVIBawFSAsUCxQFOAckBLQG7AHwBnAFUAEkAywA8AAsA9/8v/vL7Zvyp/er8wv2s/uH9GP3S/fb9PvwC/MT7zPuc/FP9Zv1H/F/80vzC/JL9yP73/rj+A//m/hX+Qv5V/pz+Vv6l/1oAqP+s/kj+Nv63/V7+of01/az9bf0A/Wn86/xn/CP9Y/2E/Xz9wf3q/V780PsA/Uz+f/7L/sL/Qf8b/4P/mgDT/0v/3P/n/6n/fgCvAID/gABEAKP+hf6Z///+xv2T/3b/bv0Y/jH/mv0W/TT/m/4u/br9zPzr+0T9w/yz+8j98P72/J78zv+L/mL93v5p/zv+RP5XAAsAi/+H/w3/Sv6E/00Akv/K/37/Wf+x/6r/Vv4D/V78KPy5/Dz91f0j/Ub7d/sS+3769/pV+q/5Dfoy+mr6EvyX+1P66/pB++H6MPsv/Ff8rPsB/Lj8f/1e/U78Qfyo/Tb+KP5+/nr+6fy2+7D8UP5m/af8EP2a/KP8Sv10/ez8OPxh+yj7g/xG/Qr9J/xw/HT76vym/p/+xfzz/DH+tP1w/iD/tP4D/lD+9v7W/qv/1P7T/a399/5k/57/gwBF/x7+aP7L/lP/rv6T/vX9CP7b/ib+m/3h/QT+rPzV/dv+eP3R/MH9fv0R/Br8RPxL+7X65vp//OT9K/5+/sr+HP/Q/vj+UgDnAHEAzwE3AxMDogMGBeUE6gNcBNkFJAbIBUsGPQaRBeUEgAO6A/ADOAK5AOUADwDd/UP9/vyB+nn4z/gz+eD4Ovjk+Pb3DPiG+Fv4SfkU+pX5uvim+sz6l/qI+7P7LPvC+q38Rf24/E/8E/xt/Ez8sfu++vv58/gG9yj2xvXd8+7xQfK68cjvP/BZ8aHw3e+x8PvyM/TM9Jr1EPfN+Q38EP7cAPYDVgYICYINKBADESsT1hX9F94ZxRtHHNodgh7NHEgbMRtdGaMVFRSZFD0TihGWDygMUQjKBR8DxwAS/t761/cK9xX2BPNO8Kfvre7M7bjtVO2g7IXtV+6i7jnw4fFX8SfxqfF78+X1r/d++fX5Xfmh+Hz4KfhF9xv2X/Q/9Z30DvOG8BvtReqY58bmZ+as5pHm5uZj543oZulg6WvqOO3Y747zmPkQANEETwpQEW0Wxhv5IRYnrivvL0U06jY1Oxc8ETyFPEc72Td2McEsNCbaHx4a3hJiCfr/Gfl+8RHrDObu4AjeY9xT2RrXFtdK2IHWXNa92wXi4Oda7tL20vwSAfIHEw3MELYTKxjOGscc4BwMGL4S1A5CCmcFkAER/T31WO1a5afbjNI1zFTG1MJ8w6LDu8ISxHfEEsIowj7FxsjnzczWwd+j5pzvxvd7/DYA3QaTDJMR2BhRIIImbSnyLFAw4jAbMJYxRzYNOZw7Uz4+QdJCHUKiP9c68jO2K20jJx3oFpEP9geGAcf7QPOj6enhENop0uTMA8uiygrKqMrRzcrRxtSO2l7jMO3a9Vb/pguQFx8fpyXxLfIykDNJNq833DSHL5spDCD9FWcNkgSW/KX2nu875OTYdM+kxf+8griCuEK6kLzKvaK/1MNXx0XHUcsU0/PZr+Le61T0CPsbAcEEDwfIDM4R+BTRGtojJCndKQUstCstKMwmiCg2Kj4uSzQOONU6Xz+bPwU7SzWYL40nAiGgHGYT2grFBswA4PfY8YjrJN/71ILPusjAw5fFKMhXyPvMGNQ+2GHdG+iB8d74MQU9FHIgsyplMzc55DwAPhQ9VDwkOsIyHSjkHGwQrQO/+e3x4unD4IjUi8b0usyxBqgfopmjxaeJrLa0lb2ow6/IA8851AnbouXG8K76UASnDG0R8RToFeEU6RUtGHIZghw4IrskkSTvIukeOxrqGQIdGyDzJ0wzZjsDQGJGAkmlQ4Q7STMLKQYfsxbyCrkB+v0Q+KPs4OCd1hfJCrtjsTKsb6tnsPe3dcDvy1zXvuEt7v79lQ2EHTsw9EFHUI9buF+NXaJaTFcbUaZIlkBXND0idg+j/TTsUuB52A/QicYxvR601KmNov2gNaOyqf6z5sCfzETWft304rfoi+7/8k76DQU/Df8QJRJKEjsPLAZzADL+Hvya/HABZQgeDQ0Paw1wCbcGFQcPCUEQdB48LcY5pEPMSpRIJ0BlNVYojxzME20LBwIH+kzzw+un4rXYnM7pwq23T69Hr3a2pr0NyDrZhOmi8tj8VAzNGf8kQTNfQcZLzVQtW5lZsFIYTtNIoD50NdosMB+kC472BOZn2NbPUs03zHbJG8M9u4uyCKx7quqt7LTfwNLNr9gu5EzupfMw9a/4W/79AbgIJxLUF5cYVhdCEyIJbf0S9uLyOvKp9LD65QORC7sMkAzpDE0MJgpED6MdziyrO5FKJ1UCVqFPQ0QmNl8p9h5wFOMH+Psw8QvoQuAe14/NK8Rsu3y00rLNuPzCRtHf4hH06QEQDSkYYyUqMS05eUHcSWhOLk5mTX1KW0JSOvcy7idkGncN7f6F7HjcDdJUzKrL+81J0LnQMMzUwjG7lbgzuV2/j86Y39TrzvRv+8T83fwc/Av70v3mBaIMIw/8EoQSZgmI/l30Gujn37bfNeGJ5qzz//8nA6EGbgxSCvAGIAyiFiUkrzfzSLJRkVdgWOVMET4cNd4nWxdnDaAB4u/75J/iatxe06HP/MjRvoK+oMPnx3bTF+aR9XgBKg+bGEgeAigEMs42bjg7OfY26zIHLygoqx5yGHsTXgu5AILzTeSy1enKIMgIzbLSQNlD4Cjhs9fpzHfIncc/y3rXcedf9Er+VwShBQIEhwIaAHL+9wAJBjsJywrOC2sKCQQc+ZntjeTN36XhVehY9eAERQ9gFBsXlhfMFPkTNBuoKLs4cUopWJ9fg2HuWkBL3zqcKiMYXQpuAL/xseO13brZOdA1yh3Hjb6Hude9sMPizJvejvCp/J8HKg8qEjcXMB/HJLgoby0GLjErGimrJEwdjxgnFZcOmgZm/uDxQeXB3ZTZ7Npy4FPlCOm26sDkYthbz/HL/8oDznnXzOJ56xnyBfb69pT0E/IP8CXvI/Gk9Ij3hfk0/OD95/jG7avkWt9e3evfK+pr+VsGphAmGLYbxR3MHU0hOCeyMlpBeUyUVhVe0V79Vw1NcD0CKmYakg44/NHnQ9152E7UcdJ20KLL5shFyTnHpsrU2JPm0fBg/kwHdQvVExQguCdWLGAxUy4QJ+sjDiFEHJodtSDbHWgYzRLnBlL1hOe+3z/dmd8l41PoiO9k8HvniNtt0ebIksNcxTrPWdxg6HryU/pf/Qz4cfGM7BPphunU7eLyUfeA/rYDWv2/8afpM+Ih3kfjLPJ2BEAUYCEiKqwtkC1GKlIrmjNnQPtK/1JpXIlgdFwUVC1Gdy5UFvIFVfY94nPUu9FY0PfPBNBFykbEicagx63Fps2G3n/oW/I5A40MLg4VFikfux/AIIYknCHTHL0fOiElHb8cqR3IFjYP5gjM+//pCN+23WbgQeRG597qzexE5fzUZcd3v4W64bu3x3nWKeKl7j73xflD+fr0ne6768jvyPMA9oL84wWMCqQHM/8l9ADqDOMO5B3wOgNmE+IfZiwgM1QynDGUMk01izwCR1ZQX1gmYK9h3VrOThw7DCHGCI32PeI3z/DGmchnzOXO8c7GzGHKecXLwQ3HUtTk3/fr+PuUCcoSrx0/JicoaCpILR8rAybnJR8oqibFJ3Mp7SKvGukSvAK87EPdN9gS2pjfkuTp5uvmGeE30qDDZb2tug25XcACzz/eo+sc9ln7fPzL+bHyMe1v7V3xr/Vi/AYECwcJBfr84O9E5X/cPtqi5Qb4wgjUGdgoKC2KK8ssIy71LVk4iUZOThNXZmN6ZMdauFLRQaAlSQ0q+pjgzcxEyXbJnsox0VnSVcoKxmrD9ruEvuzPTd9U6yP8PArmD+cXOCEGIjMikidoKG4liiZ/J6UkeiKpIYwcrhX5C7f6r+kB3qXXMdmd317jm+LU4m/fGtP7xdK/Lb7wwMDJBdbx5CD1WP4uAecBg/9/+Mn0IvaW+MX80gMkCvAMCA1YA4nzsujN4njg1ujA+nMNrh7HKU0umTCiMZ4vxjA/PrxKtk7dVcVeEF6yVwJPMjp0H54JqO/i0ejDQsEUvfnAxMtry3bC9sHnv5C4nL1izrTbqeqIAbQS9xuHJ8YvlS39Lb8zDjP7LRguzS1xKdolCyTwHz8Xmght9WPhsNKezIvQYNsG4/DiN95h2NPMR77WtuW5IMMVz5ze2u2u+lUD0wZsA/X+Xvyi+lX7DADkBhwLgA0OD5MJ2vxN7wrkHN0d37vqf/u3DEgbwiKLJUEpiypRKsgvWTxlSHlOQ1PfVg1VAU1hPe4nERBk9BDWecIjvES76b6Yx3DMcMn+xAvAS7p/vOnHu9WS6S0D8BbpIwQxDDf6M40ykzN1MawuZi0TKgsmaiYKJFEbrBBn/7PoqtVDzPPKM9DU2xrnbexD6STeSNHUx73Ac75wyEbZfOrA+0kHNArpClMGo/zJ9eP0U/Ss9F/7xgKACMQM8woQAXL1Le036APrp/WEAnMUHiarLQgwlDU1O3o9vkPQS9dPXFSFV/FSUk2ARs41zh6KCCju6tIAw7a9Brtcu2a/8sDXwCvBPb6Ku+++FcgX1ZboCAJWGXYqFDJVMnUyezExLsEtlDCzL04qJCcYJH0ciBMXBHnvAN6Q0mDMPNBG2iTh1+WK6NfictWUySfB3Lw0wlDQQeK29hgHdgsXCGsCu/kF8rDyVPf6+vIAMAj4CkUI6AOs/NLxt+lV6K7rhfQZA1MSfh5zKV8xHzeVOjo8F0GuR/dLi07wUt9Uz1DVQ2ktGBLx937ef8v/xKHEssSVxOvCX74zulK2MrMctLu6U8dw20r2ThFgJoQ1IDuwOO41lje2ObY6HDuOONMycS12J8saPQno9iXkhNQCz5zPM9R73Yrk/+LT3HTUGMr6wXa+EcAVyhjcce6Y/DkEBgZhAoX8ivds+Ev+ogOBBq4JFgz4DCAKDgTR/3P9ofrX+AH9TQhdExwbHST4KzEwYDS9OFk7gz+MR0VPMFPrV9JU80OPLZEVT/nF5PDcANlf15LaZtnSzfzCALoXq1meUJ5zpfKyo8047r0HlxodKNArRiz+LgwxZzMnO5RCSURHRKtDjTqxJN4FKOiy1FLMWc1p1DjcHd5j2jbTAccouWywYqqdp+Swa8Wj2NLm+fJv95fyvu3G7e3z5v+4C2YSsRYnGgMcNRyWGO8RoA3/DD4LkgsdErEY2hukHZohoScoLzo36Dx+QqtKiE4rTKpMOU1/RIY0WCNcETgB+vQs7MHjONux0bjGYL1ps0aoZ6FMoeOj86s/vdXTbuqG/0AShx5jJ6wywj1kRelM9FIbV+laAlqZTUY15Rl3/1LoY9s42VrYI9iU2aXXvMzuvsyyK6XMm3SdzqdDuMXMSd/l6Z/tM+yt6Gvr6fa3AxEM0RNEHVwkCydiI4oeoxu/FwoUBRSMF2UYrRmLHYAe4R4hJeQsPzHSNuc/r0VBSNxL302XSSs+5ywUG1APQQch/6b4dvNE50zUisOhtqGp4Z6Tneai76mMsvi+Ts+i3b7mMfCo/DUMLhuWLA4+8EhwTaZTOVqsV2xNqTyGJZ0Kv/Ul6wXlYOHQ4OPcjNNbxja39apoogieS50VowWwfr75y7/XIN4+3unc+uCl7Pv5MgTpC5IWkCJfKg8tTzC5My4z1C7jLPQulzGCM5M11DOpLckpNCqnK7YtojLHN9E5HTu0OzM37ywoHwgRaAi1BY0CDf1m9a7ryt9R07vH5Lp1sDatbq72sTW6I8iF1lbfqeGR5dnuaf7WDwUhiTDZO7JDqktzVaZay1VgSIY2ESICElYL7wcbAF73ZPFs5mrVkMdEvo+zI6gCok6krq0fu8DGsczvzJ3J9MaXzPDaJ+gS8Sb5JANLCy8QChcpIcQp0ix5LWMwrTZKO7o6vjelNL8vqyi7JGInuyp6KOEhEhydGqQazBd/EjgOOwrmBGQDqwU1BJP7tfFY6TLgOdo42nfeluGC4qDiY+Fb38DcGNtB29jdk+RT8EwA/w/gGqEezB5ZINgiSiVoJoMlwiKKHv8aphejEt4KcQMl/7f7dPN460/puudi30zWQdXq2eXdauBx47HlmeOA3fLc4+S06lDoC+aT6d7rNusY7p71yPydATAGLwzsFDwcBx26GkwZrhdqFkMasiE0IlMb6BThEY8PJA1CDL8NcQ/zDjUOehFPFawRJAfz/s78d/pD+Nz83wYMDeQNNQ7bDRULCAeAAqz8Hfik+GX9OgXaDVwSfhGtDukKwwT6AUMDFwN7/5X+/f5P+pHzg+0n6eDmNuaO5J7kfOpk7iLp1+Et4OPj2+lD8MT3Bf8KAtz9I/q2/fEAk/rH8jLyCvKm7aDrtu/39I72D/WK9VD5Bv0V/GH7yv50ArADJgeoDScO8QfKAmUETwVZAXH9lfxS/cb8Lv6aBAMM6wuPBIb+qP4c//z+6wXeEuYcoB+JIdYlfSeJIq0aJxXGFJ8WKhgyG+Me7h8PHDkW5hDtDPoItQN0/jn7cvmp+BP55/h78ubmW92W1x/UVdU73NjinOOL4YriFuX95W7lhOdj7QTzYfW6+YEDYAoVBsn9M/l29kzxfO2T74nzs/WI9kX3wPeU9S3vm+rl6sDvKPUS/EUE6QZgBYECcQBe/ij86PsX/bgBwAaSC3gSfxjjFoAPcwvYCpcJ/QoVEzAeNSjpL4s0CDXTNLMwfSZaHAQZDBlQGSsbHxwiGm0UPAvh//32BvBT6eLkGeZW6HboXOlf6V/lNeCS3lbdqd0K4z7o0+cP5VXlCOo+8Ur3+vq//2cGxAiKBSYFGAg4CeEGgQS9BOAEaAKS/N71k+5N57HgRN7l3XLcDtvR2bPY9df41mbUV9SN2gzi6ee48RD8WQEYAoUDMgWfBsEMyBboH5gmHCxaL+sv4y1xKWYlrCc3LpEyUzYVPMBBHUHiOMEtmCNlG54T4A5XDigO2gqYBLr9hPTc58Pan9GXzgXPE9G51ufdteFE4angQODF3x/jquqr81z7NQOeCZAMzw0qDmEQfRW0GaYaLB1GIh8jvRtFEukHWfzr8R/rtufK5W7kcN0X0k7JBsTKvy+9db9ZxOvHasu30Uba0t9K4VLkFOwi9qUA1g3YHIsmQSuyLWMwizOPNag2+zfXOiE8jTvfPrVBZD1xNowzMjKFLbgmAyDNF14PyAc+Ak7+vvmC8Drl7N4t2kHTgc10yzXJvsTtwjDGl8z40rfWbNo44IrlIenu8B38BAUMDE0WtiJIKjsq4yUYIDkcARtkHSoj6SeSJXYcDBFzAiXye+bd4H/cPtei04fQLs3dyMTBWrlXtAm0ULj2wIzL99Mh2ZfevuTN6u3y0PyUBvcR5R98LX03Tj89RLREk0LWQOJBXUT8Rt5JRk1nT6BMQkfdQXo7tjGAJRwcXhbTDgoGmf8k+6/yDOYg2wHTg8rKwUq89LoPuou5rrsXwp3Ic8yj0WnavOJs6WX1YQUEEBYWoh+BLJE3Uz70QjFEMD5+MoEqfCvBLvAtiipYJpcaRga+8z/n1tvjzu7Er8GMwWrADrzZtlexkqkfpaipBrUqwGbJLNK82YngNefd8VwB0A8tGisjyy2wNgM8JUF+Rc5F/0SIRrxI9khcSQRK0UjeRShCMT4VOqEyvSe+HFwShQUy+ffx2+4W6mrhwNUczGDDH7qnseatka6Tr1qyXLj9v/LF2sso0qPYruH57pz+bxD9IWEu+zX3PElD1UfKSu1KOUbsPvE30zNvMlAySCwjG0IFNfNa4xfToMYmwd+8RrgKtZmyY610p+yjZqHnotisor7u0GreCuaJ6Obqx/Iz/0UNJB3TLMo3bjwAPX49B0B/QH0+3T/TROJG4UNeQaZBBD+HN5sybTJKMFcpiiJXHDYRNwEQ9ofycO4j57vgB9m6zlrFy74NuC+0rLbCuq285b/6yDfUHNxl4P3lgfKPAawQ+SGqM+w+JERySm1Q/FGjUHtP1UeqNwoqeifdKgMpJxwhCOfxXtlOw7e2C7KsrrWsSKzTp0ifOJvFnA6b/Ze8n9Gym8Wz0gDe0umo8Nfzl/wIDR8ccSYeMe463D2YO3c9+kIpRMw/dDx8PD88wjqzOKU3LjXcMFEtvSpNJ9gkxCH2GfQNXQF69S7s8emg7HDql+DD2WvWuc6Dwha9nsGCxObD1skl2NDiB+ZV6qrxu/cr/6IRGCoKOrVA0kXnSQRKo0lHTbBQLU14Qto0NSehHUga/xP1A6Du2dwzzfq7na58qc+ncqN/n4CfeKEsokKk/Kn5r/e2/MSm2GXmZu0Y93oEtA06Eh0csirPMXIwpTBSNac4CjrWPSRBnTz5M5MxwTE8LXopNi1eMaYvnS1gLlErySGuFnoQjQs2Aov4bPTr9Vf1NPC+6JbhD9q+z9fELL/1w4LMVtFO1HXaJeGw42DmXOzU9WIEwBdrKS40dTf4Ng05gzvKOqw8N0QRRpo4DyNqEkMKAQUE/671Xeke2v7IX7k3rayjup/bov+ngKo4re+ymLfdt863j76WzYfgAe+B+BwCGwmACsAOohnhIYskOSl9L3UvDyzlLeY0yzYZL/0nmCc9KUUnECf0Kw4vGy7KLegsMSeHIO4cQhjNEFgKiwXZAi8B+v3t92/wDec33ErTQMzRx4HJoM4a0KPR0tg64PTh5+Ot6/z1dwDPDikgfSyRL/ktki0yMVQ3Nz5hRGVDYzdXJvsWMAusBfoEfwBP9SbqL94Zznq9qrLmreSt/LIYuu++DcGLv3m+VMDWw+vME91D7cr1V/pGAJcFKwgdDX4TwRaYF+gagh9mIfQjhydHJusgJR+TIY0hKB7WHhAlWyntKPYnMymDKGYk2iG9IL8ddBwXHMwUMwlpAkoDjQKi+tLu3+Y84k3apNAGzm7Q49Ae1HraeNqu1+LgeO7p8YLxQvxLDiAZDRlRGTEh/ypeMIozUzdPOMsyzSb9Fm0K2QeiDB0QQgrU+jzpTNpFzGG+QrYguYvCx8nex8y+arvQv96/Dbv9vwHVJelu8HHxivGB8Tv0+PozA4EJ8Q6zFDMYehXXEQwWhx7CIXceXh1bIsEmZSbOI6AinCX0KgEylza6NWI0STYwNfotaChGJnMfGxb/ErQSEg2rA7X5+OxO37TWA9Ow0YnRBNMd1YrUk9AD0UTZOOGb5S7wdv56BjMKjhK6HO0g7yRkLp84xDx/PQ08yTKEIWYV3he6HWwZ7RGIDPj/COm50XDEjsH4xcTMl8/vzAHH3sCduh22qrXBwPzU3OKC5UTkdOSA5g/paOtc7jH3SgUfDz8PVg3wENkW5RcDFiUYRSAUJ1YlmiAEIbQk0yrMM7851zfOMQEyTDbRMx8sNCppKnkfkA5TCMMLdgn//EvvYOSc2XXPHclWx57Il8kzynrKOsnqyULQvdfZ3DzjYO+h/jcLIxMzF7UaaSLQLIszZzihP/pEFD7aLbMjUCV3J3giwRxgFf0EJe+R3WjTocwazBXR99I3y3+/LbpKunu3hrTXvQfP2tev1aPV5tqe3n/gAeeg8U75Bv+CBSwM+g6ZDzMVFh0dH8genCVSLZAsNinlK3IxmTU8O29CDEXCQio/eT2QPJk7Xzp8NSYoRhhtEF8M7wQG/Ev0eOlL28/R18uFxR3DycbZyD/Fs8LYyCvRVdVi12vfNO5y+7wEOA99GG8dEiPJLFo0qTU2PDdHa0bmNk0pxST6IUgdgxmZFBcId/Uh5cLXX8rZw33IVsygxAy4QbS/trC0Ra+LsW29B8jFzJXPEdTA2ZPetOGu5S7ti/cSAwILLw1mDFQP3BeiHTEgICREKNsp1SasI5Ij7Cm/NZo+Rz4AO485RTfRMiQxCzWcNhowdSWxG3YTDQpuAjH8APK95jDhrN/B2J3OA8luxwDGHcdNzCTS8dZ/2+3e4eJD6yT5HQlCFo4cmCBCJ4kvwjQdOvRCw0psSppBUDTyKTknKybyIb8ZLQxC+ojrgt5i0ezLrM5AzSXEJbuPtUW0NrbStJu077r6xbDL4MuQzB7RLtYd2abeJOoO+GL/vQO3B7cHwAi8EUMewiRwJfsmTiqwKc0lLijHM4U/sUMHQ30/QzpDODg62DutOs44cTUDK7gbEA85CGYGAwDU8znqzuZF4bXTq8cDxHrFM8UJyFTNr9E70qrR5tOC2DLhw+9bAjcOsBBVE6cYXR7IIwEtkDlgRENFQToXLAckByRvIgcefRxuF9MImvNG4ovZv9f91p7Tp84zyPLAJ7r2tt20ZbRluVzDq8l6yDjIbM060o3SSNVm4ozyBPuz/pIEeAqQDhYTkxqtI+cq7S+sM18zXzN6NxI/bEd4Se9FxkGLQFxA9j6bPAE8TTyWNj8lOxJWC+gIMgHB9rDweOwy48jVLMlRwYjA+cHYxM7KoMxzy7bNvtHj0uTVvOOz+HEH/wlaCigRsBn+HFEh9jC3QRNIikPbOWwsnCEjIlYotiuIJZYZnwv7+wvmt9Vw2AvfPNrTzmjIb8Iruia2MbXvtGm5+sL2ycLIHcXZxd7LW9G01u/ft+0J+aj8Vv02/dECNg9RHk4mmydZLDUx2S+bLckz9z5QRfhEYENvQNo72jpGPsw9FDgsMxsvTiKjDysGyQiVCAX9/vBv62DiftL3x/DGpsd1x8nL08+mzBLGTsaDzOzO7NIk4j71D/1//Pn96QLHCVoSqh5uLFk1AjnfNjku4CRSJ2cx9DRXLtckKB3uD/n94/D27O3sIesS5rTdUdGGxCq9xbpquf+7dMWZzAHIpL8TvrfBNsdQzuLYnOQM7tHzVvbH+AT/egv8GFMhTiV1LLAzCDSAMRY2/UBxSdNMREvVRkJDh0DoQBFDsEFIP+E7fi/9GjYPfQ9LD9oGz/oy8gDpytzMzgrHJsXaxrPJZclsxk/DBsREx2fIIcoe13frLPgW+Yj4Bf4BCWIUkxy2Jm80uj3LPQY2qy5aMQ85PjtTOGoxmygWH4cRUQIw9VHvG/AD7vfh/tHVyOHEnb3rs4yz9Lw5xF2/NbeLtHm2I7yOxA7NUNQf3JDl5esd7LXvjf2xDvAZlx4MJhIwozPwMVozDzyrRYFN3lCMTbhIV0aDQi8+4zyXPYw9sTT+Ie8RMwsdCMgBMPej7EjkDd7Y1dHJnb+9vhPEucMVwLvAXsQaxtLFa8bQzjzfPe1p9D74/vuiAyUQ/xlNIekq5Tf9QBVApjesM246ej+aP6M7rzXDLfchVxIkA3P62vjx9+jv8uLK1L7Ha793uRu0PbXgva/Cdbzbs/uwb7VYvTXFrs5e2/3m8u1i8QfzBfrjCjUeTirDL/A0mzm1OUU5mj4OSd5TNFq7WH5RUUl7Q0JEKUW3P8M5XDdlLM8Ynwp3BrECqfeR7GrmruCt1jXMlsMBv7W8Zb3pwpTEDsRKxPHF3cdDzcLZVeZZ7lj0z/yUBswNoRMWHr0pRC9AMJwyjjafOHI5pzopOAIy0ivTJSscChA8BRb+rfhq8vDoY93U0xrKjcCqueq5nr3YvDa3ObHWr5yzzLt1wnbFMMov09/cU+Jt54Dx0QCzDOERDBkaJuUwPzQpNxw9/UR2TQxWrFulWFlRO02gTSpOmEuYSRdDkzAtHJUT2BI1DtMDevju6rjc1tLLzNbF7b3DuoS9Z7zmtJGy2LmovTa6hsCT1NziouW+6PHxj/yVBVgSuyJ4LQ0ynTgFPwA82jS6O0tJr0vPQTE5qjQmKyscMA7zB/UGEgIw98jqMN0Zz4zHZMMPvS26UL8owYW4X65RrIqzUr5/xgXL5M+n15/fy+Qi6V3ziwRVFB4a2RuLJe8xRDd6OVg/pEfHURJa5VuEWKRT5lBwUexP4kqlRztDNjW5ISQWeRVLEOMCe/Qb6PLb7dDLyVHEb79tuN+0NrTpsL6t2rJBvLu9iL6cybHYq94K4JTo4fjnBq8QvRpDIsYloikQMF00uTV1O3xCoz3DL54nGSaTH1ISVghkBhUDHfiD6Lbc9tMPy5LGJcYsxHy/MLwFu0i3l7P4t+PDmM5Z0kfT8Nab3k3nGfAh/J0Miho2H0IeMCTyMEs7r0GVSsJUt1gtWDxY3FduUlFOGVJnVv5PdENNOCYrWBqrDaQNXA9hBbbynuFz1hTK+L8bvm/BB8G+vGm2b647qrSuq7ehv+fICNXp3snguOG15ynzagT8FaQiqSc+J78obi3VMeE1Pj2GRYhEZDcTK88l6iCOF0wOFAo1CFIB1/MM5KnUq8mtxjLHc8WjwlbBwLuxsRyrCK4fuPrD7Mw70GnRqNXD3RLnCfJDAkUSZBouHT0iHSo/MpE7lUaMUHNVXFeQV7NVT1JJT2lR01SyUDlFLjjsKjsdqxMnEiIQ+gOC8yrmG9o2zSDFusOtwzzAJLxPuCizr61Brky0/7m6wHjORNuI293WCt0p7az8bAp1F5EfcCCdIAElkytTMvc66kJXQSY24Sx3KNUgSxYRDyAOEg73Bsn3VuZ62XXSX86/yj7KZMtZyVvA+LUVtDS68sFUyj7S/tWx1u7aXeSQ7WD2FgUkFyUghh9qIuEtQTlNPsNEQVJVXUZdV1iLVTpU+FKTVIpXWlQLSEw41SsuIsQYIRTtEw0LZfdI5RHbdtICyjbGesZDxFO/jrk/tE2whq8stKi8k8cG0yfdGd8b3ZDgfO2Z/T4LaBgHIrwkiyTSJlMrkC8INyk+gD3ANNgqdSO4GkURhwp8Ca8IPgFC8mXgqtP3zlvNxMlfxt7Gf8bcv7e27rOLuF7AAcmV0F/VoNfD227kiu0X9uwClBNRHYYeTyFSLP44qD9pRG9M2VRTWSpYS1UUU0hRvVGmUfdMj0C7MKkmISCPGF4RegvRArTzD+IH1AnOD87IzM/FGMCAveu4nbNisXS0RLsLxM7MTNMu2QfcDt6K5on1BgQBDwcawyJmI2wgcCSdL604gjt3Pb49zDXnKEgfehesEB8Oeg4hCJb5SOnX2t7QCc3Iy8LKLcmqxbPAh7u4tz230731xlPNw9LI2hrhmONR6b70JAIHD2AZEyE0JTMpvTDkO99Fckz2ULJVTVliV19S5E/EUuFU8k9ISPQ/2jLOJDcb3xeKEyILlP9R8vTj0NY1zs3KDMryxn/DXL/5uSS2zbQNtiq8osbD0FfWINj52aneaegR9lwCDAx7FBgbSR82HzYg2SeAMFA0MDVdNGItQSKFGXsRtAi0BmUJbwRy9BbiFdbvz5zM6ckLx6nFDsT0wIG83LdTuOa+5sYazWbTTdpg4SLn6+z/8jT+rw7jGtAggSQtKgE0Nj+aR0RM+lCvVo5YH1X6UspU0FcpV5VRREkfP80zlCnjIeIcWxnWE0MInfet6PXeb9rJ1mnShM6LzPbH+L8Pu/C6Fr2VwAfJ9NIj103XPNlX4IPpqvMNAM0MtxMRF/gccCITJREpuDDzNgQ44jS4LSElph65F1YPvwqgCTQFXvci5i3Z3tIw0d3NYciuxBbDDsKDvhC5fbcYvYPGB83AzzLUPd2V5QrqD+7y+bkJCBNCFl8b2yS4LgI3vz61QyRG4Up0UHJRpEzNSjlR+VZsUbdEIT3ZOikxHiJ8GnAdLh2ZDwb9eu+x5sHfdNtv2NXTfs3SyZTF7r03uAy6JcFbxmTIJcuy0APWytfF2Qbj2/FZ/cMCAwbeC2sUxBpxHRsf0COTKUgrLyggIkscWhgOExYLQwZmBrQCCPdr6CXfrdu12DLUMs/yzCvM68gDxCbC7sIHxeLJ2s881I3XMd3E5Mbqe/Ak+aIFOg/tEo4WJSCJLbU2KjqRPRpDSUn8TLxLrEpITp9Ru0+VSdNEEEIxPUs0QCjoH1Ufoh6XFUMI0vvx8nTueems4VLae9n82HLR0MlzyBTN5NCo0NHOt9E72hHhNeO65FHq5vPd/YsCKQP3CBQUHRzIHI4aKR1NIpMkuyGqHWkbcxn2FdAOLAWy/nL+zfvv8a3nMeMu4FXay9JDzQzN8c4Oz07MmMj6x3LMlNLB1DTVNdvr5OTpo+vn8Az5xgD3BVwKoBB2GFsgDidgKjgqBi0jNSs7uzp8Om0+0D53OWo2NTmbOsU1+i5hK7gm/RxoFTgTehCICUgDJP+B9hrsjeUm4jjevNox2lLZn9SVzk3OX9G30p7S29Yh4ALlV+Xl5/PsivEn9vf+zgaUCQMMDhHUElIQ3RCvFfcYtBZ8EoIQ5Q1NB57+ivkO+LP2KfOw7LXjNNwE2f3Wq9Sd1PLVEdXx0WPPatDu067VQdhC3hrk5eZw6RHvMvNd9mj9HgeHDrcSKRYcGq4dUiDnJbkuXDWNNqA1ADdpN5A3IzmGO9c8gjzMOcs0Ly9ZKiEn1iNXHmkZ1xWfEjsMiQIe+qH1r/P28Pzrpeen5vnjGuAz3Wbc5N5A4fLgauHZ4yvnFuqs7Czv7/FB94j+1gFFArgGqQ3OEVUQkg6fEQMVQBQ/EAQP8A+jDPwFRwDC+wP2p/Ef7yns8eYD4tfeM9lf0eDM3M7n0UHRHs5azR3PoM+/zrfPUNQ0297h5ead6Ujr7u2W8lj4J/4pBosOlxLzEg0URBj6HFchPybTKQot+TAQM7kwlSzyLP8yFTgCNwQ0wjNRMmkrgSS6JOomNiQNIJId0xuqFzgR2gujCMsGuQfvCYcHTf/c91b3cvmH+I/2J/cA+Sz4v/VY9V/23PdI+m/8Rf3n/3UDPAS+/zr99gBVBtUHFAWNAZn+RPwL+ar3kPYC9PDwIO6C6v3kueEN3wbb69cv2I3a3NnP1qbUmdOk0knVLNss3oHd199S5ifq3unM7DP0k/ib+KP7pgNuCZcICAeICQQN2w8CE60VNhaQFlAYgBhyFmAWRBl0GzoaHBkbHWUgCB5iG9Uc+h5yHasdVCNJJ5gktCDTIEghgx2UGz4g8yGzGw0YRxr1Fy4ODglzC+AKEwb+AjoDsAAf+uP0/vKK8gjy3fGl8Xrvuet46ajp1+h851roGeww7d7oOObg6HXrNepi6rPrieub6lfrX+uT6cbpjuvS67Tqa+qy6qLqUeld6K7pp+vo69/qgOl86CvpqOug7Pvp4ecl6XLrJevS6R/oS+lw7Bftk+ww72rzzfLL70zxZPia/mYArAC9AlkHOwzdD38T7xgnHQIfgiKIKcQtKS5VL+4yBTY1Nw05QDnMNyQ3nDlAOdo2kjYgNBsu/ygPKqgrNCZBIPYf0h1CFX4O1A11DLkFOAFOAv4AD/oZ84/x8/BH7XrqQOsl67PnPOaG5wnl2+Aq4sXm0ebo5CrmnOhr52rlgedi7LzuuezS63btje1Z7DjtTO457E3rbe1I7JLnLObA53/lSuLO4Q/jt+JK4avfOt4/3pjgc+K44rbiI+R+56vqOuwn7o7zLfcr92/5awEdCRULUA3EEeEU0BZpGssfhCLIJBwoyipTLLYuUTDFLvYsiC20MZMz9DLpMPQuNiwgKV8oVih4KMInLSYrIrEelR1/HPIZGxe7FjoWMhMtER0P8QtvCNIG9wZFB7sECgD8+735bPkW+Mf13/TX81vwauzw6n/rb+xW69DnPuVG5iXod+aU48Hj1+Uq5PfjoOXC5D7jFuRn5tHj/OH+4xjl4uSh5AblXOSc5d7oIuh35rXpF+6c7abthPLF9tD39PiU+4f9bQCxBUQK+QlSCegMLxKlFGoT7hNHF3IZwxnbGV4aOhprGr0abRpDG7YcdRzGGZsY4Bg2GR0Z7RiWF+wUlRQJFvgU1xHCEMMR/RDIDWoMbA1UDHEJdwf3BpgFeQQ6BE0DLQH///79Hvq7+FD50fj/9eTzu/Kx73LrGuqY6rboVuWW5Qnm2+Fo3VneVOBt3eDaFN2x327ewdzA3CHe+9+I4dbioOMN5rPo0OiJ6T/tBvEm8vvyL/ZF+WH67vzQAWsEwASzBnEL/w03DsAP/xFsFNoWihj5FwUYkxpoG1YZKxmXHNIdKhvNGe4a4xryGRMb7RvBGvIZsxq7GaAXAhg/Gf8YMhcEF8AX9BaLFCQUvhXSEygRjhE7FCUTIQ8yDl8OVw3LC7gK3wjNBnEFoQKr/tf85fug+ND0vPND8lbtW+r86YjmUuKp4RLjXeE53fPbjNz021TaQ9sU3SbcKtoB2xvdOt2y3SLgb+Jk4v/iueUj6GzpSOu37f3vUvLQ9OX2Evh8+Xv7i/2z/7ABBwPXA14EhQVnBsoG4wcoCQAJtQiPCwUNnQqUCTsMkQ01DFIM2w5xENEPNA9oDy0RoRKfEs8SwRR9FmYWJhYmF/AY7BilGZ4cuB7iHWIcBx3tHisfzh34HOEdVxzXGIYXbResFM4QcQ8EDtsJ1QVUBEoCNP77+UP3uPVs8x/wMez/6XPpXOeI5LXiTOKN4cfgXeCW38DeS9974N7gtuAg4h7krOSv5B/mBunW6q/qpese7ubvbPBz8XfyJvPb8yL1avVs9ij4NPi/9gD35Pii+af4wfiQ+2j8V/sx/L3+WwBaADQBDQMLBSoGbgZgCHYJ7wrvDeoPdA/3D3UTYRVTFMYUSBgKGlYZXRkAGtUabBq9GrIa+RmCGbsYzxfMFjQWoxTMErUR/hC5D2ANLQvCCagIzAZBBJQCLQIAAUr+xPtw+ov5I/kT+EH19PO39ET0iPGA733wzvET8Kbumu/h71ruQO4977ruD+4H727vg+4S7lHunO6A7sDtuO3a7vvva+8L7cTtZ/Ev8uXw/vH89FD1CPRd9lj5cPrf+r/8wP5N/yYAAAJ5BNoFCAY1BxwKzgtDDCcNzw5FEcASgxN1FM4VDBeVF/YXTxg9GXcZnRj/GBwZ9BdyFtwWxxZqFJsTVhRqE5oQgw/zD+IOqQxtDLAMOgsgCboIywd+BsUG4gW0A7EDIwQbAh7/L//SAGz/jv1//rX9vfrf+n78Kvtu+Bb5BPu++Rr3mPbS9zT3F/Uc9Bf0tvOB8kvxpvCU8PvvOu/a7kLuvu4570buYe4y7zHwC/Ar8cjyQPMj82/09/bV94L3c/lo/Dr9R/0i/yQBYgL2A+cEIAbVB5MJRwqgCmAMMA5ADlEOpA9mEDUPgQ86EQwRyw5yDs4P6Q4EDbkMKQ2nDFcLWQrOCb4JEQkWCPwGbQZBBkkGTwXYA3QDmgO4Aq0BjAHdAiwDqgFkAfEBmgFYAAwBCwLFAQABKQAWAM//qv4Y/vT9Zv1h/Dv7Bvpp+cb4zvf79v/1//TJ8//yb/Je8Ujx7/BH8G7vh+/E7+nule6Z79rvx+6B72/xYvE/8OPwRPMP9N7zFPWb9+/4UvnP+kr8Pf1C/xIBqQKZA/4EXweiCJsJvgmkC3UNUgzbC5AN9Q3qDVwO4Q9iEGoPWw8bEIgPkw6bDnwPAhDXDusNyw5EDxYOxQyFDDsNEQ3HC7QLWwyWC4IKlwqVCgoKQwqYCtAJmwjLCPkIoAcxBsIGTQfxBNgCOQOSAqAABv+d/nb9uPsu+jf5jfhq9yb2HPWZ9P7zj/Ip8XnxjfG475rufu967wnu1+wm7fHty+1I7YjtJO5O7rTuM++R75XwS/GZ8V3yf/PS9KH1tPXT9pr40/hQ+Xf7c/2A/kr+qf9HArwCjwLtA/MFIwcNBykH6ggxChoK6QmbCoMLhQthC88LvAwTDa0MIg3zDcMNvw2XDiIP+A56D0MQYRD+D2MQIRGuED4QtRBfEcYQpg8/EOcQ4A+LDkkOdQ6HDRcMPQtGC7sK2whiBxoHhgb5BDIDewIDAmcAOf7c/IP8SPsN+Qv4+vfI9wT2NPTl8zT0oPOc8tDySPP98rrygPIM8+HzKfQd9Gn0OvXp9UP2OPaJ96z4NPgN+HD53PoP+qD4CPp1+3b7pvqz+un7svw//O37DP1d/jL+HP63/pb/qf9b/zcA5QD0AG4BdQKGAmwCYAO6A9oD0QTZBagFdQVRBjsH9AZXBgMH6QeZBzIGLQaVBlYGbQUyBTcFUQU5BGwD3AOKA0ACogHdAcgB5AD7/wEAVQCG/+f+fv/5/5v/Ev9J/wD/m/5y/1r/DP+1/93/O/8P/xf/v/4K/rz96v0G/vv9b/1f/W39X/27/KD88fxQ/cH8bPxF/Lf8k/z0+8z7Yfyc/Az8OfxG/V/9Ff2C/Tr+Kv4N/rD+/P4VAEgBaQE3AlIDIgStBD0FTAYQB3gHGwi1CckKxwomC0YMnQwsDBAMGAy4C/cLggtlC2sLQQvZCfMI5wjXCL8HjgZ8BtcF9wSlBAMERQMcA3YCJQIkAg8ClAGFAGcAeABAAKH/dv83/0r+Cv44/d381fxK/ID7Avth+wL7gfoU+jf6ffqF+YD4pvj9+OP3d/eI9/33Fvd29nn2Efb19SP26/Uy9qT2//Wi9Sf2p/YL9kf2z/f698v3a/gw+aH5yPlI+hn72/vP+6L8qP0n/oX+qP9zAYkBVAGkAn4DngGbAmgFgAVQBpoHAggjCMAJNwp/CQEKIQqcCXwKMwuzCawIuwm1CfYIRQkBCoYJQwkSCUcI4AfiB9IGxQYPCCMHuwZ6B2kHfwUNBYYGCwbYBAYF6ASnA00DCAQGAyUCgAIrAl0B1gAdALn+sv4W/gX9Uv3w/A78evvb+qX5efg2+Jv3xfal9oL2vPY+9kH2kvY59ob2F/cS9zP30/cm+PH3FPmj+m36u/r3+5D8x/yk/QH/0//l/5gAowHUAf8BTgM+BIwECgQ9BGgElQMHBccF+QXJBegFfAauBcEEWQRUBPwDtgR6BG0DogNRA58CxAKeA00DYgJhAnICMAL3AZIC5wJsAt0CrANsBCYESwPRAt4DpgOxAgwEmQToAnwC5AM8AxEBHQJDA+YB5ADiAI4A9v5Z/ub9wP0//p39RfyP+9z77fpU+k77EPuK+Qz5cPoi+3z5p/nH+tr6L/qA+sj7Q/vr+qz7q/xo/Nn7fv0s/iT+ff5J/+v/h/+q/3MAWQEDAR4BHgMvA5sB8wJVA5sBKQE/A/QCGgPtBGcEkAIcA24CAwHTAe4CpQGbAB4CSAEJ/2z+uP4y/sD/2gLjAyQEWQMVA2oDxQMSA4wCEAUcBTkFJAZhB/EF4gR9BjsHRAddBygHsQUkBZcEDwRVA9wCmAEPAe4BTgDS//r+Lf3W+zf8pPvc+kX8DfvK+Vz6v/sf+q76ofpq+Vj6hvx5/Rv85v6h/cr7Ufw9/Jb76vtS/Yb7L/0J/+39ufx+/ef9Nf3f/9kA7/3B/aX/yv5S/ukAkwGE/0oAugBL/5T/1wCWANn+3v+u/3n/AwHc/0f+vP6Q/sf9Zf8t/0f9gf4IAGz+NP/iA8ED1gEwA+sEcgP4AnIGGAaEBrgHeQh6CcoJiQhjB1wJFQkrB5wHnAe2BQ8F8wVtBVsESQW4BBUCcwFyAZAAlP92/+j+gP9nACb/zP0a/tH+Pv2s/nEA6/5o/bj+NAA9/qX9Wv8A/6j+Bf5n/pr+3f0C/T38+/yw/cn+/P7p/Rr9Af3I/Gb8ufxQ/K37e/xi/RP+LP9Q/6n9k/zC/f/+2/2q/Z/+OwAaAVICkgObAr4CUAIIAoIDgwSkA3QCzAR8BQ8FpgVaBp8GLQX4BJMEPgVQBekCuwL5BH4FyQOsBKgGCgQpAXwBvQLhAcwA2QCxACABOQCK/j7+Ef+0/uD9Mf6B/iH+u/2K/Kn7FP2I/Sz8LPwF/kD+N/vZ+rr8N/xR+UL5i/vF+5z5Kfmh+vr5tvdg9hn3YPdm9b71Aff19y74gfdF+Cz5BPpU+bn6uv3j/jn+LQBKAgsDNgNBBCEG5AeCChkLQAvTClkKmgmwCd4K2QoSC/sKYwrLCX4JtQdKBXwErASyA4ADgASAA/0BiQL7AsgAUQAEAtcBFQCH/7UB4wGlAOsAfQLAAqUAcQA+ASAA8v5A/lr/z/6G/r/+nf2m/Rj+TPwL+975UPky+AP37/c0+Bf4Pfbg9Yn3u/de9qz1T/jA+aX4sPhN+uT7tfrZ+jL+NAAzAdYAfwFDA60DUQMXBKQHJwiaBxII4QlHCmQJawlACk0KywndCRAKlQoFCk8JNAmUCpIL5QlYCHkIBQmWBpAGpwbBBtMGCgYNBb4FGgaZAwMDXgQ4A87/Sv9+AKH+w/s4/Of8EPyY+rb5Wfic9nb2h/V09Lz0kPSS84nyyPLG8VXwre8e8NHwSfEP8bbxcfIh8sHx2vIs9Tr1t/Wr9qD3m/it+Er5Cfth/IH8OP4xAJYBowFLAnsDqwT7BTYH7AhtCrYLlw1pEIQRdBJDE9QTShQDFMIUbBW8FosW9RVPFqMVrRMzEXEPvw1qCzEJ/Qb+BHUDjgHd/8n+UP1z+sb3oPbY9mP2dPbd+Db7mvq/+0j+t/6h/vf9/f5UAR4D9wSBBpkINgl+CM4HKgesBo4FiANYACj/L/76+zf5evYt9ZHz3fCP7wTvWe2X6g3pA+qY6Bfnaeb35/XpxOl867vvO/Lx8B/w+PJH9NbzEPYV+rX9KgFzA/MFLwj9CBoImAeVCCUK7go4DFwPuRHzE10UsRTEFZgWmRWCFR0YQBmIGK8YvxqgGuwXYBfuFY4TmQ9kDJgI2AQZ/434OfUt87Lu6emP6ULoIeeE55TojelG61DtxO7y8p/4fvz4AG4Hkgz4D4ITCReKGOgZQhuAG/QbVhwgG3gYmRa+ExsPEQuPCNsEx/7I+SL0Cu7z6Pbk2+Kt4rbj6uQ157voKOjD5mHnsub+5RboTevH7svyOvYf+KT5I/lm9YryXfHL78PslOym7wDy4/IR85XysfF+737tHewO7S7w0vP5+A7+GwPRBkQKcwy8DesO0BGQFbUY1RsYHwoiSyO+Ig8hdCChIPUeeR3jHdEf5R8eHiscbRrKF2oTLA+nCtYHlATM/xH8dvru90/0d/KG8XrvJe2B7IXqRegn6MvpFex0763zDPh+/QsCAATSBVkJaQrTCXQKCA1gDi4OvQ4LD24OnAyOCdcEFwCj+nX0au4f6dTknuFp4MbgFuHS4LrgKuCd3i3bOtgb17HW2Nfd2zPiw+em7IDwK/Jy8X7vFu8i7iftme7g8sn2PvrM/dMA2AEQAaT/Yf6z/mIACAO+Bv0LexH5FDkXZhlEGlMbpRzsHdAf5iGqIuciySJGInMhlyHhImIjGyS5JtQngydmJ/0m4iQjI6ghRB7HGqYYVBU/EDYLGAZm/yX46vAR60fnHuZz5GHi/+NR5ZbjGuGb4tHk/uVp6YHvxfXZ+nIAkAS1BpcIyAkrCsgKHwyZCy4KxQkaCboFdwLj/8f7aPae8j3wNu3o6H7k/eHq3nXbrNjB2UrdXOD0443oG+xc7Unuxe4l74Pw2vIQ9r/6/f7kAKECfwQLBCMC9wAeAIf+3vwM/ev9+/4UAEz/HABlAQsAi/44AAwDRQRrBrwJhQvfDIYO+w7gD7ASexQOFUoWAhYiEscOtg3LC2wKWgyRDpoPQxMlF2UZvhq7HLodYB1xHkkeGhwfGoEY+BTIEPEMNwcwAGT5ZvI/6xLmtuIS4Bregt1u3Vfd7N6T4XXlB+ol7wb0HvmO/fYAbQR+CAwM+A4XE5kW+RfFF4AWGxMTD08KSwS6/8b89flo9ubzJPKE7xLsbemv57Dl9eV45qjmHugf6vXqhusY7ojxgfVQ+rf/NAOiBf4HzgcRBcUCbQGUAHIArwCsAZoDowWWBAYCAwFn/1382PkK+5f9gwB6A0IHwgt7DlgN9QpuCVkHXwTzAdsBbQKBAzEE6wP1A8kBC/2H+e358frx+h7+CAWkC6cP0hOOF74ZdxmJGYEadBv/GgAabBk7GHYUdA4WCJUBLfrL8m/roeTu3n3bx9gW2NjZg9xV3oHgzuPe5Dblk+e06+/vvPXz/C0DDQlBDxMT7xRcFscVdRO8ERcQIA0DCpgJwwgtB3AGPQUGA6EBQwAJ/t78Kv2G/Uf9jv3I/lb/1f+cAWgEPQc2C5oOAhBeEOMP0Q1tClAHTwXpA78CNAKAAEH+nPxD+kL2cPOg8rDwVe+U8Crz+fUu+a/7Tv4EAQkCygF6AoQDwQItArkBBgCm/NT4kvW/8dvv6e6+7Yfu5O8e8Kzvvu6K7VrtKu7V8Dv2+f1hBr0OBBZdGlEbShwNHZQbQBrFGu4amxl9Fz8UExFQDTwINQH2+lT2CvB76VTlQeXD5R3l8uUp6UjsIe4G8CDzivc+/ML/jAN0CQoQMRU7GRkdWx+tHqsc1xrsGDEXJRViEzQT9xKcEZkQQRAeDiQKfAbpA7YAef1L/DP8L/wf/FX72Pph+3T6K/nV+ab7wvt3+rb5p/gs9onz1/D77trv+fD470zwM/LX8hLxhPEJ8yzyQvEA8gf0APc9+nj8g/5lAOAAHABz/1z+XP1l/er9i/3S/NT7ZfpW+Jn1M/PM8TzxaPD38GDyJ/Pp8u/zCfZc9835cv5xBIMJGg+kFAoZMxzFHm0hziTaJs4maiaDJJghVxzqFl4Tyw/tCgcHdAML/h75lfVS8tTuB+4a7svtX++v8eD0gflb/8cETghKDPcPexIFFUoYxxroHcchWiPIIiojKyI8Hr4a0BeAFBcREw2bCK4DGQBg/I/2yfHv7n3rZucE5nPmsead6NXqA+x07TLuUuxo6ano3Ogi6YHra+538LXxYvIn8p3wOu9w7OTpRumq6MPndel47UjwCfJL9bT32PcQ+KT4+/jE+Tb7z/yy/WH/+wCPACz/uP2L/Jr6qviB9yP3B/hx+Pr3Uflu+7D7U/sa/G7+PADuAuoGyAqWDg0SMRVGGLAcBiHZI3omsSmvKpYqFCujKikphygMKE0nWiZbJDsh/xx7GdgV9RCFDb0LdghQBL0BlP9L/cX7p/o4+vL5fvnj+FD5I/t3/af/NQKiBT4I9wlHC/4MYQ/GEPwQ7RHpE7UUnBOIErYRiQ8LDRwKegdhBL7/jfqT9XHxRu2f6ZTmm+QF4gzguN533QvddNwO25/aL9pf2pnb094m4yLnOey58Un2wPnH/PH+JQBYAoAEdAXTBjwIKAkuCTgJUAnTCBoIYQaxBAwDpwEoAN7+qv7L/Qf8l/rC+bH4H/fD9f/02fTi8wvzf/MM9bn2fvin+tb9VAAgA9sFqwhPDJ4PuBKRFjUbMR/lIeQj+yXeJuwlVCWAJNkiVyBZHdEayRcFFFIQXw3RCmEHagPr/8X8RPki9s/0LvQh8znyzPHY8eTxKfLL8pbzdvVM9934bvt5/iUBvANKBmUJngzVD8sSkxRJFpYXUxebFhsWvRQ4Et4Pbw1jCjAHUgTgAKf8Vvjd8+vu7+lI5ePhU+AB4BDgfOCN4VDj6uTn5svoZ+rU7EDvyfH79JT49PsA/34BbAOABdIFRgYKBlgG3QZDBn0G4wfaCHMIPwd0BSQDqwAk/mr8o/qh+On2R/WC82zxv+/W7iTuM+5f7rnvF/GH8q703vYx+03/JwK+BRMLARC0E5EXOhvVHWQfux//HysggyD3H38epx2AHNIZ1xaxFPURzA6iC6sIWAWPAcX+NvxX+bL2I/S78ZXvge0j7K3rAux97NrsGu4f8Hjy7PQC+KL7VP8GAx4HFws3DiIQlBFxEj4TOxT3FLMVDRZSFUQTERCyDCkJ+AVTA6gAy/2Y+3X5fPej9nr1rPPF8QHwKu8K7h3tpOwN7UHuqu5X73Lx4PMo9fT1L/eO+Zf7svzq/m0BvwNZBXcGjQjMCowL4gpaCoMJKwc1BHwBqf6W+0D4UvVr8v3vNe6H7K7rNevS6dTpausO7Qbuwe/L8gL2Q/kC/tECUAf+Ck4NLxCZEwEWJhhbGqoc6h6xH2UggiHeIcYh3yCqH6Qd8hqFGHEWmRQMEoUPogxRCbcFTALE/hD7s/dp9IzxNe+i7YLssOtG7Ojsfu1B7+fx+PSi+Bz8Z/+mAiMGvgkbDacQuhODFnwY1hmkGsQaWxklF6MUSxH2DIkIsASQAd/+uvsQ+PX0s/FH7dDoCeU34Zrd3dpp2THZ2dka277cid844jDkjubi6PnqEu3r70DzdvdK+zL/AAOBBWQH/wdzCKIIZQefBRkEngJhAAz+afzv+if5j/e09lz20/Xf9In0bvQs9O7zC/TX9O71QPfx+K379P7qAVgEJgd2CsYMsQ5rEZQU7ha/GcYcPR8PIV4iLCOPIzAjvCHhHwUe6xvlGLQWuRSTEdkNeQqPB+gDYv/A+uv2XPNy8Nft0+uJ7D/t2u027+Pw7vJb9M72bfkh/O3+EwJ1BfoILAzfD6ISFBTWFEgVHxXnE+oROA/pC4YItAQaAeP+IPyO+K71b/Kx71vtkepy6KDlF+Ni4Y7gXeH14cniwuPF5MLlKOaj52TpW+oV69jsU++a8erz4PaT+Xj7dvxL/az+vv+MAF8B+AGVAoACLAJFAhwCDwFM/7/9dPzn+jj5o/ja+Kn4p/ew9rf2WPfe92r4h/mo+/n9UAAmBM0IjAxDEHkTRhacGPYach3uHj0f0h5DHvEdNx1aGz8ZwxYGFdUSwhDkDccKzAcXBa0CbAAV/kX8afpf+CL32fao9773z/dy+Ef5O/q5+3f9av9kAXUDTwWkBzQKvwzkDr8P1A/KD2sPrw5hDYALUglFBzUFvAL//7/9OPur90jzh+/H7DbriOqo6lLrx+oZ6hHqFuvA61Xrw+tM7HzsCO317aPvifF98wD1lfWE9pf3d/nj+mX7g/si/Cz9+P3K/+4A3gGBAdAAIAGjABABfAHUAf0B9AEeAsIBawEOAoMDUwSzBIgFYwdXCV4LkA3VDyUSRRSOFX0WqRbJFVwU2xL2EHEN1wk7BwcFNgKR/gn7PvdM9AvyNfCv7sftW+1X7Z7uy/CD82j25/ke/WoAegPVBTwIlwodDW8O0A4DDzoP1A8hEGAP2w38CzAK3geCBooEZwFx/k/7Hviy9NHx6O5b7D3qFOiK5pDmcecl6djrw+6M8EjyafQD99/4zPpX/Q8AwAPMBm8JGwzCDYUNdAzkClQIZwUnAxsCrQDz/qj9i/zB+yb7V/l29/H1JvX89Ev1Z/Yo+Ef6ovyz/lYA2QFfAnICuQMPBEgE0AUWCEcKkAy9DsMPUxF3EtYS/RPJFvsZNRxZHjYg3R/cHY4bShfKEMwKxQQs/sz3cPHj6w/oquVt41ThWeBh3prdd96j3y3hIOXb6kfxiPkIAqkIsw6pFDAZyhxfHjceJx3qHBgc3hiIFcUSrg80DRMKCQUQ/wb6DfW28CntsOnS5mnlKOXn48ThaN/F3Rne0N/D4d7j7uZf6jDtM/Bj8mPzJ/X99xr6Ifw8/jEAuAF9BYkHNwepB4QHJwcJB6AGaQR6AqcCsgOpBE4FrASiAxUEtwR0BZ0FQQZJBz8JMwuJChUJ/AfOBiUGgAZxBlgGvgfRCdgK5wwYEG0S5BU/G0YfsSBbIeYhMyHRH64cJBcJEQgMZwZhAYX73PNV7CDnQOPy347dbdyG28HbRt133snga+Zj7F7yJvnW/roE1Qq8ELsVvxhUGvAZAxk/GNAWxRTRETEPBAzkCIwGYwOdAdj/r/1I+yD41vUE9en1QfW88kfwZu1b6oLpduqP6tHqEuw77JDsruxN7IXshu3i7ZbtJu6w75HwQvL98pLyt/G58a7xgvKw9Iv2/vj2/F0BSAUfCvsO0BHXFLQWchfQGBMaoRudHA8cKRlHFDsQ7gxSCcEGjgXWBbAH+gmJC8IOZhNCFpEZLx6wH+cfVyFgH9YZfxTbDcUEt/3t+MjwQej/5PfhN9/M4KXiOuHC4E3jauP14/LoSe6285D8YAV3CtcPmRTCFOIT1hO0ETcOgQ1pDokNUQxrC2sJnAjZB0gFBQK5AEv+PfuP+n75E/co9r/20vUJ9bj0CPMH8v3yxfNt8zrzUvKb8IzwevFT8RDz+vUZ+Pn5BPu4+Y33KPVk8dTtX+rE5jPlfOYp6b/qJ+5V8nz0pPY6+qr8kf72Ai0J+A7sFBIcHyG6I+ckiCTjIW8dShl3Fd0S3BLVE+sUiheSG4ofJCSFKCUssCzaK2wq4CYKIbca2BOSC6ICpPh471rosuJY3y3dJtre1qPVUtU81GHUCNhd2+XgYuqW87j8kwc5EHEUGxeUGNEWOxMKElEQBg5YDesMqgy3DkQQBA6KCuAG6AGB/P73bvTH8a3wzu7d7KDsqOwI6zLrn+y26qno1uiq6C3obOpZ7crt+u8a9Ir1XfWi9vb1+/JH8WTvXOpR58Xneuex6KTtKvLe9EL4zPtQ/ngBqQQ/B7UL9xF0GFUeHSTAKC0rOisuKDMkdCHJHcwamxkGGEgXixoqHzMkJivqMCUzmTQMNTgwjCozJs8dfBLSCi8CjPW07mTsauiG5g7oR+W44TDj1uHF3N3c0eCc4cnlde+89an7GAUxC1wMRA5fDqEKIQmkCNsEVwJtAi4CXAOeBlgIPweQBwcGqwFr/+X7+/Zc9bb1V/Ox8Z3xUe8z7UDuF+5e6+HpHumG55fo0euW7oLzOPq+/ff+sP9L/Q/5OvW38ALrfOda5nfl3ef/6zDtr+0W8WDzDvPI9Nn4ivxUAT0JQxDaFrIfrCYfKbYpYSjiIo4clRrkGaEXHBdwGkkdHx9/IpckPiTkJLElbiOSHlccLheDD18LwwYJ/Tn25/RF8nTwOfBn7MfmfuZY5iDhMt/T4J7hC+YX71v2wf0iCSMR+RMeF4IXhhNaEOAODgy8CdEJ0AixCGUMkg0TClEG/wE2/If3H/Nr7ELobOi36FrpCuwu7fDsfO4N7jPo5OJr4PjdY9454xfniOpv8RX3hvhd+mX5pfPz71Xwq+7J7UDyA/ac+O39fwBY/xL/jP5q/MP9CAHKAbwGthHgGgEjLircK3EqJykaJSweeBxuHJ0agR0HI+cmJixjMv4z6zLOMpQtyyMMHLwSdgbG/aH2ZeuJ5PvlGudq6FftV+9X7CHqW+ZL35bav9j21Q7Xyd5c5pHuVfruBAkLWQ7+DA8IlQVuA9b+mf3+APIBZQLSBuAKBAzlCkEG6f65+Yv0wet25WzkJuMB45Lm/Omy7Gbwv/EQ7Xjmt+A73N/bAt+447brlvXg+8P94v9M/3n4SPAU6/7mWuXq6HbvJve+/twFWAy0DzEP4A3pDs8QwRLaFskc3yTHLpg1YzW4Musv3CprJYkiTiC9H+gjqCfnKu4yxzsJP4s+ez5SOukwgSQNFu4HE/1m8xfouOFV4Z/iOOaf6QTqbOfz5ebiZNve1d3UsNaF28Tk1O4T+REELAw2DosNRguyBej/2/ua+AL4gPuX/S/+mAFHBcIE3QAp/b730fKy7pnoJeSJ5UrooecZ6PbpLekC5onjKt+r2OvUwdRY1TXYRt8Z5xHtVfGV84Hygu/v6ojjjt5c4KXkGucU7OD0mf00BKcJgQyoDXIRrBX1GFgewyYmL/o1iTrfOh04AzUBMYMsgimLKEYnFSceKwExCDalOUc91jyVN/szzS5cIi8S7gX1+Sfs/eJc3x7gMOXR6ZPoLOie6f3jTtvq18vUns9H0TLZ4eC568n5OQLCBd0J8wm5BdsBgf5P+jr5nfro+wL/xgNzBrkG3ARf/+b3lvBw6ZnkpuGo39jgBObJ6crpwOpC6h3kaN2e2V3Uts+z0VTXnd3k5TrvBvWI9sL1pfHD6qnk3N+k3fDgtOZ+66LylfzLAkIEFQiTC7wMmRDsF8QgVi1bPatHDU7hVN5Vw070SGFF2DuKNbA2cTUINBo6oT+1PeU7IjxhNuctSCWiGHsKuP+a8efgkNnh2jnd+N+P40vkXONP4HnYRc/OySvGPsTZxz3P7NlV6DT0svhk+xX9Yvd27nrrLuq+58bp5u8a9lr96QOvBAwA3fgx7xTmCeDO2RjUUtX53D3kXemx7Qfwa/D17fTn3+ED31jfgeBz46LnL+2M9P33KPUb8B3rxeLI2CfUp9Rk10fbZeLC62b1Iv6NA6wGDgoCD3gVoxwbJTMyFkL+TMxS/lXMVoxU7FGpTp1LvkyWUFBSVVPCV+VYulUOUxxN+kG3NzUuqB9dEiYK5/0w75Tp2OoJ6THpUuxL66vlid882CjPP8rUyKjKKNEc20rlCPBS+pgA5gKF/4b4qPPN7y7r3+lP7U/whvID99L55fd79dLwM+cb3xPb0NQA0EDTxdhv2m7bxtsv2uPXbNfs1PrRqtSx3NDk4Opm8xz8bgAM/Ur2ke9a6HThR9zN2eDZ1N3N4svmpuq07xfzRfNW9Ar6mQNODxodXy3wPS9MolQRVihUMFKQTw9Ma0t6S8dMj1HoVrlXilRZUbxKfUBhNfwqxSBmGHYOFgHT9ivzaPLJ81L3a/l6+sb7aPoT9cLuN+eJ3QLXA9VI10LfZuqA8nL4T/8QAuX+rvv297nySe5N6xHpZeuX79zuB+5L7l7p+N9i2kbWatBSy3bG/cDXwXXGI8UBw5vGUcc+wlPBdcM0xJrJzNGY1lXd7OhN7sXrtexz7R3mTt4O3jrgU+HT5XvrCPGc99r7Y/x7/ZcABQNCCMoTKSIiL9o7s0dZUBRVc1dbVtpSW1F9UqVTcFX5WnRgzWF8YRpf41ZZSh4+ry/IHiYREQb2+dvyCfOL8rfuweu16hnpcedJ5djisuFD4x7m5en47kn1+vvbAQUFEAW8Ag/+svhW9dnyHu877aTubPA379bqvOVG4c/Zns4lxmHGIckUyunNTtQ115DVpdFwzILJZMcBwAW6tr7yxwTPPNiZ4zDp3eph6VjjtN0S3N/ZgdYd2f7fOeWx6lfxMvU79qr1HPUz91v9ZQQcDpUe4C0cNt890Ug0TylQdVL0VeVXMVrlXR5g5mKYZNxg81s6WV1TD0pZQ+g9cTbnLWUmKh+NGZ8WYRMjDdQFbP1+9fnvaOxl6GHlsOY06sTsBPBD9mP8jQCKA8gEwgOiA6UECQT5BeYHoQSlAe4BKgCa95XrEuLa2LjNWsStvnm/jsL+w4rFW8l6yprHvsMXwu/Adr1Pu4u+Lsb7zozWl93E5G3ofOYr5MXjvuAG3HzbTOBS5aznn+kn7lLzUPQX8Q7wePPB9/z6p/8rCGMTdxxWIoIn4CvtLZovJzQaOtg/I0bVSxtQh1NnVAZSjk2NR8RChz+CPEI5NTiqOAI3RTIWLb0nXSKoHEgUHAm5/977zfhX9MTwN+6u6x7oGeWD4rffSeBB4sPj7eYS7PHxUvhb/oYCnQS4BVsGFAWbAef9CPr29PHvcO0s7DDo4uEa3nbbfddG0m7N1smayGvIO8h9yEPK8curzZbR+dXa1jnVrdVc1q7UgdCB0PPUa9k827PdXuTT6zjvkvDg9Yb8ugC4BB8MoRWzHIIeVh82IpIj4iBiHuQgESQ7JxgspjK5N/o5EztaOz47sTh3M3swXTJZNuI5PT/TRQ1J10c6RThDCEBUO9A0Ai+jLYwtnyzuKr0otySEHF4RMQWb+dfuEuV73C3XQdY42M3ZZtvs3J3dLNwI2a7VONMd0u3RhNIb1bDbPOPv5/DpB+zZ7MToJ+Kl3PHZ59hl2ePbu99E5LnmDefD5zjp8+cA5PvgL+AC4KzfCd/L3r/eMt382djWhtVF0+TQ0dID2JHcy+Ec6/L1fP3EA88Jeg1CD/IQIxVUGh4g3SWgLIgzYzp0P0FC40MCRFlDhkKdQ3tFCkf5R4dJQ0shTJ9LM0pQSBNFyEDDPfs9Gz/MPyJAI0FBQLs7ijWcLpAkcBeaC2sD8P4m+gH1XPJv8TXv2+mA47TesdhR0FrJecjly7rNzM7L0iDYWNty2vfYLti11l7U2NLw1Ejart8Z4hrkuubA5ivjlt5V3nXgkuAG4rDmneyB8DzyMvPX8cLtz+dH4TjcZtlh2AfZ1duL3lTgEuO258vqwek26aLqf+zE7W3xgvlGAREHsAwQFV8cCiJJJmspeiuwK5EslS7rM8o5ej2iP5pCXUXyRRlFX0OCQak+tDvwObg6rjyGPoc/G0CyPjg7MDixM3IsxCOoHHAWtRAgCw0HGQSS//f4xvEd7C/lktuW0dXKQ8e9xOnErsirzfTQo9Ew0lrTQdNC0bfPctAJ0pvUR9mE4Abnduvi7vnxl/MJ9BDzrvAZ7zfuQe0c7Vju7e6k7nXvTu9P6xfk4d1i2kTX+tQt08jU0dkh35bjv+dA66Xqqeae5fXnqevI78X2S/+NCIUQsxfzHRIiwSLaIJIfpyHmJdYpXy69NJI6Fz9IQ3NFbkRMQilAiz7TPc4/HkTNSchPtVMAVG9TQlK5ThhJ4kKMPa84cTRpMAos1yW1HGUQYQOz9wnt1eKJ2qvUdtDvy83IJsiQyZXKaMkQyD3HicZFx/LKatDm1ULaKt/A5TDs+u/u8Wv0ivak9yv4c/mN+7D9qP78/tr88PW665fh8tkC1RjS1NBE0S7SqNHyz5LO/c0+zSXM9cqfywnOUtMX23fk/+yS8gz3ofvQ/ysCuwRLCWMPwhS9GLIbAB+lIsslaSddKIsoqihBKgMuNTN+OB09l0DMQmxEYEbISQ1PnFTiWDFcEF5NXqFcYFoJWLRUG08ESM5A2jh3LokibRc/DJD++u/n5LjeyNo617fTk9B6zM3HkMS/w6jDcsOixN/HGM2v0bLWatz34vXn+upK7vfw1PJH9Zn41/wBAHABbAGCAKT+qfmW8WTonN8m1kXNYsmgyjfMfsz7yy3LEcmrxcfCX8I0xbTIU83H1CjeMOaa7Lrykvd5+qb7+vyr/68CsAZTCkIOXhIKFeYUVxR3FG8UbROEE5AVPRnEHjglxS1qNlE8xj+WQrVFVUkKTnxUv1sAYl5lH2ceaL5m62E0W39TiEmOPfUvZiKvFkULFf/E8qDnft/H2NfTatDjzCrIHsITvPS3mrevuR29ccMwyvTO89Jm1wjdS+Fj5NfmuelM7Y/wA/Qs+lgAhQSIBrAGNAMs/eb2nvDB6Irg39n/1ebUetU/1jvXmdfN1E7PvsmMxqjGTspu0CfX7N4V59Lti/JU9rj4sPjI97b35vj7+54AtQYiDf0R9ROuEpcQ+w9AEW4T7xZyHQol3CwWNCM7/EJFSRpMnk3HTu1RzlZxXGNjSWn3a7drk2lDZcteGVh8UFVHRz3xMXwlsRnYDswEpPr48X3rcOZz4VbdwdkI1gnRacqKw+2/7783wsHG7czB0hLXutoj3oThw+SC6NrqQewE7irwGPNY95v7hf53/qb7yfY88LLowuAX2bPTetC0zlDOVNDs0uHU99Rx0vHNN8kPxubGB8sY0ZzXK98F55Dsz+7c7+7wwPAU793uovAA9OX3WPymAroIQwxxDT0N7A3dDqER4hZcHZwkbyx6NHY84EMOStBOP1JRVI9VVFgWXFFgZGTKZihnvWXZYt9el1kMUklJlT/RM5kmkhlnDW4DaftI9QjxTu0I6Wbjx9zE1MXMZ8Wbv2i8GbyKvk/D+MkH0bbXi91W4TLk9eZO6O/o8ult7PTvofNZ9xn7Fv7V/m386fcn8W3odN5P1fHOV8tYyu/Lyc6L0TvTa9PM0VDP7suNyH3HhMiLyzzRcdeO3W3jjOiN7MLus+8Z8E/w5vBy8ob1fPn7/RgDSAkQD5sT9RYBGhIdkh/HIhcovC4uNkc9wUNaSS1OGlG5Ug1VjVdvWW5aPVumW3lb/Vl4V2JUWE++R88+6zQRKYYcUxARBTf72fPf7r7qO+eK43Te7dco0APIssBLu8y3ELbgtqS5EL7kw4rLUdNN2ijhNOfg6gntWO8c8k70I/YS+Er6M/w//eH8nPpz9v3wfOl84RPaw9T70a7QH9BHzyHPJc+Iz1vPXc+gz4LPPM+qz9fQzNK61a3Zwt4s5ATq2O899e/6Hf+jAtcFyAnMDeAR3RUYGocepSJJJmQq9y4KNDk5JD/bRA1JXEy6TqBQZ1LWU3dWHVkhXP5e8WCRYt1iKWKHYIJczlaRT2dHBD5hM6UoBR4QE00JwQEJ+4f1UPBJ6x7lXd7F1vXPfck+xHPAC74BvTa9j75AwWnF9coA0TjXmN2W4mDmr+k27B/uN/CD8pP0s/ad+Cr6vPqL+YX2yvGY6xflTt9B2r/VZdKiz/LMOcv2yQnKlsq/yv7JpcmJyTfJqMksyxXOJdI115rc7eEb53zsrfHe9mz7Uf9aAxEIEA3eEXAWoBuEIYwmayvXL9k0SDoDQBBGJEsaTxRSzVRZV4xZVFttXIJdPl5IXhheD16KXfpbh1iBU+pMjkSDOxEyjCfGHAATngkBAQL5o/IA7Y7ny+Eq26bUI84ZyFrDE8BSveC6pLnzuYa7hr62wrnISM/A1abbLOGw5lnsWPEE9g/69Pzd/q7/n/+F/qD95/tY+C70Eu9p6ozmjuLg3vvacteV00fQZs7czK3L08ofyvDJA8o4y1DN6tCd1bvavN9T5CLpHe4I8/z3s/yPAQ0HnQ0BFPIZOB+QJLQpVC4DM2M4cT0rQZ9ExUePSu5M1E69T31Qt1GdUidTclNtUzZTqVJeUTJPpUxaSZVEvj7vNz4wvyfmHkEWNg0yBGH7rPMi7NfjpNtR1KbNoMfzwWK9sbnrtna0s7IRsTCw+rBYs+y2Z7v3wJfHIc6v1GXbQeLW6Ebvx/Wy+00AQgNZBaoGZgbHBKQC1/7m+t72IfMv7z3r0+e95MXhvt+n3Zjbftkq1+HUf9LG0LfP3s8X0czT19eg3A3iM+gq7jL0fvrrAKUHiA4rFYkbpyFTJ6wsozGVNpw79T+/Q+pGTEkuTEpOVFAdUqpT81RHVWpVtVQUU3JSBFHlTjRNGkueSLNFg0KcPrY5pTOmLHQk4hvSEk4Jtf+q9qztLeXV3EfVUs/7yWnFVsGcvRO7PLnLt0W2/LW6tjK49rpFvoDCH8dXzJLRI9ew3F/iTegC7oHzrvhO/RIBYwRNBugGuAaPBVUDeAAP/UX5T/WP8aTtV+r550/l8uKU4Pjd5trK12DVStNS0oHSQdPV1HjXwNoH3x7ky+lY8Hf3nP55BTsMfhJlGH8dxiKOJ3os/DFQNl46uD3BQLFDrkZ4SmVNrk8nUlZUSlYYV95WgFbBVbhTg1BFTS9KskYpQlw9MjgvMlErbSPLGt8RMwhd/uX0jev34nnaNtNfzUXID8QSwIm8brkMt3609bKHsl+zdbU7uL277L+TxOvJU88k1DrZsd6M5JvqT/A49Zr6uf/RA+4FZwdUCMsHbQZ0AxwA0vxn+SP2lPIM8OPtKuxw6q/oVObp46XhxN9B3hrd1NxQ3ZDeMuDF4lTm2upn7zH1bvvuAP0FHgvWED8VuBioHFwgryPcJigq/i0IMkE2vzo7P6BD3UelS1BOqFACUmJSH1JMUYlPR00IS09IY0WeQQo9+TdFMuYrNCS2G7oSvwljALH2nO1U5T3dTtVizvnHQcIwvaW4v7TcsQmwAa8rr7KwgbIiteO37LqevlnCtMYnzKnRw9cs3tTk3uvF8sf5iv8rBP4HiAp1C8UL6wogCWMHRAXhAk0Alv3o+mL4GfYD9PDx++/47T7sEOuK6WDov+fH5/fnm+iw6TXrSe0y8JzztPd1/CkBvgW0CsAPIRSQF0ob/B4aIuAlFio2L8Q0zTqIQGNG5EsXUZNVR1kOXC5dcF1LXYxb81l/V+FUUFLkTnVK6UTOPrQ3lC8UJ2QeKxVSDFoDU/q18V3pJuHf2ALRtMmQwmO87rbmsgewoK5trnuvVbGws5G2sLllvXHBtsUkypnOKNTd2ZHfw+U37A/yH/g7/f4AqgPEBecGrQbNBTQERwIxABj+qftC+Xj3q/Ww89Hxxu837Z7qW+iY5f3izOBZ32HeLt7Q3vnfs+Ey5OjmDupA7l3y2Pbb+2MBVQYNCxQQqRR7GX8erSPRKAEvhjUXOzhB9kbHS2ZQNFV0WQhcIV5JXy9fIV6eXHRa81duVAVQH0suRRo+yzUSLckjxxmcD7gFRfw+87HqnOKa2g7Tzst1xK+9grcZsj2uq6syqmGqSKwVr3+yuLZZuw/APMXSyknPgdT/2Y7fXOWz6yHy8fdI/dUBUgVXB2gIIwgTB7UF2QNgAqAAcP/z/SD9EfxD+qH4pPaA8+bv+uyQ6YrmQeQF40biaeJa45Tk2+UR6AzqTuzC7zHzT/YD+9P/XQQbCQYOBxOIFxEdRCKQJ0Qt0TO6OcA/KkaiSw5RY1WhWLlb5137Xndf7V6iXe1bz1lJVo1R2kvsRJk8SzP+KGQeCBPGB2L9+fPX6sTh39mg0pLLjMQVvnm3i7HqrBKpAaYhpFekw6UFqAWrg6+XtEe6FcADxnHM29KO2MXe2OUz7N/xQveL+0H/AAKaBAcGQAa6BiMGnQXpBPcDCANUAkQBP/9d/eL6Tfd188DvwevV5zDl/+Iy4c7gr+HG4ubkzOeY6p/tRPHp9Af4ofuq/z8E/wjYDQ4T6xitH9UlciwiMy46GEHDR8NN7VImWHVcEmBMYw9mcGjlaUBrv2oUaShn+WNUX0xZMFJjSmhBKTi6LSEi9hYCDCgBq/aU7Ezj/dpg0yTMfsVlv225Q7S6r9GrkqgMp5um4aZaqHmrGbAQtSS7I8I3yYvQNNfj3djjXOkF7h7yqPVV+JP6rfxS/i3/U/++/yYA7f9t//D+pf4i/tX8+Pph+BP1HfEN7ZDoEeSb4ObdwNtk2ljaOdv43GHf1eGJ5HvnQ+rB7EbvNPJh9R/5vf3yArIIRw9nFmQdVyS8K4Ey1jigPuZDZEhbTeVRjlX3WANcVV4uYJZhDGIkYTJfFVxTVxFRs0kkQaw3VC1xIgQY6g37A1f6zPHO6QbiLNvF1CHOqMfewYe88rYQshaueavzqb2pwqptrVqxj7YqvG7CT8m0zwrWydv04OHlNuqX7TjwC/LS87v11vb996b4yPmx+sj60/ql+iX67fgj94D16PLv713tpelS5nvjE+FJ3zjex92V3gLgtOGR4wPmyuhL6+HtlfBf8372Bfon/uACWQiyDqAVBh2nJEEsyDPcOo5BN0clTChRB1WlWOdb/V5NYUtjCWWCZWNlaGTDYbNdHVgNURtJGECoNY0q+B9fFTkLUgHJ98zu0OZK3/3X3NDwyYzDwL3Ut3yyfq6wq72pWqmCqsOsWrDctGK6S8CqxuHMqNKE2KHdTeIm5ojpIOzI7YLvBvEY8ovzSfVO9rz37vgD+ef41fjD+A33DfW58r/v/ex46pznIOXE47Ti/OEX4vjieOSN5qfos+ox7SXw1fKv9Qr5m/waAIcEbwmkDngULBtCIocpuTAyODw/wUWOS1JQBlUTWcNcyF+pYoZlx2d3aUhqN2qIaDtmmGJvXQtXTlATSOg+0jS2Kj8h4Rc5DnIFDv1L9Jbs9uT33AvVys0Mx47A7LomtvSyDbE1sMSw0LKYtgK7279UxaXK488F1X/ZYt0L4VXkDOdF6Ujq+uvX7Pztmu9W8AXxNPIe8+rydfIE8mXwRu5W7GDpUOYb44rg5d1r20Tactm+2MbYStk72rzbJN3h3mPhB+Tp5nLqqu7r8nH34vyYAr4IEg+BFYwcwyOvKkMxLDhdPghEm0ksTllSZFYkWlVdHGBQYnVjrGPvYrxgI16RWmBVH09eSDZBHDnDMPsoOCE2Gs0SfwuJBGb9qPUR7kPmVt6X1mrPI8mOwxq/8Lsjupy5NbowvOa/8MPEx73LU9DF1BfYSduP3nnh3+MJ5oPoMupI65ns/+1j7knu0O507x7vA+5F7Vvsi+qI6GjmtuOw4P3dgNtL2R7XZdWB1CLUMtQh1GjVbdeJ2OTaX90y4NTj8ee37H7xwvaO/HcCnAhWDsMUZxsvIlIp7i+7NtM9EEThSZZPwVSUWXJe5GE5ZcNnGWk0aWlneWXSYf5cPle7UFlJbEGhOX0xDymrIOEYThJQCyQEj/249vDuH+eF3wfYmc/RyNDD+77kuvG4wLjyuHq6Cr7ZwQjG5smczdPR0tTP1kPZxNvu3YjfBeLD5Dfmt+e06SXrCesr63Hrk+s/6hLpZOgP5yPlCuN54RHgw93i25HaI9ln19PWstdO2LnYJtqy3ADfHuE25NHntet/74P0W/rM/0sFhAtsEr4Y0x5DJQ0srTEyN0w94kKDR/1L2lBdVfhYAV1oYHBjn2WrZrZm0mT0YbRdZVhsUqtL7ERzPjE4jDK+LTQpBiXhIRweORmiFJkPMgnNAYj65/MM7Pjkad9X2uvVmtKc0FrPu82kzKrM4cz+y9jKyMpCyvvILMhRyCrIEsgWyVHLmc2az1/SX9U+2ILaDtx33sffMuCJ4Y/iV+No48HjdORy5KLkF+WK5ZjlKOWc5O7j+uLY4eDgXOBD4I/gfOFA46vliehM69buwvIF9hf63f5IA84HQQ0rE0sZ2B+2JmUtgDTZO1RCPEhKTqNTBFhaXGZg5WJwZN9luGVpZBViSV+QW6dWoVHGS6FFZj+mOAcy8CvcJDgdWhXxDLwDF/py8V3o7N7X1m/PCslrw0C/bbwBukW4jrcZt7m25bYot9C3n7jxuS28pL7VwUnFTcmizTjSe9ai2tHeEuKc5NznYOra65vtXO8q8G7wlPA38IzvHu417fnr1upL6eXnkubo5BHjiuGr4L7fTt9X4PPhf+PM5c7o2uvI76Pzt/hf/VACggcFDYkT9hmtID0oVzA7OARAcEgmUP1WY12AYslmYGrqbHNuEW+JbgptYGo+ZwNjmF22WJtTZE1JR+JA7zkLMqEpuiDJF8MNRQPR+OLu/+TN2wrUQ81Hx3DCkr4GvCe6G7gRt3y2LrZotbe1DLe5tzy5r7tlviPBGsQjyE3M7M+T1ADZK93j4O7jHeee6VzrZOxb7Vrue+5O7pnusu7j7Xzt4OyT687pfejJ5iXkueJB4lLhXeH94bnjDeYq6dTsn/BH9Gb4jvyjABwF9QkYD+kUGxsvIlApfzAoOEI/zEbPTVJUxFrZYN5lo2lqbRpwYHFdcfhw129hbSVqD2fhYkNe4VnHVFJPPUmOQhQ7AjM/KlcgbBaDDKYByfZF7Wbk39td1DfOiMjrw3rANr1Duvy35bUttJqyG7JFsoSy8LMLtnS40LqovbvAr8SXyEzMqtBI1NvXZ9uX3rzgo+KS5F7m4uc66UHqA+v362zsFOz56hjq0Oi35inl+OK54afgrt/Z38/g1eEg4/bkM+el6QXsDO+e8lL2Rfr7/l4Exgm1D98Vyxz4I/gqWzKFOWNAVEdtTnJU5VmmXtZisWVBZztoR2gmZ+xlrWOHYO9cPlmzVBJQ20onRZE+Xjd/L5AmzhykEo4HSPwe8vXoPN/x1rnQrMonxbHAar3nucy2nLUntOSyM7KLstyypLNytTS3WLkPvLy/ScPKxpPKAM8Y05XW2tnG3IXfhuE549XkQebh5q7nkOg16R7pF+lF6Y7oaOdK5kHlwONp4rfhCeHS4JLhveIF5LvlWugM643upPGQ9RX6jP6eA8IIsg6VFNQa/yEvKXAwnDfTP49Ha07MVChbP2EQZgRqsm2icABy33LjcllyK3Emb/drpWhQZPZebFkVVNxNdUZyPrY2kC2qI90Zvw/MBBz7c/FW6LvfJ9hk0UjLRsYXwk6+x7o/uC62VrQls2qy9bE6slizGrW1tvm45rsNv2fCGsYXyp7NL9GE1FzXDNok3JDd0N7S3z3g3eCc4SziVOKp4tLi/+L+4uXixOKK4vfhGeHx4CfhdOHx4Z3jG+VU5pro1OtX707zQ/hC/dQCcAgtDm8UCxs0IkspTjB7N2g+L0X/S2hSa1g4XnRje2fial9tQG+XbyRv1W5Ube1qFGgUZeZgNVzUV6hS30xrRn4/JzgaMF8n/B2pFOwK4wDS9hzt2+PI25jUHs5JyITD7r40uia2sbKur5StzaxerHiswa1sr2CxwLIMtdO3fbpBvUPATcRxyOXLbs/D0mXVl9dQ2d/axduX3KXdZt+64GvhNOLg4uri5eI34rvhVeHt4IvgC+C64FvhAeP65G7n0ema67fuSvGs9OH45v3IA4IK3RHmGCggGietLVM03DrDQKFGYkx9UjpYZl22YT1lmGhqa6lthm8hcP9u3momZAlcHlQRTQBHe0JwP2g8CDcmLxskbherCQ394vKo6pPjqd3U13jRhsp0wwa9G7g8tNqxpLBcsWmzgbZyu4fAl8R5x9rI58gTx8HFm8bqyDHNI9Pw2aPfPOJb4o7gLt252aHWYdRe0oHRLdHr0DrQAtDTz87P0s8d0KTP0c7+zo7QXtNJ1/XcnuLF53Xr3+1L8DLzG/hB/wkIdBF0G6wkjSxcM6U41T1sQ0VJfU4EVBRaKF/TY0BotWzgb/5wdnAVb2hsHGjQY4xfR1tPVmBQ00h/P4w1RCy4JPcdfRgsFH4P1wmxAgH7wPIp7IPnxeP24TzhoOCj3rHchtt/2hvaQdvn3LXePODZ4Dvh8OFj4vThTuGA4Cned9qZ1VLQlstzyIrHCsgXyBvIcsbPwnO+Y7nBtJSx97Dxse2zPbeNuiW9Z79jwVDDB8VRyOnMJtJ515fdHuS66qjww/W7+sn/dgQ1CTYO3hOuGv4hLinPL1I2RjzdQK1E5kgnTYBSKVgCXf1gR2MVZHljm2KNYT5gKV/hXW1b6lfkUvNMD0Z7Pe8zJCpDIa8aKxbtE0MSgxAaDloKxwSk/df2+PGJ7+Puqe8c8cnx6vC67hrsXemX5qLkX+SH5LjkB+TY4jfhTd5F2pzV0dBGy6HEtb0Ttwmx0K1nrc6vabNQt6y5bbhStfWx3a3Fqy+t37DNtny+ssXcyrLNA88zz0PQotJ41mHcxOMl683xY/eh+9b9hP83AtwETQgSDrsURhyYJH0sfTOgORo/eEOYRipJEk0FUq9WIVucX6dih2MQY5ZhT19iXH9ZCVd9VJ5Rik1XRzw/BTbuK8khKBlfExgQTw7bDB0L+wcNA/j8UfZS8IrrSOgX503m5uU85nbmoOW849Dh3t8g3tDcINwd3DLdF97s3m/eJdzd1zPSBcx/xLa8mbeatZu2jbquvzbEfcZrxrvDaL7XuO60nLPktbG7g8NwyrbQr9Tu1JbSdNCD0GPTcthU4KrpIfOW+8YBAwVDBhEHlQg+DBoSahk+I48umTlCQ0ZLtFAZVLRVmlYzWFZbqGCkZuBseXF8c0ty1W49aTJisVssVxJUNlJPT9hKRkQ3O10vKSMJGYYSPw8LDg8PTBAfEMoN9Ag/Aun6i/RE8Hnuwe5G8Hjy7PTi9dL07vHx7QPrMOhr5XDjaOMJ5WrmBeY645Pdl9a0zmLFeryWta6zwLX4ua++I8Jww3fBkrx6tUSu6amMqYCtd7TFvNDENcsBz57PUM0hynDJacz/0eDZ6uLt67PzRPn4+5z8LvyA/Hn/jQW+DgIaOCZQMgw8BkPKRldHLEZjRglK+1ClWS5i0GkCb0FvJmruYc5ZpFMwUUpRglLpU4tTtVCvSS0+MzCLImIZzRS4EzkU5RUhGUIasBZtDtgDO/rv8gPutev66w3v+POb96P3nvNs7W3mmuCr3DfaWNrn3WjjDOdF54TjWNyv0nHIir1wtA6v966Lsru3p7x2v0m/HrxKtg6vh6hDpTqmi6t1tA2+GcYQy9zMysshyZXGNcaYyZPR9dtp5qbvNvYW+wT9AP27/JL9XgHmCEEUziGiLxc8DkZtTYpRFFEzT6RPvlMWXDxm+G9vd117fXprc0NoHVzXUq1OsE9PUo1UW1WkUv9KYj23K4Qapw7VCfoIfQrMDp4UQBe/E+cLXgED9hXsUeZb5KHlUekR7gLyAvSt8Y3rzuMt3TvYd9VV1pfaw+CB5qToj+V03h/VpMoOwAy377EksD+xOLUvuui99b4Svda5+7SYriSpy6fWqnSxyLntwgHKvs4Y0bjPWcziyhDNkNIV2rDjNO1V9cf6Bf01/rn+av8BAsMIixPjH08sMjkaRNxLUFBwUetQv1DAUjpYN2Gha8N0WXo8fNN4OnByZKRZxlNMVP1XaFstXadci1aeRxk0WiHzE+4MEAwWD04VeBxKHwwc1xO7CCX8KfHG6kfokupu8O/16fru/fT77vRa6/viD9342bjZZN1J4y3pf+vI6KfhrNc4zMLBSbkytBGyMrJUtk68bsCpwQPAcb2AusK0ra7Sq4et27KAuZHAV8chzDjO280fy9rIH8k7zEjRK9kL4qLpqu5E8m71fvdN+Fb6LQDzCU0VuSCaLMk4kEPESqRNtU7hTtBOklGsV/heMmY2bfhxMHIVbddiCVdqTwVNaE3RTfhO90/NTCBD1zJOIFYR3whWBSQFNQmcDu0RVRHwDDIEzviQ71rqDudN5/DqD/Dx9Kn3xfaK8qnrbuM/3YPZu9cp2Gjbtd9g4uPhBd1J1Y7MEcNsune0qq9qrDqtYLGdtBK2KLcOuCe3SrPtrTmqJ6osreuynrlAwH/GqMqwy9nJhsfzxafGrcm70ILZm+GH6PjuKPWz+DH6afxjAdsIqBOaIEAuVjvRR6tS2lkhXApbJ1uFXcVhlGffbqB2tXz/f8F+ZXeba1xiDF1cWWNWKFYtVxFX6VA/Q5UxBiJUFnYNlAk+CdIKCg54D9cL+wPR+lXybuxV6LLlBOYt6SjtT/Ab8rXxJ+0D5kjh89082tvXbtnN3DPgNeLm4FPcDtaDz+zHXb/ltnew1K3jrqaxo7PJteW3ubhvtvGxtaxOqZSqrK/LtYW7TcLtybXO9c1Zy1nK1ckUy6jPi9dv4IrpfvIP+lj/ZQGNAbsDMArAEvocOSkjNgRC8Uw8VU5YI1jSV+NYj1y+Yjhp/m8ed/h8235ueXpw/mfpYD9bDFgYVlhV/VXzUx1LdT1/Ln4fMBUaEC4LfAiaC08Pxw2IB3r/lfeK8eDs6eje54nqiu428azzvPMk70rpP+Ry37fZ4dZ+13fYqNlN21DaVtca06vNhMhQwsu617OqriisKq3Rr06zcbYquQG7BroNtuGxH7FBs1C3DbwpwQnIJs2vzrfNCczqyfHIrco6zxvWk99X6Tfyd/kn/Yr+sADaAx4JIhPHH98rFTlrR8xRUVeDWdFYGlfrVrdZV1+yZpZv0njnfn5+UnftawdhHVgOUQ1O406OUM5RM0/ZQyUzkCPNFCYIugFuAD8AdQK3BekC9PkB8crpFeJp2vvWLteO2m/fKeW46kPtR+sk5zniiNu61N7RRNMT1lnZodxh3U7b7NfQ0kbKGMF3udSyia0GrEyus7HdtXm5WLuluuC3kbOKsDCxHrWsurvCNMsQ0iPWNtfP1a3SQtB1z/3R8tdj3+bnVfHS+Sb+fADdAg4FTQjPDhEYkyKQLu46gkWHTnpTrlRPVelV+lYTWwRilGlycYt4wHtPeuFz3WsiZbReNFpiWRZZNVhKVwlRZkJZMiYkihW4Cw8KtwpPC34OKg3YBAr7q/Dk5GTcn9lO2onc7uG/6O3tq/Ad8BXsMecj4ondxNwc35rhVOVR6vrr0ecl4/3eEdgB0JTIMsH0uoy3n7YMuJW6SLurucq3z7UQssKt+qy0sMe3F745w23IecwkzR7MCcy7y/bKY82W1O3bsuEk6STx7vbh+mL9cgC4BVoLkxEXG9kmRjBZOKlA9UZESkJMfU4zUfpVhFuaYA5mFWsAb55x53GmcIxvgm4nbOJptWfJZKxirmCcWkxRNEeOOy8v6iVQIZAdRRlBFbsPcgZ4+2jwquW33FPXddT10ijTBdPZ0UnSldOU0oDQxs+o0FnSUdRp1ovZx9xM3lXfZeDX4TbhTN6t2xnYEdJsy9LH8cX+woPAQL9AviK+PL2buuq4X7gPuNO2rbV/tgi5hLtgvljC88WqyBrL6s3J0mTZIN/Q5TPuYfXy+rcBMQp0Ek8ZpR9CJ2kvXDWaOWg/pEUCSupNjlAxUg5Vo1ckWrJdUGGkY6VkymQ3ZBxju2E/YDteClzqWZ9Wu1LaTsNHWzyWMF4lFRn1D0IMsAcjAYX7kvQL633hsNhT0AfKU8buw0fDY8TPxS3IRcrpytDK7MsCzqjOlc7K0LDV0tkK3driIOjc6anpPOkt5vzf1trD13TVa9VF2APaMNl1147TXM2+yGHGcsNxwOS/sb+YvpW/ucLGxa/Hh8mPyyjNn87/0v3aNeT37LX1YP3lA/YJ/Q+HFm0dXSU1LZwznTj9PeFE/0spUbVT9FQXVrRWUlbKVhhaR14XYj5k6WQIZQJkqWKBYQJgQV2/WthYUlSUTg1INz4mM8sqHST3G+AUCRDPCOn+wfQy663g4dZvznfHscLpvqW8e72Ov8G/8r71vt+9SL0sv4rC6MXjyTfP1tRH2mzfjePg5oXo6Ogo6PHk8uEa4V/iBeQR5trmIOXc4M7autNQzT3IacX3wyTCrMBtwFbB88FDwrTC9cKqwyXGZstN06bcK+ag7pn0cfmO/zoGKwzqEw4dCiYoLd8zUDu0QcRHGk2RUa9UCle9WdxceWClY1tmj2kZaz5qMWlUavtqUmoLaolou2QBYDRbS1UMT3FJsELVOQcwkialHmoYKRLjCX0B//gP7k3intls01bMAceUw5K/P7zNus+4b7aDtTi1uLQwtSu2R7iavPTB8MYvzEXR5dSG2Cvbn9ys3hDiw+NB5B/ln+Xi5pnoC+mS5y7klN+U2krWgNTK0uvPbs3Ay57KMcmWyCHKzsvny97Nk9IT2EzdfuNM6gTwnvSW+qoB6QndEU4ZZyCOJqorojFROTJAvkV9Sm5PUFRBV7lYoVv0X0FjMmUbZ4loY2h0ZzFnmGYuZJxg+FwdWBVTkk+cSiJDJjwtNLwp0x/iF08P4giGBRr/YPXd7Objsdnw0ePLF8TZvka9SLpatpG0qLNqsduvsq59roqvjrKytmy7gcDZw6nIWM/60zvW3tkQ3nvhxON05vTo+ep47dbvovEc8lfwAO1o6vbo4+YR5Yfk5eJj31Tc5Nob2b7Xg9cu2FDZNdpH20Pe6OM76aLtkvJj92v8sgKnCWcQOxghH3wkWypJMcU3vD2fQ1hJ/02WUqhWOlsJYKBjOWVfZ+Ro6mhiaHho5WeUZbZiC2CnXPNX5lGWS4VFqT8pORsy5iquI1gbRRKuCasBx/m48WjqAOPR2onTfc4gyhLF+79JvM64BbXisX6wzLD1sKWyWrUmuNC5ebv9vffARMQpyOjMN9I219baQN+05HLo1ek261jsyu3k74Hy4/Qh9iX2c/Xe88nx9e607AjrqegG5RHjD+Pk4kbjmeRC5oDn+eep6LfqOu418kH24vtRAlsHTAy3EqwYfRy7INInDS+jNNI6GUHjRupLL1BEVMlXgVreW2Vd1157X/hfDmDyXgtd5FrqV4tTyk9vS0dFZD97Oks1wy/tKXAjXhyqFG0MswNn+2Hzhuzo5vLiMd6/10zRxcqew7y8ereNtPCyFrKisdSxL7LCsmuzn7MatAW1MLd2u33AEsU0yebMLNGA1WjZlt384mrnA+pl6yfuk/Gz9Ab4Pvv7/Hz9g/2e+1r6GfoD+oD5B/k8+C733/b69kj3c/dl94f2C/Rb8YjxHPXU+Wz9bAC5AqoEeQjyDIAQwBN7GDMeoyQSK/UwqDY+PG5BH0UUSOdLvU+ZUktUrFV1VpJVJFPKUDVQv0/LTNVI90NOPsk45TL+LGkm4x4DF0sQnQnk/xf1qetD46rbndQIzvPHQMIruw6yiaqRpZqhL5/CnrCeYZ6gnrSf16KYp/arwrButhK9oMO8yzfVGd785drsqPLf9//91gRuCpkPwxK1EQkPfwzSCxMNag4gDj8MdgknBIT93/jq9f3yn/AO7ybuTe4C78fv2/Cn8gP0RvTi9az59/5zBBEKhg8YFKoXiRvCIHMm6SuDMDk0fzfLOHY5HTwYQRZGdEkZS25LfUu5SsNHQEY+Ru1EhUPkQ5JFgkXEQjU/YDoDNYswpCsTJ2MiPRxJFUIPHwik/IzxQOm44n7cQda7znLGqb1hs+uqbqYFpP+g7Z+KoU2ipKKCpWypL62tsda3rL/nxxnPg9Zp4H7qnfKw+LT+uQRoCnkPlxP3FmUXSRVHEpUPRg39CgAJYgc5BJz+Ivio8rTtX+eY4P/ddt6M3Zjcy92z3wzfKd+y4kzoTu3l8Zv4sQEOCXoOyRQdHAoi3CdUMCw59D0DPyk/UEH9Q3pHUUxmUVVU01IoT+hMw0raR0xFH0T8Q51DtEF8P+89RDsINnYxzC+SLSIoUSJ9HjgaehLCCPD/B/mM8Bfn199U20HUm8kiwV26nbGXqHKjdqFeoGGgHqGWo+qm7qc/qfyub7howk3LGNV93hLmB+0H9Rr+/QYnDu8TcBq+H8cgVyDeHq8brhYJEqkPvA01CuMDcP3c9ybx++hH4U3bZdbm0knTh9VI1kLW4tez25fgAuWA6tny7PqxAIwHxg8hGAog9yaSLRQ0fDlMPJM8fz1YPxVBeURJSt5Ne02dSzNITkKtPKc6IjzVPYw92TuVOuo4ajUyMl0wbC2WKSQmlyMOIVEdwRj6ElUMdQI79jbsnOaa4g/crtQWzuvFCbvPsNSpXqZ9pMOkO6dyqJSmH6XmpQiq0rFQvF/I3dSj3iLkNOmT80H+lwajDu0YiyMIKRkpiCeOJ9cl2R/kGkkadBi1EpYN0QiaAG32pOyL5Obdhtdx00LUGtcD1XrQM9Lq1SHW1dfV4G/rtPE596P/eQiBDhwTnhoTJHQqkS5ENTA8VT0JO5Y6cT4lQu5DsUZfSl1LpEakPyY74jipOD45pTqePAQ8fTiDNOMyIjHGLD0r8CyDLFspHyXCH8MZ8xMLCxkA2Pgm8/Ls/Oak4WHZ6c7CxaS88bJNrIWqfKqDqnOpq6bnpk6ogKgtrN61xcD4yUnUhd7n5U3sxvPQ+vQBZAtuFQEe4iJbIgofrx5oHvYZkhQRE8URDw7rB3oAQ/kv8kPqC+N13rXaqdV10+XTWtJO0PfSCNcv2ejbGuHA5kjtAfSt+bX/qwaDDXsUDhvZIJwmiy3fMYExYTJXNUM4rDsNP2lBj0LRQdY7TTW/M3s0jTVONrA2hDSqMd8tjicyJgwphyjqJWEmECZCINMZuRUwErcN5QdDACX6ZfMi6g7lUORo3SHQDsmuxji+u7MPsQSz3bHyrbSsOrATs5+yPrYfwE/JGc9t2OfjROuO8dr6pgVUDfYTOB33JhwtIivDKRgu0zDRLlQrtChkIi4ZPA8DBRj9LPhG9XXwlegY3ofT7Mypx1XD4sJ4xafJA89m0qHRrdIG2pniSOhi7/L7CAi1DoETIxq6ISsnViuHMl041Tl4OxtAYEPeQDo+K0BPQgY+pjc5Nnk3YDQ+LtYrTipLJUYgih+3IK0e3hsAHIwb/hX8DlgNag/0DE4HlgJN/LTzAOzV52XlNOJ93RvXw88+xpG7QbUWtEyyHq8sri6uKq1SrUqv6LFTuJfBpsmx0B/ZpeIg7OT0tfwwBQYQgBl2H14kFCkEKwktnDAIMgow3SuxJZ4e5xX0C68F3AQ1Ajf4fe1w5pze7NQNzwvNNc09zz3QNtA30J7Q/9Io2D3eruIB6pT2LwHUBdkJpxFqGtMgJyUSKwo0Gzr8O408Uj50P7lArEOCQyg/vDseOfU09i0nKEIlKyQuIjwdCxkDGKsXDxZcEksOXgr7CMcIFwj0CNUIdAVI/jP2be/m6tTq3uuj6ovmv94h1jrOmccCwUq9u79DwdK9kLrbu2a9CryvvILBbcfVzXfXJuFX5w3s3vFk+ewAhweKDggYRCEvJJci7yOtJ3wojycWJ0QlbyBTGgUTfQtSBMT9SPmn9cPtK+MK3XrZ1dKVzIzMG86mzTzOMM/6zjTRCNYa29zgKejP8Nn5cQLWB9QM/hM0G/whvyiaLkMzHDn5POo7vzuEPqA+jjxIO3s5GTZsMy8xwywvJ10hlBsSGdwXLhZWFTAV3xDhCcMFBQTfA7gF/QcLB1sDWv0U9vTyAvM68bbwhfJz8FHpE+Nr3kXZydY91mHUFdOa1InTaNAsz3DNCMzRz5nXzd1e4rHnFu0/8CzxM/Op+kwFEQzPEM8WVxpdG+AcwB93IL0gGyEyH7UcahrjFk0VehSnDMMAx/nv9FHt3uaR5Yzjat6C2qTV2c9fzbLNLc+r0WLV3Ni03azjvuib7uz13v3KBUkOIxa7HEYkGit+Li4yLTfxOjI9Tj76Pdk7PzlcNeswny4FLK4luh4RGr4UzA26CHkGTQOr/mz63Pcb9Tzy+/CB8eXyivLg8PDwvvBs7qTsGu4U8dLw3+0x7arsX+mD5o7m5uYT5k7k9+Iu4N/cKNyO3XbfB+CJ3wrh++Ot5L7kLuhd7vHzAfiJ/foDYwiXDD0STxh2HPUfAiX9Kfgq2yk6KjYqFyesIqgdYxn6FEwPmglOBfr/4fdI7zboDOGR2g/YPdif1+zWJNbR1SDWM9g72uDetOcw8eL4qwCfCDMPRhQcGZceXyVAKwswnjVWOGg2CTRGMxEypC7IK4ApTCXBH/IY3BALC3AGaQDZ+uj2ovNR8Jnul+0m7PfrNuss6j7sMO6q7zvzh/ji+iD73fz3/Pn6oPvG/Cz9EwBRA/4BB/6u+3/4LPOf8NrwzPDN8H/wQe7t67fp7+Ue5Erl3uUi54jq+e2w8Grzefb7+GX81ACgAy8HRw1HEi0VxRidG0obTxrBGXQYGxbaFOMTjBI+D2gJtAOO/vj3Y/FW7pPtzetY6UHn+OQA45rh0+Jk5dXo2Oxf8PP02vhx+9X+NwN2COINZBHBFA0aER8qIEwg5iJTJNMhLR+KHmEdjBoWFxAUERD0CUoDQP53+rz1S/Fd72fuv+tO6cPncuas5cHmXucb6dDsT/Dd8uT1h/iv+qP8Kv/gAEkCMgS1BTkG/QZoB3wGaQZaB8cGlQaEBhEGLQZ/BvAGEAeZBq0FzgJaASMBgwDbABACVQKoAWwAL/8q/TD8pf1N//IADwOLBPkEWwTOAoACUwP4A5oEMQVcBscFHgNXAUkBfgCq/gn+FP+w/jv9gPyZ/cv9zPw//P793P+B//f+OgFvA9EC+AE/BJEG0gYnB38HuwerB5AGjgW7BUYGBAWJA68CVAHO/s/8R/rV90f2X/Xo8yDz4fJ78X3vee7f7c3sxOxC7ojwlPLH8lLzxfXW9uf1EPYh+Vf8gv1F/nr/9/8y/1L/cAAHAe8BRgRXBgAHEQdJBxgIywgWCq4L2wxvDeANww3RDKwLyQvYDGEMSgvjCmYK0AjkBpEGiAaGBuQFdgWaBcEE7wKEAVkBhQFOAYgBEgIzAisBBwAAAK0AXgCdALoBpgIzAigCDgNMA80CcgPCA9oDBwSdA1ADOAMFA2oC1gHKALD/xv9VAJf/+f4J/zP+6/tR+9T6ePr1+rH60PkT+BP2MPQi867y1vE08X3xfvGX8ETv2u6A7/XvUPDI8dnzpfWM9on3Afgh+Bj5x/rJ/DP+wP97AeQBnAHgAWoCBANeBIcGVggZCH4HXQe6BrAFRAVUBT8G0AdKB+AFFwV/BKUC7gD3ALcCgQPnA1kEHgRMA8QBUwAFAMoA/wG/A8gE3AShBV4FNQQ4BI0FkAamB5EKugxmDCYMHQzPC5ILEQy0Df4OhA9CDwsPXw6YDRwNlQyeDAUNIA0IDEUKuwk+CasHJAbcBTkFxALXAA8Ac/5i/PL6WPrR+Hv2ofS+87Ly9fB67zLvDe8E7gntuuyZ7Nbs9u2m7hjvPu868OjwjPFt8oD0PvbI92v5Jfol/P/89v2l/04B/QInBAsGpwfiB54HIwhGCMgHHweSCKgJlgn/CF4I9QdLBlgFdgVjBfgEpAUiBq8F7gQwBCYEFwMWAsACoAMLBNIDNAQQBOMC4QEmAtMD6wSABX8GZwcTBmoEKQQDBVYF/AX6B9cISQimBtsFqAXBBEgE4gRjBlAHzgayBT4FHgRnA9UCEQMOBO8ExQVLBe4DyAIRApoAu/7j/lr/6P5J/Uz8Tfvl+CT2y/T583jzJfNh88rzX/Ls8Pjvke9s73XvlfDl8fPyb/O880H0MvSb9BX2Fvhs+in8Bv7k/80AywB9AQ0DSATVBW8H5AgnCQcJdghyB40G+wXSBTUGFwaeBQQFzATVAywCRAFVAUgBBwE0AboBbQGLAAYADACy/zH/B/97/8b/6f80APMAcgEUAZgAngBFAI8AIwFeArYCgAP7AzkD+QLcAu8DRwROBKgFjAb+BUEF+wS0BWsFCAWSBd8GOgdnBlYG+AYoBisFkgXbBQsGEQaABeUEQgQfA9IBeQEnAZAAr/+z/4T/gf5F/S78WvvA+jz6zvkL+uT5ufk3+Xb44/c890/37Pc7+Mf47Pne+uX6y/qv+kT7/fum/Mz9O/+W/6X/dv9h/03/N/9B//H/dAD8/+j+4f6I/ib9k/z//D/9pvxK/DL8z/xE/LT7AfwJ/ID8VvwG/dr9mv3B/R7+GP48/sD+J/9u/3D/av+H/5z/IQAGAOP/GwCPAIsAWgBdAFoAQQA3AAAA/v8nAE8AnQARATcBJgFVAZkBXQGlAYkCngNABFsE4wQKBbMEigTNBBwFnwUhBi0GygXdBT4FwQSOBKAEQQRxBEcE0AP0AncCCAJMAQABngA1APX/rv+x/wb/zf7Y/qD+sv6z/in/0/9BAH0AjQACARcBEAFeASABFgGvAfEBMgHUAHEAs/9r/hH9iv3g/Yj93fx2/A78Qvtx+mL63PrX+rX6evut+w/7lvrp+gj7uvop+/37mPwD/bz81/w0/S39E/04/b79Dv6y/RX+Yf7B/e78H/1O/f38hvym/I79Zv3F/Eb8d/yR/GP8RfzJ/GX9if3D/cX9rf2a/b399v3P/rX//P+EAL8AcABbAMQAuAEOAlECjQLWAgsDegJXAoEC0AK+AtsCWAN0AzED2wKfArUCqAK+ApsDhwPjAtoCdAPaAkMCZgJaAoYCmwJUAlQCawKZAh8CuQHYAd0BdwHHAMMA1QArAN7/sf9t/8P+Zf5H/vf9dv1p/ZH92v3T/Vf9nv0m/nz+lv0f/cL9MP6q/Sn++f7t/gz/ev/c/4P/Lv/W/xgAIwBkAFYAngCnAJEA8f/m/14A+v8AAK//PP9O/0T/o/4t/nP9E/79/Tv9av09/TP9af18/br9E/6d/t/+r/6r/uP+uP77/jD/eP+I/2r/M/8e/w3/KP84//v+av+k/0z/F/+F/0D/0v7+/l7/RP/6/iz/b/8O/w7/Tf+G/3r/k/+G/8T/2f/X/6T/4P+6/6P/oP/f/7T/Y//S/j//8f+S/7H/ef8H/17+ef4U/6n+if7M/oH+Y/6J/nH+Yv6m/r/+sf7e/rr+FP8CAAAAxf+CAJkB/gEMAkQC2QLuAjUDbgNCBIMEiwQGBTYF5ARJBKcE7gSNBEkEjARsBPYDoQM4A4ECVwKgAsECaAL2AfEBnwG3ARgB6wAeAcEA6gAVAZoAFQG/ACUAXQCJAKcATgCUABsBZwBFAEIA0/8z/4n/zv98/zn/+f4X/6z9ofza/H79d/1d/XX+5/6+/gn/+f5U/qT9TP1W/S3+gP7S/Ub9zP3R/ej8Vv1z/vz9af02/rz+8v2P/d79S/26/Bb9KP4K/oz9jP2S/Yj8vPsz/K38K/yC/Iz91PxA/M780Pwa/Fr7JvxM/X79kf0D/m7+Tv6b/Xn+8P9j/2z/FgHFARoBRAGkAbYBUAI3A1IDsQO2BDUF3gTTA5wCYgKRA4QEDgRxA84DUgOgAiIDsgI7AToAIwHfAdgAOwDPAG0BRgD6/+sBzQKfARcC+APqAlMBOAI4A0YC8AG5Ak0DDAO9AXABNAKBAaj/z//5AI4A6v7M/10Ad/4h/Yj+iv9f/f78v/7a/g39T/xL/i3+kvwQ/Zz+Wv5j/U/+ff9S/qz8aP6b/3D+7P3B/kX/mP7P/XD+yP4k/pv93v3g/oz+V/0v/cT9Mv12+8/7vfwa/Ib7Q/3J/cv7p/vV/R/9APxU/WD+V/45/sb/6wCh/3j/2gBRArYBlAGLAqIDWANKAmgC1wNtA0oCQwNwBCoEdAMkBFwEDAPOAXEDXwU2BOIDxQVkBSoDwgJDBNUEzAP6A0kFLgWMBG0ErwOrAngC2QJWA3oCMAL9ARgBBQBc/1f/bv5D/qT/3/9W/tv98/3M/Jv7/vvQ/A/9JPw0/Bv9OPy8+jP6ZPqv+lf6bPs//LT6SPlf+sL6Pvqw+cr5VPou+pL6Ift++4r5jfiJ+r/67/nB+2n9+/vs+nL9lv+D/kf+5ADFAXUBIgPeBQQG4gRHBW8HlQgOCBgJBAuRCn4JtQpKDK8Luwk7CToKtAtKCycJcglaCb0H2gYJB6AGdAVBBvAGIAWwAxMFswRmAnICGwSPBO4CvwJdA6oCeQKVAYcB2AAaAEgBSgErADL/K/08/Fv8C/sX+nH5fvkk+VL3RPZ49Rv0fPPk88Xz/fLS8trzIfNN8Bjw2PGs8l3xIfHN8jP0RPO88j/zwvPU9En1Svbb98H4uPl1+jf6Qvr++sH8Uv75/p0AkAEqAiQCxQGeA/AEYgWJBq0HagcECOQJaguHCpkJ2AxYD48PYBBqEdkRChH6EZQTmhMNEwITnhMvE/kRLRGIENkPqg5+DFkLDguMCbsGWQVIBHoB8v4S/3H+j/t0+dT4xPcL9U7zh/Mo82nxtfCL8YHxyvC38JjxNPEi8OrwS/LS8gDzrfMb9G/0J/RD9Lz0OfQz84jzR/W59Mbzg/SY9Izy5fDY8RrylfE28aHxJvJ88a/x1fIe873yp/TC+LL6Zfkl+kb9BP+U/+0A4gOBBi0J2AqpCtQLYw1qDiIPQxBpEWQTVBWKFWYV1BRMFWgVlhXtFg4YNxiwF7sWqhVOFNoSkBJuEmsR9A/0DjgNCQuXCQ0H1AP2AasBewDq/SD9lPw++TL2VfWX9LrysPH88dLydfIQ8u7xAfGo8BXxFPLD8tTzRPXd9V/11vTh9EH1jvVZ9v32dfYK9vL0xPN9803zY/Ke8bbxCfFo8J/wMvBZ7mLtTe5M7qzstuxZ7ufure1R7Wfu1e9R8YPyefOz9Q34PfoF/B/+8f9MAfMDKQfoCd0LHg4LEMkQ5xHXE68VlBc2GgcbwBswHcwe9h67Hc0etCDuIOQfryBkIsohLx/AHQEekR0kHFsaKRnZF80V/xPDEZMPXQwqCqAJ+AfZA14BeQAl/uf6+fga97DzrPGK8cLwbu987v/t6+yo65rqHOuC7BbtZe3O7gPwJvCS73DvcPDG8QfzTPMW8zf0MvQc88zxw/Gg8kHzVfOB8gHyX/G38CfvAu7Z7RzuR+7A7YntVO047E/rM+yh7DbsG+5X8O7wAfH08hL1yPXG9kz67/0EAGECZgXCBmAIDQsGDuUPkRIfFqEYtRryGz8d1R5DIG4hwCKaJNIlDSYCJpYm6iVAJIYjFiNfIs8gvR/HHVIa6BcoFTES5A1yCqEIBAY4Arf+//ti+DP0o/B+7jntDetA6Srot+b45Fjj/eJj40TjsON85eLmpOd66CbpNemQ6uDsLu5N7lbwffKz8rPx6/F58hjyvvBU8aLybPL28LLvLe8m7sbseuxX7eHtfO307FPtv+xl69rrJ+0a7lDvH/HT8+r0OvUa9xX6N/xS/j8CagbzCBMMRhBME/wUJxcTGtsdLyHtI9QmDilVKU0q9yvBLEktMi7wLm4ufS3zLHgriijJJboj9SGLH1YdOhu+F0MS9wxGCTUF+gAH/XL6U/cq85nuu+re51bk3eGo4C3gCN8n3nbd/9w53Dfch93o3rXg7eJB5WbmuecD6sLrSuyH7VnwZ/LI8pvyCfRt9Azz0PGs8avxG/D17sjt4Oyb6zfqNemd51Hms+Xe5bXlTuXg5QPnzecd6EHpZ+u07aTv+fE49Zj4Rvtb/pcC1wb+CkcPkROEF6Abyh+BIzInBiuZLm8ycjVIOH868DtiPaM+wT9kQCRAjj91Po88cjpRODo2QzMAL4gqPCd/IwoeQhh1Ez4PFwrpBHQA9vus9nnxCO496gjn7+RP4wvhPt4V3XvdHt313HveUuBu4XLi1eR659noRuof7SXwtfEC8wP1CPaR9RD1VfaZ96H2vvQr9Oby9u+C7CnqJuno5uLk/uJu4OXcpdom2iPZY9cn14rYgNlq2Ufa3Nvh3effRuNf5w3rYu8x9Jn4fvwZARwHpg3JEuoXgB1SIt4meSuoMLk1jDmnPNQ/U0LfQ/pEv0WxRbxEZ0P6QVZA/jwwOV818zCQK0cmRyF5G5IVxA/OCgoFC//9+c/0c+/46QjmZ+Pp4IXef9wW2wvaj9md2ZrZCtuT3Yfg0OKp5KDnPutl7ibwFfK89Pz2+vho+ub6R/ok+Sn4Ofeb9eHzQ/Iy8Mrsfeiw5U3jDeE83s/b7dkD2ELWY9Wv1CPUZ9Sg1XjXZ9mW25Hef+Fc5UnpZe2u8sf3+PznAXgHpg29EmIYRh6AI2wo5iz6MXs3cDwKQIVDkkbkR25JZEttTEBMZEvKSuRJwUZ+QhI/GTukNeov8SpjJvggqBr/E6kMRQWq/2z6R/Ve8NzrU+eG48Dfu9yM2vvZ9tkD2xbcbt2L35fhTeOB5b/pzO7f8tr1h/jl+o382/04////WwBEAJr/7/0D+7f3qfSG8F/rfOeh5b7iCd4p2VnVWdG2zULLv8pmyozJIcmFyUbKHstDzUrRcdXg2Gnds+Pr6Mvt9/Je+WcAEgdADpAVSBxEIlwnHC1dMxk6kEACRm5KpU00UcBTVlU+V75YgVkBWXpX9FToUfpNfki5QjI9ajinMx4tdyXtHIEUtgwIBlsAbvt89g7xAOvd5GzgEN663Lvb59qN227dH9/w35Xgj+KS5pbrHfDI8433GvrY+j/6BvtJ/sUACgK/AEf+K/up90z0V/BL7ArpwebV4uPcPNfc0fbMu8jAxH7CqMFkwdW/pLzvuZi6i724wNDDlcf5zLzR7tTj2H7ev+aN78n2Cf0jBJAMvxNTGWwe4ySbLaA1WDsdPxZD1UfZS2BOk1CjU3hVxFUJVORRKlAgTnBLYkUWPi44YzQHMD4piiBXGAoR7wlLAvz7ZPfA8rbsPOae4O/cRtuR2VrXDNbh1oDZdtuc2z3cCN8r5JTp2O4c9Bz5xPxG/gT+b/+QA4UIEgr+BwkFbgHi/a/5wPT48OLt7+pn5d3cxdTrzjTKhMVUwSa/pb6avEy3orFmr9CxXba4usW9F8EwxFHHFctl0GDYiOJ27PDzuPiT/mEHgRAvF90drCbMMJI5AT+OQttGokz/UvtXnlu2XuhgmmA+XdlZ0Vj/WEdWOk9dR7I/bjncMxEubyZ9HcQVVA59Bgn/Tfrp9vHx0uus5grkSuNM4c7eQ9653+7iA+YQ6BvpIewQ8f71o/qY/2MFuglcC7IKYApIDCUPORB4DhgL8gYJAwL+J/em8F7tuurm5Avcu9PfzUnIlMH3u06507fRtYqx4ay+qfypCa3YsJO0j7iNvALBvsMFx5HNZdhB4qTobe1g8yP7LAPICa4Q/hjVIUgprC8BNYQ6Q0FQR21MwVCTVaFaVFwlWyVZaVmdWhBanlaGTxtIREIiPUg4eTLKK6EjkxrqEOEHbQIg/8j6yvQx7gPphOX+4tnfUN5F4Pzjdudm6ZjqAezS7xD18/oyAaQHEA2IDqgNLA11DmMRJxO4EqQQmQ2xCbcDIP2j93H02vL27gPott8o2MnRGMz6xrPDC8KWv6O7Kbb4srGymrQyt5a5+bypwPTDV8fnySjO+NUM31nm6Or/74P2f/4yBhsNyhQdHVYkNCrDL+E1KD0ZRIhIYkwKULhTPFZ0VqpVPFWoVV9V3FLYTdpFKz7EOGQ01C+4KnwjmBnUDq4Fd//U+yb4I/RR77Tp1+LG3aDcwNz23HTe/uFJ5h/nseZv6PHsHPWH/XMDEQcgCUsLcAzBDFENuw+yEmQSeg7aCaMFWgFk/IT2PPLA8IPuxOcY3b3T4s6Oy5/HG8PovwO9vLi3tGyxm7Aus1q2pbiBuu68UMAMxNfGO8pB0YTatuHv5k3sj/Pa+7MD0gvhFWsfFCcILso0hzvoQhZKbVABVnZbj18XYuJi7WOwZcxm9mX+Yw1hSFtmUgVKrUODPz07pzSmKlQg/hadDhYITwNHABb+wvhh8FPoB+T84sPiS+I648LlYuew5uXliOiw7/f3if0SATgEfgfICYQKgAqtDGgQVRLyEIYM3QeDBMsA+Pvf9h/0o/Fc7LTjGtmY0c3NhcjIwkC+pbuMuDKz/61Uq7Crra1PsO6xurEIsrS0zLhRvNrAt8eXz4fV89km4PTowvKB+20EuQ3zFRkd8iQwLRg0ADqiQdJKClE7VMtWOlrDXQpfxF8RYSthXl97W+1UPksOQsA8eTkKNVUtjSP2GNIOHAa9AOH+d/37+MnwV+j+4f7fTd/G3jfeld7j3+LgQeE+46zo5+9k9h77z/5pAwYIMgttC5UL5Q0NEfcRBxC/DakLOQjZA1L/z/uw+Vf2zu9L59fekNdE0uDMusfWw3nA2btvtYSwkK/MsKGypbN6szqy4rEdtEa4/LsXwFHGfM2q0qPWyNzZ5aPwp/n5AXULmhPTGnghoydZLYk1HEBxSHRMTk8BVTJbQl6YXlBg22QxZ4hj7V2OWd1ULE14RFQ+pzqlN4MxfiYmGVAQ9gxAC/0Gdf8Q+PDx9uqg4jvdiN3Q37Xejtpa2LXa9N7N4n7l7Oks8CX2Efpt/Oz+vgHTBGEGkAVGBSUIOgotCDkCHP4j/q/9gflu8hTutOtR5rbdUdX2z5vMfcgGw3e8/Lbds1Oy+a9NrUqtn68jsN6to6xLr9e1FrsdvgTCVciQzwHWRd3W5YHwsPtdBb8NwhWqHQMm1i2KNbQ9zkb6TgRU71flW7FhU2eNa2dugm+QbwNva2ziaCllVF9cV4xPJUolRmNBXDmsLiwlhB7dGeAUHg+dCD8BAvmw8IHqH+j45rbjY94Z2wbcnN9q4y7le+a/6Nnsr/CQ8/j2Evqa+wr7//iw+Az82v6S/cH5yPc1+Bn4O/Q27lTpYuZg5OXfkdn600fPN8nBwd+7bLpKuzi7/LZzsc6ulK9TsV6xpLGJszS35boZvHe9ksPWzFfUa9m83+fpkPRu/JwCMgrgE6MdeyVJK2UwpzYvPk5FMksMUPtVQVxUX2lfNWDHY4tnCWgDZY1h7V0EWOtOL0eRQkg/qjvDNagtIiWMHc4VzA7fCI8DJ/4W+JDw/ubz3TvY99SY0inRxtKN1YzWWdZf1ufYUt094nHnGeyT7zLwaO937ynwdfH187v2kfm7+k35PfZV8znxM+9q7vDs8ehi4uzadtV00IjL98fpxejDLMBmvDS6n7lMuae3M7cguT+7q7vVu1W+FsK5xhvN/9RF3MDhF+jI8AT5gwAmCSITihu4H+wi5ijuMOU3CT5qRUlMX1KXVitaEF64Yg9nrWkiakhoKWWZYvpfWFxCV9RSbE8nSzJFmz/DO943LjLoKuAi1RscFdgMZwQs/eL1Uu5Y52LgQtuD1+fUuNMU03jS+tIg1PTTGNJ40R7T59WM15vX3NcA2U3aPdwt357haeN45Tvn5uhN6c/n3OUa5ZHjMuH43njdLdzx2gfY6dQZ02rS1dE60QbQcM6WzEDKwsdOxqfF4MY2yRbLC82gz6PTQ9gE3YrhjueS8AH5zP1nAtQIBhDHFjUeySbZMDY6eUIgSUpPylZjX6hmSWvOb9Nzi3XCde503nMoc0VyCW9KaVtiRF2rWkVV50yKRDQ9WzRDKYEdJhRuDHgCPvdi7e7kIN0R1kHP8cjQxCPDs8EyvzO8xLrhumm6abonuyq9MsCWwyXGBchazITQ99Ny10Lb598Z5G7lfOX85QfoSunA6eLpv+kJ6hbqzujC5urkieM+4jjgf91Y24PZz9a10+fQkM930FHRHNH00ajUMNcO2ljcpd704nToXO2R8SX34f0TBV4MMxMhG5Ek3C2MNqY+xkbiT89XL12LYdZmsmuZbjNwW3FKcgxyFG/mahxnv2LPXWJYD1KHSlZCpjn5L5gl/hoTEbMHqvx98S3oz9/k1o7OOcfPwUe9f7kitmu0JrOMsVSwMrBPsSy0grZQuLa68r2LwW/FccrUz+zTptdg2wvf+OG25HvnOelv6SPqAOt3633rO+tz6gbqHOrC6HbnDecO5uDj4+Fl4HffK94B3bzcW91F3Tzd197K4EviwOR46NbsPvAu9Kv65AAGBfgJaxKqG+0iFyokMr86dUEnR8FOf1dsXtZjFmjjaoBsnG7xcFpxc3A0byNueGsbZQRfkFpnVsJQhUjwPyU4BTCeJc4Zww8wB+j9cvRW6jfhEtrS0vLLwcVywFK9BLxHuUu1Z7Pls4K0vLMps4a07beVuhm8Rb7EwXzFBcmqzKzQPdW82Cjbbd2F39fg6uJ85FXkKuR15Ork5OSG4wbiFOLO4nLh9d+330bfwd3u25faWdrd2lHawdmt2kXcPt7K4Knjq+cJ7cHxIPbc+z4C6ggIEKQXAh9sJnEtSDV5PQRFk0xNVF9btmBTZY1qrG48cSNzW3TkdAZ0aHH/baBpzWQuYIFbQFWCThxH2T53Ns4sQSM6GroQUQaK+zTxhudy3/nXf9A2yjTFvsASvQS6WbcCtnq1YLRssymz9rMetdK1srY3uVm8fb/pwoLGPcpVzsjRlNTc1/7a1N223wXg0d/E4CThTuA74EDgGuDy38Lfyt5Q3lbePd5l3rnco9tl263b1tp42u/bad5N4a/jPeZl6uPvW/VW+vb/pgaxDSMU1BlsIHMozy84NkY9gURPS7tR8Fd1XSpiJGYxaq5sOm0xbUNtWmy4acllBmKEXrJaElUUT+VIFULbOvwyRyoaIRcY6A3NA+P5vvDO6JbhvNkF0qPLqMYuwqO+xLvQuQW4Gbahs5Oxa7B1sDCxprFXskO0KbeouYa8r796xMHJ3sxZz1PSc9YL2Tfasduz3XHgqOGs4dLhsOKa41HkmuR55R7nB+iF54TmseXa5cLmMecQ58jnaunE6wHuC/Cg8m73d/0QAi0GLAt2ESUZIx+mJC0sOzTvOiJB+UfiTmJV1Fv9YDBllWdLajltBm6kbbtt7G1FbA1o1mOsYFZdx1haUmBM20b/Pzc40y+LJTsbuRI+CgwBDfg08G3pD+Jz2oDU29CZzWDK9MZ9xBTDdMFBv9O9PLyduwW737p/uj27or2wvxHDLMYEyMbKXM0Rz0nQb9Hk0o/UltVX1ejUbdUd1U/U6tP905jUpdV31r3WkNc32JfYJ9lY2ZnZ+9oQ3CbebOEX5MHn3+w+8vD2NPtHAHkGlQ3FE2saaiI/KdAuxjSIOxZC+0f6TvtVDlyCYKJkAGkYa2ZqqGpOavxomWbrYwBi2F6aWm5WalPyT2xJhUMLPrw2+C6tJ1ghuhnzENAH8P+K+F7xeOsX59vi2d7O2yTa49eL1OvREtBSzmbMecoByofJGMgDx5fFccUPxhHGxMbWx6rIqMpNzEPMhMt5yoDJWMgXx9PFzcXFxj/Hmsb8xFbEKsUIxsXGr8cvydXLu86W0FvSk9Ty11Dch+Bv5LTose5P9l39LAMfCcUPKBaUHKYi9iijMFs3hz2GQ8BJCFCEVX9a516LYoRlXWhcakVrEGvGatZpZGecY6NfSVtmVfBMbUWJQQo+6zjXMSgqbSHHGP8QGAqjAi37BfVB8Rntu+c74/ff1NyP2ULZzdvd3bHduN0j33PfDd5Z3JTbO9vP2jnbMtpH11bUN9N708jRPs6RzDfMiMkyxArAkL2su7e5gbc5temx4a/orzSwmK9Ur+2xS7ZDuaO8m8HWx/fMKNC/1XzdgOQq60Tyo/mcATMKuxKFGrwhsij5MFM6DkJDSJBP1Vb0W5JfKWSTafFud3ICdA51R3Woc3pxt24Ka/Rlm2DFWx9VgExiQjs41S51J4QicR/5GmAUDQ7OCJkEUv/3+Ub3xfWk9I/yXfB77lHuL+9A763vqvCK8333ivnW+VD66Pmt9830ofGw7pbr5ubh39/Xe9G1zbXLUMjewjS/JL2XuRe0yK7WrDWsg6s7qsKowKiGqqWtaq8jr2qwnLUXvYrDtchzz+TWm9xs3zzjNum078j2Qf6lAw4Iwg6fFtodmiJXJpkskjQYOpE+FkWgTAFS41RfWB1ch18cYodjPWP+YJVejlxoWvZVFE+bSHJCWDm2LWskux8oHZYaDRabD0wKaAalA0sCNgCi/Wj8Ef1T/IL6qPlU+tn6DPtc+1f8f/7i/08AIgAx/ln7Evn19Z3xSuzv5kLhhNjIzm/I0MaFxvvDfcD5uzy2VbEBruarAqpfqIqoAqpBquinbaduqSuqtamaq4SwLreuvOPBLsd+y1nOH9HN1WPcP+PL6rHyRPmh/ysHzg9eGH8f6SUMLHYywjl0QfpI2052VVpcfmGBZdho32qRa/lpAGgQZ6xkaF4YV49QTEiLPeAy9So6JQYhJx5gHCMaYBWlD30L0Qk/CZQIcAn1CZcJiAioB44GegVuBf0FsAetCcEKmQoDCeMGbgMz//j5k/Rv727pN+HJ13jQMswQyUzGpMQZwk29a7ensQ2ttakeqFKnFqhUqTmpAKmjqduoT6cHqSOt87FytkO7DsCaw4fF+sYNyVfMttBy143fYeg68X/6PQPJCnoSFRzYJ7IyNztmQxhLrFFRV01dv2LxZxhslm7kb2Zvx21ia5lnC2JSWm1RpUfZPQs1sy0dKOckQCP2INYdVhumGRQXMBQdE4UU6BbRGFEa9RphGvoYwhd2F0MXAxfZFyIaOxrxFgYTZhDHC4IErv2D9jPuGOUR3XHXZNTW0lXPl8onxWa/87mPtW2wSqu4p7OmhaZ3pcakfqRdpPGj+aOcpC+ooa3AsV6077aiubG7FL4PwQPERsg8zgDVHtuR4UDpZvJw+tABRwuVFn4gnyd0L3034TyMQU5IsU0rUIRR7lOmV3FZiVY2UdtMxkdcPy03HTIlLcolbCD1HEAaWBn+GAEYDBcFFqoU2hQyGZkdZR7+HjchDCPVIm4hmiGdIjYjLyHnHc8cPhxFGE8S0w0rCdACm/y1+K7xH+fK3TvYPdV+0tXRdNPi0h/PPMiZwM66QLUtsC2tIayqrKKuLbBor4qsDam4qH2q8qzdsMK1xroDv/zCKsVsxXnHBMxZz4rSidkK4yLsrvSh/eYGcg7uFJwbPyFsJ38u2jZsPmpDBkewSnlMKksmSp1JwUcnRodEl0F8O9k0QC8SKhokJx+WHsUf2SC4IQUjuSPNIv4hiSKoI7olfyi1K2wu9C91Ma8yGTJEL1MsxSrxKTso4SRPIugfHh3UF4MRFAo4/1fy8uj643bhM+If5FTlluM73aLVn85jx1C+orc3uHi7m7unvKO+Zbz4tDWulathq8+t6rFLtt25jLvRu7O7tbuzu9a7Zr/kxcXMhNQu3iPo1u8k9A76UgKrCkwRWBdzH3knzi13MxA5HT23Pqk+9T5OP8Q97jp6OFM16S6XKOUkDyKEHqsbLh22HzYh7iKsI4ojMSVOJrElzSaoKiQvSTJnNLc1LzazNVo0iDMXNHk0njTzM6UxlS32KCAkux45GM4R1AqFAmv6qvP37/DuiO7I7Ujs5ujL4pnbrdTlzW/GRsHmvVO9hL/kwZTCG8AAvNi3dLT3sq+ztbU4uCi65rsDvv++Qb9gvse9R7+Cw4XK1tTR4BjqffA69l78lAEtBdoIjw/KFxof+SVhLbIyODQ9M4ExJC9yLJYo/yR1IUMbOhSoEMYOPgtOCLsHQQh8CM0JcA3gEQoWsxmQHMMfXiPfJZ8ppi2vLhgvLzGpM44z3zM2NUk05jB4LoMrTCdcI38ezRfzDg8E5flC893vse4f8DHzx/Mn8InrMeeH4RvaudLNzePL+MtbzUXPa8/tzJLI7sSywVzAssF4w9jDSMQ9xJ/FI8cWx3XFZsTlxIjGr8px0qLbG+T26k3x0Pes/agBOAZ/C3YQgBVYG/UhPCjFKy8rwSo5K8QpkiZKIy8fLBlwEWcKfgVTA5gC4AGqAoAFHwhXC0APhRPyFlYagh4EJBsq6C9kNe44gDpeO3E6EDnAOAU56zhrOPU2RzX7My4wgiiWH7AV6gqXAOD3W/Pv8qjz0fSz9uX2SvOQ7aXoSOOC3YvZqNh/2sncjt1/3S7eod3h2M7T09Es0I/Pyc9m0XLUXNWM1ITSgc/YzLvJOMiuyvXOntNy22jkzesb8m33qvqc/BX/OAJgBsQMQxSoGFoasxvyG/oazxnMFi4R+wt1BxEA9PcY9JzyBvBF7y7x4PMn+F79OgCZAYIFxAnjDS0UURzwI2oqpTDNNLk24Tc8OBU3QDVBNV01kTQ9NQE1UTELK9gkBB10EmEG1fxN97n1Bve0+aX8v/4i/W33cPED7fPnUOPB4YvjaeW+52Drl+wt6hnmP+FC3BfZv9av1R/XBNvx3ErdCN633J/YGtThzzrOcdBn1qfdZOXg7b32yvzo/Ur+7wDwA8YFrAnvEGYXrBsIHsQdpRwwGkEVhg4iCWID3/pa9BbypO9A7sbv6/DB8YT0Dff99rH42vz3/3YDpgoGFLAcPiTDKjgwfTQZN5o2Vzc8Otk69zm9OuQ8YjwPORw1ii5LJKoYAAxm/xD3bfTI83b1Wfki+2H6rvfV8dzrw+bC4ineSd1G4qXma+lo6xzsluqa5vvgZ9te2MHW7NUh1iPZ3t1G4CLh3OC+3lna49ed2Jjb7OCq6Gnzn/2yBaoLdA7jD4EQQRBWEXkVrxnNHB8hnyOwIc4d2BftDgkD9fak7WDmXeA33pngf+T25n/oW+pU61Tr7eqX69juYfXR/BkGMhKMHQgmAy33MccyszJFNCk1+zVYOLA66DsXPUk8+TfCMLglfhcWC6MC6vvW9yP4/Po0/Rn9D/u490bzVu105i/imuLj5aLp3O6r9HX4Efgw9krzAO/y6IbjJuEY4bjhNOT65wTqLemP6CLnueSa44rkVefP6u7wX/kRAGEFYApyDrwR+BNPFQ0ZMh5sIE4gwiBqIlMhqBt2E9kKBgJJ9sXp3+FK3q7ZPtbh1xfbpd073yHgrODo4AzhyeFc5X7tIvZ8/jQJVxTfG1QheiWYJ2QoLimPKQsr0C4rMj8yATLsL80oUxw2DxEFi/wT9V7yOvTi9hr5zPmb9+T0jPBk6BHh39/m4S/kOugM7+bz4ffk+T/4r/a89DnwHurQ59jpauxg7ijxBfPm8gDysPAZ77fv7PGQ8+P2G/3bBF0NEBMwFlkaBB9MH40fYySVJw8nUyfjKIYoASfOIqsaexKDCCP83/AI6dHiZd1n2lva29xk397fo9/N4Hbg0d7L3zjkUOoY8jT7ZQQhDggYmB7BIHYijSWGJt8mQirmLjI00TVqM38uPyliH8wRuQfa/6/42vLQ8GLxxfG38f/vD+1H6TPljeKM4aTi6eUB62TwpvWF+Xz7k/z++sb28POb8hrxfPAe8gr0+fOY89nyEfI88JHtjO297v3vBfOF+ccAEwcnDVsT9hkVH/whiyU8K6Iuby48L8MwSS/9KuEl0R9hFuIKtAAa93bsbOM+3dDY/dXr04DSzNJP08nR4tG31dXYNdtH4sDqIfGU+XMD0gqhEZ4YvB2vIXAkYyZMKTotsC9lMMAvjyw4JZkbwBFOCL//avg580rwve1B7Nrr1+qV6OPl7OMq41bjhOXB6eTtj/LW9yf7/vzS/dz93/v5+OT2KPYq91z3o/ag9074M/Xd8Q/xSvF88FnwIfN5+aj+rQJcCY4Q4BWzGncfBCVyKv0u0zAJMr00NjUHMmguaypCIygZyQ4wBGP64fKe61nkMeC13v7bidgv2PzYhtfu1ebVidjN3CriSOjj8Cz7lQJGCCsPGBXTGOcaXhy3HjYjVydnKJgqHS3gKHofDhiaD/cELv0G9uPvJe2L66HnQOZY5xHkhN5q3Obbw9rq2xvfQuMj6c/sDu6M8f70U/R98WXwru9I7wbwDvFR86L2T/dE9cr0dvXA9IPzavPL9QX57/zgAKoG8A2DE2UXehy8IiEozCz7LtkwXTNlNPExOjBaMOArwiLAGQAR4QYd/WP0W+ws6Ozki+DE3brdw9xN2g/Z7Nh+2lXeBeQ66pHydfxvBNYKMhJbGLAcgyBlIg0kwSghLIsr7CwGMCUs3SGwGcMRsQVA++jzg+1C6t/nueN44hLk4eFs3JXaJttl2efYRdz/4NrlauoH7qfxJfV59XT0JvN08krygvMg9bz2Wfqi/IX7Jfve+wn7Tvld+Kb4jvoj/sABXQYFDfETYxjwHPAiRSc+KrUshi4aMOIxUjSHNOMyzjDZK1QiQBjkDokE8fqn8orqA+ac5Mzg4NyB3X7dw9h01mnYjtk82yzhYOhI7135KQLCCM0QTRhKGzMd+SDHIqsjDid2Kl8rCCsdKY8hjBdrDWUCY/f37GDlQuAF3PTYCNhs1yvVddLqz+bN5MyvzmTR6tSZ2kngS+VJ6njvf/JG897ydvED8OTwafMp9dD3a/sn/Sn8wfsC/EP6zfgW+aX6cf2mAkoIng4yFTAbtSAYJmUqcS/7NPY4OzsKPiZBzkF8Pyg8uTaELqwj8BZpC28C5vjc7t3pF+hx47ff4N8C3/3cydsa3aPesuK86G/vp/d8ACgI8w8XGPwczx9gIlckPiTWI64l9ye7JwAmziPoHt8V0wnp/U/ynebN3LvWLNTy0pnTu9Qv1QzVjtNB0BbOiM17zfTP4NWZ3Szkhuqf8C70XfQo8wPx/e4D7vjtVvDA9H/5M/zY/In9wv31+u336feH+fn6VP1qAgAKexH4F20ewCXrK/svJjNJN0Q7Lz3ePs1AB0LgQFI9fTbkLMMhcxWVCOn98vRw7QDpoeaM45XiHeQ74pbfht+B4KLh2uTt6kvyUvvSBesO3xfyIXknIyhLKf4qQioQKSMqPypKKcgn+CI1GhcRSwZc95/qHeJ32v7TrdGE0ZPRetKn0gLRBc/SzdHKvckQzYPSBtjP3nrnIO6G8in1EvYG9CHwpexA63LrNOwt7zvyQ/MI9Dr1bfRj8kDyP/Hl8G70ZfnL/t4HcBJ+GaoguyqVMC0zCjjxOw097D/kQylFrkZGRstAdzf0LuMi6xLvBcD7FvLS66bqbelH6errAeyf6S7q4+pO6PfnoOuD8Yf4gAE2CzoU2BwNItIjSCWvJk4kgSHyIQEjvCL6IbMg7B1NGOQOxwJJ9y/sneD615TUlNK50UfTltSF1NTTwtGszbDK48inx9zJR89Q1SzcaOKs5rzosuhO5ynkqOBq3afbaNxh36bhXeXV6SvqNeom6+vqwepr7GPvdfNW+poDVAwkF18iVCrkLys2VzsdPrRB30XpSMlLvU5PUJBO7EqwRC46Wy4CI8sWfwuAA6398fmA+Jv4svhu+Gb4dPc99UD0ofSK9eL4K/5gBKgLMRPbGQEe1SDmITAhHB+SHNUa5Bj+FvcVPhV/E5sQdAy8BYf9UfVg633g2tjB1DzRec930VPTK9QX1QLV99J20VHQxs3dzQnSBNfb2mDgUuYG6KTnfebB4gre7drm133VO9cT3Nvfy+Ie5wLrROsU63/sIu4T8u/2p/36B24T8hygJRIvEDaGOWo8E0DFQRxDR0UhRtFFDUbjRBJBkDwPN+YuUyaOHT8UxwvSBBL/jfqQ+Qv68/kv+kf8Jf3Y+xb75vpF+/X70P22AYwGZgsED0ASvxPAE3YRow49DFAJfgYlBbwEdAW9BtcG1wTnAJX83/V97N3jb9211l/R28940CrSjtTj1UnWd9ba1LLQuM2DzVHN/sxL0BXVRNjp2ircwdq02NjW6NM70YDR/9PF1ova0uB95gLqJezS7kPx7/KS9fD5nv/sBmIPhRfsHkwnoC10MJAztzffOUI7hD/OQ9tFTUhUShpK/0jMRVxAPDq6NZ4vVycfImEdTRduEt4QZQ/2DL8LKQtUCloK1Qk2CGEHTQfbBOQBSgG5ADH/x/6SAIIB8gITBosIowlFCpwJZAYTA8wBPv9f/OD6/fm6+P/2//Q18ZbrQeVm3fTVrtDJzYHLDMvUzEvPtdA80VzRhc82y03GdsINwMe//sAdw4/GLcvYzi/RStSW1ufVsdXz1q3Y1du14EDnFe3T87n51f1HAXMDGQRVBMoFZghsDcoUPh06JiMwUzhGPbJBHkRCQ2xCFENoQ79DRUdeS25OSFE9UvhP6ksSRtk8ZzO9K9ojKB0WG14cPxxkGxsbHBh/EbIIv/7K8xjrDuSH3+/freNp6HPuLPVH+j/8zvsM+k73JPXx8trxVPPL9k76tv2hAOQA+v69+hP0V+2a5qrfTdmm1U7Ty9Cgz9XP6847zcfLa8i8xEnDZsHdvpG+d8CnwYfD3ccJzK7OBtHF00HVSdeI2Unb/N3b4ezlGurH7wL12PmH/scBpwTtB1YLAA9CEi0XoBsLIA4lyCrkL4Q0KjjFOsM9gD9AQFJBBkKcQtlDv0XmRqNIUUtgTOFLrEohSLFDrD4wOBEwvietH8MWNQ/PCt0Fhf/O+1v43/Ib7VDp9uNv3uza0NcP1YPVydhW2/7e/uPB5+/pAuzO7RfuS+0e7Lbr2+3g7yfxD/Su96X4Efg1+Ej3PfNg7pLoYOJg3ZnZT9b502DUONS60rDSodJk0GDNksrOx+7FTMb2x/jK/M+W1uXbl+AJ5qHqVOyU7Z3v5PHH9B35W/+ABogNgBTLGo4fsiKlJN0lRieJKDoqWS15MZQ22Dv4P51D3kUWRm5EEUL+PxQ8NDkAOMs3ejdJODI6VTpOOQE4TzagM8gwVS1rKVolMSFiHF8YCRTCDa8G0ACL++D0oO7U6Z7lT+Hp3DjZZta007DQUM53zT/NH85w0BDUiNec2ivdjt9N4izlIOdQ6XrsN/Cy8+r2/fk1/GD9B/3D+oj3fvPp7sDpnuSt30/aBNYA09HQ3c4Lzl/OMc/qz7bP5c+T0DbRpdEr0zTWDtky3cviq+h47gH0b/nl/swEuQqYD9oUzhrOH+ojRCgMLKgubTBaMYMxyjBsMMgwzzALMDovpS7zLGwqgyivJ7MlMSOYIaYgyR5OG4UYCxY7EwEQKQ78DXYOoQ+VESUUJhfcGVEbSBsMG3UY/xLHDRoJkQNd/bX3ZPJv7RLpyeO23l/avdXM0P3Mlcokyb/HUcfnx7HJJMxlzifR/9SO2JLbSN8F5MLpeu6D8gD5ov+1BEAIGgxHD9oPZw73CzYKGgf9AgD/GvxX+bb1g/Kc8ADv9+xL61fshu1O7mXvS/FA8/70MvUy9Wr23vjS+iX8If+UAsAFVAnsDAUQtBL8FOcVuxZwGEMZXhnlGWAbTht5Gj0agRrFGegXnhV7FG0TPxF/D3gOSQ22CmMIdQadA6b/+Puj+LP0+vDp7gzuE+7f7uvwF/SH9u74W/wY/2cAfQGfAp8EXAYlB1UISAmsCKAHJAenBMj/IvpT9Qbw0esB6czmEuY35fDjDeOx4h7hPd+S3Urc79oU2yLdieAr5Qvr7fER+cMAvQehDRcTFBcWGswccx+1Ie0iJiUNJ8knKCi1KI8njiSBIbAdvBgkFMgPPgxlCocJAAmqCKMJfQk7CK4GKQQUAUb+ovso+Wr4e/nL+kz8Nv8VAaIC2gOTAzkCPQAd/0H+Dv6m/8YA+gHUA28FDQa2BUsFmgNPAYn+lPti+S73PPWG87PxNvAn7gLsAeqR5y3kYeH1327d3dwi3pjgxeP85pHr6vCc9v36jP9/BPII/AsfD3AS5hRHFg0XcBckF+kVShUCFagTqxCyDnQNSgxhCk8I4gY6BUMDIwINAUT/M/2W+9P65Pnb+RL6EPtq++z7ff0UAOYCcQbyCY4NtRGRFWAaWx41IrglQilELaUvpDGyMlkzYDJxMBMvGyyQKOAj9x4IGmgUUw+CCv8FMAG8/FD4nPOL7qDpveSQ4G7cY9mI13/VltTC1HjVGNa61rfXn9iG2nPcLN594K/jxuYL6v/sl++W8XTyEvNi897zcPNo8oryA/Og8uzw4vCP8V7wou5I7q7tdexk6yXqGOqP6gHr9ewU8Pbz2/dZ+yUAWQSVB6IKzw4BE1UW6BnfHWMhGCUHKFsqOC0pL98umy5qL5cvQi/YLz8xYjJYM2U0EjQINP4xoS43KwwodyOsHf8ZlRYiEksOcgywCSAHoAQZAiP/e/zZ+Qn3nfRr87zylPF+8YLx2vDe8N3wYO+V7pfuzO0O7Ynt7u0E7u/uOvAY8YTxI/LA8bvw4e5J7H3pv+Zi5CHiV+BB3qLcJ9tj2n7YbdbN1F3TFtEp0IjRk9Gk0WjTIdWa1vjYBdzE3rjgs+L45Kjnxuok7rrx+PRF+M77wv/9Ap8EcAZfCMgJoAq2CxwNkg1IDcIO6w9bEOMQXxLwEv8SmBMeFdcWYRhaGsUcrh+ZInUlIijqKgktdi5lMBQymDIjNJ81YzYkN/M3YDjyOCQ5OjlQOKg2fzObMFYtXClwJbUgyRyuF5wSPQ4sCbMDlf1f+MPyc+226NLkduGr3kvcbtsS2mrZTdkn2JXXeddA1xTYLdlD2rjczt/q4hzmjekN7arvCfK78yz1M/at9ur3N/ht+Lf5tPq8+l76mfrl+cH3lfX681TxnO6f7P7qoegc5lzkLOO94T/go9/q3kvejt7939nhBOQR5w/rI+4V8UX1w/lh/Fv+uAGLBHgG7gh8C6gNwA6HD1kQdhHqEQMRlxD3D4oOSQ2vDNQLHgr0CBAI9gZxBlsGjgbHBo8GGgeACMYJZwvCDQ0QMBLkFN8X1xp/HdYflSEII6gjXiTsJZsmyCbIJj4m9CS6Ij0hPR5DGagUmw//CbMEXP/u+sb2LvJ/7Wvpk+bq4wfhGt8x3rbc89uG3CTek99c4O3i9uVt6Pfq7u2S8CPz1/Ww+DD7B/5eARwEHwY3CIoK1wzIDWwOHQ8gD74OJw7KDYUNywsqCvsI5AfwBRsDYQGS/rP7Fvl/9kf0sfGH76DuR+1F7N/rj+uM60vrz+ps68Tr6OuZ7Irtme5P7znwV/FD8lTzVPRf9Q/2cfbG9nT30feq90/3EvcC93r2kfXx9K70P/RE9HP0X/Xo9Rz3qvgW+l78oP44AWEDnQVJCAQLPQ5KEXgU9heDGgMdZh+bIT4jxCN9JFIlKyVOJT0lViSKIvkfOB0JGlMXrBQ2ES8O8QquB5YE7AFc/3j8m/o6+U73hvWn9Bj0mPMx88HztfS59T33rvnO++D9mABUAxYGswhdC9YNkA9uEYgTOBXoFaYWRBe5Fi8VJRSHEi8QRg0pCqMHrATpALT9rPpe94Hz8e9H7RjqpObK4xHhuN733FLcmtur2w7beNqn2jjaudkw2gzbxtqy2yLdXt7W3wDiQ+XN55/pJ+wG767xGPOe9Lj2Nfgn+Ub67Pq6+3v7ivt3+6L7Rftq+u36Gfw2/b/+YwE5BFkHKAtnDnoRwxRYGK0b0h7/IW8lgSj2KiItry+3MVIzizRUNaI11TQ5NC8z9jDyLb0q+ybkImoerRkmFUoQcwv6BU8BGv18+Tv26PJu8M7ueu0P7bnsJ+2F7bLtju6/7xjxP/Li8+323/jT+v/8LP/RAKMB0gNQBc0F4AZ/B+8G6AVvBYkE8AK1ATUABP5y+wH5rfat9FnyeO9/7CPqquc75TLja+Hl31fePd3u3LLcLNxb3HzcxNx/3cHeXuBD4STjqOVf5/bp8OzC783xxPMi9pP4CPp5+y39g/44/87/cAFAAlMC9wHUAi8DWgJQAgwDgANdBQoHjggcC88NghBVElMVtBdHGjMdsx/bIoMlICgtKpgsmC4SMC4xUTJIM9Qy8TG4MAAwAS63Kv8nPiUYIBQbrhYbEqkMagfLAu/9j/kW9fPxa++E7BLqkOhS51XlRuT147LjReP041rlSuYT57XokOq97Nru8vCO8zv2NPjY+dH7Z/2s/vT/5gCbAfoB/AHbAZsB4QDZ/2P+d/w1+0L5xPaC9HLy7u8K7djqj+lT5/zkMeTp43XjieLK4QDiVuLZ4szjI+Wq5j7nNeh66pLsxO2J7xvyS/Ra9YX37/mX+9v8gv5qAGgBFgJGA6sEywTMBFMFFQaZBs0GRgdTCN0IvQl8CpQL9QybDQIPuhCtEVQT3BSVFjMYgxniGmActx1UHvIePB/hH4IgRSC9H5AfjB/AHvQcgRuuGfIXhBS6EUkPkAs4CA4FtALL/+X7b/lc9wb1mfKS8NLvcu5R7RDtiO377bHt2O5r8OnwHfLj8+v1ofeE+ez7yf4kAW8DrQWhBxoJuwpmDJcMtwyCDb0NmQ0MDfoMwgyGC0cKlAggBwQFlQJbAM39IPsl+Nb1iPPS8N3tnuv+6cfnc+Um5GHiFeDU3yHgf98l35/gueFf4n3jOeUJ53znVOmR64fsS+0v7xHxrfEq8iXzLPQG9d70tfTA9d32YPZF9mP3IvgX+Or4lvqd+3/8FP76/90BmAMTBgEJLQtgDfcPbhLRFAYXNxk9G+4c6h6xILEhXCKdI/kj1iNHI+UieiFJH1AdKxtAGBUVgRG0Dn0L1AcqBLgBxv7O+2v5/fd79jv1jvSo9I707/Qi9qz3Lfm0+pL8pv+rAW0DywWdCLYJkwrnDJoOPw8JEMkQCRH9ELYQXRBcDwYP9A34C4gKLQheBeACIACJ/Cj5JvYc8xfwZe3f6q7nT+VY4+HgA96S3C7batnp12LXgden153XXNiL2bza59tb3fvebOC84bHjgOXd5mXoB+pF66vsg+1b7grvmO8E8K7whPDF8KbxfPJR8w706vQL9u32QPjh+dX7bv2X/wACfARTB54JLAzxDlsR4RMCFrcYAhu3HBIeXCDaIbkiqiMOJL8k+SSnI68iOyEyH0Mc3BntF0kVLBJqDwUNDwrpBi8EAQIAAD7+bPw5+xD6j/ke+U35aPn3+e/6pPuY/Av+w//zAH4CYAQeBtEHPwkaC+AMzA2aDoEPRhBvEPAPqw+2D8QOJQ0DDHMKpgd8BU0DhQC0/Uf7WPiA9V/y4O857eHqcehr5kjk1OIQ4QDgA+Bg3u/dRt4Z3/PfruDD4aDj+eT85cHn5+l662HtT+/r8MXyJfSs9Rb3B/id+UP6ZPsy/Dr9CP6k/uv+f//L/17/7v+pAAQBlgGHAgsEJwWIBlEIXwouDO4NKxAmEj0UBRbbF9oZXhszHcgevh8uILogVyFPIZYgzx9dHyYe0hu/GZMXlhQREfgNtAoLB/4C5f+w/FL5Ofah8xPxLu4Q7FfrA+or6QLp/ugs6UfqBOxR7QDvYfE/9P32UPke+6T9WgBbAmsEyQYKCWwKegvkDBgNHg2hDbUN8AxpC3AK1QmHB9MFrQQ9A8cAN/8U/h/8APok+Cn2ivTJ8nLx0PBi77Duc+7N7Y/speoR68Xr5+sC7dPuRfBL8uTzmvSq9aj25PZo9wz52Po7+1j8wP3U/kz/qwDaASIBhwEqAooBAgEpAX0C1AKNAlwDaAT3A4gDKwTGBawGdgeWCdcLGw1pDiUQkxHrElEVbxcpGZUaVhy0Hecdrh1UHTAd8xvUGQoYcxa0E9IPtwxWCo0GEwI6/+f80/nz9hP1WPPQ8A/vqe5K7ijtTe1R70XxXPIq9dX4ovtj/U4AjQTHBlcImwvZDkcQOREaEzIUQBMPEqARFhCTDl0N7gtxCr8IrAX1AlMAAf08+WX2r/Nw8Nft1Oyh6+PpwOi+6Bnpb+gx6PTn3efq57voe+v57brvkPHC8zT11/WD9gL3Sfel+Hn59Pjt+DL6Ofot+SD5Rvno+MP4cvip93T3gfc+9yf4vPkr+qn6Rvs5+yD75PwY/xUANQH3BPoICwuEDaARIhVZFt4XWxvSHdYdTR9tItcj1yLiIgYkniHKHYgbahiEE8gPcA6rDEoJeQYvAxMARvwk+BT1CvMe8ZjvdPAg8Zfx/vKQ9Tr3+/i3+wv/+wGxBMkIRQ4JEzEX/hpgHpAg9B9KHwcgUh8UHWsbshuUGdQV9RJBDwoJFwNk/9z7mvet9H3z7vE57iDrVOp15xXj8OCA4QzhzOAC4zHmZeeD54fo0Oln6b7ojelf6+3s8+3W7yjySvPE8jryjfJq8OPt+Oyq7FPrzOqN64DrNOq06I/npOW/47niLeNY5Kzmo+p/7tvxFfQ39af2nfgM+8H9RQLCBxwM2xAGFlAbnh+tIs4lYylCK7wrii1cL6EvAy97LhwtKit0KDokmh9ZGiIUgA7gCuYGXgLp/nb8JvmJ9cLz4/FZ7x7uO+7D7gvxivRN+En8TQG1BeEIUwyeD5wR/xS3GOYbPB9NIwUmHSYmJfkjxSGOHbIYRRXlEX4NhAkkBVAATPvM9dPwH+2B6mnocufW5uflH+ZE5kHkAuLq4QrjaePi5K7oO+xl7pHvYPGn8RrwGu9L70vv+u7H8I3yt/J78XLwb++Y7Nnp3+j06PHowujO6FHpoukj6Pnl+ORZ5FrjqOSc573pSOzg71Tz6fRo9vH4CPs6+9P8CwIkB8EJ4w0lFB4YwxkNHdggKSM1JZwnYiqaLMsssitNKswoAiVEIEEdbhqkFfMP9AwACg0El/+Z/Mr3YPKd77TuaOwo6wvsA+3s7efvxvJJ9f/31PvZ/zIDQQf1C9IPwBKYFQcZyRu1He4evB+bH08eWhwUGmYXVRR0EJoMqwn7BUUAiPsU+A/z0e6q7RTtA+1G743xcvHA8LXwu+857g/t1+wv7kbxffT89jT5UPoC+gD5JPck9cLzHvMA9JP0+PUL9+H2i/UU9J7yAvA17iHuIO6i7aHu9+9j8JDvQ+7E7PbqCeqm6jXr8Oyu79HxHvRC9m/3i/jy+Fb6bfwMALUD1QWoCkkQlRNvF24ebiTVJ/AqHi+1MYgxvC88LjotmyogJ+UlsCRhIB8bDRcgEUsIZwDL+qH0fe4l7DLrnum56FHpr+gh50nmOuaD5u3nT+ux8Hz3Of3pAm4JHw5tD2QQMBIFE3cSTxMLFowYmBcrF7AYBBd1EaYMnwkyBb//tf14/b/7KPqJ+SP52ffQ9hj3RviO+EP4ivgH+qv6oPnC+dn7Svxw+7z80v2L/DH7Hfvb+WX3uPUM9d3zz/Ip83/zi/J48UjxS/Gk8DPwM/Co8IPxuPG08TPzTvS98gnxjPAL7+brmOr36vbqsuqf60Ht+u3y7a/utO838AHyV/To9z79tQLrB9oNyhPHGKgcICGKJhAq7CzhL0EyizKtMGkvgC5KK60ohSYCI1gfOxuXFaoPxgjaAEL5JPTe7+/r0+nj6Tjpceg36Vvp5ugn6izshe1c7wP1xfv5AAMHtg3XEdYTSRVTFlYX9haCFikYqxnnFwMWCxbQE70O+woNCB0D7/2v++D58vYE9Efy9/Aq71Ptseyk7Sbvgu8F8EnxaPFX8M/vcu9V7mDtue1D7n3v7vD+8BPxLvA/7WDrEOre6DHoa+la6rfqVuyh7ljvNfBH8bPwX+9f75PvNO+f73Xw/u8N70zv4O5b7fXsMOwo6vvoDuhn5xDo7urJ7efwhPVi+WL8MwB7BTAKdw1tEQsXlhwpIjEptjAyNkc6lj12PxE/JD0SO0Y4PTRyL28rdSgbJfcguBz1F1sRFQgLAKD5afPw7RjsN+0m7ajtHvHb85X0bfYB+hb8a/yCAOAGaQsfEFYXcB2+H7kisia8J50m2iS5IrMfSxzAGegXuBYxFLsQFw0eCMMAQvr79Uzye+2i6hTqAert6WTqRusW6k7oa+bJ5HzjvuIv5FHnJOoe7FfuA++e7WTsHusk6cHmouVJ5rLnnui/6ezrAu047BfrlOqX6D/mD+YT523nSuec6Jrpk+gS58fmpeV844HideK/49fjyuO65PXkkuWo5pToU+ve7rDyt/Ye+0wAOgSrB9oMVxG2FXMbWyHGJdUpNy5wMU4zUjbROb07kDyhPVU95DsNOqM2HDK7LUcpSSOhHQobrBfOEpMOcQq+BMr9MPma9jPzDvHH8evy4/P69Xz57/sn/ugArAN8BhIJLg3pEVwWHRpCHZgfsB8eIBAgvB6NHP4ZuxY3E0MPowupB0QEeQA0+yv2aPKi7jzqxufZ5e3icuDq3jLe9d0h31/gDeH84hXlQeaU5urnrOnu6VDp/elo63vsKu2b7lLx4vGo8efxTvE27xTuGu0F63Hpvej65/Ll3+Xx5kvmteTb4+viYOFO4MHgieHY4TbifON45YPmb+dT6Wvru+y97tjwjPOc9jz6gv4sAmsFcwijCwwPehIEFVQXiBq0HbAfUCKUJfQoziswLrMvQy8RLm0thyySKnwnfiVCI5Igyx1hGwIZcRZsE9oPdwwKCUEFRgMFA1ICfAHZAX0DEwXQBr0ILwu2DV8PdRBnEm8UFxbaGP8b6x0cH4IgcCBXH1seSRyvGPgTVhBDDNMHUQTJAcL+vvqq9vTyv+9q7JXpRefB5G/hjt6X3Z7dUN9i4VXkSefu6GvqtesP7cvtSe7K7jHv/u4Q767xk/TS9cX2MPdC9njy9O7Z7Izqv+fB5Q3mZeWe5C3lleXq5YDkZ+Jz4NreK96l3TTfd+Gn4+vlsuiW6uvrrOwb7Qjt0+0H7wzxdPQH+LH82gANBHcG1QgZCw8MDQ1kDxQS/xN2FoIatx4BIoUlXiliLK4sEytrKXEo8iZCJVgkHiUbJV8jPiKsITYf4BpvFyITRw2DB6UDbQJQAn4DpQWHByYIIAg7CC4IvQb2BqkIlQnaC1YP5xPqF8cbJh4bHh4cpxlVF68UTRJ4EMsOkQwGCsAH8wTzANr7QPbo8Irr6+bL427icuHx3/HdSNy12xrbDtyo3hThS+Od5WnoSutG7RnvxfCR8WDxufBg8Vryc/M69A/1dvRe8ovvE+0x67voKeZc5BXjsOGp3+bf398W3mjdxdw03BXb39u13ZTee+BW4l/kmOVy5sznlemX6iHsiu5w8eXzQPaM+c/8Zv8vAvcEtQefCqsMPw+REjEVIxjvGxEgQSSNJ9Uq4C2bL7AvNDDTMN4vmy6tLe0slyvGKWcoPScrJdQh5B14GfETBw/1C4oJNghPCGgJnwkSCEUHdgbMBJkDXwOdA2IEJgavCBcLFg25DuIPeRBlD4ANiAv8CHYGqQTbA+kC6wCa/zH9PPjU8vXt0unG5fnijuLN4ZbfjN3N3C7cJdsa2/3clN7X3xHiWuUR6Nnqt+1M8N3xzvEZ8oTzFfUu9kb47voo/Nj7svrp+Pz11fNq8nrxOPDC7xrvbu4y7YPrj+kr6GXnsuUu5HvkX+Uj5ibnKenm6ljr4Oqz6jLrqeyt7XbwSPSt93T6sP0CAWADFwacB94J5wyaD3wSBRZfG50foSJ5JicqZSwWLVIunS9WMMQwhDF9Mu8yjDKaMTMwfi5TLLopYCa4IvUe7Rn1FG0R/w6/DMMKfgrNCVAHeAQuAxgCSgDA/7EAsQG8AZ8CLAViBwkI4gikCnsLXQqyCZgK9QoRCikJqAhsB38EuAF3/0X81Pjt9R3zUvBL7ZjqKueb46/gW91o2kLZ4tlR2hvbdtzK3VTedd3A3HTdl96m36fiGecL6rrsuu/18e3y+/J282/zRPLy8bPyk/OB9J71vvVX9RT0r/Ht7gXss+n257LmAOYL5p/mkeaO5mPmsubG5sLmNucj6LTpB+w478ny4/b/+kP+zAG5BWwIQgvHDuMSrRb8GfIdmyE2JecoACxjLggw3zGIMsQyIDPRM+kzuTPjM+kzyTLwMFYu5CxcKtol9CGaHiQa+hX6EtcRpRA5D8YNNwzMCQMHFwW+BOwDlwP2BHsG9AdLCbYL0w2HD/8Q9RL1EwgUrBOTEsYR2RDNDyoPPQ6/DJsKawg3BRECYf5E+jP2kvH17EDoPOTF4UzgGt9s3oreFN5B3MjZ79d41hPWZdfe2XDdtOBO4ynmzugI6s7qP+wJ7TzthO0i7kzvjPB68Try+/LV8irxbe6C65foq+Vj4yTi3uEs4d7fQ9/i3y7fRt5C3i3f1N/e4GTjr+Z76ibuBPLj9qz7+v9YAygHGgsJD8wSjxcLHTQi5CbGK1AwbjNgNZc2ujdPOL44ETmlOTI6NTqZOd84dTceNdsxMS4IKkQmpyI7H34cgRr/F4kVOhO0ECEOIQy3CuEJVQkGCfkJlAuRDPoNow9QEBYRJxKuE88VNxjDGjYcQh0+HVEcBxuEGa0YpRZYFJoRWA7nChAGbwEJ/XT4Z/Ol7WDpSuae4ozfuN2v3ALbvdgs18DWANZQ1frWadmw3Mvf6uLg5d/nmene6rfsee6+8B7yAvOF9A31UfQb9CL0rfOW8u7w9u6d7Nfp9eba5N7inuDW3l3dK9yz2qHZc9kC2nfb49yy3gjhPuPw5GPn6Or77jPz0fdI/akCIgjSDR4TzhgcHmYi8SUWKbgreS16L/AxrTN0NAQ13zSiM64xvi/1LLsptSaKIj8emRoWF4cTVhCQDdcKNAhLBa4CNQFAALP/6QA8AxsFKAcbCtgMPA/IEZkUthd8GtUcEh88IVAjWCQNJX0lPyUfJC8i8B+oHNsYZBSiDzIKjwQZ/575m/RQ8InsIOnO5QrjUd+l26zYM9bj1IDUjtR51jbZD9uq3XzgruNq5uPo6Ou17mnxffOL9Qn4G/qV+7v86/2p/e/7Nvoh+AH2SvN/8G/u4OtA6TXmkuPC4GreLN302lnaOtrp2fXZldoR2zHcrd4R4U/kD+hD7Ofwk/WM+oX/gQRUCWoNexE3FR4ZzBxkINkjwSZRKf4qwSuAK/Up2CdSJZkiux/9HNYZpxaeE6MPYguHB3QDnP+u+zn47/V89K7zIfQE9er1ZPc3+VH7kv2kAGEE+AinDa0RJBV5GFwbHB3mH1Mi7SPLJP8k9CTaI3EiLiBBHYEZDhXpD44KogWMAHL86vhX9bDxG+5B6ljmx+IH4HTeBd3d3NDdFN+94MfiYuWE6FvrN+4E8WH0NfdS+QH8ZP57AFwCqgOVBRYG/QWPBcMEVQO9AWb/jPzi+BD1YvFi7f/pPecC5Zjjv+GZ4AvfB90A3IXb+NvA3BXeK+DP4kDmkuok75v0uvnM/i4DpQf1CmQORBLSFYMZQh1YINQiXyQ/JcMkjSTZIhYhMR/gHCsafRZlE5oPwAv+By4EpgA6/ef5V/cd9YrzbPJK8mbyUfK28kD0UPb8+G38GADaA7MHdgsuD9MSdxaWGUccSB65H7og8CCtIP0fpx6WHPkZXxbVEsgO/gr/BrgCx/5u+if2FPIC7t7pu+Y85MnhoeBJ4ITgq+Hf4sbk3uYf6STsEO8t8s/0Jffl+Yr8dP+MAZgD7AW6BwAJeAmYCWkJnAhZB9cFmwMWAS3+tfvz+IX2GfQg8lPw+u3y6+zpuOgu5wvm8OV15rDmGeet6Cvrzu3O8Cb0evj++x3/2wH2BMAHRQrVDFMP/xE7FP0VnxfjGFsZdBliGPMW0BRPEgUQUg1NClEH8QNsAED92/nY9oT06vFV8Ezvlu5d7pzuOe/48PPydvTa9pr51/yK/w8DDwfrCmwOzBEJFYcX4xlRG/cbNhw9HO0bzxpkGT0YAhYLExgQ2wyfCesF0gEF/hf6TfZb8vnuNez+6cXolOfJ5qHm6eag58Doq+q97HDvE/LC9KL3UPph/fT/qAJlBcIHlwmyCs0LYAyhDJMMxgvdCpMJzwfGBToDrQAs/pX74fiG9k/1tfMk8gbxRfAW8CXwM/G78obz0vSZ9nX42vov/az/RAKeBJkGdQheCo4Lngx9DcUN9Q23DUAN1QwqDKcL0AqYCUYIbAZ+BIECOQDI/Vj7Qvmy9yf2O/VZ9G70vvRw9bH1XPZN9/X3rPih+eD6c/wv/rb/zwGoA7kFGwejCNUJEAvJC/ELhwztCzIMcww7DAcMRgtEC1oKiwgoB5kFlgN4Afz/HP5U/JT6B/kO+BT3dfYd9qH11vSb9Ln0NvUf9pz38/hs+lz77vxu/oP/zwDvAVQDhQSfBTMHgAj3CcAKMQvAC9gLuAvhCrsJWwglB88F9wMsA1ICjgGWAK7/Y/84/+/+yf7z/j//tf86APMAqAErAp4CzQKHAoYCFAJ8AbUAsv/x/mT+zv0//Xn8qvs3+zT60fi098D2wfWL9ILz3PM89Cz0f/TM9QL3sveN+YP7b/0B/14AKwKkAycFawZ2B20IjAnMCbQJwQmECbYIBAfSBYgE3AJeAf3/4v6k/cP7ffoT+Ur32/XM9IvzavLA8XLxNvFB8Zjx6vIi9L/1SPd/+X77oP1m/2sBuQNTBRsHEQj8CLgJrwpaC3gLsAtYC+cKcwrJCagIRAg2B88G2AZWBuQF3ASzBAEEMwNnA1EDXwMDBNsEIAavB4wJGgt2DD8OJg8eEH4RiBJkE+sTCBTgE14SyRD/DkIMUAmsBq4DHgH4/fT6cPi39fLyR/Bg7nTsvOrh6MTnBefJ5jPnrecD6Q3ryOxX7w/yQvWT+MP7D/8qAm8FFwhlCncMRg4lD3AP6g4kDokMUAoeCPwEQQIg/xD7GfiB9EPwruwh6bXlO+I+37bcq9rn2KzXuder2OHZatvr3ZrgteNI59zr3/CD9T76RP9zA7AHawsYDxoSVRTHFtsY5hmWGmcbzxtVG70a9BnVGFYXxBWvE0wRQg8wDUgL1QlyCIoHBgcCB9gHsQgaCusLwQ3jD6kR0xPiFZcXjhnFGgwcpRyAHDkcvxsoGjIYgRWKEhkPYwuRB14Dy/5K+4v3YPRG8Q3umOuz6MLmkuVv5EbkPOSl5R/n6OjA633vOfPN9zT8dQByBMYIIQz8DgkS9RNmFf0VLBYPFYsTrRE9DwEMpwcDBLD/NPup9hnywu1/6dzkyeBk3fTZzdaW1P7S8tFx0aHRH9Pk1ATXb9oO3nnhIOVq6UftW/FU9SD5L/3iAB8E+wdvC48O9xCuE7IVZxdmGBoZfhlEGagYoxd5Fr4UcxNqEo8RfxDqD24PAg/BDgAPyw8qEKAR5RJbE64TshOkEwcTnhK8Et4RtRA2Dz8NYgsqCZYGAgT8Ab7/3Pyt+pr4lva69HTzjPJP8anw2fAG8Ujx6fFc81b1rfcl+k39uwCmBHYIDgzbD2ATCBYZGPUZ7xo/GzgaLxk9GLYVlxOZEG4N9gkSBjACwv0/+Vv13vDs7Mvon+Si4H/dwdol2KXWJNZE1urWKti42VDcd94/4U/knedx6j/t/O9H82b2YfmS/M3/kALVBLcHNAqtDGEO0w8REf8RMhIBEtMRCREREdUQCBB7EIUQ3RCbEZgS0BNzFH0VWhbHFjQXVhcYF0wW5BSCE9ERmA+HDIYJjwZWA2n/yvvf9/jzPPDK7IbpYea747jhrt9X3t7dF96q3r/foeEI5NPmEuqP7hfzy/f5/DsCjAdKDOQQExWTGPkb+B1pHwUgeyC1H04ephwGGvwWsROAECYNyghaBDMA4PtE9xHzSu/u62DowOW7457i5OHi4SXjquQL5kHo+erp7VrwOvOZ9lf55/u+/vQBuAR1B0EKIQ2nDxwS7hPjFX4Xkxg7GYwZXBlFGcsYMhjyF28XTRcJF0gXQRdcF68XGRhSGFkYZRh7F6IWQBX7E9ER6Q+zDYoKWQfYA1oALP0C+SL1+/DM7H/oh+Ra4SXeBdsw2efXHNdm1gXXrthq2s3cT+De4ybolOz48Df2//qK/3IEnwjLDGcQNhQUF1IZ0xqaG/UbXhv3GT4YmBUwEncOrQkABTkA6foJ9kPxuezC6ELlSuIe4A7fZt6S3oXf6ODk4i3lVOfG6cTsl+8H80T27Pmz/SUB8wRHCeoMhRC2E4QW6BjfGkwcRh01Hm4eaB46HiAeBx6iHjEfih99IMwglyHfIe0iXSQhJMUjlCKaILkeShy/GRIX9BOXEDQNxQldBncCrf5O+j32//Hj7QfqFOYs4nXeONvW2CDXf9Up1YDVhdYw2Ina7d3C4TTmzeq07/H0Ivq//pADHwgBDG0PehKxFFsWOBdnF90WZBULEz0RNg5YCqkG5gEz/Tj4ofLH7ZjoXuSG4LTcl9kB1wrV1NOy01fUbdVl15LZuNww4NjjHOhg7HzwwvVo+nH/tgQECv4OTBQlGbkdyiHWJGIowyqpLCMuTy/LL04wWTCGMPAw4jCuMNMwLDG+MLIvGC8zLaUqpScFJPcfvRvNFmES1w0oCaAE4P/9++b3T/Mt7+LqQ+bv4aPdmdns1Q7TKdE20GnQJ9GE0rXUZ9fU2mPen+J752LsafG79kX8fwFzBtAKVw+TEl8VuxenGK8YqRdFFnoTHxAeDfwIEgWRAH77uvZT8fvr4Ob24drdsdl71gTUINI/0ZjRHtJ20wrVUdeU2QHcCN+b4kjmd+oh7+DzOPko/oAD+AgHDx8UpBhtHaUhZyU8KFYrsy3EL0wxGjNaNJ01xTaON0w45jgkOdc4BzgCNxU1PTKTLmwqRCWzH/gZWBNvDT0H2ACy+vT08u9l69XmaeK03qDaGtdC1GvSvNAT0JHQ9tEg1BHXfNpQ3ifjm+f67HLyQPjj/RsD5wdnDO0QpRTDF+kZABv6G+UaRBkCFzYUiRB7DOwI9wQSAWz9EPqQ9pvya+5R6rzl2+B13GTYRNWl0hvRfdBj0AzRndIz1PbVINho2gjdm9/V4vDmYetY8LX18fpnALwF+QqrD2gUwhhGHRQhviT+J1gr3i3PL4oxYjOjNMM0KDX2NGM0IjO6MaMwzi7sK40ovCQ3IBAb+RXUEIQL3AaHAkX+W/rB9vTyk+/G6yvoveTG4THf4dwh27nZpthG2PLXDNjC2BPaD9wY3tvgZeQP6AHsGvA69Dj4Qvy2/9QCxgWqB7oJSQsxDGYMGQ3RDOwL7QvAC1ULoQoyCnwJqQeXBeICof63+v71IPEB7dTou+WV43/iyuFU4dPg8+AU4THhGeI+423lDuib6z7vKfMo9yP7d/9aA60HfAzKEZoWBBxyIVEmrioGLqkx/jNdNoU4PTrkO8Y83jwFPSk8uDrNOCo2JTPFL+ArNydnIrwd7BdkEooN3ghEBL////qj9ZbvSekW4zbdAdgk1EHRlM4zzHzKhcgixoHEzMIBwlDCoMPQxfjIV82q0eHVTNpT3r3hJeVj6OTr5e4k8n/2Yvn4++r+FgHOAnUEmQbjCH4KbQtwDLkMUguKCY8H7AR5AY7+kvvT+Gz2R/Qm8t3v2+0F7LDqfuqg6uTqR+zZ7ZnvIPEj8zv16PcF+5D+5gI8CE4OphRiGwoiZyhsLiE0nTmDPiJDI0dPSnlN0092URlSO1L1UU1RAlDXTsZMXUocRjdBlDu5NM8tESY6HrwWRg/qB5EAf/kj8tjqBuNZ3AfW3c/FyrjFt8G6vW26D7hOtj21r7SNtfS2pbi/u3C/2sMryHnMB9Eh1SLZaN004eTkc+g77NfvGvQC+OP7c/8RAjMEtgVTBtEFrAQuAykBHf/0/MP6Svl497b1HPQT8g3wVe0063/pMOgn51bmXOZp5pTmSOf/5xjpq+rI7DfwaPQu+Vn+egQHC0QR9BY4HAoiNydELIkx8zYQPOZAgkZnS0VPWFIHVRpXLlgUWVRZYFi1VWdSzU0/SBtC+DoINDIt3Cb9H/QYPBI3C64DhPuU84Lrq+Pw26zUws4lySvEKMAavXK6ErlRuHq4Wrk+uwa+UMHexKfIg8zaz8PTgNeY25/f8OPK6MLtxPIX+CP9EAE6BIsGlwgZCbkI9AeNBgUFmgL2/xH94Pox+MD1bfM68cbu5es26fTm4ORt4o/gL9+03gbedd7E32Dhj+O05qLqqu/y9FT6NgEACLAORBX4Gt4gBScZLKowKzdpPH5BuEbqS0VQiVNbVkBYjlkPWolZ+VemVPhQWExzRt0//Tg4Mj8rKySxHYcWUw/IB0YAbPgH8LPn4N+S1xHQTcllw5y9rLgUtR6yNbCFrzWwVrGYs662fbmzvCrASMQGyPDLo9Cc1cnaHuDp5c3rj/GP9278BwHjBKkHEgrjC0gNbw7HDvkNNQ1KDE0KBQiABSUDMQBZ/SP7NfmP9hj0mvFZ777smurl6N/ny+fd5wTpN+uJ7bLwdvT6+F/9kwIiCCkOFRTXGe4fvSaALM8xrzfjPM5BuEafS/1PAFQsV/FZMlwZXbldEF37Wk5Yx1QGUItKY0R2Pfw1Ly/DJ5IgTxk+EQQK9gFf+RrxteiZ3/LW484hx/S/ILoHteiwo62Sq6Wqm6qdq8et2rA6tBG4V7wHwQDGusrazx7VGNuK4PjlpOyW8jL4Q/5jA+wH/wq6DaIPDxFqEtUScxLvEagQtA5QDOAJyAYTAyEApv2x+pr3zvTc8fbuJuzl6Qzp0ucX5wfnC+gP6cDpQ+v37VPyHvhJ/pQEqwkPDpoTrhifHnolTSxEMwo6uEAVR7dMi1FqVdRZMF0/X99fT19gXflZx1bqU+xP4kqKRIo8nzKcJ3Ac9RHJCKcA9vhC8Tjp4uA410zN5MOAu360ea4Cq2yoeaZ5phOor6lcrPCv+bM9t2y6Hr5Sw9PI188V2ATg7ee17mj0cvg0/B4AJwMcBosIrwprCygL2wquCs8J4ggoB5oE8QC2/JT4wvOg7lHrOulg5x3mS+Rg4iTh2t8K3+rdVN323sXh6uWu613wCvQo96z6/f6pAx8IZQ3/E6EbLCMHK+YyGjnrPS9CbEZUSo9MeFDsVK9Y81yjYYtkcGTJYXhdHFiHUrZMyUeFQvo8Qja0LTwjThejCZL7me8m5vne8dnb1c/QxMoTxdO/4LmutO6wMa5ErQGuqbFYuGO/48X1zC3TNdfW2UPcTN9/4qrnFe/V9a36Jv4iACwABv7x+xn6z/fz9MDwNO2D67fqyOnU6RbqH+n95fbix+BF3hPcg9uX3PneDeLq5TXpAuvM69Xsa+8o8uf0YPjH/HcBPQb6C8wRzhWxF5QZbxsKHQofkSK6J7AtLTOUOFw950DZQxxGdEdcSNBJAEyLTalOEE80TkZNpEzsShlHskGnPDA44TOmL1osBCgYIdUY5BAhB4H8H/NF6/LlNOLz3jrcJtmd1CzQncwgya3FiMKWwZ3BO8KLxSvLCdC/0snUctb/15/Z5N1d4/bo3e639G759Pvn/C/9BP1S/Db8kfxs/Sr9Wvtb+uj6Z/vB+y37I/m49ezwIO2j6svnruTy4ofivuKH4p7iy+OP5RnnFekE6y/tNu+48Qn1s/n6/aUCAghCDRkRlRPWFTkZmR1rItEorS9iNeQ5wD1nQTxDKUMcQ/JC2UFqQR5DkEMhQ/ZBCUFdPpc6mzXwMPIrnSYkIiUf1BtPFpkOeAbP/YHyquUb3NLVFNEhzpfNV83nyibIO8XjwTW9r7mMuAG6QLysv5vFUc3Y02/YXdxQ4Jvj7uap6u7vB/bb+34Bvgb9CdAKSwqICXYIJAdWBogFigTSA7wCRgDL/fj6U/i/9OLvJuuJ6I7lH+Mf4WXfbN924M/iLuWG51LqNu01773wjPJv83z19Pme/24EhglBEL8WwhsjH04iFiX6J+4rWjE2N4g850A5RSZILUgSRrhDCUFFPmw8hzxOPeE8CTy4Opc3vTG0Kx4lBB4wF3QS0g9oCxQFK/5I903te+Dx1DDNncgRxq/GDsg4yBPHTsX1wUq957hvt5O56LyPwKHFi8yk06HY+Nu53qTh8uQS6dbt0PIx+G/9kAKNBdsHZAjlB1oH7AbsBWoElQOIAyoDlQJZAQsBOQH7/4n8LfnC9Zbxf+0H66npZunW64DwVPRZ9kn3Ffhd+Mf4O/oL/RAA2wOzCAEOsxElFMQXqxt+HoQgaiNrJ6ErijBqNU86qj07QOZByEJ/QidB7D/tP+Q+Qz0ZOy857TaSNXEzGzGcLX8pSCSnHnwYpBMoD+MJ4gNM/RD16upu4GfXy9Dly47Jr8g9yCfIIsgpx6LE8sD5vTu9R74XwVnFYMsp0wLcuONy6F/rx+wa70vykfWP+df+JQRzCUgN8Q38C+4I/wVRAxMBb//g/q7+A/81/cH5l/WW8XjtNer957vlLORw5G/lyOUO5SPl5ubT6Pbqpe098Afz0PZB+1D+cv+DANIDawjCC/MO1BLpF5AcyiBmJNAm/ieyKacsKC9jMLwxszSvOEs6aTkON68zki/jK2UqUin6J58nDCirJ2UloiGMHH0W1A/kCLkDCAAS/aX68Pd58u/ppOD/2L3TSdBnzsHNf83ZzuTQlNGA0FvOBc7gzn3QfdEq01TY3N8s5zbtd/Fy9Cn3Cvqa+3H89f33/1IDxAYxCdYJjgrVC38L5ghhBMf+3/lw9wD3BPd1+Hr6+fxq/fv54vRM76Pq0OZu5PnkeOg97hT18PpH/Df6r/eh9jr4q/nh+8b/7QVhDBYR0BSLFqUXaxn1Gg0cchwXHrgitCgNLucwWzEJMN0uWi4pLd8qXijFJ/Ynfia8IjIeUxoAGJcXuRe1FlwU7hHvD/AMUAh1AxX/WPsy9/vxR+vG47Hd+dkD2VXXtNQm0nrQZdAv0F3Px84i0A3TsdYB2q/c1t/P5M/qlvAd9NP2p/plAE0GggnRCsUK9QsMDrYQohKoEgASShErEMkMIAgbBNEBsgAm/vP5EvXX8Sbwr+/I7hzude0r7Zvsvuoa6SLpOev37XjxMPTx9iz6y/5wAp0CFAHs/xoAvwG2BE8Jsg/EFvccGSEGInQgsB7eHm8fsyCRItglJiolLwkyQzHLLbAnSiFFG30XdBWmFn8Z1ByKH8AeFBplElsLcwaPAmwAfgCKAFcAqv5y+d7w2ebf3HrVFdK50LnP+dAw1RnZD9oj2LzUFtNF1EPWKtiC2xXiSeud9Lj7S//7AIACZwT2BBwEoQOABTkKKQ8+Eg4U2BQ5FasUfBLxDCYFrv6o+kb4ZfZO9Yj2Q/kU++j41vO57T7oDOSG4WHgSOGL5NvpCu8Z8j7zmfNP9Ab1G/T28mPzHvaj+9sB2gbPCS4MIQ4kDwMRMRPCFK4WEhkYHPId/h6uICgiTSNnI90ityJ1IuMgRCBaH+oc4xi1FTMUkBM/FHIU+BNQE/ERNA/cDLMJhgXfAmcBmP/e+oT1K+8G6PvhPdzm1vDSYdI10+vTn9T21AnV09Yh2erbGd8Z4xjpdPAB97r7Qv9qBNoJtw0QD30Otw0tDw8SJRTeFZsXBBjKGCcYhxTsDToHlQHl+0L2tPE472/vF/FY8j7ykPDa7YPqHucU5AbhNOBp44To/e409UP6mf1H/zb9ePkh9q/07PXk+c0AQAgXD8wUwBdmGCwW6xFwDUgKAAlSCv8NRhOaGCQd5B/ZH2oexRpzFskTPhMPE4QSWRLJEg8U5BWcFjAVuBJED4sKswamA6kAov8gAeUB0/81+wT0Zuw05sjfC9mM1P/SRNJH027VftYb1+XY+9pZ3G7dQd/I4/LqbfMV+xkCvwghDv8RaxM5EoMQYRDIEUwUoRbiGAIbzBxYHbYaKRU+DoQIVwSjABH7GvWu8C3tJ+rI6dDp3On06kXsWuwU6pPnFecq6YPsd+9G84f3hfvl/u0B8QKOAY//1v7J/jr/RAEVBp4Lww/+Ef8RRRCGDWsKbQl1CQULtw3hEuQY6hsuHrwfLR8NHXUbUxn8Fo8VYxXmFtoYiBklGfQXQBYCFdUTMxLNDj0LTQhfBQsCWP4++kf2qfIY77PqT+ao4Sbevdsz2aDWnNTK1DfXv9kI3TfhhOWe6lHwRvXC+aL+zgMbCSINLg/wDxoQgxCtETcTcxRkFpUYVxkUF30SdAzNBBf9q/UM74npnOYl5RLlSeWd5SnleuSb42Lhwd5n3VHeB+HG5Mnp0e5p8+L3nPpz+4r85vzI/If9Jf+SAaIE1AgmDUMQ9RAPEJwOwQzECQAHaga9B1sKPw5OE/kXrht7HpIgIyK7IcgfFB42HI4ZwBdNF04XPhcoGJAZlRqfGV8XfxTXEF0MjwiMBZcCCABo/qL98ft1+Of0QfEo7fro6+Tb4A7dHdqS2Y3ZC9tC3vXiBujL62fuu/CE8xH4f/0YA7kIOg54Ex4Y2Bv6HVkf4yDoIX4h/h7VGxkYxhOKDq0I6QEK+ljyS+yr5gLhVt1i29bacto12pnZjdku2pfb5t2o4NTkvOqH8H31Z/nm/FAAOwOKBXoHIQlCCm8L8gzzDSgNbQw+DDELRgk3B1EG5wWPBmkIJArcC58NIg85EcITgRX8FhUZbhrtGIEV+xFDD8gMpAsVDCkNNA77DtUP1Q/fDgUMkAi1BVcC8/0G+1/60/pK+ob5Dvkx96H0nPE971fsrujI5G/iwuHy4S3jL+W06Jfrf+217wfyOPXw+L78gwGYBtgKcg+5FFgaXB9NI20lBiZUJDchnx0hGvIVxhChCxQG//7/9tvvdurx5mTkH+Jg4NfeYt3x2y7bZNva3DXfo+L15mLroO9W9N/5df5BAgUFwQauB5YJgwskDMwMDQ7uDvgO1A24DUkOuQ46Du8NWg20DGcMwgwjDksPQhBiEucTYRTqE/ASCxIyEDkNGQp4B7sFFQYHCAcKGwxvDhcQ+g83DmULlQi3BmkF8QNBAo0AIf5D/Ln6oPci9Cjxfe5w61Po8eT54ZnfLN4B3gzerN6N4Ljjiudg68/uEfMn90v79v+eBFgJFw53E4MXHxqOG/wbPxsbGmkYEBYPEmgMSAbv/z753/Jp7jbrjugA5+PlqeQF48rgPN8F3lvdc92Z3vHh4OZ67Ofyl/l1/2wDNAbZB1AIEAmJCsAMrQ4YEZMTMBWxFQ8WYBapFQUU+xEwEFQOdgwtC+4JmwnQCYQJqwi/B2QH/AYmBiQFUQNDAusBUgJ3BHYHFAvgDtERXBNDE3QSLRH0EIsQsA/CDt4NrQzYCrwHSgSiABX8f/h49DjwDuxW6OPk8+HH3uzbfNps2nDb+93v4Tbm4+lt7drxc/Z4+hD/HgQzCY4N5hAaE30VXRfQGAsZmxgYGBwW5hIsDrAIJAPU/S75v/UJ89vwQO8M7iLsl+nB5nXjluBu3vPdYd9043bpf+9H9eP6Af+VASsDJASoBHQFUAfNCV0Mkw5AEYoTLBQoE2UR1w5BC7IHDAWpArAAqP/Q/rr9HfwD+2/6oPpq+1D8bv3T/r4ASgJRBJgGUQlPDSsRzhQkGLca4hx1HlMfWR5bHNIZshZRE0cQVQ18CosHkQRIAIb7vvbb8TLtCelJ5XvhC97W227bV9yV3mTiAedA69LuYfLA9u/5G/3HAaYGzQrADqASXxWEGBIbcxw6HdccFRtdGA0VyxAhDG4HGQNk/kP6jPaw8uLv2e3Q6zTo9+QH4t7f/t4q34fgouSV6gDw1fR4+Mf7sf25/6sBAAMbBVQI8QuqDxYTWBXkFTQV1BNQETsNNAnkBTYDWgGv/2D+SP3H+9L5wfjT+O/44/ma/Nv/ngIdBUsIaQs9DlwRcRSHF50agxyLHTkeOR5oHdMbxhlLF9EU7BE5DnQJNAR7/s33EvHU65nnuOPR4OXeFt232l7YE9eS1nPW5tdb2y3gjOWU67vxAvc4/A0BXQUACe0LPRDAFNUX5hrAHVkf3R82IMQfFx1LGCgSgQvYBNL+RvkN9fnxWu827Vbqdebo4m7gQt4N3fTdTeC94yvpEfAa9Qz5GP3T/5EB1QLEA/EEjQeVC5kOxRBgEnkSBRHZDVkKjgZdA1YBCABY/xL/1P64/gH/qP7s/XD+2/86AioGlgrhDbUQNBSsF3QZeRtGH+gh/yOIJG8jvyEpIG0edRxBG98YeBQpEN8LxwSD+7Pz5+y65pbhit07257Zn9ip103W39S+06HUvtb32TLf4OU97Ur0Ovs1AT8GHgpADoMR/RPJFpUa4R1jINshvCKfIaodrhiMEkQL8wOq/cL4SPRQ8DHtNeo35hvilt5C27rYN9cR2GPaxt3h4cbmm+si77/xr/Rj9xD5rPvt/08ETAgFDNAONg/wDa0L5wlsCOYGGgZpBzoI/Qa0BVcEvAIQAVcAmQEEA8IFjwmADfEPyhEaFHwVCBZZGNMbnR8PJAMp1SzNLbgszip8J0Ui9xxWGZoW8RKPDuEJIwRr/Fr0iu1x5lLf+9ns1qnU/9LG0lzTe9Rs1e3XTNs739rjtupo8vb59QAsCGMPzhRnGRAdFh+fH24gASGiIAIgCh9pHZAZ3hNIDAoDOfqu8sPslen45hfkq+ED327bJdgF1h3VKtV711raft4l5CLphO0Q8l31zPZm+PT7DwBsAjwHmAx5DpAP0hAiEB8OHA4BD8EOfQ5fDr8OnQ7LDc0MTgz5CpcJpQlpC7cNhRCmFOsXEBn+GPEY4BmsG/weECSYKB4qpCnOJ68jfh+JG9kXJhTCD3EJywHS+qH0D+8g6gzl+t7i2JDTAc4cyvXI1sjByZLLpc7S0U3XUt8q587tnvSw+6QBAAeKDeATCho2H0sjAib8Jism8STgIjwezRdOEOEHzv9x+pr27/O48KvsVOf03jnW0tBSzxfP7dBU1VvZRNvn3e3h7+Pr5H/nr+uR797z2fkmAfoGWwuYDZcNUwzsC40NGBG3FJ0XyxiTGGYXdhTWEbMRoRPgFO0V3xegGTYbGxxYHtYekh7nHTkegx+LIcAl3SnNK4Mq5SeLIxQeWxlUFyAW7BPZEB4MpQT++oLy+evd5sLi/d+d3UvZcdQy0BLNc8pbyZvK5Mzcz3jU19oA4v7oo+/V9u38HgKCB54M+BGvFnsauR1iHycf0h2sG5gYXxQcD6kIFgHl+Hjx6Ot+5xTjXd9d2+HVrs8GyxPIjcapxm7JQ80k0ivXnNuy3yTjV+X65vTqH/AL9Y37zQK4CCMMDw+5EWkSRBKUE7wVohfzGKAblB3yHVkdTB1VHTgcoR0pIcMjWyXOJ5UplyhsJjMm9SfoKXstqTHvM10yfy7sKo0mICKdHUAbOBlsFC0OWAdBABX4IfHq7OroMOMx3pTa7Nbv0bbONM66zkrPbdBA02TXztqO4Czno+zN8XP3Df13An8Hdg5MFMsYxBvvHIUc3BqtGEwWeBN9EB0NOQmfA7/7RfN86n3hGNtz1rbTMtOv0y7S5c2YybLGi8WNxy/N+9SU3PjjaOlu7GXvc/IJ9pj70wEnB0gMHhIXFucXdxmAG5sc/RyHHncg+CGrISUihyN8I+whCSIZJJ4lViZyKKMpryiLKPEpgitZLDMuejCaL2UsCClMJwIkzx/lHRccwRXHDFcEO/qk7T/lZeNH47vg2tyN2a3Sd8jkwOy/RMFNw4jK9tJQ177YPt705O3nfuuG8zz8OgJuCU0S5hdwGeMaeBxzGl0XABg2GkoZ/xUzEpwMTwPY+eTy4uwe6PPk+eI830HZbNTT0OLN1copyYnL7s8T0x7W4tuU4dHj9+VX69vw3vWy/fYG7QyyD2QSqBQ2FewVYhnZHr8hjSOuJgMoDyZDJCsljSRqIngiOiMlI/kkLSn3KyYs2SxHLowslCuJLT0wxDFpM341HjPELT4omyNHHlMZDxUEEEkJm//R8zvp4OEu3HzXNNM0zxXMHcnwxZjDTMSpxMLFRsm7zajTydyE5intifGr9sr7af/CBJ4NzRV6GpAdvx+eHqsaGBiLF9EVBBLnDcYJfgNx+zbzTeqR4KLYfdNmz+/M9swOzVLKr8RhwKi+/L/aw2/KV9T23fHjhudf63rwgPWz+kMCEAzAEwEZGR5sI9cluSaAKZIrrCufLIYvYzC/L8Iw/jH7L8QsTSzPLPcqLisWLtMwEzEVMBowgzDAL/MvPDJRNYA18zONMYgrSCTbIOcd0Bd+EaILIAIt9VbrL+W13/TYDtOXzrrJb8Pqvfe7SbtMutG8KsM8yYLPzNf03mXiquXA7bf2w/5hCMQSkRoKHEkbrRsgG50Yehf8F0AWBBFTC4IFm/1n8lrnFd4V1iXPm8r2yAjIwMXaw6rCVL/IvBS/TcTYydzOctcq4cfm0+m37uP14PtWAeAJrxMrGswc5h8nI30i7yI7KCYtUy6KLwYx5y7ZKmopBCuUK+UrGy1aLwguLCrAKfgqmCoqK7svlTMBNPs13DUnMg8vFi03KZglHCWxJHogZBogE6AIRPpP7EziKNy82ZXXy9MzziXHa76Ltkixz7GatVO5VL9Tx0vO6NI42Vfg/+Op6Xb0hv96B4QQfxo5HqIdMx7NHjEc7BllGtIahxQSC9wDufv18GDnw+Dp2mHUCs8EyYzCH7+AvBu68Ljuuu2+e8OAyZnO89LL2aTgFuZb7kP6BgT3Ca8QvxehG4AdsyHUKAQtIC66MHkzYTPxMIMw6zE5MH0uwS8EL/0rniq1KzwqlyjDKQ0sGS4dL1QweDKKM1kybjFpM6Y0QDBmLDsqSyboIR4fbBuUEh4JdP28777kMt8F3J3VlM+3yZPCZbp/tOmyv7LBsgK1HLlIvlTDo8k00O/VydwI5tDuPfmpBeYOaRRlGd8chB2cHnYgeSBIHnUbZhcGEcAKPgRX++Pux+KR2OrQz8t4yK/IPMftwja+O7k7tay1ebrBvx/GddCI2kPe2OLO6m/xsfYIADgLxxL1GREirSj3LN8wJTUoOCg6GzvSPEo+KD7fP3dC1UHqPsc9wzwNOfI20Ti3OtY6IDtROus3KzeFNw011TJrNR02dzI/LrYrByfzHh4YvhHtB1v+vvdc8UXpwuNa3rbUN8uVxqPA2LdRtgu6P7kztye7mMDCwhLGycyh043atOVX8b/64wR5DsUVPxgEHAki1SThJUsnmydFIikZGhIVDO0CGvoI81PqPOF02DnPzsajwXC+2Lnjt6K437lTvB/AxMJixsjMotPi2d7hquw19bz7+gOUC0QRIBiHIIknKC1+MWA0ljUwOGM7yDxoPTg/OEECP+s5cThrOYM3sDWwNyQ4sjTWMk0yOi7KLRgywTIFMX4xIzBeKIQjrSL3HRcZJhhcE0wJOQGX+BfrbOIX38/XTNBDz6zKqsBBuo22vrBNr3O0IrguugXALMe0ytLN99WO4PjoaPFp/KwGuQw1EhAawh6dHwAj+SZdJdoi1CGEGgUQ2AlNA0/40O+R6fTeZdVKz+THBsISwH68l7e/t2e6Srpbu8HBkscFzDrT5dtk5G3uyfaV/XkFPw1eEsEagiV7Lks2njzCPlY9Nz4KQN0/K0LIR11LGknBRTJDOz9SO905MDvpPGM/JUAlP/U93DoPNZQvNC5XLpssai0tLz0q6x9QFkULV/4a98fzyOtq5UnkyN3r0DTJ9cS4upavza37sMOxILQ2urC9vLwouwm+YcRcy8zTheBy7QP1X/tUAnkGpgp0Ec0WsBhkGysebhzkGEsVrw6cBXr+sPWU62rm+eJm3V/XrdI+yojA4LxYuxC4u7f3vXjC3cL5xTLMV89v0erY5OGr6G3wpPspBR4LUBKiGgohDSeNLhI0jDZBOlo/rEEIROVGhUbgRnpJHkneREFEOEf0RpZEWkZnSkpJAEYkRKJAzDp0Nugz4zIVM6Uv+SifIucYzgt5AcL7QPZX8ZPuYehP3n3W4M+IxFa7kLuyuwK3ELfsvWS/5rsRvXDA0MFtxMHN1tk944/qFPHK9lD63/1YAhkI6gzqD4URbRAGDWMJpgbPARz8cvfg8YXrfuQL3SDX4dVJ0tPJXsdpyjjHAMORxp3JjsffyODP69N02GHi9Og+7MfxKPnNAAYIew+3GMog5SMpKF4wWzVpNS05ZkDIQSlBlESURpVH30njSTFH7khNSvVJlUz8TtxMuEr9Rmw9MDfrN6018zBnL1ksVSO7GAYOhwNG/Wj1nusd6Gzntd5c1ZXSfspKu2y1RbfeswG0Fbvxu7a3Tbl2vOy7Fr+1x2fPDdbX3dXlO+x28Yn1FPil+/EARwUFBwYHbQXPAvT76faa9cHz5e5L61HnV98n2ffTSs3hykTMS8l0xYvIssk2xT3FTcoVy6fNbdeM3eri8e0w9nb4yP23BhkMMRFHG70lBywZMA4zmTV2OBU6GTwEQZtFv0a7R/tHe0gESlBLq0rxS5pPx0+HT4tPC0yqSFpF9EFAPcw6qTmJNVYtZyQQHZ4UDgpcAUL/ePvS8rPtVOqs4H7TsMzAycTFKMLPwkLDH8ERv3e9ub15vzHCcsaFzNbQcdXm3K/h4OIN5UfpJ+wL7n3xhvVF+Kb2KfLb7djrpuri6MTpF+rE5aXgMt7t2j3U1dA00TfQqM7ZzqrQUNM10pjP9tDt07TVudpl5Mfrge/89C77FQB6BTEM7hLNGx8jwiXnKhUz0TX3NtE8yD9EP+tCJkd7Rl1HtUtFTGRLrk7nTxlPDlBaTbFI8UnAS2VHx0YaSWNDJTllNNguhCWFHwAc0BavEAoLZASK/pr3zOzV4+LebNiV0iTSkNEEzDbIWsZkwUa9Ab6QwFjDRsX9xg/MQNLl0pPR4dWJ2AbWRdg14PTjiuMJ5cnlw+J63/PdSd7M4cjhld6c3pzeydqR197WVtWu1InXfdcF1xfa/9ma1mTW2NhU2YXdoOYK7LnuuPOk9vD1fvqaApAHXQxNFascDh+fIdgkFChBK8IstC9FNdo5ODzlPydC1UD4QHRC8kPhRVxICUpgSmNIikRcQi5CwD9YPKI7SDnmMr4sRSmOJBIdgBbcESENDgfkAOz7bPcV78Pkj9+E3LrWMNLO0QfQaMq1xtLE1sHBwCrD+sQvx2DJ3cl7zOPPeNDZ0PLTN9Ux137bC98q4Fng9N9N3s3cGN153n/gg+Kx4/jiN+H14cviv+Co4WjlYOay5XXnR+ld6SDptOo+7U7vxfFy94P7G/wH/kMB9QIRBr8MdhLhF5cdEyC7IbAkdCbWJ0stsDLvNXg6/T6mQMlAoEHYQsVCSUJiRWBJAkkxSFFJr0aCQRg/Iz7sPBI7MjgaNcAxfysGJI0fEBt4FHoO7wodB/cAnvpD9uXwJOl44+Pgwd3r19vUPdWi0SnNOsz+zFDLGsmYyLrJOsk9yP3Kn804zgnP6M+f0HfR0dGF0+zVhtZx1hTXzth62f7ZV9yM3YXdvd353nDf1t+f4pflIucg6Ebq6Ou169frxu1O8C7yevSM+HP7uPuc/Lr+Vf8KAT0FlAgJDHgQBRRFFd4W3xk0Hfcf5iGzJVcpryrULBQwhjEbMQ0ygTPmNLo1GjaSN6Y4RzYvNDw19jO3MGUxrjEQLSgpQyioJCYfAhxHGVIUAg/uCyAIQAKx/Y755/OF7wvsTeiL5YXjp9602dDXUNU+0YXPUdAH0brQFdC9z3nPoc5bztPOqc+e0AnTKdVR1fTViNd613XWz9cx2vvZ1dlm3q7hWeAI4fvlWefX5svpyewE7lXxffTN9TX3gvnl+s/83P4ZATEDgQUQB6sHywgjC38MZQ29DrQQMBO4FW8Y/hlaGl4bUR1yHgcfHyAII2IlHiVlJcIlkSWtJi0oGCiLJ5covyjRJkElDiX8I5MhuB9YHmQcEhmjFkwVGxHhC2kJyAXqAR7/0vvW91v1AvLM7YHq8uej5Aniod+w3BbbONss2dnWn9XR1YHVj9Uq1u/Wn9ff2A7aLNqJ2s/ccN4f38ngkeGY4trjhORu5dTmxeY95zjqqeta6j/scO+n7k/w8/PC9FH28vqZ/c/+rQJKBXwFXwd4Cs4LvA1sEWAUBRUOF60ZxRjlF0AazBtJGvEbpyB1IJAeQCEgI1MhmCAFIXYggCHvI0ck1CQQJhgljyR9JV4j+CDMIcEieyBGH98fHB3YGMsWiBTUEX8PsQ0RDN4JZgYYAlD/r/yB95jy//GI8XLtO+pm6krn8uL74XHihN6A3O3dXN2i22zbBNwn3Sfeg90k3jvgN+An4VDkuuUk5Q7m4+eX54/m/OYl6M3pnert6hvs9ewz7ETs6+1L70zwLvLh9Cb2EPao+C38W/23/vAA5wK9BMkHeAoHDZAOKRASE2AV2RVUFeUXnxnpGAIZvhowGjsbBRxQG08buBthG3ka/xqDG6gbrx1DHZEbuRuYG3saWRrPGiQaaRmdGTkYZxXbEk8QvQ4LDXsK8AidCGsGHwOZAHj99/h09jf1FvIe76ftqeyB6pbn7uQp4tzgzN8r3lPezt6j3sXe/94N35Lee94S37bfEeID5I/lpuYd6NToIOk36kXr8esV7qbvZPFn8wD0IfTJ9B72qvbK9qn4Wfr3+jn7Bf4ZAKsAYQEyA20GnQdjCU0M/Q75D/ARwRNOFekWshj0GscbpxveG5wbFBxYGxEZ0RlZGrkXohV6FkQVQBPnE9ATARKLEH4QFQ+fDmYOrQzDCw8MJAuJCZ4Idwh1BlIFpwNZAksBswBj/yz9O/tz+RL3QPQn8vzwDe9k7FDqyekj6A/l8+MY5DjjuODJ4EvhKeBx4ALhHeGe4c3hweGR4kzkN+YS6Nnp5+qx6gzrtOuA7ZLvKfGv8+L1VvbJ9q/3t/hU+Vj6C/zK/Sr/RwHiA8UDewNBBjcISwjCCtgOlBByERcUCRbpFn0X/RfEGbIceR6AHksfpyA3IBwesR1CHj8e3xw4HHMddRxHGZIX+hY+FPcT5xTCEqwRgBI0ESkP6A1BDQsM7graCD0IwAgFBvsDCwS5ApUAOP7U/JX76Pon+Ff24/U584nvHe/S7grsuetT6yrpo+gJ6QPnReXJ5brmAeZ+5vznxOmA6YzpUOkx6jbrMevp66DuovBL8NHv0PFw8qDxR/Lv84z1e/Ub9wX4PvhJ+A75/vli+xf8Dv08/4gAagBGAZcCYgJjA2gGEQlMCd0JWwyuDNYLIg3XDyAQWxCSET0SVhKXEjYS4xFXEroRuBG/EdcQyw8AEKUPGA2eDLgNsg0rDA8L5As/C2AIeAjDClYJRwbMBqUH5AW/A+ECfgMBAjv/7/56/3D8xfnq+TD5RffI9UT0GPPj8hfxFO9y7y/v3+wW7drtkerN6fTraevu6TzrBu3P61Lrve0o77ntie1R8H/xLfF58WLysPMf9X70+fSV98P3Ffap+P368vge+dL8N/w2/K7+AAAUAIIBIgIMA1kF/AQrBhgKLArwCHkLkQ2aDNgMhQ+eEDMR7RA3EgITkBGBEXoSbBGNEAQSWxHAD7sO1AweDUwMzQpHCtgK8wlcCUIJqgeWBfIFagWnAtUCewNkARgAZP9b/nH9wPx/+qb6Svt6+XD3sPeI94/1CfOb8lfz6fHL8DjxifGp7ynvfu4N7ozuBO+97W3tq+5X7gfutO7y7cft/O+D8LDvGPE88oLxVfFi8v/zdfWD9I71tPhe+bT3RPmR/Hj8SvyC/fP/qwFQAZMCIgTPA4MEpgaBB2AHbgj+CtIKJAtYDRgPfw+XDmwP5xFpEuAQLRI9FJET/BGkEiIUVxKdEAQSZxKbEEYQBBCBDgwOJw2kC3MLoAqsCMUIogjPBbAEjQX0Aj4BIAKJARsAa/+D/sr9Gv3f+3v5VPlb+if4FPe7+KD3ifVo9aP1HvQY9FT1yvOn8gbzavKY8uzzLPNT8a/yBPTK8qXzsPQZ9fn0afWL9e/1c/YY9rH2n/hW+LH3ZvmV+qj6CPua/O/8A/3k/tX+Dv/IAL0AwABzAWwCLwPZA18DaAJSBDAGHQXTBAgH0QfkBSgGWAhJCCwI0wh9CVgKhwrnCQ8K6AsLC/8IpgqFCy0KKQpAC7YJHAjMCGMJsQjtB7wGKQZ8BnYErAP+BDIEzgC3ARsDHQBH/sz/6P/7/fb8iPz/+7n7nfp8+Yv5Fvkg+T749vfi94H2zvU19QD16/WQ9nj1nPR49an0U/Ru9c30ffQM9Rz1nvUR9/j2jPX79kv4T/ff94b5Efqq+dr5yvp//EP9yv2j/uX/vwASAR0CGQTrAzUDeAWuBqEFyQZQCOsHbQi5CZQJrwpRC28Kcwp6C3YMOgxtC2QLIQxJDOULpAyyDLEL/QvtC1EMMQvRCo4LSQrQCYALcwqnCHgIMQi4BjIGgwXZBJMFxQOYAUMCoQHQ/mr+uv9J/oX8rvx4+5b6K/r2+Ln4p/jJ9yn3lPb99dr1RfWF9UL1fPSm9Rr2QPRM9IL1t/TN9HT1yfT39Gf1qvQz9dv2SvZS9bj2Nvfs9s73NfmN+KP4O/nf+WT74/s0/IT8Vfxp/vr/3AD1AUsCxQJtAzsEqwVcB5UHqAdMCOcISQldCUIJ2AmiCaQJAQotCqMKdQrhCfgKNgujCnkLvAvGCqMK+govChIKTQomCvYIvwgcCQ0IegcwB7MGBAYCBrUFcQSKA34CRgHAAPQARwAK/9j+yP1L/Ab83vos+s/6NPo2+FT4+Ph+9zv3lfe99ij2jfUM9i73z/Y89nL2fveu96H2sPaB+I34qvdL+L75s/rM+o76jfpc+yv8ePvO+wv9vf0E/a38nf1Y/mL+Ov5T/iEAMwFnACYBewJhA6MCPgKhA0IF3QQcBOIEAgZrBRcFmgWfBcgFQgWVBGQF8wU5BmEFJQQRBb4F6wSXBDAE1gRABfYDZAPKBHMFlAOmAhQDzwPYA34CPQJ1Al8CawGGAHABfQGb/z/+ov4p/hL9Tvzb+9774Ps1+9X6//ou+6L5Yfig+YD6b/ra+Yz5Mfpa+sb5MflW+hH7I/o1+qP6LftT+7/7OPyI/JD8TvxZ/f390v38/Wj+Vf9s/4L/NgD1AI8Ai//zAD0CEgIGAkUCzwLuAkQDEwTtBNgEMwX4BcQFmQZBB1cHiQfBB7UH7wfvCFQICAhCCWQIWgeRB8II2AecBt4GxQbRBrAFrAWZBp8FuwQ5BFUEfQT9A6UDsQOlA0YD1AIZAsABwgJ+AvAAAwH2AV4Brv+I/1T/xP6j/Qv87vvU/Fn7rvlg+jv68vhg+MP4+fhs+Fj4jvi7+Mb4tfj692L4M/km+fX4a/le+vD57/nS+r36Bftq+wz7Uftu/A/8GPvn+1L8vvuP+wD8j/xq/A/8TPy//Mn8Ffwk/Dr9T/33/Lb9eP6Z/mD+b/52/5j/cQDcAYQCIwOfA+oDJwQiBSMGXga7BiEHBAixCJYIPwgdCLsIhwglCIUIzwi7CKEI8wfyB8oHhAcuBz0HdgdFB4YGtAbFBucFGwVlBG0ESgSDA44CxAKHAuEAi/8a///+tf08/CX86vwP/HL6FPrh+f/4Dvl7+QT5JPne+ZX5afmS+uL6tfqR+m76Kvvx+iX7ovsg/CP8YfvW+4H81PwM/MT7v/wz/YX8svyM/VX+3P0M/vb+e//v/yIAtQBPAQ4C3QIWA74DjARBBQYFowT+BNUFzwXYBKoFXQaIBX8EdQRYBHQD6AKMApwCTQJdAYkATwACAGv/iv5K/rj+zf6h/iX+bv4R/7z+5f0d/o7/Df8o/sD+Yv/w/i/+Qf5I/gb+fv0//Sr96fw8/LX7aPv4+q/6Fvrd+f/51fkS+mf6DPp3+u377vvg+wv9Uv5Z/or+0f8kAUMBkQH5AcwCswKEAs4CHAPyAjQCvgG9ASYB+ACWADAAXf/O/tL+9f1m/bL9xf1F/Tf9LP70/pT+t/6S/18ArgDmANkBnALuArsCWgPIAyAE8QOOA9MD8wOMAx0DkgIIAr4BHAFZAOP/Xf+t/mH+x/0R/Uf8UPzC/H78/vwm/cb9jP49/6P/JABiARQCsgJ7A5QEiwVkBrkGpQdpCFAIiggECK4HmQcNByMGEwVdBGkDQQLKANr/W/4C/Zv7bfq4+ZD4SPd79i32sPWt9Uz1dfW89ez1AfYN96T4Cflk+dn6cfwZ/bH9qP7w/0YAxQAjASoCKgKBAk8CJQIFAqgBcAGLAM7/w//D/o79Gf3i/BL8Z/tY+1H7svo4+i/6s/qG+nn6Fvvp+378uPy5/Uz/1gBKArADEwVJBi0HxgcMCWoKFwudC0oMEA0qDc0MRAzvC+0KnQniCKkHfgbSBYAETgISAdX/S/5G/JD73fpo+cX4v/ha+Jz3iPcF+HL4b/jv+C/64vph+478ZP37/ez+JgDWALUATQEzAl0CDAIOAqcCBAKLANUAjgAGAEP/a/4Y/jz9PfxU+0/6Fvpu+Rv5E/kS+a349/hp+Zr5FPrz+oP7GPxH/W/++P6p/woBHAKsAgUDKAQZBbEE0gRiBdMF8gWcBf8FwwVOBegE+wQGBe4E6AOSAwUEdwNlAlgCrQI8AuIB+gEEAo8B6wB7AGAACQCk/8z/+v8KABUA3//1/4X/pv+7/53/bv+p/ysA7P+s/1L/Nv+a/iv+4f3W/Rb9mvx+/Ff74Ppm+q/5w/g++On3S/eK9v311vVe9Xz06/NX9RD2ofU29lP3Ofcn94j4Y/r2+vH7R/3V/k8A8wAcAm8DaQQfBXwGRQilCX0K1Aq3C2YMjwz2DFoNqQ23DWMNwAxkCw4LAwprCPMHGgejBUAEOwMtApMAE/8F/l/9a/wJ/M/7o/tw+3r75PtZ/DL9Y/0//lj/ewCIAWMCUwPjA5kE4gRnBUUFiwV0BgYGhwWQBDkEOwPhAX0BYQC+/kz9U/wB+wb5yffw9m/1k/Qy9NXz1/JR8g/zh/Ki8drxMfO+8yv0IfUE9k33iPeW+Pf5KftF/IL9Bf+NAOQBUgKsA+MEnAXhBfAG3Ac2CHkI2gj5CFoIBQjmB6YHPwfsBvAGyQVxBA8EcQOQAVwATwDM/7D+Hf7C/af8ivsw+yj7DfsP+8j7HPwf/Ab8Y/zL/AP9zP02/xIAuACFATYCOQKhAmEEQQXMBfIG8AfTB3IHQQhYCAII2AddBwMHJgaJBZUERwO2AT0A8P7j/dX8o/sq+g/5Pvga92719/Ra9Mrzq/Oc9Lf0APSi9Pj1sPZu9yP52Pob/LT9kf8OAQ4CbAPEBOIFaQeQCJAJfgoCCxwLFwsiC24KoAklCWwIxAfGBmIFIgTcAuAB9/8//kr9IfwP+x76+vmd+e/4ffmv+S/6IPv0+zX9Hv60/+cASQLCA/sEogaBBwEJOAoRC6sL8AsYDJkLWwvLCs4Kvgn9ByQHQQVDA8IBrv8I/lD8f/oJ+Rz36vWa9CrzVfLS8bPxb/FV8dLx2PFL8uTy6/MA9WT2/vd++Z76xvse/TD+vf5AAEUB7QHLApUDyAOyAx0EaQQdBIcE5QTqBGAEIQRbBMMDSgPoAsMCXgL6AR4CAQI4Aa4AGwH5APn/FgBLAPn/ev9PAOYAagA0AGwAFgAJADMA3AAlAXwB9gFOAn0C6wKBA14EngQ5BRwG9wXiBQEGcgY4BrIFTAbzBRQF3wRXBPICOgKNARsA2v5s/pP9OvwK+036i/kx+Pj3rPcx9y73Xvee9wv4vPgL+Uj6QPtQ/PX96P7+/ycBkwKzAxIFdQbCB9IIrAmdCjELRQsCCxQLDgscC7oK3wmeCbYIHAf3Bb8EBgNAAXcAXP/s/W/82PvB+k35XPjn9yH33/a89k/3U/f+9xX5Rfo++1P8Hv7B/54ABgLyA1IFBwYyB5sIrghTCRwKMAqzCTIJsgi7B6IGugWOBCEDVAHZ/2f+oPzG+jn5C/ip9nT1wfRL9LnzTfOG817zvPNy9OP0qPVd9034J/nA+gj8zvxM/oz/7ADGAUcDiATOBDoGmge5B4kHYQjxCC4JZwmfCVcJNgkWCSYItgc+BxkGRAULBfwDUAOLAhMCDwGGAPz/QP8r/ib+Cv4X/aX8gvwr/CP83vvS+9H7ovvK+yv8ZfzT/EL92/1m/lD/lf/q/zIAGgGfAeYBxwJQA28D4gP7A+ED2gPHA8EDwgNlA48DswKSAbMAsf+4/o39yfxi/Hv7jPoW+gL5vviw+DD4a/eW9xH45/cq+B75zvlo+mX7nPyA/Wv+Xf+kADkBhgIUBCoFWwYxB90H5whFCa4JxAoDCwMLawt9C3YLHwuaCvIJ9girB5MGTwUOBNECpAFOAML+Lv0V/I76bPnI+GT4sfc595f3Kffl9h/3xfc++O34PPp9+1/8ef3b/mEA6wDxAU8DOwTZBKQFVQZYBlAGbAb3BUIFmgSNA9YCiwHn/7f+3f20/BP7hPlv+Br3HfaE9e/0t/RX9M/zGPQl9Hb0MvX29ej2FPgR+az68vvK/Df+8f9hAeAB1QIvBAsFFwVLBlkHFwfeBlAHege+BrAGDwezBpcGeAZvBjgGDgY4Bk4GiwaEBjkG+QZ7BzEHwwYpB0UHOgZvBnkG9gUOBegExQMkAuwAHAAT/wP+E/1a/D/7iPqZ+Xf46Pdt9zT3ZfeZ92n4bvkv+vf67Pv9/GD+Sv9oAAEC/gLvA9UE9wT7BIAFVwViBWYEXAO4AlkBov92/o79Cvwo+u/47fcs9oz09PMq88HxxfCh8BTwQe9Q7wbwF/AT8Bvxf/JW85b0Q/a493n5Kftf/dr++f+RAUkDEgVmBnQHtAgICqoKtgvbDIQNDg6gDvgO8g7IDgoP5A6CDmwOjQ6ADWkMEAwSC9IIRQiQCKgHlQaSBZsEwwJ5Af0Afv9q/tX96fwY/Gz7gvrE+TH5IviP95H3uffi9zT4Xflm+i769PpP/Fb93/0d/4EAdgHEAX4COQMnA9kCOwOFAoUBlQDS/7/+7vwv+935lfib9iv1GvQD87Xxk/C+8NrvWe6T7lfvje/h77zxjPNH9E71tPdJ+dv5kPsY/ZD+RwDSAVoDwwOQBKkFYwaYBmwGUwfbB4EHXwcuCEIIkQfWB8gIwAjuB68IFQnJCBIJfAkbCqQK/wrUC78LVQxaDBEMYgxtDMkLlQu+Cw8LGgoxCV8IrQa/BLwD7wGq/wf+u/wY+5n4mfZd9bPzC/Ip8UHxbPCe7//vCPBQ74LvR/F18tnyjfTs9k/4XPkm+2n96P4aAC4BtwJNAxYEaQQhBJIDFAJbAdX/F/6R/I/6OPh+9uD0lPJi8CLuZ+xk6tzok+jb5wPnGecx5z3n4Ocz6dvqbOwt7ozwjPJR9EX3qvkG/LH+WwE6BO0FFAdlCXYLcAzLDVgPgxAIETsRQhJZEqIRuBHrEecRyxHtERMSpRF4EVkRIBGfEDERpBH+EX8S5xKLEq4RLxG/EAAQFA9wDuoN+QtdCugI3AYQBK0BBgCN/bH6Xvhx9lP09/Hp7yHuS+xJ6ybrz+r+6XTpluqC6+/rRe2z78/wYfJa9ab36fnm+7r+WwAKAlYDnATTBdsFpAVEBcgEXANtAbv/k/39+i74hfXd8szvLu0Q64foCuan5L7j5uK34e/hKOPy4xblBedd6ZHrWe6m8TX1T/ih+9T/RgPyBekIJAwzDuQP4BEpE8ETMhSbFOsT+xKBEh4RKw+YDaoMwQqUCGUHxAXHAzcDdQPMAksCnAJxAxsDjgPOBTIHbghCCiYM9g16D/oQuxIQFEkVLhbvFtQWZxboFacUJxPTEKIOigy2CVcG2gIx/8z7PviM9G7xR+4B60zobuYK5QXkheMS5BrkMuSJ5d/n6OlT7IzvK/Nr9nP54vxSAPcCqAUoCN0KAA17DtwPMhBvD9QOFw4pDFwJaQeiBGgC8f97/Jz5sfYH9Jfx3O977u3s6eu865zr8esz7aTug/AZ89z1Ofi6+o79JgAnAxAGUAnxCuIMug5bEPAQuBBhEQoRABDpDhwO2AwYCiAIrAW8AhgAEf5H/C76c/fK9eD0NfPQ8RDytvL78nfzu/Rm9pL3D/kI/Cf+yv9IAtEEDQdQCc8L2g3MDnsPiBA+EW0RKhFFECQPgA0BDAUK1AdhBUADBQFB/nr79/iG9t/zAfIo8dHvF+947ojuo+477wDxf/Lk85T2e/kv/H/+owEYBf0H3QraDRoQWxKbFMYWExjnGMIZGxovGRoYMxeyFXkT2RCHDr0LKAhbBV0CJP8T/CX5zPYL9LfxnPB47xHu9uw47fvsce3L7gPwU/F18k30y/Up+Mv69vwu/28A9QHWAqQDYQThBAsFJgVOBaYELAPVAU0AN/7M+6b5wvgs91H1HfRh8s7ws+5s7Q/t9uxY7Tzu4++F8MTxwPOE9Rj38/jT+w7/vgH/A1kHfgmmCg8M/A27Dx8RUxOwFKsViRXIFZAV0hQCFBQTJxLtEAoQgg5VDXULNQlPB8AF6QPKAYMAHf95/nD98Pxp/Nv7l/tm++b7mfye/Tv/3AAFAysFxQaYCAwKoQtjDQgP+BD3EToT4xMDFHwTFRI6ENMO/wzPCnkJ1gf3BMcBA/7n+ar1q/Lu78jsL+o16CHm/eMu4hnhPOC03zvfceCg4pTkfOYL6bvr/u1p8A/z5/VI+GD6dv0yAD0CmAOoBBYF1ARoBHEENQRCA1QC5gB1/2r98/od+Rr3CPXT84jzAfMV8l7xBfFR8W7xVfJm9AD2/fdF+x7+3gAgAxQG3wjhC+sO5hEXFTUXoBk0HDMeFyBkIc4ixiPjIzkknyOWIR4flh0PHdgcaxyNGrgYgBUAEi4PFg0WC0gJCwjjBu8FHAUyAwcBf/5s/B/7Yvvy+4j8OPwT/MH7dvoj+hn64flj+nX7zvww/V/9UP3F/Cv84vvy+9/7ovrU+aj5/fiD9w72rvSh8hrw/u3U7JfrvelL6DrmHOUN5BXj8OFE4MzfC+Cz4NLg5+Gp4h3jf+Mo5eLmsehA6uDrmu7V8N/yivTd9TP3N/iI+nP8d/2//R3+3v33/a7+OP70/W394PwK/Dj7lvo8+tD4Lvha+NH4GvkO+Zj50fmm+q/74Pxv/g0AbgKiBGEHCwrXDAMP+BBGFDcY+BuAHVQepx9hIhcl/yZLKB8oQCfgJkMnQSeAJ4kmRSS1IXsgXB/8HdMbvxhGFdASlhEWETkQ3g1gC6YInAbdBTcFeAQGBBID/QFAAfUApQDA/zP+0P0w/h7/WP8j/+z+/v4R/sr9XP7h/oX+Y/7j/t/+7v4j/o39D/yy+737YPuL+pX5qfh09yX2JPU+9KbzY/Ld8ELwEfA276XuNO6G7aDsZOwW7antN+1f7Ensy+u965br4+tR7Afs5upg6nXq1uqw6trpJumD6MPooOnw6WHpsejI6OXo2+kn6x/sbuwx7OPsa+5f8GzxGfJ385z0Lfai+GL77vxk/Tn+pf/hAa4EKQd1CVIKvAt0DZkP+hGEEw4TFBPdFO4XHxo8G4Ia3BgRGO8XUxiTGV0ZdRh0F7wWzhZtF0wXSBbTE8QSfRM7FRAX3RfUFooVkhUyFiAXlxfuGKIZshnKGlEbkhtPG6wbQBwKHBcc2Bv0GwAbSxn9F3wXcRWrEvUQww8PDoEMggq7B3MFHAPnAaP/9vwP+z35ufc/9jv16vS18+3w1u7+7Q/vNe9Y7jXt5evy62bs2ezm6yfrteov6trqvesw7Lfr9OrS6cnpJ+rf6eToROgh6Ijnj+Vo5PjkJOW846XhauDo3znfBt+G35/fS95Q3d7dRt8L4JDgi+CI4G/hD+Qw5nnn1OjM6lbtte5B8PTyyPWq99b4/vp7/UIAvgLvAwwE9gNVBt4KAww1DPgL0ww/D4ARORLsEGQQThL6FWwYRhgnFmQWnBe7GMcYMRuWHlMebxuqGmIebiMyJbwi/R5UHpYhZiXvJpYltCIyIcQh5SJgInEh1h8zHgkcphlfGfgZlRqGF+wQYw0HD3kSeRGLC6cGzwZyCQ0K8AZ0BD4DxAJGAoYCmAPQA9gBof+H/rP/rwFVAtQAAf2f+yL90/6d/jv9sfre97b2L/e+94j2F/Yt9UTyxO/u7yLyavJY763rUut77lvwaO437Mfqe+oh6/vrO+wK7C3snOsm6u3qOO7Y76Xt4+vc7NzuPvDn8YbyifER8ELvgfC38wr1c/Od8Ynxo/PD9BL1/vMN9PX0afUe9X71ePjd+b/3JfW/95H7CP2O/Fr85Pyj/QIAXAJYArYBiALZAxAEcwVsCM4IdwZ7BuwI5goOC2gKVwvtCzULRwoODOwOJw3vChoL0g3LDaQKxwutDBsLrAhcCRkMlQpKCJwHZggPCvsI9QbTB3oKGwpVBoIEMggKC0IKRQd2Bo8IVwk3CJsGIAijC0UKaARhAuoFuQp9CL4CfAG2A38FUwP/AD4CAwRCAof8IvvgACQEfwCX+8b55vzr/xn9k/h79wv8X/zZ93L2s/jn+z36p/YA9jT35/jN+ID3n/bz9YD2J/k4+b/2XfNb9Bv5u/mR9pvy5fP1+dT5/vS28nX3kvw0+eLybvRl/AH9gvgR99X7u/5H+xr40vqoAusDBv77+bT9AgTdBUUDCQADAqgE5QQiA38ElAfLBzgDJgBpBfQKHgldA1YBpQXuCDoHrASCA3wE4QYOBpkDlgI6BHAFRQIcALAB7gUjBZz9R/vbAIEFaAKg/rL+MgBjAPwAPAJGAuIB3/6k/Cv/DAVPBzcBzfoh/t0EvAVMADL/IgItAtT/Lv8LAygFXwJ3/TP9dAD5A6sCl/1H/HL9nP9PAesBwf22+HX5QP/CAZD+Gfhu9yH+uQAR/Qb4Q/t6AFX/Yvhn9pEApQWd/wL3EfpaBHUHbACm+Y3+lARsBRL/ofyEAU4FFQQs/3QBWAVdBDD+3vyBBEcIswM1/YcAVwamCKoE5QA1AxgJSQpNBaADWQnyDYYKQQTVBMoLUhC6C+YH7Ad2CvcMmAvtCbkJbwvJC98JTgl1CRsLgArDCd8ITAnEBxIGvwjYCJ0GXQPbBJ4FcQOVAsIDAQbPArj+R/+YAxMFm/8w/dj/dAGj/1b/tv+b/eT9Vf7Z/Vn9xv9hAB36iPY3+yUDjf+M9k33yPxm/rD5Fvnt/Er+BPoZ+MX76f7y/pf8yvox+yj+awF1AR7+Kvvh/qYAsP6V/QEBOAJ1/qH8m/0oAQYDGwCx+zn8ggAwAq//sfu4+6H+JgFX/0f7m/zP/1kAPfz1+sv/EgK7/jH6w/ujAO8CqACD/Ir8mQFBBCcBT/62ABIFBwWg/3D/5QRGCF0GPgKeAvoGngkcBl8CDAWJCGAINQXwA2oHzQrfB50DIwSuB6UJMwiWBEEESgeiCIYFBwRpBrkIzwfwAwkDtAYmCgUIzAO7AakFcQnQB+sCcQCYAyQG6gWCArn/TAHMA64DsQCx/8wB6QO6ANH82P6oA6YCQP1k/MD9HQDPAL79p/qc++b+SP+H+mb48/zk/0P67vWM+5j/8foj9uP33fxf/D35Yvjo+If4pfm3+6r5FveN9835Z/rg+K345Po2+kT30vca/Eb+wfxF+az4Evyw/uD9ZfxV/Eb9kP5z/iD9ff3JALsByfxC+zwBAQW2AHL8sP6aAxoDbP+j/zUDYQNWAIwA2QKjA40CjQLiAo0CQQMYBQEFXgP2ArIEDQYmBpYFmQQMBNYE+AbaBlkEPgQaB/IHIgTuAxAIugiKBQsDGQZbCHoG8AITBZEIIAfiBLAE2AY0B3YGdgXzBZAGVQbKBp4FvwROBVwGyQX5A9oD6QSwBeIDygFQAc0CgwTrA+4AV/+IAkUFLQLd/UP+cgAPATIAt/5s/fj8N/0u/e78ify4/Bz8s/oN+h76mPqF+wD70vls+Af47vlp+576OPdD9lP4XPp6+mL4T/au9jT54flq99f1r/fA+Cr3QPaI92T4bve/9s33Gvh19/n3/PgP+Kr2pfjn+rz5y/fW9x/6ofp6+gz71Psj/Ub9jPw9/Gz+AAEKAKb+CQAxAmECzQCtAUIEcQPvANoBEwXZBcEDOQJvA90FTwYQBG0DCAbqBl0FAQUMBmwGPQbcBRsGwwdGB/wFKwa+BlgH3AfIBjMFqwZ/CCYHOAV6Bs8H8Qa0BUsGgAYWBi8GdwZrBWUEJQXvBhgGKwN9A2cG7wSGAVUBGgP7AkUBXwA+AXEBPwCI/4b/Tf9X/n7+uv5R/n79Hf1a/Y79Uf35+1X7cPsh/Hn8PPoV+b75gfta++v41PZT+I767fj89sf3A/lc+Hz3tvfy+O34XPdn9rT3EPmf+D/3lPY3+Gv5/Pcz9kD3U/px+RX2rfb/+dn54Pfz9+D40Plh+rj66vnd+MP5kvsS/O76Fvpy+zX9Jv1b/H/80v0y/1L+q/yj/ND+jQBs/6r9JP4w/x4ApwF9ATEAUwHjAtEBLAG/A2cFWQQhA84DEQU/BS8FzAUtBugEGgXrBiIHBgYABn4HEAfOBW8G1weIB8UGewZOB8cHHQc/BkoH/wefBrQFNAaxB3gH3gXYBDMFdAZ3BmoFkwPzAm0EaAX2A6IBgAL9Ax8Cq//qAJMDQAKX/oj+ewAGAQT/Rv75/sf///3v/Dn+Wv6b/dH8ovuR+538AP28+wH6afrB+kr6u/m2+X35jvlf+b/40/gV+ez4T/h/+J34K/hy+JH4ifhL9+j1T/Y9+F34mvYj9iT3iffA9/L3sPcH+PT4hPhs91j4ZfqF+nH45Pex+fL6c/r4+dz5Qfro+mX7Cvtx+i/75vyS/An7Pfu5/SD/7/2U/F79zf5P/+L+pv7U/ib/L/+o/1UANwCH/wMAQgGTATUBrgA5Ac0BOQJYAnsCtQIzA9ADigNfAqADlAVaBYIDtgN3BcwFiQREAxUEaAWLBNECWAPLBEcEdgI1AlQDDwTsAtUB2wE9ArcC9QHAAKoAYwFAATYA8v/C/3//Bv++/tD+qv6C/p3+P/4g/dT8K/2//Xn9WPy0+/X76/xg/DT77vrm+wH8SPux+un6P/uX+ij6t/gE+P75m/r1+CH3BviV+t36svjr95r5Afvz+ff4gfko+sf6SPq3+Ir4FfqP+1v6qPgM+fD6Ofvq+bz5pfrN+g36QfoV+937Dvw7+9r67vu+/Jb8IfzJ/IP9O/3r/P/8ff1h/sX9Rv1I/eb+q/5N/tf++P5C/vb9Uf9eAJH/Rf5//k4AiAA//67+vf+YABoAbf94/w8AmwCAAO7/YP/f/u3/EQEIAPP9Hf4mAGcAQf/c/VD+u/8TAK7/uP6F/8IAzQCn/4f+3P/5AIsALwBbACQAGwB0AJ4ApQCC/2X/gACOACj/v/5o/3QA0f/R/q3+4P8CAP7+tv6o/qP+pP4o/qr9R/5t/pj9l/3t/Ur+Nv7S/Vv9jv1K/rv91fw0/SH+uf3U/Nn8TP2E/Rn9m/yl/N38Mv0o/Tz9d/zU+0n89Pze/Gn8tvyP/L38yvxi/PL70Py0/Un9gvxm/G/9Lf6//Rj9X/1H/mf+Fv5b/l3+NP4w/5T/Bf8//0X/mv+AAKX/Hf+t/+7/qv/q/sn+qf9MAI//7/63/yYARgBKABQA6f9LAJUAAgDb/10AzQAkAD7/zv+dACkAbv+f/1cAJAATAOv/JgAPAAYA/P8FALf/gf+n/+b/NgD9/4b/uP+g/w8Ay/9M//X+Gf+U/xX/nP4H/sX+J/9o/rf9j/54/3j/1f6r/rf+/f6a/x4Amv/N/00A0wCTAKb/qv82AHQAlP9Z/8T/4P+Q/6H/AgDv/93/AgDG/9X/h/99/3T/v//F/6D/cP+G/5D/Sf8l/1f/cf8T/yz/If/9/uP++v4D/03/kv/D/0v/9P72/zAAVv/r/p//wv+t/7H/LgCqAJQAoAB3ACsAtACAAGwAngCXAFABygEQAVEAvABtAVsBlgBrAMcARwHaADEATwBKAZIBGAFdAKUAXgHnAS4BsQAPAeEB7QE/AcQAYgAKATgBhwCJANQAyQCyAOYAlQBUAOoAOwE0AYYALwBxAOIAlwAcABUAcQDXAC4AJQAMAPv/2//c/yQAIADp/ygAJgCN/x//ZP/k/4L/KP8r/3f/Vf8t/+/+D/9o/w//df7K/mX/Xv+q/nz+Df9z/xH/FP69/s3/3v8r/63+Yv8//xz/Zv+9/2UAwABbAMH/igBUAfcANABsAE0BTAGtAB4AvQAQARgBAgG4AOcAqgGpAT0BQgETAgICrgGFAdgBOAIhAr0B+wGgAkICwwHwAaUCOQLFAQsCFgJCAo4CeQLxAS4CVgItAjwCPgJgAlACPQLaAfoB/gEYAqQB7gEVA0gC9wESAg8C8wFrAYoBFAIZAtkBsgG9AeQBzAHNAScBVAF+AQQCfAHpAHoBJwFZAVYBBQG/ABMB7wD6/1YAsP91/7f/Qv87/yT/i/9n/27/CwD9/5D/+f/s/9r/5f92/2//yP/m/zf/Cf8h/7T+4P6U/yH/LP58/qr/u/8P/6r+N/9y/5H/vP6u/qf/vP8O/5j+Gv+5/4P/7P4p/4D/g/9//4v/tP+t/17/W/+w/5n/m/+m/xQAkQBkAKAASgCZAC0AdQA3AW0B3QG+AWQBJQHGASoCIwICArABpwHbAdUBVwEdAZABxwHtAQICAwK6AcIBLwLNAcoBNwJ7ArIC7gJwAh0CFALTAXwBoQG8AYUBSQEFAkwBdf9s//QACQKkAW8BFwL+AjoCpgAAAHwAIQEBATAB7wGvAnMCaQHnAC8BEAFBAVUBrQHmAYMB+QDUAFABlQDv/6v/VQBaABoAtf+a//T/CAD2/2D/pv89AFwArf/2/oT/aAA1ADv/4v6A/7D/7P5T/jf/EAA3/+H+xf5O/zz/Ov7E/pX/HwC+//P+Af+v/+D+7P1r/lP/Jf8S/3r/hf/C/5r/Zf8K/0b/Tv9M/4j/GABe/2j+of6i/rf+E/6q/ij/Yf9L/zf/e/+c/ykAPP+6/p3/dgA9ANH/F/9F/wEAQgCe/2X/JAEgAfv/Tf+fALoCigLRAcEBJALrAlMCOAFxAc4C/QLXASYCswKSAqsB8gCYAU8CRQLDAfIBAgMuAzUCgQElAukCngLSAVgBDgK1AiwCqwDjACQCRQLVAJ8AOgFsAUIB7QACAcsBnAHCAKUAbwDXAMIAOQHQAEwAgAByAN//Xv/U//b/lv8TAKAA6v/t/gf/rv8w/5T+/v44/1H/if7L/fT9MP94/rj9qv6r/77/B/+P/vr+jP/C/mz+E/7Q/jH/wf4A/iz/WQDn/7b+A/4X/7j/ef+L/p7/LQHjACL//P4OAGYAOP+N/sH/3QDZANn/uf8C//L+9P5R/kH+df+wACAAHP82/3gAmwD8/m/+S//u/w8AVgB1AK0A6f8o/5D/v/8n/wb/5/+UAF8AXwA2AOH/kf8v/5H+k/6O/6wANQGSADMAnABuAI//Zv/e/yMBbAEQAQQBrgH6ASoBfwC4AP0A/ABQAaYBjwFHATcBqQFPAYgANAFhAloCaQFqAdABQwJyAV0BKAIzAsMBrgHsAToBFgE3AYIAJwB1AOYAzwAGAMX/aQBJAGL/Ev/H/+7/Gv/9/tv/eAA0ALr/KP/4/s3+P/4e/pP+mf5//qL+1P5u/vP9MP4G/tP9+/1U/mD+dv6M/nb+b/5N/tL91P0g/lT+q/5J/8L/5P8xACwAbP8a/yv/wf8lAC4AbQANAW8BAAGrAL0AlADt/84AGgI4AgcCxQJXA84CdQIJApQBQAE6AT0BMwHhAFYBcwGSAHX/N/9I/4/+NP5J/oD+aP6D/vT+Uf59/Yj9Kv2//Aj9D/0l/Xz9xP3D/X39iP3B/cj9cv3t/Ib94P3g/UT+/f4a/1z/mf/9/sT+Bv/T/9T/EQDDAHoBsQEKAfQAoQFBAvkBPwFVAWYCBgOVAlMC9gLCA/oDfwMBA0oDzwN3A+8CxwIuA/IDlgN8As4BxgJyAksB7QDYAA4BpABz/3z/v//G/2P/1P6i/or+qf6H/u/9x/2G/kX/ef6j/SP+F/65/fL8Tv3a/aD+W/6O/UD+Av7B/ez9y/3a/TT+if6W/uv9Mf63/XD9Kv0Y/dj9Bv7u/Rv+3P4o/93+uP6N/zcARgB5AG8BXAI9A24DrwObA3EENQWUBaAFGgZTB/oHAggDCHQItQhhCK0HfQcqB00HnQa/BVkFjwUZBe8D5wI7AuUBLAFdAPT/Rf/e/qL+Pf68/bD92/0r/bb8EPxd/Hb89vsc/Gn8c/zy+6j7Ofzv+4v7RPvg+g77lfqh+uz5C/pL+hj6O/ro+WH5A/n1+A759vjd+BX5OPnt+T/67Pro+hD7wPtY/Ff8ufy5/Rj/vP+rAG8B+QKBA9YDVgROBe0FbgbCBjEH1genCEgJ/wjQCPAIYwnpCH8IJgj4B7QHlAcQB7MGcgZBBsEF5ATIA0QD7wIRAhkBDwGQAcgAvgARATMAav8K/2v+g/5O/eD8Mv0W/a38e/x+/A78TPsV+5f7mfu5+qn6FftS+8v6GPrw+fD5PPnO+Hz4pPgK+c74rviG+Pr30vdN+Bf3XfZ39vr2LPfe9rv2sPf99/D3zPdD+LP4EflV+en5ovqP+xb8YfwA/eT9Qv4L/xMAIgE9AmkDdAT6BSwHHQjQCCQK/gptC/wLvwxxDTEOmw6GDnoOeQ6ZDkIOdA2zDCsMMAtvCl0JUAgmB7IF/QOJAgABdP84/rT9rvym+9r6LPoi+fn4F/kZ+cf4A/k/+YD5Mfqa+mP7M/x1/Yz+xP4G/0MAIAF8ATUBcAHAAaIBsQBKALn/xf7z/UD9Dfyr+uP5HPma93b2a/WS9KTzpPKV8THxWfGp8SDygvJy87L0y/Wp9oz3TPn2+uT8Yv72/00B9gI/BHQFwgZQCCsJ/Qo/DB8N4w08DtoOtg6SDk0OpQ59DkcOMA6uDt0O7Q7XDtMOeA5TDqENBw0aDEMLOAveCs8JoAjwB8kHsAbWBDYDOQK8AbL/mf1C/DD77vmu+If3Qffd9rf2/PZx9w74LvgR+Rv60PrX+ob7rvwi/SX+HP8YAIgBsQLMAxYEvgQ6BZQEegMJAnQAWv7k+6r5Svdn9RrzAfG77mjsXeqH6Bzm6ONH4tLgm9/Q3m7eWd7H3ubfk+EO43jlM+nr60XuB/EK9AL3Evkc/Gb/JAIBBaoHfwr+DNIPEBKQExQVkBbZF5IYwxh+GfsZUBrVGnwbFRwbHK4cGR14HRQdshxtHKIbdRpNGeMXexbsFDITNhFoD60N7Au/CUEH/gTjAqsAEv6K+7r5wfdy9ib0zfLA8XfxefHP8bvxgPJa8wf0AvX09fP24ffn+MT5Efug/EX+K/8+ACQBvgHiAeoBOAGWAPf/EP9B/a377fkC+CL24vP28cLvj+3+63fqHOmi59Pm4eVC5XTkZeQ15Z7lqeaI6FvqiezR7nrxWPQV91f6hf1oANQC8AXgCAsLlw1HEKUSxhTIFiEYYxm7GqgbwBt+HN4cRx0qHaYc6xsoG9Qa5BkcGZgYGRhHF5EWSxVfFFYTChKVEKYOOA17C3UJyQf+BYcErgLyAOz+pPxf+7j5HfhM9iL0fvI08V7wd++L7gru4O3i7SzulO5X79Xv4vA38iPznvTN9Vj3w/gs+q/7Z/3m/pv/MADmABgB+gDfADEAVv9a/vX8L/tZ+Yz3/PUT9DXyWPAD77btYeyO6wbrEevZ6jLrDez+7Eru4+/I8QX05PWt+IX7NP7sAOgDzQZBCRUMiA4YES4TIRXVFqsY4hkkG64bXRyhHHkcVxwmHMMbPBuBGqoZMRmFGMQXvhYDFvwUOhSnE74SqBGUEOIPyA7WDAEMaAqtCIUH5AUEBMwBUgB1/qj8sfol+Gv2kPSA8tPwG+8N7ebqcOlg6DvnPuaf5Zjlv+WY5SzmRecx6I7p9+oy7Nnt+e/t8X/zQvXB9h34WvmO+i/7ofvX+xX8sfvQ+mf6OPky+Fz2yvSG807yNPGs75Xu4e1O7bLtRO547gDvvu+28IjxzvMn9oP4ivs1/hQBPwQmB7EKpw1mENgSSxW/F7EZaRvrHIoewx9FIAQhfiGYIbghNiHPICIgMR8FHiQd/Bv5GrsZvxjBF9sW2RXLFAoU2hKXEdwQlQ85DvkMVQtQCZEHzQX5A7oBw//2/U78Gfrz91/2HPR+8Rbvo+yw6oDo0OYB5q3k/OMQ49PixeLe4oXj+ePj5HflteaC6KLpeeto7eHv/vEQ9Kf2vPh3+gj8xf1T/xkAmAD7AGEB+gDs/6H/PP+e/nn9g/zx++v6A/pb+dz46vdJ9zr3gvd194X3K/iI+Zr63/vY/en/DQKTBAMHhAm0C9QN5w+AEbUSExRyFT0W0BY9F2QXiBc3F48W1BViFMASzhFyEIoOJQ0DDNgKaAkSCGYHnwayBT0FawVQBbsEHAVIBUsFEQW/BHYEvgOeAx0DjwLTAXoAQf/t/Yb82fr3+Cb3Q/Vi81XxnO8a7nTsU+uJ6gzqiukO6UDpi+nB6cLq5OsT7TbuBvAB8rjzuvUU+Jj6b/yP/hcBDQNtBK4FJwcUCDYIcAijCGEI9AdSB3YGhwVMBGUDkAIfAcP/3f7E/bH8fPuk+uH6q/oI+0D79PvI/N/9I/9JAJoCIQTQBVcHiwg1CnELtAzLDb0OwQ9JEOAQ4xACEdgQRRDWD6AOBA29C7sJeQg4B48FwAQzA/cB8wDA/0T/bf4w/h/+Q/6o/uD+7v6i/2YAuQA2AQ4CWwJPAisCAwJUAXcAZ/9H/rT8I/uL+X337/U29GDyg/DP7unsrOuz6n3prOhb6EPosehE6SrqiOte7YTvz/Ft9Of2Cfqq/LP/2AKlBR4IlQpiDfUPgxG5ElITwhOvE7MTRxPMEawQig6ADCkK3AfMBUYDKwFN/2D9p/sN+hD50PcD96v2HPY+9kH25vbt91f5m/ok/BH+rP8RAbYCLQRsBY0Ggwd/B5UHzwe2B/YGqQY9BnMFbgRcA3ICpQHi/1/+yP2v/KL7KPvr+tX6Kvv2+9z8dP2A/o7/VwByAesCPgQsBaoGmAcdCKEImghUCPQHPAdTBgQFsgMuAlEAOv4w/Fv6KvgJ9oD0mfIQ8dXvyO5I7vztlu1C7mTv8/Bm8h70cvYg+a37nv4rAQkE/AYKCq8M7A4KEZ8S7hPZFA8V3RR2FIkTBBJ0EEgOZwxTCmoHuwT9AZP/DP1a+hP42PXR8yDyc/A/71Dule2I7d3tGu7F7qHv9vDG8nD0E/aR9035/vqD/Mn97/7h/7UAKAFyAf4BjQKlAn8CNwLTARwBuQAyAKr/Zf/j/jj+4/0w/lb+cP5v/zQA+QBFApADAQViBtUHTAnPCisMJg2nDSgOYA42Dl8N2wyBCwsKbwhSBhYE3QG7/1j98PrB+Kr20/To8nfxgvBn7wrv5+4o77nv4/CZ8o70m/ZV+cn7nv5+AT8EUwf0CYIMPA+TEWITFxX/Fb8WyRZCFu8V1BQfE1wRCg9pDJcJ4QZVA6QA/P2W+on3i/Sw8bTvie3067zqUun86PzoIOkh6rTqOewo7pTvwPEU9Mz2D/m/+0j+6/8BArUD+wS4BecFXgY5BvgFigXoBJcD2wKwAV8Agf8T/lz9Cfx9+0X7w/ov++r7yfys/RD/sABWAt8DMgUAB5wIqgmyCnYL5gskDPkLZgteCr0INwdUBQQDtABP/sj7L/na9lr0K/Kc8KHuIu2m6xvrd+pz6pvrtuwc7ivwifJ29Z34uPs4//gCvAaUCi4OgBG8FHoXlhktGywcqRxiHLMbXRpDGMQVMhPcDzsMIgg3BDkAZfyh+Jf0GPHZ7abqEOjz5WrkPeOX4p7idOOd5DjmbOid6iftF/Ai8yf2SvmI/PP/5AJcBYUHpQmiClsLtQtjC9oKXAoVCt0IogeKBu0E8wN+AhABIQB+/xv/B/8m/5r/swAVAnQDIQW8BrMIvQpYDJgNcw+MEFYRwBHKEUMRlhATD1ANWAvdCEIGrwNPAEX9HPrQ9pPzPvCN7X3qOOiN5iXlLeT249/k9uWa5z/qHu2J8Ef0q/gD/Z0B/gXECgIPKROPFqgZ7xtUHSgebx7LHQscpBn9FmATeA9CC4AGrQGU/Kf3rvLy7VbpYOW/4dbed9wc2xvbz9pH227cMN6w4MrjNuhX7MfwF/Uq+U79JwGtBAcIpgoqDSsP+RBMEgoTlBNPE2MSihErEJgOPQ1CC4kJDAiaBuUEqwN2AuQBwgGDAc8CEgQdBTQHLwlJC18Ncw/WEZ0TnxSjFUcWiRYuFgMVThPOEPAN7QqCB48Ddv8Z/Eb4TPSG8O7sd+pD58vkV+PK4dXg7OBP4YDimeQW5z7q0O068rX22/tOAVEGfgs7EBUVVBmfHCkfISFaIlsiFSEpH8EcNBnlFK0PcAohBVP/ePnj82vub+nh5BHgp9xC2tHXUdZD1S7VZta91/jZYN0a4U3lV+p879P06Plw/loDpwcpCz4OlhDNEjQUEBVvFWwV+xTZE/ESkhHZDx0OMgzfCaYHnwW7A/kBmwAVAGkAKQEqAo0DAQZMCJIKHg2iDygS8BRwFrIXuhitGCoYABfYFZ4TwhCPDekJ9wVgARz9cPjR84jvMesi55njouCV3hjdbtzb3NjdXt9F4gLm2umL7lX04fmT/64FEgsPEQQWixoEHygiVCRzJdYlWCX/IqQfuxupFq4QoQrIA/f8i/bv7wTpSeOY3b3YOtWF0irQus54zmbP2tBp08zWvttb4PHlROxc8o34xP7mBIoKig9aFPkXIRtbHaseYx9+H/geex0ZHBYaFhiIFacSfg+QDFsJLAagA1UBj//S/nb+zf63/3MBAQQ8BjwJjAyrD1QSLRTRFTUXwhc8F5QWLhWZEuwPiQzyCGYFuQBJ/Oj3AvP57TTpROTm3+fbb9jw1ULUSdPE00LVGNiv20Tg3OX16x3y8vif/yUGoQxaEr0XOxzzH8oi9SQIJgEmmCRiIrceRRpZFXcPuQhYAdb56/Fc6tnjXN2u1yjTYc+/zDfLH8tPzGfOu9HM1b7aH+BC5pnsMvO2+Y8AVgd1DYoT4RiGHW4hkCSGJiEoYyhdJ5MlhSPLINQdCBo+FoMSqg7HCqIH9QSiAt4ABwDZ/zoANAGhA3kGaAn6DIwQ/hP0FlAZYBsmHacdIB2ZHDsbYBitFZARGA0KCBwCZ/yc9ojwW+py5GfeFNmV1JbQgM1Gy6zK6cvJzXfRmNaf3Jvjn+u18+D7jATpCykTJhrJH8Qkvyi6K/wtUC/vL7kusiyJKe0kdh5oFzUP8wVK/Dnyx+jd3+TWxs9lyRbFZsIswTnBvsJkxUbJF84M0zfZ7d/P5vvtN/Ud/R0F5gxqFHwbhyESJ1MrrC3dLjsuLCz/KBAlMyAUGw4W2hAWDEMHPAMBAPH8ZPq0+Ff4Tfjg+Lb5PPvV/SYB4wWZChgPOxTuGJAdxSDxInIk4yQvJDAixB4yGt8U5g42CGABaPpK86Ls7uVz30HZEtSJzyLMI8lMx4PH38j/y77Q+9b83nHn2vAl+tAD9Ay8FRQe7ST2KvUvojPdNQA36DapNQ4zcS9mKtkjgRsuEowHfPzj8HflT9pl0DnIzcEXvaq6TLofu5u9D8Ivx6LNjtQh3CbkUuyu9AP97AR8DQAWch28JKoq2i8DNCE2cTZVNR0zQi9dKoIk3x1BF/4QUQvrBQQBdv2R+v73KvYL9WD0Y/TA9M/1Vfci+tf9MgKxB0INZxOoGVcf1CPbJqcoViiVJj0jZR45GAwRswlxAqX6c/KS67zkUd7P15bRkstTxinCab7Zuzy7Ar0jwQrHHc/r2D7kEfDK+30G0xDmGeQhJCmbLusyvDV6NyU48DcuN3k1FTITLVkm9RwVEgIGiPht66/e4dOoyjPEfL8Cvc288r6twvfGx8t90QHYPN715FrsbfRo/agGjRB8GWciCStdMjc4vTvJPLs7Kjl5NCYubScZIbUaHhQKDgUI3AKQ/qP6hPa18sfveO2+62DrsOs67RDwHPTT+Ib+hQSSC1QSxhjyHlEkqSgwK7Es9Sx/K8woiyXzIL8adROgCzEDwPrA8szqbOPj3HfWBtENzGPIgMW2w9/CpsMexprKjNA22Ifh7eui9lUBogtFFd8dICVyKwQwlzPwNfY29TY0Npgz/i8rK9okGR3IE5YI3Ptz72TjTNgdz5fH18JOwMK/VcBPwn/Fhck4zX7R6tbU3Lbje+uq9Dj+mQj4Ej0cYiQhKzIw6jJKM4oxPi7vKdUkrh+XGmkVIBB0C50GGQFw+8728vLc7k7qzuYx5cXku+XY6AvtRPI4+Bj+PQOuB7UM8hHkFgwcmyAhJYspLS03L6Qw3jB9L04sCie6HzAXVw40BUr83vOa7IDmGeFy3C7YaNT/0d7Pbs0wy+LJ78lbzAPR1dex4KDr2PesA4QPNBpUI4kqiS+GMnczTTMMMugwki/8LcoriihdJDYeBxYpDYgCoPbj6r/eVNSzy5fEo8C4wDzDnMdzzRfTCtjI3FfhSuZd6+bwLfhJAJ4IsxH4GVsizClWLlUwWjAnLXIoHyPcHMEWIhEiDFcHpQL1/cb4K/TY73bqpOQh3wfbCtiG1kjXntqD4Annqe2P9KH6OAArBYcJEA2JEK8UKRmMHXwiVifgKiAtli0tLAcpviTAHvoXGBDxB5oAbfmi8ojsIuf34jbgH9342b/WO9MC0VTPA8/R0MPUXton4tnqWfTC/jMJSBLOGewfZiVYKUUsjy5mMNcxCzNxM1gyWjCsLFontCAaGN4O4ART+hLw/eU23cDWHNMj0UrRvdLd1VjZiNz438HjOuef7KPy1fj0/4cH2Q+EF2QeiSOGJqsnmSZIJFMgmhsDF3sSlg7nCUgFvAAS+7T1h+8D6WfjWN702ZHWBdWN1eHXYtsA4I/lbeuk8W/3n/wzAdQEbgiLDH4QKBUvGl4fhiNPJ9gpACtMK9gpAygYJQchYhwtF18RWQuwBTQAAfv99RXwbepd5Xng4tyQ2f/WFtX808LT89Q+1+DaJeBj5sDsdvMf+rYAjgfVDpAVuxvCIQ4m9ygIK0MsBC37LAsrzScYI60dIBjvEVYLNQTE/Jv1u+6Y55Dgj9qy1tbUNdad2GHbat7p4WPm0+ok8DX27vsNAYcFmQkgDmMSRRbIGIIawhroGQEYhhWXEvMOYAqyBXAAvvv49t3x5+x+6OrkwOKB4R7hzeCA4XXjEOZE6QbtpO+D8uD1Q/nX/LYA0QQkCe0MiRD4E5gXFhr+G/sclh0mHccclBwqHE8ajhirFmUU2xI4ENsMDAq1Bq8DXgAj/Lb3LvPY78bs1epx6i3qUenB6B/oZ+dW58Pnoug+6ubrLe6P8Q32vPq8/84EVQkODTUQ8RHfEhQTExOuExAU0BVSFxEYLRiQGC8YtxeoFn4TZQ9oCgQFRACM/Ej5WfYn8+bwFu6P7B7sUuso6ijoNOZ047vhyODP4M/hvePK5p7q9+2m8FTzjfWZ98b4mPlx+hn7fPzZ/vkA+wNNByAJtgklCeMGGgTaAEf+p/vx+Yn47fZZ9k/2fvZL9r/2rPe/9tr1YPVy9df1HPd2+I36Ef2gABcFRAnADPcPhhMAF68ZMBxLHkUfoR89ILwgKCESIQ4giR5XHA8aHRdYE9kOlglgBDf/kfra9bjxWO2N6W/mzeRv44biO+Ej4LvfaeDk4drkm+fp6kPuAPOM96b8CgLJBm8LmxCBFYcZBh7sINYiQyRDJFYkuSNsIpYf9BoHFkER5gx8CKYDWP6Y+Tb1N/AY66vmgOEh3bPZrtev1tPVedUJ1sPWL9j62gzeYuGX5KznyetQ8FL1dvpZ/7QDFgceCQMLkgz8DXkOaQ60Dr4NnAwyC7gJ1AdIBc4CNQCg/B35CPZa89PxTfC174Dv7+8T8XTyIvOX83L0YvXu9mH5IfzS/rcBgwWTCXwOeRM2FzMa8htPHUke4B7XHs8e9x7jHWkcjhqOGfMXMRblFC0S6g77CrcGEwJN/ov6YPea9DXym+//7aDtLO6N7o7vgfBG8fDxTvOK9VH46ftQ/7sCagUjCEQLfg5gEYMTQhUrFn8WUBa7FZ0U6RIFEYUOPgtpCB0FKAJN/178nvjM9Bzwv+vz5gLkQOI64GTfEt8D30DfpN9j4JfhP+Nb5SHn7ejK67LvKfS9+Fb9BQKEBeUH8AlKDCAOng9OEA8RQhH9EH8Qpg/iDikOBQxNCesFBwKs/lT7xPck9D/xf+5x7IvrF+vs6mTqJuvf667sJO4+8CHzWPYm+r7+xwPMCOIN+xKuF7ob2x5AIZAjciWBJzIp0CnjKQcp/ifdJv4kZCIEH8QaohUEEBkKxgSU/7f6TfYI8hfuZur252zmJeUv5GbjtuLz4h3kG+bh6N3rFfAR9Nv3O/yQAM8EtwjlDBQRVRRdF74ZvRv6HT4fWx94HqQcVRrlF0MVlRFnDXgI8QKR/ZL4s/PI7jfqjeYb43/gvN503fPc29xp3Y/eU+Dp4s/lRulj7c/xBfcZ/IwAEQWxCY4NSBE0FWYY5Bp9HIMdKh20G+8ZWxcbFLoQ3gyNCDkEtv+h+x/46fQZ8qru3OuF6OzlheWa5cLmX+ip6kftnvAT9QD6x/+MBskMOBNjGTgfgiSjKdMttzHnNPM2eDidOUA6aDl3N3o1uzEqLXEoaSMFHmUYAxM6DYwHKAKl/O/2xfHp7ProdOXD4u7gLuA34KHgOuLS45fmt+lk7Qvx7PR5+Sj+GAPgBxQMGhCeEswUhRZZGN8Z8xlpGeMXRRWdEtgPdw25CuoH2gMN/5n6/PUC8uLtnens5A7hyN0i3IDcct1y3a3d5d5s4LfiiuZ/6s7twPBS9N73WftE/zcDkAZxCaUL9w3qDxwRdBLmEpkSLRHPD84N8ArkBwEFDgKk/jD7XPdn85XwIO5I7NXqkenN6ILo8ehl6hHsJO4n8IfymPXs+d7+iARkCmQPohQBGlQfNyV4KqUvlTMPN0M6mDtePHw92zxjO9o5SDZkMqsu7iqQJj4hIBsyFHYNSAZOAMP6nvUQ8bvsdejY5C/iG+B03kLdWNwx3GLdo98N44fmM+uy73L0a/m3/ZMC4ga/CgsOGBFZFCwXnRlaG4YcKh23HDIbHhgLFN4OVwkkBO/+Fvqe9A/wTeuo5hziEt4M2qrVFdKVz/XNAM5Oz2/RrtMR1gjZu9xZ4TbmleoA7k3xsvSr+Av8wv/TAgEFfweHCcgKjgrKCVwHagTEAXb/f/2/+uT3+PTp8vDwyu7u7ZDsLer4537m3eWl5nbo2Opg7s3y//c+/ZMCrgfKDIERhhbhGwUhyCb/KycxqTVaOao75Dz2PIY7Dzn8NWUxcywyJ6YhchzpFg4R/wqSBCj+Avj68QTsFudI47ng7t443q/ehOCB48znfeyi8Vz2Ivv5/0cFPAsoEb4WcxsWIGQjqSXSJ5MoQCi/JiEklCC/HGIY+hJ4DecH4AKn/cD3nfJQ7SborOOX3/7bhNil1f7UOdaH2D/bdd7u4CrjjuVb50npRevO7GvuoO9e8hP2M/nC+0v9uv1E/Rf8uvqU+NX2GPWR85jye/KD8iDyK/H+7ybuHuwp6vjou+cQ5+Tm7eZr5yboFOmn6pbs/O0n7+LwBvNW9R/4vPqv/aABZAWVCYAN6BGBFYkYvBuGH7giKSbeKccsHS69L2EwmDAQMHwvxC3HKp8nKyQeIO0bzhd7E0kPqwv9B7UDif85/E/6Gfj79gr3Jvcs+Cr6Bf1tANcDYgf1Cg8OBRFqE44V3xczGfEZ4BnNGtcaBhpTGDoWhRMAEFkMugiLBKMAl/zB+Jj1wvI+8FvuWO0r7Wvsg+sx6r7oLefZ5TzlMOXx5aTn3ug96m/rQOx47Kfryuok6jPpbuhL6WPqGOt27FTtyu4u8DTws+/w7ojuCe5z7vnueO+X7xTwgvA38GPvA+71603qSuhE5urkFuQj4yviQ+KP47vkkeaN6HPq++vf7d3vxPE49DX4ePzBAe0IPBCuF2oe1ST1Ke4sfi/2MGgxdjFQMnU0LDboNjA3kzUWMost7CatH5gYZxFgCqAFWQLX/or8yfrY+Cn2QvQH8yjy9/E582T2Lfp2/o0DkghDDkkTohe3G7MejiC3IckirSOtIx8jWiIcITkf2RzQGdAVeRGODOQHfQOe/xH8RPkD98r0gPJ38Zfwru9A7lrtQexP62nq/Oki6uTpI+m958Lmaeb95nPnv+id6uPrt+xC7RTu2u6y72rws/Bw8fPx7PLz88L0b/SZ8zDyivHF717uzOyj6UHnNeS54P/d4NuB2qfY59a+1anU0tNP0znUGtaE2NHcDeL351/uQ/TC+kgBQQdEDOwR6hetHUQjdyn/L180ajcIOcI5bTj5M/ovTS00Ki0oOSkxKsYplSglJx4jER0pF5YQgwrNBg8FuQNIBeoIuAosDFwOGA7EC5QK/gmlB8UHoQsoD1wSiRg/HkAgSiEjIi4g0xtiGCIVERHXDo8NDAuSB1sFKALr/BL4cPM47Xjn4uMJ4C7d+txS3eLd19/B4lLjTuI14lbh+9+23+3gIeOu5ujrkfDo80/2xPaV9P3xye/27bTs+uwM73/xePTF94z5NvmM96j0ve9w6qfnEeUo433jRuT15EHlCeWz40DhR95e223Y+dY815DXJtmD23nd/t6k4H3iFeRC557qiO4I8273tv3FAv4FhgpkDlcRtBNpFjMaNx7AITwlXygPK7Ys0yuVKpsqYSnUJoolwiU9JYcl1SaAJ+Qm7CZ9JZIhuh60HKMZNBfHF3EYBBj7GDAbtRucGoUZXxcDFDcStBGtEHgR7BNsFdgWFBmsGhgbeBo4GXgWoRJrD2kMyQhKBs0ETwI1/7X7Fvhu84TuGurW5Q7ifN9H3tPd2t6r4D7iXuNw5O3l2eYX5+vnWOkF6vrq1uxj7uTuee5A7N3pDugo53Dmh+ar5zDo6efS52foi+d55XLjmuDL3bPcw9v92m/cZ94P4PXgFOLs4aTgcd9N3u3cF9y/3EDdxN5b4efjJuYm6ELpYugn6DrpeOnK6cjs1vDt9PH54/86BbQJIg3OD4URNRPIFYgYfByiIUMmXCl7LHcviS9oLpwsBCseKcMnyig4K7Iu6jIgNks2wDZiNqMz3DDJL/UuhiyXK4stwy0ZLWQuRS5wKvMlqCEIGzEUVhBdDfgJLwnsCRoI3QZ/CMcH6gQ0A7gB2PzL+fL5Dfrn+Xn8t/5I/dj7+PsJ+bH0jPLV7w/rlehu6EnnD+c56XvpKudk5YHkU+LL4AXhQeFh4UfiguTX5U7niujd5+fkF+Fo3HLX1dRV1S/XONkq3FretN673bzc8dkU1mnTi9CBzbTMs84x0RDTiNbq2R7b8tvB3C3cHdvI21PdB99m42joW+yZ8Fn0f/Wk9Nv0ePRB8s3xe/SW9m/4B/2SASsFCwl/DH4PvhH+EwQXphpMH6YkfCrWMKI2XDrbPOI+UD/hPeE9tz4DPxQ/rED1QWVDFEZYSOtI0kfWRYFCSj4kOyw4kDVRM5AxIy9kLCcqPifYIv4diRihEpoMKwghBAQBq/91/n391vzN/M78PfyE/In8EvxQ/OP7a/vI+7n82/2o/sr+mP6T/bP7I/o3+Vn3ovSG8mnwb+yo6Ffmp+MD4TLfJt172uTY69mE2gLbGN1y33jgLeIm5CXlFeXF5NHjW+F638veat1Q3IPb1dkD2PvWI9aU1BDUB9Sj0b3P989n0HXQntIh1o3Yjdpq3XzgPOLN43vmV+jx6MvqBe3H7v7wzvKM8yX0f/Wl9QX2Vvjk+n/8bf+bAjkG4AkkD9UVJBvQH0ckJChnLLEw8jQqOmY/nEM/R9lK0UyETcxNLE2LSj9HB0WfQg1AmD+bQAVB5kBiQXVAMj5MPKc52DXgMWItayiYJEIi5h9tHdkbzhlyFYYQXwx2B6oCXv4A+4b4GvcT9zn4tfmO+1n8g/z9+/z6kPkn+aT51/kj/Bj+F/9lAKIBBAJ9ANb+C/zA90TzPvAB7cDqx+g65zHlouP94VbfJd0v3Oja1toS3F/dlt9/4mXlged16GfoFOa04lPgdt7e3EncEtyb2+/aWdpa2fXXgNeQ1qnVmtVP1tzWotgL2x/dA9/04dDk0uZX6RHsz+648JPz0PZd+AL6XPuJ/IP9Iv58/zsBjwJMBFsF7QZRCEIJHgt2DWwQDRT3FwgddiJ9J7MsSjEsNbw4pjuxPklB5kI+RH5EkUSXQ5JC/UFIQAU+GzxQOpo4TjeSN4Q3HjYUNX00tDJfMAsvAi0sKuknbSaEJCkijiBEHs4a/hb3EnUNIgg4BPz/c/zG+qH5YvjS99L3lPda9kH1p/TV88DzpPR19b/2pfih+nX7hfyn/TP95/uu+hL5W/c69S/z5fCV7lrt1erP5z7mL+Or3+vc19ov2PzVsNUk1VHVNdZ11xPYJNnr2TvZh9gr2PbXItgM2WvacNuQ3DHeS99G4CnhSuGf4P3fZ9+33tfe1N/54Wrka+al6B/rwOxa7RrvYvHE8nP02faV+Zn7XP7vATgEXAYiCNQIfwmICpMLOQxZDqYQdBLsFEgYsRpJHQUg6CIXJT8ntSlILG4uYTATMtYycTPsM2E0qzRMNNMzbzJVMSUwpC5hLnsuWy8DMIgwzjBeMFkvFC75K80pqSe5JQkkwiK2IG4fwx0SGwIYgxQLELQLgAe2AzkAx/3B+wn5Ffdi9vr0jvKD8KvuEOw76qTp7OhS6Jfou+l26iPrlOya7R3upO4U75LuEO657S/tpu1D7sHum+6E7iDtRetS6Rrn2OTG4iLhXt+b3S3cr9qN2ZnYftc61bHT5NHK0A3QwM8e0CfQZNFB0/XUlte82mfdIt9h4Y/ju+Vt5w7qaO0O8EH0oPe8+sz9wAADA6ME5AXGBkUGcgYLB7UHmAi5CJAJDgrvCS0KGgoFCgsKowotCycMvg2CD9cQxxKWFfMXABowHWQgkCKDJC4nkyllKhAsly2yLfQtyy5oL1cvRS+NL1QuRC0ULbIsOCvTKq8qWilWJ/8lgSSpIlwhzB/GHXobMBlcFs4TSRHYD5gNdQv2CbYH9gUhBHUBsv6v+2b5vva286Txue9w7VfrhOkh6CDmj+SX45niMuEQ4AfgE+BR4ODgo+G14S/jIuQH5dPlV+bS5wPolegU6SfpRuk06U7p6ejr6Ffoy+al5U7ky+JA4czfXN4I3dHbJtsm21HaO9rz2djZntni2V7actuu3CHeVOA24qLkyOYw6T3rNu2d73bxuPP99hL61/2XAfYEzAflCXYMqw5GDwMQHhGuEQ0SpxImEzsTvBIqEoERzxBdEGoQKxCoEA0SfBNcFP8VDRgLGVYaJRy8HZYeWh+rIAkigCJxIxkktCPKIygk0iOlIyIjPiO7IpEimiLIIeggcyBfH0kdIBxiG6oZAhhPF1QWphRgE0AS7BAuDx4O9AzvCmEJVQfKBDgDmQHx/7H9Lvxl+pz3hfUw8xvwfez/6ZvoR+aP5M7j9OHe4Fng2d8G3/Pd9txn2/fa19rx2sTbjNwg3qbfw+Gy40Pk7uQf5ijno+fa6CDrU+xx7ejuz+908Irw5/CZ8I/wYfDS76LveO+N77Pv5u8c8Hrvy+5F7vzsmOu06nXpQ+kF6lrri+wO7ovw+vIa9uf4ivs8/sMAIwMxBhwJCQ0xENgSJhZiGPcZ0Ro4HKkc5BwVHtwepx/VH5Yg3SC9IJUgMR/gHewbjxoWGQ0YfBdyFmMVQhTmEg4SnBBKEBgPYQ2DDS4NZg2wDT8O1g6xD+gQaBLZE60UWxXoFQAW8hWAFUwVaBW4FJ4UwxRdFI0ThBKTETAQww5BDe8LkQpBCeAHXAcpBvEElgNDAV3/jv2O+1f5UPcS9mj0xfLk8CrvTe0U6yLp/eb/5PXieOGQ4I7f895M3mndtd3z3cTdkd1P3dPdqN2O3mPgseHC4vnj6+WW5/XoNeuW7ebuRPBD8t/z2fR89rr3Fvlj+iz7Hvyb/FX9ZP17/Zj9Pf3K/K/8/vzc/Dv9gv2b/eD9F/5D/hb/Rf+u/1QBIAI/A28EtQViBvwGzweECEEJVwpiCyENJA+8ECISshOIFMQUzxWyFjIWrBYvF+UXohczF6EWRxUBFKIS+hCND5YOgw13DMsLDwv8CTAJkggGCF8H/wb9BuUGBgezB9YH+Ad5BzUHbQYXBtEF7QU1BmIGggYcByEHTQdtB3oHiwdsBwkI2wcKCHsIVQjwB6YHwwZGBpcFuwW9BQAG7QWcBfYEyANuAjwBLADg/mL9SfxY+zL65vhZ9+T1hPMX8Tnv+uwD68PpOOhG53Tm5OUW5Vjkx+Ox49riMePA4yzkiuUQ6DTqDuxB7j7w6fEv87r1RPiX+kb9l/9UAU0DegUqBy8ITgktCt4K0AvzDAsOEQ65DmAPPg9hDyoPNA8kD7oOTA5kDZYMywvgCscJwwieB7wG9QWDBSgFvwSkBJUEwARxBecEWgV/Br4H/wfZCPwJ3wqDC3YMtQznDOsMlwwuDHoLMgtgCvUJ8Ak2ClEIdQfbBqwF9wOIApYBSQDr/pH+ZP0V/JL7lvs++q75KPlq+Hb4yfjK+NP48viP+WD6FPvW+xX8rPx+/Vj+af6i/hH/m/8rAB8B4AFbAv0DOwXqBR0HRQgWCe4JMwvJC+8LjQz8DCMNOQ0sDScNygwJDL8KigkOCSwIIAdaBpYFgQQ0A6ECmQHO/0f+P/2a+yH6eflv+PH2bPbX9Vz1BfWn9P3zbfPE82LzSvMv9Dv1yfUw9/f52/uc/ej/wAF4AzUF6wdqChIMDg6vDx8RhxKjE4EUshTbFLgUTxQRFLoSiBH5ENkPFg7oDAkMlQpYCdwHfQaOBH8C6ABE//L9svw1+x365fli+QT5IvmD+On3+fbh9gT3SPf595T50/qR+wP97f3s/jr/cf+D/yYAvACrAVMC7QISA9gCfwKRAZn/av7h/bP82/v6+qX64fgS+Hv37fW99CT0EvOB8l7ycPIF847zmPRz9Ub2ePfo+Cz6oPtJ/U3+aQDVApsEiAVQB64J/QkgC+8MnA4XD9UOSRC+ERwSrRHDEi8U8xPfE5IU1hQLFAkUURS7FJ4U8xN7E7QTWBIjEaYQog+zDmoNwgzbC6IKyAnICFoH8AXCBOkD5gK/ASsBMgAn/5L+EP4X/pX93fzE/Cr9tvzs+9n8xv0p/bz8vv4XANf/6P8wAV4CuAIOBH0G2QfUB40IzgnFCtEKDwvdC0wMSQyGDKoMWgymCycLlwqYCYEInQd2Bk0FSwTZAnkBTwC9/pv8RfvW+kn5BPij9yb39fWW9ez1afWv9MD0KvUM9Yf1UvYg93H3BPgg+cL5SPrv+jD7bPy0/A39J/4x/iD+Q/62/lf/I/8W/3L/lv85/7r/CwAaAE8A2v/P/4n/bv+N/5oATQGGAZwCkAO3AwAEiAQUBdcFHQYtBmMHWggUCSoKHQtsC10M3AyuDQcPDRD4ENkRExOiE+ATIxS7FLIU3RSVFbIWmhaHFtMWcRZKFlgWDRZvFR4VyhQUFIkTkROyEp0RwhBaDxAOvA09DaULzwpoCiwJuQcJB0QGrgQbAy8CiwHRAHMAXwAOAO7+g/4t/jn95vyT/HX8EPxk/Fr9PP1h/Yb9Nv3O/I39R/7n/SH+C/+r/v/9Hf5Y/hL+jP1x/TL9Cf02/LH73/tN+x76pPlQ+Y/4Aviy91/3k/Y59jr2OfUB9Rb1hvSu80X08/Sb9JP0GPVM9RP1DvUp9Yf1CPZQ9mn2EPe39x34vvh4+dr5K/qy+r/7j/x6/fb9Qv4d/1QAUgDgAA0CGQKVAoYDLgSlBFQFDAatBrQHjwiPCFIJHQqSCjULaQyzDG0N/A2FDs4OIw/BD3cQ4Q9kEBwR2hDpEDkR9RHqECgRlxFYEaMRRBFwEXkRzxGLEZgRGhL/EbcRsxGYEUYRFBGVECwQ7Q/HDzIPsg7KDRMNewwLDLMLegpoCT4IVQctBnMFpgQgA9QBogCu/1L+VP2P/Gf7vPqB+f74ivjT98T2h/Zk9rv1o/Wc9ZP1cPXn9Iz1dfaj9mH2fPZo9yP3wvaS93v4b/gz+N34J/mH+Jr4JPm6+Gz41Pgq+MP3U/g0+JL3n/f59633J/dM94P3xffB9z/4UPh1+PH4Rfml+YH50vkS+z773Puh/GL91f1e/hr/6f8mACkARAHhAdcBXAKCAxoDEwMZBDYEIgRJBdcFlgXxBR4G+wYjB/8HxQhRCZAJogmqCnMKKQu8C9MLewzQDCQNgQ1vDckNvw1vDWIN5g3SDSANLg36DGcMxAuZC1oLNwrpCWMJ4QiICLYHmgcGB2YGCwawBVUF9wTtBGAE1AOQA5EDKAN6AkkC4gGWAbsArwCtAAwAkv+Y/wP/i/5G/rz9Q/0B/ar8NPwL/Iv77Poj+k/5Efm0+Pv3cvdU9/T2rfYJ9qL1ZvUh9af0SvSr9Jn0d/RV9PDzt/Ou87zz9vPH9Dv1UPUp9cH1tPWc9YT2L/eX98n37PeO+M34zfgl+Uf5TPla+VP5l/no+TH6LfrZ+if7Ofsw+2P7k/vV+1D8Mvx+/Mb8S/3n/cD9s/0+/nT+UP5v/sL+6P7Q/mb/jv9iAKsA5QCLAeEB9QFDAsYCHwN9A6UDxwP6BEUF5AWdBlMGZwb1BuUG/gb/BnwHSweCB5YHPgd5B/cGwAYpBvQFVwXMBNwEMQXqBFUEOwQ7BMsDiANoAwEDnAIJAtcBcwEWAYYANADG/8v+d/42/tL9RP2Q/Jj8TPxW/Iz8efxB/Nj70vu4+1f7C/sa+wj7NPuj+mD6c/oc+u/57/nE+Zz5c/k1+Vz5LPlR+Tn59/jJ+Mj4v/jH+Mv4lPjP+MD4zPig+Hb4mfil+HL4b/iv+Lv4e/i5+An5A/n4+AX5OPm7+VX6bfrJ+mf7fvux+xH8hPxR/d39U/78/lT/j//e/wQAggClAM8A+wA2AWEBqAHhAeAB/QHwAesBqwHCAd8BNgLjATEC1wG+AcoBhQF6AVYBVQE4AUsBZAH9ANUAjACFAH8ARwAgAFsA9v8CAFMAGABEALYAwAD+ANMA0QAhATEBGwFHAfEAOAFrATsBOgFaASEB1gAfAdcAwwCeAEsACACe/yH/rP6z/oD+5/2S/Yr9XP0u/bX8p/xn/BD8UPwp/Ez8AvzN+xD8xfvm+7L7q/ud+1b7VfuO+377jPus+4P7ePtZ+4j7ivt7+877s/uQ+7/7nPu0+1/7b/uL+yX7hPtT+z/7j/uJ+677i/tz+2P7bft1+9r7FvwE/Ab8Zfx0/If8sPzj/Pb8NP0P/Ub9Rf1S/ZL9xv2L/bn94v3o/ST+mf69/tf+3f65/r/+kP7f/lP/ov98/2b/if9v/4f/hP9o/2f/J/8p/0f/MP/0/hz/0f7M/sb+rf6T/p/+a/45/l/+Kf7x/Qf+tf2T/b79nv2L/WL9nv2Q/Wn9Yf0h/Sz9If0k/fb82fyw/H/8ePyS/H/8ePyF/NT8zvzy/O38Ev1R/fP8JP3x/GX8xPx2/IX8V/wX/GX84/vH+7P77Psb/Of7oPvy+wT8Pvwt/Cf8Wvwa/CP8Q/wp/Fn8U/xl/Aj82/sS/Fn8VPyD/EP8Q/yW/KT85Pze/B79Ff1G/UH9EP0Y/VX9RP1R/Zj9ef2P/Wv9Wv1h/ZL94/2f/Xj9b/1j/Xj9nv2U/ZD9lP2s/Y79n/2f/Xv9bP3F/dX9y/3Y/eX9B/4Y/sf9x/0T/vb94f3H/cb99P3D/Xn9a/17/Wr9cv3P/U3+Zf5e/jn+Lf4s/oP+Af8B/y7/OP8A/7r+/P7W/of+kv6R/pT+pP5y/nr+c/6Z/qv+U/5H/lr+SP4+/jj+Cf4E/vz90/2p/cv9/P3o/dL94P3m/b39yf0J/uz9vv2v/bn90P32/fn98v0O/vj92v31/Qn+Mf5c/jL+ov6L/qP+df5a/mv+a/6U/l7+lP6T/pP+hP5W/oD+fv5i/q3+X/5q/qf+xf7X/sf+Df/4/gX/Fv9L/7P/gf+K/9b/6f/w/yAA1P/Q//X/oP+J/2//GP81/xP/7v4K/zr/Wf8//3L/Jv9Q/0T/Av9Y/yX/zv6y/qH+1v7D/p3+gP4u/kv+Vf5h/lP+Mf45/hf+Av4P/vr9A/4U/hv+J/4g/hb+G/4e/hf+A/7p/e792f0W/s79rv2t/cD9Mf3j/Dr95vyq/B39Z/2F/a39rP3y/ZL9Cv55/or+hf6U/pP+gP6U/rX+mP5v/mL+av44/u79Cf7k/e79C/4c/uj96P3i/eL9xP2y/SL+6P3j/d/9xf1D/iL+0f0D/h7+W/4m/iH+Jf4a/i3+Cv4d/mn+mv6J/qL+Xv51/sv+u/6B/jL/Xv8k/2T/m/+g/7X/QP/w/tT+vv4L/+X+qf7h/hv/lv6t/v/++v71/tP+Kv8O/8j+CP8h/2r/pP+X/8//9//3/wIACQA9AD4AkwCKAGQAMwAgAOn/4/+m/0r/Nf8I/8z+z/69/q7+rv6Y/ir+Bv5K/hT+5P3g/ef9q/2g/aH9wv3+/az9n/2T/Zb9vf2x/cf9xP3+/fP92P3M/dL90v1U/Xv9jP2Q/WD9BP08/Rr9O/1J/Rn9xfyg/L38d/wz/FD8cfzm+7b7f/zp/Kb80fzb/OT85Pw7/b/93P0M/g3+J/4y/kv+Zv6F/l/+WP5m/oj+T/5f/mf+o/7D/rT+lP7h/rj+yf7m/vP+IP9H/xf/+f4x/0T/A/8m/6T/UP8+/3L/oP99/3z/pP/b/8H/pP8eAE8AKABPAFgAdABeADIAIABvADoASgAgAPz/BQABAGgAMgBgAEgAWgD5/9b/JgDH/9j/QgBNABoA5f89APn/zP/y/+f/CQCi/5T/gv9x/1r/kP+k/5b/yP/W/4X/V//p/jL/9/7N/u7+9P6C/ib+/v0Q/jv+CP4e/hT+9v3t/eD9eP2V/cn92/1v/Ub9V/0u/QX9Hf00/fz88Pzk/Nz84PzV/Pf8HP2s/MX8sPxy/ID8qfy5/Kv80fyj/Mf80fy5/Kn8kfyo/LX8hfx+/JH8HfwV/DD86ftU/Pr83/wF/f/8Hv3n/A/9+f1G/gf+Bf5a/nD+S/5l/qz+iv6T/oD+kv6+/s7+rf7W/gX/NP9T/2v/Z/9K/1n/e/9w/3H/cv+6/6P/pf+n/8f/0P+c/1X/lP+c/0//ff9R/1z/jP9F/2D/dv+Y/0H/If9Z/0f/eP9g/5X/v//r/9T/kv+m/6L/Cf/V/g3/xP4K/1j/7v7i/vD+5P64/qX+3P6F/qf+9f7x/hb/sf6Y/q7+0/5y/hn+X/4t/s/9yv3m/fL9jf0E/Wb9p/0q/Rv9R/1Q/dv84fw//fn8yvzM/Az9OP3q/O/81vzm/O78zPy2/Jj8jPx1/If8vvyc/Jj80/x+/H785vz9/Cr99PwK/RD94vz8/Lz80vzM/A39I/0g/QP9Ef1Q/XX9Rf0p/Vz9EP02/WX9ff2D/TH9Of01/cT99f0V/jr+QP5w/iX+af7W/iv/fv9o/zX/Rf+F/2H/PP+B/8n/yP/W/67/zP/z/4f/l/+v/+3/8//t/9r/3v/r/8f/zv/a/8P/rf/G/9z/9P+u/2X/cf+G/3n/o/+C/3r/f/9F/x3/Hv+S/17/U/+N/4r/fP9g/z3/FP8P/wb/9P6W/qH+wv6V/gv/of7R/sj+df6P/qf+lf5h/nL+Xv5e/j/+R/5m/sH+TP7g/U3+X/5L/lL+Dv5d/pv+yf6b/mz+k/6a/jf+Xf4P/qf9qP2g/XD9Xf0+/dP86/z+/Of83Pwm/S39K/1J/Vv9Mf1G/TT9N/3+/Cr9Qf0d/Qj9/vwK/QL9Bf0T/fb85vwe/e/84Pz9/D79DP0d/ST9Tf2C/UT9Ef0g/Ur9UP1E/VP9g/1H/TX9Xf0k/UL9NP0A/dn8Wv38/Sb+S/77/Tj+Av4G/rb+5v7l/uT+8P7z/gv/GP8Q/1L/Sv9R/63/S/8M/yX/Pf87/zT/OP9A/zb/SP9i/yf/Uv8//yz/AP/0/tb+5f7H/sz+vv6v/l7+rv6i/nz+O/5M/mz+Z/5t/iX+L/5b/ov+av5I/lX+ff7Z/sH+kv6v/s/+mf5o/kf+I/7y/eH9lP3m/RX+xf3c/cT9+f0F/qD9zP0F/gj+5f3X/bz9wP1i/d/9Lv7Q/cX9p/3J/Yz90/3t/Zj9gv2t/W39nP1z/S/9Sv2m/br9ff10/d/9sP2t/az9yf3Y/ar9qf3L/d39vP2q/bn9iv1x/WD9dv1l/Wv9j/11/W79jf1D/T39SP0c/WT9W/2A/Zj9m/19/Yn9bv1i/Yb9kf12/bL9uP2K/db98v2a/aH9kf1y/Uj99vxm/ef9/P0e/g7+/P0L/l7+9P4r/0f/T/9N/43/8/+3/5//kf97/17/gP9//33/if8+/53/kf+R/5H/rv92/5f/af+y/63/Yf80/0n/MP8T/xD/3v7i/vz+2v6i/ob+iP5w/oz+rv6+/gr/O/8A/9P+1P7D/pb+l/6e/ov+nP58/jz+If4q/vD9W/5u/iT+PP7y/Rf+5v33/e79Pf5E/v/9Qf5L/lD+kP6W/q/+9/7//t3+MP8D/y3/Mf8u//v+5v7r/v/+9/5x/iL+Gv4I/tz9AP4i/vn9Pv7b/Q/+Uf4z/jX+Zv5g/lr+Lf5H/nP+PP4//kP+Y/5D/kj+J/45/l/+Ff4g/iD+Iv4Q/hP+Sf5A/jz+LP7S/db9Dv7c/Z79v/29/an9xf3V/cT9xP3G/fr92/3J/br9pv2Y/XH9Uf16/d39E/47/l3+Vv5i/h7+tP1f/tn+6P42/yD/bP9+/3n/t/+J/6P/rf8x/xf/S/9F/xn/G/9n/8P/Yf8Q//n+QP9A/3z/jf9l/23/Vv9I/0z/I//c/gf/LP9E/3P/KP8+/wv/vf7z/uT+Lv9D/2T/Vv+T/4X/n/92/0X/R/+B/wwA///w/9r/BQCp/2L/yv+P/z7/K/+p/5f/hf+H/3v/av9Q/1b/C/8a/w//yf5c/t3+D//l/hP/E/+L/sX+6P4l/zn/KP89/2r/HP+F/6n/t/4h/i7+af5L/gD+8v1e/sr+uP7R/qj+uP77/qH+of4T/3z9Yfxs/fn9af4L/1D/EP9C/9j+6P1N/dL9jv1C/fT93P6W/jD+Uf6C/p/+pv7o/oj+kf6G/j/+b/4H/+D+K/7u/WH+U/4o/ir+ev6F/j7+k/52/+X+CP8z/yD/l/7k/qL/LwC+AJEAZgCrAOcA0gB/AJ0AjAA2AIsArACzAIQAcQBfAI0AlwBAAAcARADHAOoA3wDaABYBWgC0/9v+t/6l/m3+eP6X/8MABwF/AD0ANgDf/3f+DP7u/gL/AP/n/5QAywCYAKcAQQCvAPQAygCBANAAcAEDAQIAVQDcAEMABwDV/+r/egDnADsBGgGsAOsAtAAlAFEAj/+2/Qf8L/yB/QD/KwDrAEAAYQAHAaT/df7A/hf/IP+0APsCxQLb/3r9pv20/ej9X/6I/nwAQQKzAQAB2gDA/rv8Ifzz/Mj94PxV/Mj9NP8xANH/cv+J/5n+/vvU+pz8Nf5v/lP+uf5u/yz/av3s/Af9O/z0/Dn/nAFMA7YCTP8c/Yb8svwp/Zv9LP4a/8P/CQHqAf0Azf+m/kz+G/92AKX/h/6p/mz/bQEsAnQB7gBTAIr/kP9QAV4CCgIHAeIACAG/ACoBUAFzAMT+av4sAIcBmwExAl4CWQGeABkB/gERAV7/TP9s/97/3gBUAaYABQDB/3cAQwHSAML/F/+P/kT/egC4ALYAegC9/wf/Wf86AFoATv9n/wMBzwGUAiAC9P/0/t3+r/7x/v3+k/90/2H/CgAUATwAm/6c/Xr9DP6i/un+Tf5o/T/+Cv+x/5T/Rv8u/in+XP8xAMP/6v8fAGUAYQEiAXr/nf/DAJUAcQDoAeMCGwLKAUECJwJyASkB5wA1AcYBTAGXAD4BiAKaAdf/uf8jACgAlf+J/9L/6/+RAKsAmv/M/Rb9cv0E/sP+Df9X/hf+x//s/xT+Sf1N/R39cv0H/rb9+/zC+5b7qPvn/AX9Pfvs+VT7H/19/Oj71fvr+wv7O/pX+0L9A/1p+3f70Pyh/MT7xPu0/NL8gvzn/N/9If2p+zT7zPvN/KT94P4q/37+F/6c/R3+PP9VALgA7QBoAh4DmgL5As4D7QJjAqED2QRhBYwFAgbPBSgGsAaxBq0GVwekBs4EYATABTwGSQVXBegFygWFBcIEYARvBPYDSwK2AvgDEgRhAW3/tP9T/6H+e/6D/pb9nP1H/Yz94v5u/wL+s/zc/Uj/G/6X/Xj+x/7g/gQAnwFxApsBggCA//T/pf+P/W37vPkD+EH35Pdl99H0+/Kq8o3xy/Br8dXxr/DS78vwvfL980T0UfP18vXz6/Xy9h34ivrO+wD7gfsz/nb/z/3f/Fr+JgBJAFMABwAy/9v+xv5C/30B6wK7AXkBSQOvBG0E1ASxBrIHBgiyCW8MQA3uDa4OdA7aDhERShMUE0IThxQxFEQSEBGND5gMmwmuCDYIdQipCbcH3AQZBE4Ctf5a/Qv+Iv0A/GT+tgB+AGMB1gJqAQsANAHbAeABUwQcB6gHJwgJCqIJqwa4BOUCsP8a/p7+6fyl+hT7vftk+b330PYK8/7tF+xu7NPsPu938jLzjvPv9dP1y/Lj8q705vP189P3w/u//Ar9Fv/g/+b9nvuD+sT5x/kI+mH6lvwd/yD/5v1K/RP8kPkX9xj4Ffo7+0793f+VATICbAE//vT7d/vW+pj5ivuj/0wBswHlAlsDQwEf/6H+5v7A/5wD5ggRDd8QnxOCE0oS2RJvEzMT2hTDGNEbvh04IMIfEBy+GG8UaA3LB34FiAJW/3v/kP9d/F352vWP7pvoVOea5Xvk3egj71bynfW6++T+z/zl+7/+kwGgBJMIpQxhEbQVCxdWFrEVChPMDHgGWQQnA2v/8/xP/hD+c/pg9xT1SvGB7J7oR+bp53HsjvAN9Pn4yP3X/n/+Lv8g/978Hfxv/j8C4QZKCosL0gzFDBkJyAPnALr/C/2t+vz8jQD3ADgAnQDz/rv67PcU9w/3hfdV+aT7/P6xAkcDpwG4/2f9/fio9U/2I/f89t34MPzp/P37Uvpo97Hz5PFv8on0vfex/SID2wbuCmQNNgv3CC4K4Qv2DSwUZByYICEhliHAHu8Y5RVQEsoM9AovC9YHhAUhCLUHTgC4+kP49/GU6yrswe2b7izyCfZY+M77cf7v/MT8YAHKA+ICxQdBEJ8S1xKzF7sawBZKEiIRMg/5CwwLgAvnCfwHJwaGAk//LP6l+133w/WQ9Ur0bPTb98D4Wfa/9qP3Ofdy+cn86Pwn/Fj+SP5U+3T8qP7K+0b62vy8/I/67/qQ+pf3Jfep+PD2IPY4+P33r/Xk9pn5KPjr9lj4svjS90D42fhr+EL3rvX/88vyrvHG7ijs1esI62no+ebU50Dofec06SDsf+3c7vvwifMR9tP4RfwiAVsGogvVECIWCRqLGzIc4x0dHVgbzxy5HWIevCCtIQEhkyC1H98bQhY+EoUP6gofCOUIuQkaCjsKLwkQCfUHcgIg/eH70Pug+xL+9QPWCSgLnwsADmQOJwxjCUcJdQv1CmALlhB4FJATaBJcEi8PuQgKBOcB7P2B+Vj5bvrT+Jn29/ab9oHyaO4W7Y3r7+dA5zzpeupm6xfsMe3s7UPulO4F7ZnqF+l2513n/ejg6tDt0e8R72nucO6B7dfrp+sl7Mbsxu2U70jxevLG9MP0zPG/7wfuC+sV6XXqB+wH7A3tDe7G7LHrW+u36ejnYefI5ibmVeis7MnvwfOx+WD80/zeAJsFZAYxCGoOUBLsEhMXUR9eJK8kQiciLPcsjyowKo4sXi2gKhoq9ytNLOYqtyo5KyoqPylgJ0EjVx9tHtQdkhrgFmkWeBawEl8O3ww+DdgJdwO+ACwCxQBe/aH+2wLkAxsCmQI2BM0DLANuBGYFpgRmBAYGzwaUBm8HtQd5BfQAnf4K/e34a/RF8qPxju9m7nftv+wB7MDq+edC5dLkUuQf4m/hR+WG6FLp2+lL7Czunu1T7GfrxevW69br+Otj7qfyBfXB8/Xy3fPr8l7ui+oy6zbr2ujl6Ovrfu137JTrA+vH6KDm2uXj5Hrkv+Zu6fDp5Ork7TXvm+2U7B7tCOxH6o/rou568f/0Ffqa/oQBqwSdCJIK+guyDyMTXxU1GPIdVSTaJ8wpliyMLb4qvSf2JUYlJiRhI8IksCakJ68nYSdxJngkFCLxH7Ud7hzxHmogDx/THeIekR5/GaYWMBekFLYNaQq+C9QKRAdvB3IK6QktB/cGhAg5BxQFqwUnB1MGRgUPBz4J3Ah0BysHZQbmAmf+SPw3+h33t/RC89nyy/Jc8jjx8O/c7/jvc+2p6+Dsf+4f7ufuY/KM9Aj0B/TW8+jxiO7p6zTphOYJ5n/n3+dt553nked65Xni2+Dm367f5t9m4Fbij+R15XDlIuZQ5l/kZ+Ks4VThtOCg4fzjx+Rq5Ybn2+iZ6JboSukK6vTqUuz47XvwKvMo9Pjz0/QP9xX4IvhL+3P/iQGfAtwF1wk2DCMO3Q+ZEcISgxM/E+EUihldHXoelyGYJhsntSSqJDsmByVzJPAn7St/L44zpzbVN9o4BTiDNBMxQC+RLOgoRifVJfgjCSNEIjQflRuxGHQTNAxVCIkHPwWhA8gF+geBBgEFowXeBNcAFf+RAPX+lPvc/H0BcAFM/zcBswLE/pT5Nvgx+AD2wfMR84LzlPNx8oXw8vB88IDtb+m46HvocecV54jnQuiy6FPpTunv6BjpWec35NrgqN1k2n7XldYV18vX8NiL2vLbN9wO3BHbONm11nHVXNaB2GfcF+Bj5JroCetw6qPoCuk76HDlpeZz6/Xtz+5i81L3IfY79NHzufGD7nvu+O/88If02fhB/Db/gwPUBaAGJgkDDNQNLhEMFx0dnSLdJyQshC/dME0wPy8pL3MtCytgKkUraStdLCQu7S/XMEoxfjCML2cvMC88L6wvwi/BLdAtLyzjJXMgGB87GqcRaBAUE7cOwQgjCawIzwAR+wr6tvae8rPyr/MR9Cj2T/hI+BH5uvnR94n1n/Vu9InzZ/YK+vn6D/wu/mP9ivjJ9AXyGO6k6TvnHecF5/nmw+em6CzocecZ5nbiOd+S37XfLN743tjimeXH5V3nv+iz6MzmeeLs3yvgqN6y25fcXeBR4OfeqeF54vzf7t9s4T/eL9yk3oTg795O4ajnmunh6b3rOu828BrvSu+y8T7zGfMq9Hb2evht+HL4TPjC96X2wPb19rz36/nW/E4A4QR0CmUQ6xWdGTkdBiGyIskiXyReJz8ozindLFUvTi7zLmAwgi2hKM4nWiYIIVMe4yHzI4MhhSKGJ5gnrCN3IvcjJSN+H8kdMx+rH+0c9RlWGYcXsRJBDEcJZAhoBtUD+QI1A+gCTQB7/Fz6Hfgr9Vjx0e4I8Sb0s/Pz8835G/5++9X56vyp/CD4k/eT+eX4D/j1+Af5lPjq92D1dfIw8b7usOpz6prrv+h35+TpPem35qHn5+hi51LlMuV35ALkDOUU5iDnF+iu55XmneZk43zeFtwb2bPTedEP1PDVutbT2rbgx+Ft4FjgY9+C3rfdlN6u43/oceyX8uP5f/2u/WcATQIH/zv9OQAzAR8AdwOkCOcIWgc1CqsLfwnGCeEMGQ6wDnURYRbdGHkZeBpyG2AbABv2G48efCHNIhgkQCaaJ3Mo9SgsKg4rMys5K3orjytjK3Qq4CiwJSUiICE5IFwe/R7OIfIhOCCkILMgQx3DGh4akhcjFEETKhI3D5sNGQ27CSYGIgSuADr9vvtA+SX1IvJR7vzoMeVM4xLhFODm4QPifeE35Z3oEedw5h/pTOg95EnldulQ6czoJ+yo7jrtiewp7TLsROgu5rzlf+Pk4A/gCOGW4CrfIt/M39HeYd283d3ec96h3mDgtuGM4vjk1ue06DXoFenV6MjmKeWA5kroG+gz6crs6e/V8CnyUPWW9pD0ofNZ9Xz2Jfe9+p8A+gQABxAKcg2WDiAO4A3cD40RExJ4E3gWFRplGioZRhlwGWoW+ROHFGIVIhTAFPgWSBcqF9sYghnPF3gXphglGOkXZRlQG2IcUB0pHQYdFx0nHGEadBkuGW0XrRXtFaEVKxSbE/ET4xKXEd8RRRETEIUO1QxvCmEIaAY0BZEFHQarBYMFwgV+BU0EpQNQA/cBqv/M/T78BfuD+Z/3D/cH9gDzW/CR8E/w6O0D7eDsmut76T7oLufX5WLkO+J34B/gHt9X3n7fNuF54cXgRuEy4o3hTOJC5c/mzObe5zvqNOv061nt5+4R8JHwsPCu8c/yLvML9JP1D/Zv9JT0q/aB9uT1t/jg+rX5mvqk/Xf+t/6wABgCqwGtAYoCDgMwAzADeAN2AwACggELA1MEDAQLBS8ICgm5B2wJAw1UDfgMgw56EJwQbxFYE0AVFRaDFmUYdxgTGFUYbRlRGqUZLxlvGcQXphUbFfgTVxH6DlAN6wusCg4KMwlgCGEI5wbXBKkEdQSaAmkB6gKeAiYBLQIrAzUD6gJBAwMC1QDoAFMATwC+AeoCFALCASUDvAO/AvABpwHMAQgA6P20/aP+gf5Z/aX8ffyp+7D6wfow+076t/mr+cz5jfmR+e35lflk+e/4nPcA9p31vfQC89bxIvLW8d7wzfCb8WTyXPEh8EDw3PCw79Du0vB38gvyfvG48kf0wfNG9G/1vvUB9bnzNfTT9Jj0ZfX39z75avlt+8z+cADMAKECvwQ7BfwF2Qd3Cb4J7QqXDLgN6g0CDrcO2g51DvQO+Q+pEJQQQhFcE8MT3xLXEqgSPBEAD4oO7g07DBoL1QqhCZ4HrwZOBpMFkQSDA/gCYgLaAL3/MgCYAFX/nf4w/3H/hP42/wQAIv99/87/QgApAFwA1wDW/47+pf1J/er76fmu+Jb4jfjW9773Yfdj9a701vOa8kfxGvD97oHu1u507+jv7u/R7yLvAO/D7y3w5O+t72Lwu/HN8gHzhPRq9tv2svcd+eD66vvG/G/9If4C/2T/bP/L/9v/x/8OAJQA6v/y/l//bv8g/jv+7v+HAKn/UwCvAYQBZQBLAUQC/gBUABACZQMYA5ADXAUrBtgFwAVdB5gItgeaB2kILQqKCvEKjQ30DiwPDhDyEI0QzA+nD+EP+w4BDqcOZg+0Dk8Nzw2PDisNfAtbC/AK0AjvByYIlgfKBrUGwQZ0BhoGMAXqAyED9QGuAMEAYQFxABwAwQDhADAA2//2/xz+N/3F/eX8i/vg+iL7vfnv95z39fZi9cjy6PE48aPuruuR6n3riusb6U7ocui55zDniOdU6CDoOue255rpLuua64zsqe1r7kPv7/G19OT0h/TM9df2F/cJ+B356/ch9mH22/cF+DP4d/hE+BD4dfh7+Sn5Xfi+9w/3Ofc1+Kv5iPqK+vv6tftS/gUAaP/B/pf/TgDoALgBbQIYA8MD5wQSBpcHRglRCfMIQQo0DCENfA0KDsoOnA8aEI8QLRE2ElwSFBHFEJsQzg+lDk0N8gxGDZkMhwtkCzkMCAzrCnQKfgmWCCAI6QgTCpQKVAuqC9MLcQswCooJagl7B5MFxAX8BX0EjwN3BKsE9wIoAk0BDgDF/h/+Nv1P+336ZvpG+cL3FPd09v/09PPN80/zKPKx8Nzvd+/e7pbtzezM7Jnsu+xe7WTuYe6P7RXuce5r7bfs1e0L7tzswOyA7YTt9ez965bskeya697rgetJ6ifq3erz663rZOsB7NHsUe177Uztruwt7DfsouyX7cHuou9e8IXxIvOP9O31lPU59lj3Y/gN+rn6xvxb/sr/wgGRA6UEmgTsBHcFQQbiBnEHLQivCEMJOAqWC3UMOQyODHwMMgzjDPUNeg6MDqoOnA+tD/wOaw5MD+IPoQ5mDkEPbA+cDhAOew6+Ds8NYA1KDmQOzg0wDiUPrw64DREOaA6ZDGcLdAuLC5kKdwpJC8gK6Ql6CTwJawc1Ba8FGQYwBCYDqQQkBX0CnADgAW8Cw/+7/fv9Dv7y+2v7MvwH/K37C/wn/IX7dPtz+6v5GPhV+G35pfmH+aX5Q/qL+ev3c/c+93P2jvR98yv0FvTW833zRfNQ8q7xtvFX8Z/wuPC38BTw+O8F8RLyPPEK8Z3xDfKC8mDyJfPS87L0a/Ws9Uz3Mvjb90/4ofpE/Aj8uvw2/mH+qv7//4gBrAE7AUkClwOuA9QDlgSlBLIEmgVdBscGRQdsB1cH0gYcBy0HsQYFBvsFvgY6B3MHJge6B6wHMwfaB0kIvwd2B2wHiAdZB6gHiAdGB30GXQbrBv0FIgXvBIEEBwQYA60CoALZARkBIgHUAHcA/P+7/yz/Vv7m/aH99Pxw/Mb8ivy4+9/7+/vG+j35hfm4+T/4m/c8+VP6Qvkq+TD6GvrX+En5O/vH+936E/vH+zr7g/pc+/f7Q/sT+8j7mPvS+vL6Ovsi+//64Pug/K/87fwP/sT9Yv3r/cL+tP6O/hL/tP/j/y7/kv8cAP3/FwAyAHAATgD//+wAWQFlAbEBxQIkAxcDYAPlA/QD/QLhAyEF3ARuBWgGEAfjBpsG6QWiBVAFwAW1BeEFCQflB9YH9QdoCQgKGwg6B+YIcAmvCBEJfQsoDLYK4grDC80LnQr+CFwJbwldCKgIvghCCOYHyAd7CKgHogZ1BuMFFwXvBPcEoASHA0UD9wO0A3cCLgJ7Ae//6v4c/7D/o/4e/hL+X/0c/ar9Rf0y/An8Nvzh+3j7Ifxf/Hj75/rL+mb62/kt+ez4qvh1+Eb40Pch+Nr3afex98v3e/fv9lf3zfde92L3DPjz97X3J/ir+LX4d/iW+O/4lPkn+vr6Svt/+737ffun+238af1H/Zn93f4S/7P+jP9MAB0AUP8oAE0BIAEQAe0B7QIbAv4B3wI2A9wCCwMRBIEEtQSxBagG7gZTB1MHTAdYB1MH3wfmCCMJwQhmCTIKHwryCc8KEgvVCegJ4ApPCx0LhgtwDJUMaQuDC1QMPAxwC58KDQvICj4K+Ao2C6IKNQq/CVQJ0ghlCNoHzgeCCBsJIwkECTsIowfNBlMGDAZBBfEExgSfBJkEHASTA6cCpQEAAZf/yf7r/kH/t/6P/hP/6v6V/ZT8LPyG+/L6rfok+zT73PqS+mz6xvkX+af4WPjb9wf4P/iK+PL4Pfkk+cn4+/cu9zb3P/dj9xX4Mvn/+a/59Pn5+cX4Xfi3+P74FfmF+Yr6NPv3+kn7bvtm+mT56/lH+5D7Xfzo/ef9l/1Q/jH/yf60/qr/WgBHAJkBFgNsA8oDwAPZA04DRgN1BAIFQgU4BlwHkQf4Bh4HNwfCBgsHlgfkB0EI1ggKCSoIrgfWB9wH+QfNBx8IBgh1B5QHBgirBxEHZweiByMHqQb/BrsHCwfyBjIHlwbjBSQGrgZ3BukFdQYCB8EFmwTzBIQE1QPOA/UDygPiArkCZALSARQB2ACBACsA5P/yAMQAHgB8/yP/e//W/rH+M/95/kH+p/7e/uv+N/7x/Zb9m/zQ+yL8ZPyr/M/8nfzD/IL8J/y8+038kPwu/Gv8zvzY/PX8DP3u/Hn89PvT+2P7FfzZ/On8K/2F/Rz9kvwH/Ar8kvxE/ab96/2l/gn/j/5M/pL+H/4P/oT+h/+sADsB7wHiAVIBLAEfARcBwQFVArACcQJ4A6gEqgQzBGAEuQRkBDQEMwZHBy4Hmwd9CB0IiAd8B3UHOwfdBvAHiQhlCPkIsgkgCXAIDggBCLQHAAhuCIkIJQhUCHEIdAi9B2UHhgdkBwwHbQYVBokGkAatBpAGagbNBXAF2ASFBAUE4wPgA8QD5wNjA3IDggMzA1MChQEaAbEAkwAAAesAAgEbAeYAWwDd/1//n/4E/sn9a/6S/lD+Dv4q/kX+7f0u/Wf8lPzH/PT8pP1D/pX+uf4e/pr99/yN/HX8CP1N/W79qf11/Vr9r/xp+7T7jfs9+0H7dPyN/XL9kv2e/ev8dvx4/KL9BP7T/X7+2f7P/sX+tP4o/yn/zP4M/zz/zf8MAM8AXQERARwBMAH8AMsAMwH5AfQBMgKKApgCpAIyA10DQwP+AiUD2ALhAoAD6gOsA3IDcwMVA4wCeQO3AwUEWQQdBDcExwN2BOAETwTxA/oDlQQKBMkDRwQbBDUE9gOFAxsDsgLCAq4ClwKBAp0CVwLAAYUB9gBZAIgA8gAGAXkAVwB9AO7/iv9Z/0n/Q/9v/53/q/+T/yz/if48/gj+kf3P/Rf+F/7M/Sn+eP4X/n79uv09/QX9RP3h/a7+Uv8g/83+C/5m/RT97fzo/B/9u/1R/pf+NP6i/Yr9l/3H/Jj8Sv1g/aT9cP59//n/af9R/3f/bf9+/6b/fAA4AZIBvQGbAdABnAFyAcwALABcAL8A/QD8ATcDOQOsAo8CUQKrAXsB9gEtAlMCyAJsA1sDFwOJAkgClQFoAZsBDgIAAjkChwJ3AgICugE8AQoB2AAxAaoBcgGrAdABbgFTASEBBAGlAD8AewDFAO4AywCEAGkApv+P/x3/X/8aADwAiwDyAGQABgBq/4H/YwBZAA8AhgA4ASMBvQAxASABZQCt/yr/9/4A/6H/VwA/AFMAWQABAFj/xP4Y/0X/Qv+A/+z/9/8WAAoA3v+V/xP/1/40/4//q/9BAHYA+P/H/7D/x/9q/3b/qf+l/2//2P8eAMz/9P9AAGAA+/8mACcAGADp/3oA4wCBAMkApADOABcBJwH6ACoBWQFMAT0BqgGpAYUBOwFtAWgBYQGXAdEBaQISAhYCKwIqAoACOQKIAtUC0gLVArAC6QK+As4C6AJxAmACbgIrAuUB5gHDAfQBogGpAf0B5QGPAbQBtgFcAVQBLQF8AU0B/gANASQBOAE9AfMAyQCKAC4AcgAwAFQAPwCDAG8AMQCg/3//g/9O/0H/i/+f/1n/dP86/wz/3f73/tD+kP49/vj92f2w/Vj+ov7i/ov+XP6c/h/+vP4L/0r/hv91/4L/i//L/7r/bf93/0f/Tf81/3f/Vf9E/4P/rv+e/9P/6/+7/6H/v/+4/+L/FgCKAGkAEgDy/wcATAA8AD0AQgBjAPH/dADiAHEAWgCdAEIAFwB8AF8AbwC/AAQBUAErAQkBTgE7AUgBlAFhAYkBiQHZAFcBVAH3AE8BXwExAfMARwGmAVsBYwGQAbIBkAHoAAsBawFqAT4B8ADrAFIBHwFRATcBPQHxAA0BTAE9ASYBdAFSAf0ACAEQAQMBIgENARcBzwBfAIkAjwCmAJ4A0QCGAJ4AMwAnAHEAVgBeAHoAdQAbAAMAMAAeADAATwAJAJ//YP9j/2z/d/9x/4f/NP///tT+/f7U/u3+PP8O/wP/0f7b/uv+Bv8R/4r+uP7D/vH+tP4C/xL/W/+F/43/yP+7/6L/y/9oAMkAEAF5AVQBcQGMAXUBbwGuAaUB0AHbAfcB+wEZAiACLwJAAk0CMgIvAlgCeAJVAn8CywK5AroCgAK8Ap0CyQLsAu4CEgP3AgkDFAMaA9sCsgJ2Ap4CyALkAg8D6gK7AvEC3gITA1YDHAPXAiUDFgPDAp8CeAL6ARQCWgKkAT8CLgKiAW0BjQFLAQ8B/gD0AAABVAGFAXYBTAEkAdgAkQCMAOsA9gDOADIBOAHsAMIAmgDPAKIABgDd/4f/E/85/07/fv9t/wr/JP+q/2z/hf+H/5T/Vv9o/1P/j/94/1j/bv9E/xj/Bf8n/+3+X/8a//f+Lv/q/rb+vv7u/vr+yf7U/ij/Jv80/yX/ov+v/5//Zf8//y7/dv90/0T/QP9s/63/1v+6/5b/hf+e/4r/ov/m/00A0wC6AGAAzACeAOUA0QHlATkCZAJFAowChgKBAoICmgKhAt8CygK0AsICwALmAtoCKQPdAgsD7gLaAv8CwgLaAiYDuAKzAtcCuAIVAw8D7ALnAsoCogKVAnYCRgK8ApcCfQK5AmACXwJBAlcCcgJHAkkC4wExAo8CmALmApUCrwKoAikCnAFXAVUBPwHuAOUA1ACZALcAlgBKAEgAIwAAAPr/GAAAAM7/xP8bAPf/uv/Y/7b/CQAYAAsAAgDu//X/FQANAKv/aP+L/1n/Cv+x/nH+lf5+/nv+5P78/iv/Df8P/2b/RP8k/xn/If8Z//b+VP97/0v/av++/5H/Xf9p/6L/hf9j/+D/6//h/9L/4f8MAOr/n/+Y/3z/3v8tACkAUgBoALcAwQB7AGAAfQCEAD8ASQCJAFsAiwCGAPcAcQFWAWUBNwGNAVwBtwE3Ai0CowKxApcCdQKFArECzwKjArwCiwK8Ar4CywLVAscC6QLGAtICXAJAAk4CSwI2Ah4CRgIaAhoCPgIDAu8B7wHZAdEBwAHyAfQBqAGjAYEBMgEOARQBAAEIASYBDQEHAdUAzwDXAJ4AQQAGADIAQgAZAAAAOwBvAPj/BgAhAAAAuf/L/zoA3f+h/+X/2v+g/6P/m/+W/47/wP94/7f/oP/D/7n/rv+7/6b/nf8MAOj/KgBSABcACgAKADYAFAAEAML/aP80//j+/v4Y/yf/dP+w//v/MQCEAK0ApgBTAFcAZgBxAEcAKgAnADQALgAxAGYAfABwAJsAsACLACsARwCBADMAFQAWAE4AbgA4AEoAUgAZADkAagCFAGcAPgBTADEANQAEAP3/nP99/7r/IABsAKEA/AAUAQwB3wCxAC0BGAEwAX4BfAGEAaQBtAFxAZcBoAGfAW4BMgFWAUABDgHZAPYABAHlAKoAcQCEAKkApACrALIAmQCcAKEAjACKAHoAigB8AG4ApACJAFYAGQC6//f/2v/j/9n/uf/M/8b/8/8VAPn/+v8mAD8AZwCQALMAbwCdAD4AAgAPACAAbgCAAL4AYwBuAEMAWgA9ACIAAgDV//3/HgDq/5T/rv/Y/8P/of/n/1MACwABAPH/9P9LAHAAVQByAFgACgBMADEAJQAMAAAANAAoACsA9v8pACgASgBcAFsARABUAD4AZgC0AIMAcABZAG4AbABgAGcAbABhAFwAXwAtAE8ALAAOAAEAbABqAD0AGAD9/7b//P/w/+f/8//c/wcAHQDc//r/EwAdAMv/nv96/4f/ev9p/7//y/8JABQA+v/K/7z/qAC3AJ8A3wCMAKMA0gCpAKsAvgDAAKsAdACJAKkApwClAJkAqQCwAPcA5wD4AJYATABFAJwAogDmALIAqAC1AHIAewBgAEEATgAmAEkAkgDAAGAAjQCrAGsAzQCfAKoAvgC0ABkB1gDhAM8AnQCUAHgAZwBZAJAASgCRAHsAhgC9AJAAmwBiAFQAYwCEAKUAvgDqAJMAaAClALoAvgAxAGMAXQBHAJAANABtAIYAWwBlAGQAogAWAPn/8/8hAFUAHABIAEQAUQBZAAUA6v/7/zoAOQA9ADEAAQAJAMH/5f/L/7D/0/+z//f/yf+C/z//MP9e/1H/kP9Z/8T/kP+h/2b/Jv8Q/wP/I/9B/y3/Of8W/wb/Kf8w/xz//P6z/tn+3f5//pL+dv52/mf+U/4c/nn+Cv8s/z//b/9t/yD/EP+b/wEADQCv/+L/MgDf/yYAbwBaAHAAXQBJAGkAKABdAFcAYAC6AJEAowCCAL8A5ACfAJcAnwDAAKAAzgClAKcAsACaAOEAhwCDAGsAtgCpAIsApADTAOYA2AACARMBxwDSAMoA1gDUAOcALgEiAScBPgFMAWwBhQE4AfUAnwC8AHIANwBpAGAAYwBXAGEAOgATAEAAbAA2AEIAWwB5AJIAkABQAFIAZwChAEEAIAAUAMv/OgAsAC4A2P9S/6T/oP+E/4P/nP+M/4f/lf/S/+L//P/C/9n/e/9p/2n/P/9F/xH/Nf82/xT/E/8u/1D/Pv8x/yf/If/y/uv+0v7B/tr+v/6g/uf+9P7W/tj+7/7w/uD+xf7u/kD/Of8L/wL/K/8Y/0D/Of8s/zr/C/+r/nf+wv5q/5r/o/9y/23/fv+9/zQAfQCkAN8A3wDaAN4A8wDlAAwBDQEbASQBPQFyAXIBZAFgAVYBWwGjAeYB0QGGAZUBYQFgATwBdgGQAX4BggE+AUoBXAFsAXkBawFpAWwBcQGOAacBcQE9AVsBYQFKAf8AAQFwAVcBSAFaARIBIQEsAQoBzQC3AFkBLgF1AYgB5wDpAPwAnwCuAKAAfQCGAE4ARwAhAN//tv/I/9v/7v8DABgAFwAGADIA8/8GAC0ASwBCADcAQwDI/9P/t/9U/13/Uf/s/v/+Hv8N/yf/Mv8b/1X/Vf+K/yb/Df93/yD/8f47/yn/F/8T/xb/AP8r/wH/6f4j/x//IP8w/xz/Ff8//3n/bv8w/0f/dP9e/3X/lP+x/2//OP9e/2v/Y/9a/1H/Hv98/4T/PP9Y/2T/Wf+P/0QAiACiAIYAcwClAJwA0wBFAaQBeQGyAYcBlwG8AcQBqgG/AZABpwG3AYcBnQGsAbIBwQG5AdUBuwGnAXcBXAGLAVIBYwGGAZ0BogGVAZMBZgGVAZABQQElAQIBRAHcANwA+QD2APEACQEdAeUAEQH4ALQAwgC3ANsAJwERAQ0B2gDqAPgA8ACXAIUAPgDg/2QAgwCWAGAAbwClAFsAaABWAPP/EQAlAC4AFgAmAAAAFAAAALn/8v/F/73/2v+h/9j/xf+p/+3/VgAMAPf/FwDm//T/uv/V//7/9/8LADEAQQBQADIAEAA2AP//5v/r/6z/rv/r/8X/3v/b/9P/EQAAAOT/FQAAAPX/IwBgAHQAkwDFALAAjACcALMAlwCYAJwAjgBxAKsAYgBPAFoAQABdAHwAagAvAOT/JQBFACIArADtAB8BUwFEAR4B9gBBAbEB+QEXAgEC+gHfAcYB+wEdAkYCZAJuAmgCPgJ3AnECPgJLAm0CSAIzAj4CYgJhAi0CAAIpAiMCOgInAkMCwgGfAaIBtQHEAfIBJAIWAhMC7QGuAcYBzwG+AZgBqwGgAfYBtQHJAeIBjwGCAVQBXgEsAREBAAHLAMoAzQCYAN4ApQB7AK4AjgB4AEoAjgCcAEEAeACDAFgAeQB6AJMAogCiAIwAbwBvAIkApACYAIIAgQCjABsADQBtAA8AFwA2ACUAJwAPABAA7f97AIUAawBMAEYAkgCFAI4ArgB/AG8AhwBxAFcANgBjAHEAQQBjAFgATgBaAGAAQwBdAGgAZQBzAKUAqwDLAKwAhwAFAewA0QAqARAB/gAHAeQA8QDRAOsAjQC7ALgAgwB1AF4AKgDiAGgBZgF7AYcB0AGgAdABSQKFAo8CfgKxAowChgKPAmMCSQIkAgIC0gHyASICQwI2Ag0C3gHYAfMBJwI6AgcC5gHQAa0BsQGwAYgBlgHLAVcBVQFJASgBLQEeATkBBwEKATIBNgFbAS8BCQHwAMsA1QDJANQAzgCAAXYBfwHCAY4BkQG3AW8B6wDqAMkApQCQAJEAkADKAMAAuADgAMEApwCDANAA5gD8AAkBTQFOAV4BDwHmAPYAGwHyAMwA1ADHAKQAbwBwACEAGwD5/7D/6f/t/+j/AAA4ADsAVwBVAHkApQDbALcAdQCsAEwAVABpAEEAQQCIAGoAXQCIAGEAigBxAIoAjwDBAGIAYABWAGMAaABOABMAQABmAAwABQA1ACQAMwAnACYAAgAcAND/6f/v/xYAz//m/9T/uf+i/+7/YQClALEAvgCxAKAA5QCCAXcBcAGVAZ4BXgGYAW8BXgFlAYMBZQF5ATEBCAEsAQ4B/AAMARYBRQE2ASUBXwFoAQQBFwFNAR8BMgE6AT8BBgH8ANUAtgChAB4B1wCcAMsAcQBeALYA2QDiAAQBzQDpAPcA1ADKALgAAQEDAfMAyABuAC0AmgCSAGEAtgBCAFwALgAvAEoAHAAnAJQAawBRAAMAIgBmAFcAVABhAJsAlACaAMEAvgDSAJUAzgCqAGIAZQBFACgAAAD//6r/TP9E/1H/AP/5/s3+2v4T/wv/HP8p/1T/Uf85/zX/Pf8m/9D+Av8m/xr/G/8f/wL/Nv8h/wn/Iv8R/wD/Cf8j/w//FP9A/zn//P7P/uD+3/7W/u7+9v4H/+z+tf6+/qL+3v7c/qv+gP5V/mX+Nf4c/kn+tP5f/w3/P/9c/0H//f5O/8j/CgAOAB0AWwAvAGUAiABeAPn/SQBSAFQAVADJ/93/9f8dACIAAgD4/yQA9//b/wwA2v/t/+b/4v8HAAkABwD+//v/yP/g/wAACwCx/83/vf9p/1T/0P/f/5v/lP+Y/3f/iv9j/23/hP+t/wYAmgCAAEMAbwBPAKj/sv+L/2f/m/+w/6z/g/++/5H/Yv8u/0T/hP90/1P/Pv8u/y//Jf/l/lr/av9H/1b/lv+M/0f/X/9G/4L/VP95/37/PP8O/9L+/v6f/r7+u/6k/rz+y/7z/gj/2v7f/tH+4P78/jf///7C/sX+5f4K/x7/B//1/gb//P4j/yb/A//8/jX/C//k/tv+0/7v/qD+e/6m/sf+6P7A/tL+Bf8w/zT/GP/v/gz/D//z/vX+4f6u/ov+pf4U/5f/mP/W/7n/q/+j/6H/fQBoAFMAfwCcAMUAxwC0AJ0AjwCqALAAnQCmAFoAPgCcAJ8A7ADdAOYAsACFAKEAvQDGAKAAjgB/AJkAjwBeAGAAVgCCADYAfQCiADMAMABBAEgAewBOACIA9/87ABQAKAA+AFMAYwBJACcAPQBdAAgA1v/U/6P/pf9eANf/7v/2/6n/4v8MAOz/z/+X/+n/KgDp/yUAIQAqABoAOAA0ALL/zf8SANj/qv/N/6L/bP9y/1D/ev8M/yL/Cv/z/vr+9f7K/ub+Ff8D/73+7/4F/wj/IP8I/1j/E/8N/+H+0f7R/ub+1v4r/8z+x/7M/qL+xf6a/pr+gv65/gH/4/7K/vX+Jv/j/qv+2/7y/h3/Bv8e/1H/Xv9i/zP/L/8r/9P++P4D/9H+0/6n/pr+uP5o/oX+a/9n/3H/jf+L/6X/4P9JAKcAUwB+AGwARAB3AEEAVAA8ABUASQAZABAAKgALABYAJgAvAHgAegAiAAgAMQBnAIQAmQByAGcAUgCnAJ4AfgCtAIkAfAA5AG4AaABbACoACgApAPn/QgA0ADQANQBiAEEAYwBQAHEAogCZANgApgCFAIcATQAXAPb/wf+M/6X/gv+X/6T/hv+M/3T/q/9s/2j/Wf+R/9b/3P/j//j/FQDk//P/6v/r//f/mf+g/9P/n/84/1j/HP/A/gz/Bv/z/uL+7P7i/uX+A/8w/w7/VP8x/yH/P/84/y7/i/+V/4f/V/9E/1P/Rf9W/1j/OP8O/zT/If8+/yv/Sv83/z//Uf9I/0D/S/8P/xn/NP8e/0D/PP93/3P/j/+y/5z/ff84/2//Wv9Q/2f/T/9X/yf/PP/7/0wA+P/0//r/6v8LANgA+QD0ABMB3gALAf4AGgFOAVIBKAFGAYcBUwFPAVYBZwFVAVwBVQFZAUMBJwEeAUIBJQEEASgBQQFFAWcBOgFGATIB3QDpAOQAAAEhAfAA9QDyAAQB0wAfAQwB9wD2AOsAEQESATgBAgH6ANoAEQEeAQAB1gC7ADQBuQC3AI8AbwBLABsADQAxABMAAQAQAAoAJgAxAGIATgALAEgAHQAgAAIA0//+/2oAdQBZACUAMQBfAFkAiQDR/6z/iP88/0X/Xf+q/0r/NP9A/3j/gP9y/0T/if+a/4v/iP9C/0P/IP9H/0z/Bf8u/yX/G/8v/0f/S/9N/wz/9f5j/2D/G/8z/wT/Ov9s/zr/I/9V/2b/Nf8W/2r/X/9f/1P/Sv9d/17/S/9D/z7/HP8+/0j/yv4r/8r/HQDX/w0AUABRAOL/RwAwARIBEwH6APkAsQCwAMQAqgBcAHgAnQBdAGgA0gDZAI0AtgDJALgAlwCsAKYAnwCXAK4AlAB/AI8A2wDHAL0AlgCLAMIA4AC8AIUAWQBXAEgAYwA/ABEAWABnAFEA///q/wMAKwDp/9X/QABoAIwAgwCWANMAXgASABAA3//Z/53/0v/J/7L/lv9y/4r/n/9A/y//Jf9W/z3/dv9r/7v/pv9a/7j//f/T/8P/qv/U//r/xv/W/8P/0v97/1b/Nf88/1r/If/4/hn/T/8z/3r/gv+V/4//l/9Z/4r/SP9R/3v/ef9u/6v/2/9C/yX/Uf+k/7L/f/9x/5z/z/+a/4L/jf/C/9b/dP8Y/47/wv+j/0P/U/+2/6P/jf+Y/7//rf+M/6f/mv+X/6X/gv99/4//QQA1AML/DQCFALcADAB1AOUAUgHxANQAKQEUAUUBVQGOAacBZAH0ACABbwFdATIBFAEHAXkBjgEAAZAAPQFPAUwBEQEPATkBTQEPAZ0AxABkAYcB4AB7AC0BSgGjACkAggATARYBTgDn/4YAYwHSAPj/JwCkAOAAkQDA/xYAtQCcALn/8/9fAMsAUgDd/4IAiACDAC4As/8RAHAAXAARAB4AJQBzADcAxv/u/xsATAAfANH/wv8kADAA5P9NAEMASgCYAO3/LgAcABgASwAIABgAGgAWAOX/kf+3/7P/w//B/07/bv/V//T/zP/a/9L/nf8BAN7/jf+C/6f/j/9R/3L/xf8RAPD/fv96/8r/AwCr/zr/sv8FANn/Wf9n/9f/3P+g/3//u/+p/1f/FP8a/3//WP/3/tD+Kv+A/zb/pv5g/z0A6f/7/wUACACM/0MA8gDKANEABwEmAVUBHAFOAV4BOAFTAUQBXAFgATQB7gA5AXkB/ADfAMgABgEmAaUAkwAlAUEBjACjAOEAAQG0AKMApgApAfcArQDtANoA+wCsAGMAyADtANQAlgDdAPcA/QD9AKMAjADyAEUBRQFtAVUBwAGnAQIBZwBEAL8ApQBeAGcA9QD/AIUAPwBqAFQBrgB1AFkAlQAwAc0AYQBkAAMBowBAAJAAlQDaAHAAPABlAFAARACOANb/xv+KALIAWQDS/3EA2gCSABkAKwB9AN0A0wBkAKEAqgCfAFAA+v8lAHIAmAAkADYAFAAmAHoA9v/G/z8AXgD6/7X/8f9AAGoALACt/w0ArQCAAPX/sv96AJYASQAJABYAkACoABAA3/8EAHMATgDw/6P/3v/m/2UAaABuALkA+QDLAPb/twDhAdcBYQFmAaEBFgK4ARYBYQG9ARoCuwE9AZMB6QEeArgBngETAkoCFQKxAeUBfwJhAtwBXQGeAUQCVwIEAoIBsQFiAsoBSgHGAQoCwgHCAXoB1gE5AvYBTAF1Af4BUgL6AX0B1gE7AiMCoAFlAQgCPALqAXcBcgH3AfIB3wFHAVwBrQHKAQEBvgAmAQoBowB/AMwAEQHuAIcArgANAYYBMgGmABEBjwGFARwB0QBPAbcBjAFwAXEBFAE7AYMAeADTAIEAQABAABkAKgAlAGQAbABpANUAaAA4AGUAOABlAC8AigC4AHYAQgAlAEgARgANAM7/6P/8/6v/0/8EAPf/6//2/9n/rv/l/yEAUADQ/xYARgAfANz/8/93AEMAzv/g/xgACADm/6L/Uv9+/1n/aAB5ADcAgwC+AJ8AGQC3AIABtQHKAeEB8QHFAdEBBAKqAXUBnwGWAWIBGwFtAZMBIQENATcBkQHDAXcB5ABtAWEBCQF8AVABVgF2AT8BPAEjAesAEgHyAKQAuQC+AAEB8wC5AOoAFAE4AdwAjAAWASAB7gCjAJkA1QBKATMB9wAyAXIBgwEKAWIA1ADfAFwAlQCxAPAA0QCSAMEArgCvAJYAdgAsALb/KgBMAPP/of/Q/ycAMQAQAA8AmgC7ACcAVwCeAMwA5QAtALAA5wCoAOX/n/8bAC0A5v+x/+v/4P8AAMb/sP/+/+n/HQAlAAYA+f/u/xoAuP/H/6f/uv/d/3r/dv9k/17/h/97/4z/o/+2/6b/pv+V/2H/Tv+3/7H/b/+g/9b/EgC6/7v/7f+i/4r/qf+W/3n/Yv+6/53/H//c/3UAfQCpAHkA5gDaANMAXgE3AXIBBQL0AfgB+gEuAjEC+AHuAe4BHgIQAggCGgLiAU4CKQKcAegB5AHLAdMBywELAvAB0AEIAukBywHCAfIB/AG3AZwBswGeAXABGQEYAT8BWgFIAUwBSgEuAV8BOwEoAW4BXQFZASQBCAFSAdMArQCXAJQAMQBZACsAIQASACMAMgAcAHoASgBhAIUA3f8FAG0AXQD//97/rf/g/8b/jv+M/2//of8S/3j+Nf9N/33/d/+D//v/Tv9H/6f/f/8p/1j/a/8x//v+Hf9H/x//CP/e/vD+S/9B/wn/HP8T/xr/NP8E/9j+Qv8R//j+Av/b/sX+1P6l/or+dv6//m/+mv7B/nf+af5U/nb+u/7i/pf+lf7S/qP+uP6z/tL+rf6K/or+qv5k/kv+dP4w/mz+E//y/iv/LP/9/vL+8v6u/ysA1v8uAGQAHgAbAEIARwA8AFEAYQB/AGUAYgBjADUARQBWAGsAdQCyAGwAWABhAGMAjwA2AEAANgBeACUA9/8ZABoADwDn/+b/DQDU/4P/oP+f/6D/nv+7/63/Rf9B/0j/iP9h/07/W/+6//T/EADu/9D/bf9U/1D/k/6c/uf+yf7U/oD+8P5E//j+BP/b/gz/+v4q/x3/d/9c/+/+Fv8j/+3+8/48/yf/6v74/uP+7P5r/mH+2/6G/rX+uf6//vT+yv7L/uD+5P7v/gz/Bf/7/gr/6f4a/xP/8/7a/vf+wf7Z/tr+xP7U/qf+2f4A/w3/4v7+/sT+9f7m/sv+8f7N/tL+0/6k/rz+6v64/sv+/P4J/9r+zP7z/rP+t/7K/pr+g/6P/pb+6f60/nv+Gv96/4D/f/+W/7L/Xv9d/+j/HABGAEwAWAB9ADwAUACBAGYAVwBqAGwAVgCDAIUAegAVAAwAVABJAEsAagBwAFwAYwCQAFYASQA5AEkATwAeACkADgD//+T/2P/T/w0A7//c/+P/qP/o/wAAy//6/xMAKwAKANb/vv/N/7f/tf+u/6v/tf+z/9n/dv+l/9j/hP+t/4X/pv/O/5L/a/+Q/4f/o/+t/+X/4v/r/wQA1/+g/4z/CgCv/2X/gP96/0n/gv+a/x3/Lf/8/gn/+P7J/uP+3/7a/rn+qv7e/tn+9/7r/iP/RP8H//L+AP8s/w7/1P7T/p/+pf7h/vH+uP7I/qr+wv6T/nv+5v67/qP+2f7E/pj+rv6k/o7+d/5p/q7+tP6u/rP+kf6D/nT+l/6H/ob+d/50/lT+Vv45/g/+8P07/tz+B/85/yv/BP/d/r3+cP/a/+7/6v/e/xoA1//M//7/5//e//L/BQCa/5b/t/+Z/5X/jf96/+v/CAAWAMz/6P/n/4T/uv+q/7L/0f/m/9f/0f+1/67/xf/Q/4//d/+F/8n/r/+f/6r/2v/B/2//dv/j/73/of/C/w0AHADq/yYAKgAKAHkAEAD6/zAA///a////GwDf/7L/m/9+/6D/eP9b/07/OP+4/5j/nv9e/zr/nP+Z/2r/fP+X/7H/1v/E//r///+q/6L/mP9l/xj/Lf/s/rv+rP58/oT++/7k/p7+uP7Z/ur+3P4X/wb/6P7r/qb+AP/w/hn/Ev/2/gv///7h/t/+0v7o/v3+3/6t/q7+5P6x/q/+rf6y/qL+Vv6v/or+lf7P/r3+oP5+/qj+nf6A/qj+vf7j/tP+wf5u/uf+Xf9a/97/m/9c/2f/Y//g/w8ANwBIAGQAWQCZALMAnACbAKgAuwDRAM4AuQCwAJwApgCoAIUAeACXAIYAkwB0AIIAlgCJAKkAdgBtAKgA0QACAdgApACrAJwAsQDWAOQAoQBoAG8AlACoAJ4AyQCBAJoAnwBgAHEAVwAiADIAYwBDAAAAHQDY/yIAOwD8/34AbQD7//n/KABFAGMAkQB1AH0A1QCYAFAAEwBXADsAFwAmAPD/+P/U/8f/Zf9g/5j/af9//0D/av97//f+Uv9W/2j/d/9N/yH/NP9L/2X/Tf8X/yX/TP9b/1D/MP/V/vv+9f7s/h3/KP/f/vT+Ff/k/vj+0/4N/zX/Lf8B/yT/D/8X/wn//P7N/r/+6P4B/zP/8f7v/uH+vv7//gv/8v7C/tL+0f63/p/+cf6P/pr+oP5V/3r/0f+1/5X/vP+Y/xIAcgB6AJMAywDFAJ4AwADvANMA3wDDAMEAsQCGALwAwQDUAPMA8wCSAIgA7QDtANQA5ADTAKkA0gDMALUAmwCOAH8AiABnAFsATQA2AEgANQAHABkAOgD7/9z/IgAyAP7/FgDd/7P/uf8MABEAOABvAGMAXgCgADIABgDJ/9b/0v+x/8n/hf9T/3D/bv9R/13/+f4T/yj/Hf/t/k7/eP+I/9P/qv9D/33/cv9g/zv/fP9q/zL/9v7q/oD+Sv58/or+dP5o/jH+aP7P/sP+pP61/u3+AP/i/vX+1v6S/nr+5P7V/gD/9P6V/nf+p/6n/mf+bP6L/pn+mP6R/sD+Gf+6/rP+tP6+/sr+2f7E/qX+4/4H//X+Hv8E/9L+0P6m/sD+6P4M//7++/7C/rv+wf6y/j3/if/A/7P/xv/U/6r/GgCpAIoAkACbAMsAxQDlADgB4wDmANoA3wDhAJ0A1QCwAJ4AyQC3AJEAeABQAGYAQwBaAFwAjgCKAJUAkQCHAJcAgABLAHoAXQBIAFcAGwDr/67/tv+5/6T/pv+S/2j/vP9c/03/dP+I/4v/lP+//4v/sv+8/5L/AQDh/3j/vf+L/2X/av9m/0X/C/8h/9X+yv7L/sv+7v79/i7/Rv+D/43/Of+p/7D/ov/N/83/2v/z/9v/0v/p/7n/if9U//j+4v4B/7D+A//b/rL+qP71/hr/6f4H/0H/Dv8I/xn/Bf82/0j/WP9D/yP/4v4X/1j/Cv8j//7+uv7J/s7+Fv/n/t7+8P7q/iT//v74/iv/DP9A/yT/D/8b/+r+1f7v/hX/9f7R/r7+l/66/nv+ef52/g/+xv4z/1b/Tv8H/zz/M/9M/+P/6v9CAFsAGgArAEUAewBdAFMAQgA/AEQAOAAyAFgANAD+/yIAAwATAE8AHwDr/wAAIwDP/5b/6//G/7D/4//d/9X/sP+v/6f/oP+3/3P/Uf9G/2b/Wv98/zj/DP8k/xP/Lv9J/zn/Of+H/33/6v/5/8v/AQAzAKL/1P+m/zH/ov9p/43/S/8//1v/Bv/D/tD+k/61/rH+xP7F/uf+3P7W/ub+/f4Q/23/E/9m/8T/sP9s/7X/S/8u/13/Gf8A//L+6f4D/0L/A//0/hr/E/8a/wf/Iv9B/x3/C/84/yb/7v46/1r/Dv8o/0j/R//6/ir//v7g/iX/CP/7/uD+8/7+/vj+Cv/y/tn+//7Q/vD++v4Q/yv/Kv8m/xX/7f7A/vv+zP7E/tL+r/6b/p7+sv79/iH/Uf9h/0L/X/9X/37/GABZAEgAZAC0AL0AigCoAKoArQCEAH8AfwB8AHYAsABrAHQAUwBqAKMAmQCQAKUAmgB2AGAAfgBZAFsAVQByAHIAdwCgAJYApACPAFEAUAASAFUAYQAtAFMAJgAeAAgAZwBSAFwAQQAQADcAEQD0/wsA8////xIAGAA3AOb/TQA8AAEAOwBeAFQAMQAYAPb/EAAEAAUA4P/k/4v/Zv+j/5b/Z/83/1r/Wf9X/5j/zf++/8X/5P+3/+//wf+Z/4z/mf8l/wD/QP87/zL/G/9K/1X/Vv9X/1v/Nv8s/yr/hf91/4f/V/9Q/3//YP8v/z//I/8u/w3/Vv9G/zv/MP8v/yn/QP8X/8j+CP/O/uP+Av8h/0n/Lv8z/1P/gf85/zj/7v7i/uP+3f67/rT+z/6//nL/zf+g/+X/k/95/4//v/9cAFkANgB0AJcAmACmAKcAZgBLAHgAdQBmAD8AHgB7ALAAyQD6AAIBGwH1AP0A+wDnANAA3wDbAPsA2wCYAMQAyQDHAJgAggC/AGwATwBSAGMAYgBkAJIAvADKAKUAfgCjAGsASQAPAG8AWwCdAK4AbgCmAHEAFADh/9v/0f/M/7H/3P/S/5H/p/+9/9z/LAA9AOX/+/8aANn/+P/o/7T/ev+J/6H/qf93/37/Zv9U/0T/EP/i/kr/S//x/gX/X/9Q/0D///4S/wb/AP/p/sj+6P4k/zj/Gv86/y//Hv/t/vn+IP8C/7b+9/79/ij/AP8i/zb/NP9N/1f/N/83/xb/6v4O/+v+7/4d/y//N/8J/xL/Dv/+/jj/MP8H/wT/+/7T/gf/I/8O/xH/6v7t/gb/av/X/7n/1////w0Ay/9CALwArQDHAMMADAHwANwAAAHXANQA+wAWAfsADgH9AMkAygDmAPcA9AAEAQcB1QD/AOUACgEEAa0AsACyANoA1gCQAM4AxADQAOMAzQDSANMA1wCyAKcAlQCHAGcAjgCQAMYAzQCmALQAngDZAOMAbgBAAE8AEwDd/+P/yP8bAPL/UAByAPj/GADE/2n/pf97/9D/pf+J/53/rP/m/9r/6P8FAOn/uf/s/wYACgD6//D/2v8oACYA8v+Y/6f/ff8x/yH/1f7f/tz+0f7t/vP+2v7W/vr+Bv8D/xj/Nv8p/+/+Mf9C/z//IP8l/wj/9/4T/xL//v4K/xX/9/4x/wT/Fv8k/+H++/7Z/tr+Kv80/0n/EP8T/z7/Qv8E/1z/X/9A/x//BP/8/uT+Gf/3/gT/qf42/5L/uP8HAAwA1v+W/6H/gACAAIcAUABPAHQAQgBVAGkAHQA5AFAASgBKAEUAjgA+AG0AugCXAIkARwBbAKkAXABUAGQAeAA9ADsAVgBDADMAMAArAE8AWABGAEYACADn/wUA7//4/zEA7f/I/7P/pv/T/6P/m/+9/xIABgDx/9j/+//v/8v/b/94/4T/Wf+Q/4j/nP+w/6r/VwDv/7D/+/+M/3b/bP+A/2//Ov+C/0P/cv8I/xr/fv/2/gf/Kv9G/zj/KP+q/2P/cf9d/1P/k/9c/0r/M/8J/5D/SP9O/1b/aP+3/53/tf/h/4f/VP8R/0L/Fv8I//v+xv7o/o/+7v7o/qX+9v7e/tL+Hv/6/v/+Fv8e/yL/LP/Q/vz+//4I/xn/Jf8U/+b+JP8v/xz/FP89/zf/7/4s/yj/Hf/w/i//d/9U/3T/av+e/5z/b/8mAIEAbAB6AIMAggDeAK8AnQCsAI4ApQDTAJ0AYwCaAJEAjADLAMQACgHfANQA5wCwAOkAyACqAIwAfADUANEAdwCgALMAqQDPALkAqwBnADwAPwArADcAjAB0AC0AIwAyAEcASgAAAP//8//h/xQAl/+6/37/uf+s/6P/8/93/1z/Yv84/03/Zf9T/zf/ZP89/z7/QP9I/7T/kv+m/8D/qP+m/8z/e/98/2n/c/+L/5P/Pv+Y/2L/VP8+/8H+Jf8g/yT/GP9E/yz/OP9D/2L/WP8r/wH/P/9C/1L/Hv/V/uL+7P7l/if/vP6z/rr+nf7j/qb+uP7y/sH+7/4B/93+0/6I/rj+vf6//uH+0P6//tL+tf62/sP+tv7M/tH+r/7t/s3+rv6Y/or+X/5J/gP+hf4A/9D+QP8l//j+Af/O/oL/zP+6/+X/AAD8/wIA7P/N/6//pv/M/+3/yP+7/+f/yv+//93/u/+4/8f/lP+7/5//yP+//6T/of+V/4//jf/N/+D/mP+o/4n/av9J/1f/N/88/3n/g/+k/2z/Pv9s/0f/dP80/2z/Z//a/+f/FwABAOj/5f/r/5D/kP9h/2T/Zf9K/2////66/uL+E/8s/+D+8v6s/rD+uP6g/tb+1v69/tf+9v4V/0X/Uv9M/zP/Pv8d/zv/1v7G/lz+fP6F/ob+b/4O/gD+6v0E/iX+C/4O/hj+Ff5B/i/+Gf4i/s797P0J/iz+Gf4Q/gT+8v0j/lX+M/4Q/tf9//0H/gD+Mv4P/vX9+/0U/uL9r/22/Qj+AP7+/RH+I/4J/ij+Df7b/c79tf3H/Uj+If7h/aj9R/2c/RL+P/56/nv+kf6c/nL+Pv+//4v/vf+M/9f/2v+d/9X/hf96/8X//v/W/3v/tf/I/8f/tf/t//n/rv+A/5b/pf/M/73/4P/V/97/tf+A/3z/nf+N/5T/df+Q/8T/oP+l/7r/Sv9y/4P/jf++/7f/3/9p/zf/Sv8n/0n/ef9r/17/bP98/zH/kP+v/4r/vv99/1D/FP8z/xz/Vv+D/1n/Lf/m/u/+8v7P/vH+4v6r/uj+G/8m/wf/AP/x/h//d/96/6P/k/+9/1T/Cf8S/8/+zf56/jT+Qf5b/mD+ff61/sz+9P7g/rj+zv6m/tL+4P67/sf+o/5J/lX+L/5T/qH+h/5x/nj+gf5e/i3+A/5m/pT+RP4Y/kf+Zf6f/mL+SP5k/j7+Ff5K/oL+nP6S/mP+l/5Q/jT+hP5Q/lz+T/4j/i7+vf7U/gT/Ff/P/rH+ev4j/5z/x//o/+H/xP+1//n/8v8NAPf/4v/U/87/1f8KAAcAIwA5ADYAbABRAEAAYQAsADIAMQBgAI0AWQAzAO7/4f/u/zUAJgD1/00AHgAYAAsA/v/V/8D/1P/g/8v/nf+L/4j/kP+1/3f/bf+m/+X/CgAOACIALAAoAMv//v/T/7b/8//e/9H/JQASAEoALADI/7T/kf9S/yn/Wv9t/yv/Pv/0/vT+v/6//v/+w/4W/xX/NP8t/0j/bf8f/xv/5f41/xj/3P7H/pX+pv6v/p/+1/6o/vP+8/7r/vL+Av8C/wX/G/8k/0P/U/86/zj/Uf9P/yL/TP9C/yf/FP8m/yv/Ov8u/1H/KP9E/4X/Y/95/6D/sP/l/7v/8P8HABwA/P/6/0MAJAA0AB4AAwAGALP/1/8+AIUAwgCWAKAAgwB6ACoBVwGIAa4BvgGLAYcBtwGDAZMBUQGWAYYBUwF3AZoBoAGnAWABfgGgAWUBmQFMAXYBmQFqAZUBpwGvAYoBagF4AVMBVQGDAX4BYAEtASgBGAEoAQ8BNAHqAOMA4QDPAOsAvADDANsAtADdANIA9QCyAHgAbABZAGwAmgDmAKAAeABmAIwArACgALMAwgARAc8ArQDLAOUA4wDmALMAmACKAJ4ApgB9AHEAUwBSAGIAKgBXAGkAQwA6AF4AHgATAF0ATgA/AGMAbwBPAH4AngCUAIgAmgBPAB8AJQAeABQARwBYAGQAWwBnAAsAJwAJAPP/VwAOABcANgA7AAAAKwBBACsA5f8MACAA4/8cACQA4/8dAEoAFwAwAEUAOABRAAYA0/8vADYAIgAMAAsA7P+r/zcAbAByALcAkABqAEkAtgA2AUcBOwE2AWUBkAGCAZIBpgFfAWYBegF5AYoBjwGJAXcBdgF4AYEBfgFUAVEBbgFZAT4BMQGrAcoBjgGCAYsBdgF+AXABZAEXAewA+ADmAO4A8gDuAMcAygABAQ8BzgAHAegAGgEGARIBOgFbAW8BXwGcAY4BMwEZAdwAkwDCAKEAmQB1AEEAYwBgAIsAIgAqAEMAJgAvAEwAXwAIAEIAWwB4AGkAHQAuAF4AGwAnACkAZAAaAOX/s/9z/5n/sv/L/5D/gv/K//j/RwArADsAJQAuADkASAAVANr/sf/h/wAAFQAlADwADQAoAOX/zP8rACoAJABWAGMARwAeADUAIgDQ/ygAUQBEACwALQApAAoAIAAmADoARAA8AC8AEQAZAPD/0f8GAOr/4//h/6f/BgCIAMAAmwByALUAQACqAH4BRAFHAXMBdAFbAUkBbgF0AUoBLgGLAYUBYgEpAUUBZQEjATMBaQFJATYBUwExAfcANQEUAecA7QD9AP4AJwH6AA8BGQEeAe8A1QAbAecAtQDBALgAfQDwABIB2gD3AAwBJAFqARUBywAUAeIA6QDgANQAwACiADEBvgDWAP0AuAC3AIEAgABeAHIAPAAnAPX/9v8PAAQAEgByAEgATQBiAHkAgwA+ADcAHQAtAOUArQCZAJ0AvQCLAEUAzv+7/wIAxP+O/6r/i/98/5T/of8EAAEA3//l/8z/x/+//9v/2f/W/8v/zP/F/23/f//A/6X/b/9H/0f/ff9M/0n/Xf9X/0D/Qf9g/2r/Sf9P/4f/Z/9s/2j/HP9m/4D/Qf8A/yX/Jf9h/1H/Hf9M/1f/5/40/5X/yv/F/+r/7v/I/wwAnACpAMoA2gD4AOsA4QC6ANQAxACrAN4AzACxAN4AqgDBAO8ArwCwAKcA4QDiALoA2AC7AKUArACPALcAtwCMALEAnwC7AMgAjQCjAGYAbwBcAFgAgABYAI8AfAB+AHsAWgBcAI4AawBgAKAArgC0AMMAyACSAJEAbgDg/y8AGwAYAPD/+v8yANL/+P/p/5b/2//H/5z/uv+c/2b/ev9j/1D/c/9R/zv/YP+Y/5P/ff/G/37/lv/0/93//v+i/4H/lP9l/3X/UP88/2j/Tf9E/1n/Qv9R/1T/Pf9x/33/T/90/0//Yv+F/23/H//q/iL/Sv8x/wX/7f4N/+D+G/8y/wX/8P7t/u7+1/7r/vf++v4i//n+G/8U/wf/5P7P/v7+xf78/h//6P43/z7/+f7E/kv/rv+h/73/pP/G/2X/lf9jAJgAwgDOAL8AvgDcALYAzQCwAKQAwgCoAMEAugCuAJoAywDHAIkAqgC9AMEAvQB+ALwA2ACYAMwAqACUANQAtQC8AMYA3ACzANEA8gDZAJEAnACAAJsAcACqAGUAVgCuAF4ARwBLABIAPABtAC8AFwAQAHr/nf+6/woAYgAdANr/vv+s/5b/nv+x/7n/vv/b/6X/2v/q/4//cv+n/6n/lf+F/4D/V/8a/zr/Kf9M/3//V/+C/wj/Y/9g//T+Ev///jv/Nf8c//H+1/7f/u3+DP8Y/8L+rf4S//X+9/7u/sj+t/7U/g3/8/6d/pD+k/6V/pD+pf62/rH+tP4l/xL/5/7Y/tz+x/6x/sj+k/7J/uP+3v7p/rD+x/6v/sj+xP4A/8L+qv6v/rv+uP6m/nn+kf4R/xf/fP9M/yj/QP9X////KwBIAD8AVwBcAGMAagBiADgAaAB2AHsAegBRAEwAdABoAFUAJwAwAEsAKQBDAFAAWgBOADoAPAA+AAQA7f8LABwACQDX/7H/u/+h/5n/ef+F/6H/g/9C/8X/nf9l/63/cv9l/z3/Vf+6/0z/tP/I/3b/pv97//X++P63/qH+u/7W/gP/x/79/sD+1f63/qz+nv63/u3+uP7y/iz/9v4Q//b+Hf8a/6f+Bv/A/r7+6/6i/un+lf6n/jv+UP51/o3+mP6X/sb+vv63/pH+z/7P/uP+/f4o/xT/9v4n/yL/5P6u/rn+1v7u/tr+x/6f/r7+6P71/tb+s/4c//H+8v5b/0T/8P7O/gb/If/1/gP/7v73/h3/Ff9L/xf/Bf82//7+Dv8F/+T+4P7A/rj+w/4K/2r/a/+t/7n/o/94/5T/AgAyAIkAVQA+AEMASQB+AGEAXQA/AAsAGwAnABwAJQASAD8AgABkAGMAQgBdAG0AMgAXACwANAA8ADsAgQBcAHAAkgBfAJ0AiwCdAGQASgBWADYARAAXABwAVgBSADMAHABbAD4ARQBCADMAYgAAAN7/4P8VAK3/zP8QAMT/MgC//4L/ZP/D/xEAt//0/7L/rP+u/6X/pf+N/3X/zv/6/y4AaAA3AOv/AABKANj/vf/1/xEAPwANAIn/f/+6/4D/fP9P/0f/Q/83/37/zP/C/7z/2/+9/wAA6/+f/33/f/+u/5b/lP+m/7T/sv+4/5T/ZP9l/yr/N/8f/+7++/7q/hv/GP83/y3/Kv/z/iv/Wv8h/0//bf9s/5L/Vf9R/0v/Mf9D/1D/Kf/+/vb+DP8L/xP/Yv+K/6P/qv+m/9T/uf9sAJ4A1QDZAKUAlADGAMQAWwB1AJMAYQBdAHUAWwB1AJYAagCjAJoAowCTAH0ArACVAJsAgQCOAJwAkgBhAEIAWwCAAG4APQBzAJcAYwBSAB8AKgApACYAQAD4/wAACQDc/77/EABOACcAQwCFAJMApwC0AJgA1QCfAFAAbAAsABQAZQBMADUATAAoAAsAyP8SAOz/3P8qAN3/BgAsANT/0P/o/xUA5/+m/xgA0/8SAEYAVABBADsADAD//67/fP+0/3n/Qv9d/6T/v/+x/87/yv/j/xgA4f8JAAgA8/8VAAMA6P/6//L/4f/w/wEA8v/f/9z/9f8HAN7/5f/d/77/pf+k/7b/xv/J/47/m/+f/5z/uf/D/9L/1f/q/93/vf/C/9D/j//L/8D/r/+2/4X/ov8+AHEAhACOAHIAeAB0APgAaAFWAV0BrAGUAXcBYAEtATsBXAF1AUEBVAFjAUwBZQFOAVcBRwFhAYoBZwFhAZoBcQGUAYIBZgF5ATEBYQFpAUUBSgFdAUMBUAFqATcBNgEiAfkAGwFWARIB5QAAAUgBMwE8ARMB+QALAesABwHXAMIALgBFAFoAhwAAAaYA2ADMANkAzAC8AAkB/gDGAOUAmwCqAL8AzQCVAJIAvQC7AIIAVwDcAKYAagBcAH8AjQBGAHoAVQARADAADABLAAAAEgDv/+H/9/8XAEUANAAVAAYAfwAaACsAOgD6//L/7f8EAAQA1v/A/8r/jf+//7j/vv/F/8j/sv/l/9r/EgAAAOv/HwD6/yEA9f/p/77/xP/i/8L/zv/s/9//vP/a/8r/vf/J/7P/rP+B/6v/q/+2/xwAcwCaAJAAdgCRAJoAxQD/AAgBGQEWARoBBAHyAO8A8QDhACIBDAH2AP4A8gDhAOcA9ADcANIADwEHAdcA+QA6ASEBBgEHAdsA8QAHARUB+wDmAMcA1wDJAKUAyACmALMAtQB4AG8AcQCXALAApwCcAJgAdACMAMYAGAFLAVUBWQEjAQgB4ADBAIAAWACGAEoANgAxAP7/VQANAPT/5P/L/9//rf8IAPb/8f///zAAIQAXAEAAQABmAHUAZAAnAA4APADq//v/xP9b/4X/Ov9V/2P/hP+t/5D/sv/k/w0AOQAUAAwA+f/W/+f/xf/4//b/yP/B/7z/hv+S/5r/pP+V/33/rP+C/4T/Yv9j/2P/Q/+H/7r/l/+5//D/FQDH/9j/6f/b//j/8v8LABEAEQD0/+H//v/W/77/1/+g/5z/MABwAIsAmwC4AMQAVwDEAEsBNwE8AWIBawGIAV0BZQFDAVABQgE5ATQBLgEdATABSgGFAZsBfwFYAXgBhAF+AXMBgwFvAT8BSQELAREBSgE2ARcBHAExAVABSAEEAfMAIgHQAM4A1AAHAdAAsQDKAK4AkwB3AKIAyADEAPIAzQCzAJoAqADjADYB5wDyADoB/gDhAK0A4wCZAHMAsABvAIQAWABkAEAAGABGAF4AFgAiAC4AUAA+AF0AYgBgAF0ARQC6AJkAkABPAFgAMgAOAPn/5f/F/wwA9v+0/97/0f/n/ysAOAAMAC0AAAAlABQA5v/I/9v/7/8LACQA9f/V/+n/p/9v/8L/vv+l/5D/pf+q/63/sf+t/5D/1P+l/7v/v/+5/8r/pf+x/6v/tf+3/7r/wv+h/4L/jf+N/53/QP/B/xwAKABLAA8A8//E/zUAkQDYAOkA7gAOAeQA3gD5AM0A2ADkAPoA8ADpALcAoQCsANwA5QDxAMIAwQDtAMsAxADZANMAuQClANUA2QDbAN4AwQCqAM0AoACVAH8AggBqAHAAzACqAJYAewBcAGIANgBOAGoATABEAFQAlADCAJ4AtQCaAFMAJgDp/xoAKAA7AFkAbgCwALUAPwAtAHsAFwAGAFMA+v88AOD/pf+u/5//u/+Z/7z/0v/Z//n/xv/n/zMAAADc/+n////p/w8AVwAuAAYACQBMAA0AEABAAFIAOQAwADIAOAA2AAwA/f8JAOn/8P/f////2v+8/7b/sf/F/9L/yv/X/+n/2//S/+b/0v+q/7b/qP+6/8z/0f/T/9f/EwDS/8n/yf/f/+v/xv+5/57/eP+G/6H/gP9a/97/KgAxAEkACwBCAC0ASwDXAO4AEwH8AP8ACQEHASUBDgH2AAIB/wAZASYBBQHxACUBDgHeAN4AMQEZAdwA4AAPAdwA8QDwANQA1ADbAMsA2wDtAMkAuQClAPcA7QC/AMAA1AAOAb4AfACNAIcAkwBZALEArQCpAJYAlQCRAJ4ApgDGAG8AQwAzAKcA2QB/AJkAhwCyAMgAmQCFAJIAoACZAFwApwDQAJsAfABRAEgAjQCdAHoAQwBCACwA+f8gAF4ALgBNABYA8P8KAML/GwAvAAMA7P8QAPL//P8TAAUA8v8RAAYA/P/0/woA3f/2/+j/CgAgAPX/8P8BANL/w/++/6L/u//E/8//uv++/+L////k/7r/u/+4/4b/mv+R/1j/iv+J/3r/lf+L/7P/l/+M/3P/Wf9N/0f/IP8N//3+ev/K/8D/yf/A//L/0f/j/zkATACYAJQAlACRAIwAhQCAAHwAWwBIAHQAlACMAKIAtgCwALIAewB+AL4AoQCiAKwAygCdAH0AggCGAH4ARwBZAEAAOABaAEMAAgAPABUAPgArADEAUwAqACIAJgApAGcAMgAxAFoAagCWAJsABwEOAd4A+QDLAIoAUgBMAG4ASwAZAAIAAwAIAMX/8P/U/63/x//l/9//6P8TABoAAAA0AGQASQAkAD4ARwDt/+L/AQDc//H/zP+g/1r/Ov8v/1D/TP9V/1X/Rf97/6j/kf+4/5r/rf+g/3b/c/9n/4n/XP+Y/6f/of+f/5//l/+N/3j/JP9J/2v/Vf8w/3D/g/9z/0z/L/9c/1P/cP+X/8P/vf+S/5P/e/+O/3j/o/+5/7//nf+U/4X/d/90/2j/Tv9f/93/5//a/97/+P///wAAdwC5AMEA2AASASQB7ADwACoBEAH1APgA3AAtAQ0BGQE/ARkBDAEYASsBMAEeAQkBFwEKARIB6wD8AP8AwQDHAAgB3wDmAP0AHQH4AMsA2gDkAJ8AoADBAM8AqQChAJIAsACHAK0AzACeAH4AggCIALQAhQBkAE4AfAB1AIMA1ACjAJsAfABIAGQAVwBiAGMANgA5ACwA3//I/+f/v//Y/6H/wP/y/9f/7v8TAOL/7v/d/x0AFQA1AAMA//8JAMH/tf+j/5z/pv9f/0n/ff9f/13/bP+X/6j/lf+y/73/rv+z/7j/lP+X/3X/Zf90/1X/PP89/2T/V/9m/3//hP+E/0r/P/8+/0n/SP85/z3/Vf9T/zz/Jv85/1r/K/8+/2X/jf9e/xv/Hf8e/xL/G/8C/y7/d/+y/8b/pv/P/77/2v9oAGUAdwCdALUApQDAAMYA2ADSAM8A3wDnAOQAygDBAMoAyQDOALoAuwC9AKIAtwCXAIcAmgCJAKMAngCfALQAqwCKAGkAZQBpAEoAQgA6ABoAwP8BADMANQAtAEcAKwAfAAgACADw/wAAFAA+AFkAcwA/ADYAkgBPANr/BwAEAOn//P8UAB0A2//A//b/7v+X/6D/wf/c/7v/3v/6/67/p//A/5b/gP9z/4b/g/+c/5z/0//e/9j/wP/I/8n/kP+c/27/rv+D/2v/YP99/2n/f/9x/4P/l/+m/7H/lf+I/6j/x//S/8j/uf+H/1r/ef+V/2H/f/9a/1L/Xf9F/4D/o/9l/0P/W/9z/3X/XP+I/5X/dv+p/7b/l/+o/7n/lP9u/1j/fP+F/1r/f/+Q/0j/b//x/xQAPQA2AFQAYgBPAMoAHgECAQ4B9gD6ACQB/wDRAOAA4wDpAPMA7QDOAMgAyADZAMUAuwCtAMUAqAC9AMYA4QAPAQsB+QDmANkADQEZARAB7gDnALwArAC3AL4AtQCqAI0AjgCUAJ4AfQB3AIwAtQCQAI4AqwB4AGUAlwCjAIYANQAtAEIAWQCBAJMAfQBhACYAKgCgALIAWAB5AM8A4ADKANYAqADsAOEAygC6AIAAjgCBAGgAfgBOAC0AcQBEAFYAXwAOADsADwAXAGUAJwASAEAALwAKADkAJwBAACoAGQBVAFIAKAAIAAUADwARAOf/+P8TABEAAADg/wkABwDt/y0A9v/y/8T/1/8fABYA6v/u/xYAHAD5/wAA3f/O/9r/2v/2//L/xf/H/7//pv+2/7j/tv+l/73/gv+L//r/IgAvADQAKQA0ABsAgQDLAOAA/gANAQsBDAEvATABIAH3APkALwH0ALUA8AAcATABIgElATEBCQETASsBCgEXAecACwEOAc4A4QDcAM4AxQDWAPsA4gCsAJMAqACoAJ0AwwDAAJIAtgC6AHsAUgCJAK0AmQCRAMEA2wDkAC8BLwH6AOIAvwCNAHwAUAAaADcARwBRAEYAYAB5AC8ARQBZAHoAbgCPAM0AoQClAIoAaQBEACEAgQCRAC4ANAB3AEYA/v/U//b/zf+w/+X/6f8DAOP/3f8RAAAAHQAjAPn/DAAgAAwAKABkABIAAQBAAD4AEQADAAIABAC6/7//3v/N/8//9P8AAPf/6P8FABwA9/8VAA4A8v/t/+3/9f8bABsADAA9ADMADwABAN3/9f/m/8D/tf/I/5//wv+//4b/AwBUADMAOQA7AFQARgCwADoBGgE/AVcBiQF9AXwBlgFuAVcBeAGGAXIBfQF0AY4BggGDAZkBdwFQAUYBXQFcAXEBUwFZAXgBVAFVAVEBOgE7AVgBYwFCATYBJgEbAS0BIwH2AMwA/QADARcBKAEiAfUAIAFBAR0BNQEkATMBRQErAe4A2wAFASkBBgFDAREB2gDiANEA5ACbAGsArwCjAH0ArQDeANYA3ADcAN0A7gDtAAkBCwHrAPQA+gC+ANQA/wDFAIsAbQAvAFMABQDt/ywABgDp/+r/AADx/w8AMQA7ACcAQQBKACUAHAABAAkAJAAAAAEAGADz/8T/9f/+/9r/5f/T/8z/5v/Y/+j/BgD+/+X/1/+x/7z/x//V/8b/ov+8/8H/rv/R/8X/h/+Q/4z/jP9k/07/av+C/0f/Mf+s/9r/2v/0//7/DgDY/0sA6ADVANgA8QDhANkAzADJAMoAngCsAPYAxQBmAKgAwwCFAJsA1AC+AKgAuwDrAPYA4QDsABQB8QDZAAYBAgHaAOUABgEKAeAA2QDOALEAvQDTANoArACoAJ4ArwCCAHAAiQB/AF8AaQCWANcA+AD4ACMBFAEqATgBtACKAM0AiwCNAIMAeAB8ACgANgAgACwA+P9CAB0ACAAAAOn/DQAOABAAKABaADoAQABHAD0AIQAiADQAFQANAA4AAADE/9z/zP+M/37/dP9h/2n/UP9O/4H/lf/C/7z/o/+N/6f/jf9w/3P/gv93/23/d/9u/3T/gf9d/4j/i/+P/2H/WP9X/0j/R/8+/1H/U/9W/2r/Rf9X/4P/fv9x/3z/j/9+/1//a/9n/13/NP8h/zP/Df/0/pb/xP/G/+7/y//V/4//4/+OAHcAjwCaAMYAoQCDAIkAhgC4AMgAtABzAD8ApQCwAI8AxADaALcAdACIAHQAZwCLALIApQCgAHQAfwCKAG8AbwBXAFIAagBwAIUAawA8ADIACgACABIAJAAYABUAGQDa/9D/7P/0/wcA/f8HANv/5P/f/5r/z//N/xIAFAD3/wQA7//G/67/yv+K/6f/4f+//+X/+v/+/9L/+/8IAOf/5P/e/9X/1f9p/3D/g/+O/8f/pf9+/zj/XP9S/yH/TP8o/1j/bv9+/2T/Vv93/5z/rf+A/4X/pP+d/3b/Y/+B/1n/S/9V/0b/IP8g/1D/L/8M/wT/B/8K/xD/Jv8b/wT/Fv/y/uT+7P72/vv+Cv8S/yb/G/8g/wP/E/8O/yf/Kv8w/xX/Cf8e/8z+zv7N/u3+V/97/3j/j/+G/3b/YP+//+//AQAHABYAGgAqAAQACAA8AE8AOwA7AEAAIAASABwALgBWAGIARQA4ACAAQwD9/xEAQgAJAPH/6//v/w0A5f+u/57/v//t/8D/lf9v/4P/hf9p/3H/jf98/5f/z/98/4T/rf98/2j/j/8EADQARwAsAAoA2P99/5j/vv90/3z/bv9W/1b/M/8x/yH/aP+I/2b/Sf8G/xL/Uf8n/zr/hv+f/4f/Uv9B/0H/Wf95/0f/V/9r/0T/OP8q/+H+2f7X/ub+Af8n/xL/6f48/0//UP9F/zH/bf+G/1n/T/8//0H/Rf8z/03/Kv8l///+6f7r/u7+9P7d/uj++f7q/sz+y/7K/rn+mf7B/vj+4f7g/tj+3/4R/xb/7P4B//L+6P7R/sj+1v7X/uf+xv63/un+wP4d/4H/Y/95/1T/bf9j/3X/4P/q/wIA+P8KABMAMgARAEgAWgA6AE4AWgCDAHoAaQA1AEwAfQBYAG8AjQCAAKAAqAB+AHoAiQCFAHIASQBGAFYAOgBsAHoAdQBaAHAAVAAnACwAFADf/9v////r/97/KwA4ADsAEwAyAFcAawBKACkAIwA2AC4AjACqADwAXABGAA4A8P+z/5r/rP+6/6z/pf+//4X/af9b/23/t/+K/3j/n/+a/7n/rf8FAA4AQQBMAEEARwAGAMX/rP+t/1n/Tf9e/zj/N/8z/z3/Xf9w/17/Tv9g/2n/Lv9u/03/Qv9A/y//O//8/ur+//7+/uL+3f4S//H+6f4J/wf/7/4N/+z+9f7o/tj+1/6+/hL/GP/7/in/Cv/5/jD/Mf8D/y7///7h/sb+2f7d/sz+1v6P/uT+K/89/4f/XP9B/yr/Uf/j/zAAPgA4AIYAngCVALYAgACRAH4ARwBNAHEAagBtAIQAnQCgAHIAmQCwAHsAYACyAI8AlAC8AKMAewBYAJwAjwCEAIoAiACtAH8AcwCiAH8APAA1AGAAdgBbAG4AZgBIAFsAXgBIAGwAXgC2AAYBJgEAAQ8BswBbAFwAZgBGAF8AXQA6AFoANwA+ABgA/f8PAMj/pf+L//H/xP+T/7f/xP+v/7v/JAAiAB0AIAArADcAPgBlAIEAQQB3AD4AAQD8/9n/sf+s/5b/u//V/7f/zv///wUA2v+2/+b/mP88/0n/gP+6/43/mf/S/9v/sf+2/8H/xv/H/9f/5P8AALf/2f/3/+P/v//G/7b/1/+5/9P/of+i/5n/xP+c/6L/w/+j/5D/rf9l/4b/Ov9G/y//Pf8SAAAA/v8vACoAHwDo/2sAugC7AP0AQQE3AU4BbgF8AX0BZAFmAVkBSQFhAWABTwFCAWMBVQFaAUwBNgFhAXkBdgGtAV4BMAEMARUBIAEDAfoAIQEXATgBJgEoARIB8AAFAfoA3wDLAAcBBwHnAPYABAENAfAA0QC4AMoA8gDfAOgAugChAKoAAAHsAIUApABnAJcAWABEAKAApwB6AGIAngCBAIEAhwBaAGYAJQA3ABsARQBtAGQA0QCmAMMAvQCUAOUAcQBjAJsARgBTABYASgDw/yIARwALAD4AFgAfABcA5f8QAC0ACwDx/wIA2f/l/wAA5v/s/+r/4v/m/9L/xv/M/+T/LQAuACQAHgA5ADQACgBPAGMAJgBCACUAHgAfABgAMAAgAP3/CgATAOb/zf/k/6H/mP/B/9L/x//r/1MAlQCmAJ0AZQCBAIcA/QBTAVQBZgEzAVcBTgFUAXYBeQFnASgBOgFTAVoBTgFdAXIBjAGUAXcBfAFpAXoBcAFOAWMBZAEcARcBEgH8APYAHgHjAN8AygCwAAcB5QDCALgA1gDLAOYA/QDTAN8ApwDZAN4AtgDIAAwBDgEmASIBEwEUAdYAcADMAGcAbgBqAIwAvwBGAHsAYgBOAGwAfABFAHQAsAAyADoAbQBQAFsASQBCAEIARgAwACcAaAAUAAAABwCw/+n/IQDh/9n/AAATAPn/4////0AARAASAEgAMQAxAEIAYABdAEoAFgAuAEgAOQAgADIAIgARAPz/GAAPAOv/AgAnAAAAFgAUAAMAHQAqADAAVAAxAFkAZwAZAD8AVAA+ACoABAAfAAEA8//5/+P/5P/x/+j/6v/N/+j/YgB8ALsAlgCPAJAAVQD7ADMBBwFFAVEBOAEgAUUBJQElAR4B5QD7AOIA3ADmAOYAtQC/ANIA7QDnACkBIAESAQYBRwE+AQMB/gAAAQEB5gDTAAUBEgH3AAoB5QDhAOwA3ADSANwAnACeAMIAyACbAMIAjwDEAMkA0ADYAJkA8AC6AKQAjABRAK0AjACGAJkAXgBaAOr/+/8sAOX/GgAlAPX/DgAYACYAFwAIABoARgBVAEAAUACJAC8AZgCiAG0AZwBNAAAAwP9q/7//d/9S/0T/Nf8s/zT/Uf9c/3//gv+k/2z/Y/+T/3r/Z/97/1X/f/9f/2T/bf9Z/13/Zf9x/0T/NP9c/zL/Cf8d//3+Fv8X/wX/+v45/z7/Gf8m/y//Wv9X/1X/VP88/yr/RP/+/gH/MP8V//3++/7h/sn+6v40/2b/oP97/6v/k/9z/+z/EgAUACcAAwAjADIAVABgACoAAgDt//r/KgA8AAsA2v/9/+H/1P/p/wAA8//r//P/4f8hAAQA6f/W/+X/AADu/wkAGwArABsAKgD1/6j/zP+t/9D/xf+s//D/vf/H/8X/nP+u/6z/z/+M/xQAgQBOAI0AZQBcAJcABwDy/ywA4P/Z/8H/sP/h/6v/q//O/7T/wP+b/2j/Sv9I/2b/bP9o/03/Sv9Z/5P/q/+z/5T/gv/y/+P/wv+D/4b/sP8n/3T/f/8l/wz/9/7r/i7/UP8+/23/UP8u/0f/Vf9L/xj/J/8n/x7/Fv8U//7+5/7J/sT+0P7i/tf+y/74/gH/3v4A/9z+pf7M/q3+yP7r/tD+xf6d/uH+vf6d/rn+of6k/pT+uP6U/on+vP6l/pj+pf6h/jn/lP+8/53/gf+s/5b/8v89ADAAdACXALgAdgBzAKwAYABXAHAAfACyALgA5QDGANEA0gCcALQA3gDiAM4AhAC/APMAuQCsAN8AxwCuAKwA3wDpAL4ArACXAJ0AqQBwAEEAJgArAFgAWwBvAEoAAQA9AEsARQAdABUAMwBJAF0AbgAwAPb/IwBKALIAkwB3AI0ASwBgAIQAUwBFAFcATwA9ACgAMQAaAAEAHgD7//f/xP93/7T/w/+6//n/t//8/zcA9P8UAL7/y/+q/43/0f+Z/4f/hP9g/zr/af9e/4z/jP9F/3j/cf+Y/3z/jf+C/1T/Xf+G/3n/Rf9C/zz/MP8O/xD/Ov8w/yT/Hf8r/zT/H//+/v3+4v4W/xn/Fv8v//b+KP8s/yr/Mv8h/x3/LP8a/xD/+P7J/sb+2v7V/rT+6/6M/7X/zf+u/6D/av/c/2MAbgBmAJYAfQB2AIMAWQBZAIQAPQBfAIMAbQBaAHUAYACWAIEAfgCcAIYAtgC9AI0AsgCxAMAAogCvAJYAiwBxAEoAXgBVAEwAJQAnAAIALgBHAGQAZQBVAHkASwBIACQAIQAzADMASgAoAEMAXgCIAHkAfABVAEEAOwDy/+v/tf/5////AwAdAC4ALgDx/9r/xv/e/5z/g/97/3z/y/+b/5v/cv9o/4D/dP+3/6//cv+H/4//a/95/0r/U/9u/0D/QP9Y/3f/Rf9i/5b/nP+J/2H/gP92/5n/bP9R/zb/e/+m/33/ef8=\" type=\"audio/wav\" />\n",
              "                    Your browser does not support the audio element.\n",
              "                </audio>\n",
              "              "
            ],
            "text/plain": [
              "<IPython.lib.display.Audio object>"
            ]
          },
          "metadata": {},
          "execution_count": 26
        }
      ],
      "metadata": {
        "id": "dueM6U7Ev0OA",
        "colab": {
          "base_uri": "https://localhost:8080/",
          "height": 75
        },
        "outputId": "9d18d9e7-372c-4406-f1e8-3f39d22ccf99"
      }
    },
    {
      "cell_type": "markdown",
      "source": [
        "Great, it seems like the data is now correctly loaded and resampled. "
      ],
      "metadata": {
        "id": "gY8m3vARHYTa"
      }
    },
    {
      "cell_type": "markdown",
      "source": [
        "It can be heard, that the speakers change along with their speaking rate, accent, and background environment, etc. Overall, the recordings sound acceptably clear though, which is to be expected from a crowd-sourced read speech corpus.\n",
        "\n",
        "Let's do a final check that the data is correctly prepared, by printing the shape of the speech input, its transcription, and the corresponding sampling rate.\n",
        "\n",
        "**Note**: *You can click the following cell a couple of times to verify multiple samples.*"
      ],
      "metadata": {
        "id": "1MaL9J2dNVtG"
      }
    },
    {
      "cell_type": "code",
      "execution_count": null,
      "source": [
        "rand_int = random.randint(0, len(common_voice_train)-1)\r\n",
        "\r\n",
        "print(\"Target text:\", common_voice_train[rand_int][\"sentence\"])\r\n",
        "print(\"Input array shape:\", common_voice_train[rand_int][\"audio\"][\"array\"].shape)\r\n",
        "print(\"Sampling rate:\", common_voice_train[rand_int][\"audio\"][\"sampling_rate\"])"
      ],
      "outputs": [
        {
          "output_type": "stream",
          "name": "stdout",
          "text": [
            "Target text: a este maratón acudieron innumerables periodistas así como invitados \n",
            "Input array shape: (96000,)\n",
            "Sampling rate: 16000\n"
          ]
        }
      ],
      "metadata": {
        "id": "1Po2g7YPuRTx",
        "colab": {
          "base_uri": "https://localhost:8080/"
        },
        "outputId": "618fc236-12f5-40e9-e906-c8a36e0706ec"
      }
    },
    {
      "cell_type": "markdown",
      "source": [
        "Good! Everything looks fine - the data is a 1-dimensional array, the sampling rate always corresponds to 16kHz, and the target text is normalized."
      ],
      "metadata": {
        "id": "M9teZcSwOBJ4"
      }
    },
    {
      "cell_type": "markdown",
      "source": [
        "Finally, we can leverage `Wav2Vec2Processor` to process the data to the format expected by `Wav2Vec2ForCTC` for training. We will again make use of the `map(...)` function.\n",
        "\n",
        "First, we load and resample the audio data, simply by calling `batch[\"audio\"]`.\n",
        "Second, we extract the `input_values` from the loaded audio file. In our case, this includes only normalization, but for other speech models, this step could correspond to extracting, *e.g.* [Log-Mel features](https://en.wikipedia.org/wiki/Mel-frequency_cepstrum). \n",
        "Third, we encode the transcriptions to label ids.\n",
        "\n",
        "**Note**: This mapping function is a good example of how the `Wav2Vec2Processor` class should be used. In \"normal\" context, calling `processor(...)` is redirected to `Wav2Vec2FeatureExtractor`'s call method. When wrapping the processor into the `as_target_processor` context, however, the same method is redirected to `Wav2Vec2CTCTokenizer`'s call method.\n",
        "For more information please check the [docs](https://huggingface.co/transformers/master/model_doc/wav2vec2.html#transformers.Wav2Vec2Processor.__call__)."
      ],
      "metadata": {
        "id": "k3Pbn5WvOYZF"
      }
    },
    {
      "cell_type": "code",
      "execution_count": null,
      "source": [
        "def prepare_dataset(batch):\r\n",
        "    audio = batch[\"audio\"]\r\n",
        "\r\n",
        "    # batched output is \"un-batched\"\r\n",
        "    batch[\"input_values\"] = processor(audio[\"array\"], sampling_rate=audio[\"sampling_rate\"]).input_values[0]\r\n",
        "    \r\n",
        "    with processor.as_target_processor():\r\n",
        "        batch[\"labels\"] = processor(batch[\"sentence\"]).input_ids\r\n",
        "    return batch"
      ],
      "outputs": [],
      "metadata": {
        "id": "eJY7I0XAwe9p"
      }
    },
    {
      "cell_type": "markdown",
      "source": [
        "Let's apply the data preparation function to all examples."
      ],
      "metadata": {
        "id": "q6Pg_WR3OGAP"
      }
    },
    {
      "cell_type": "code",
      "execution_count": null,
      "source": [
        "common_voice_train = common_voice_train.map(prepare_dataset, remove_columns=common_voice_train.column_names, num_proc=4)\r\n",
        "common_voice_test = common_voice_test.map(prepare_dataset, remove_columns=common_voice_test.column_names, num_proc=4)"
      ],
      "outputs": [
        {
          "output_type": "error",
          "ename": "OSError",
          "evalue": "ignored",
          "traceback": [
            "\u001b[0;31m---------------------------------------------------------------------------\u001b[0m",
            "\u001b[0;31mRemoteTraceback\u001b[0m                           Traceback (most recent call last)",
            "\u001b[0;31mRemoteTraceback\u001b[0m: \n\"\"\"\nTraceback (most recent call last):\n  File \"/usr/local/lib/python3.7/dist-packages/datasets/arrow_dataset.py\", line 2391, in _map_single\n    writer.write(example)\n  File \"/usr/local/lib/python3.7/dist-packages/datasets/arrow_writer.py\", line 368, in write\n    self.write_examples_on_file()\n  File \"/usr/local/lib/python3.7/dist-packages/datasets/arrow_writer.py\", line 326, in write_examples_on_file\n    self.write_table(table)\n  File \"/usr/local/lib/python3.7/dist-packages/datasets/arrow_writer.py\", line 433, in write_table\n    self.pa_writer.write_batch(batch)\n  File \"pyarrow/ipc.pxi\", line 365, in pyarrow.lib._CRecordBatchWriter.write_batch\n  File \"pyarrow/error.pxi\", line 97, in pyarrow.lib.check_status\nOSError: [Errno 28] Error writing bytes to file. Detail: [errno 28] No space left on device\n\nDuring handling of the above exception, another exception occurred:\n\nTraceback (most recent call last):\n  File \"/usr/local/lib/python3.7/dist-packages/multiprocess/pool.py\", line 121, in worker\n    result = (True, func(*args, **kwds))\n  File \"/usr/local/lib/python3.7/dist-packages/datasets/arrow_dataset.py\", line 503, in wrapper\n    out: Union[\"Dataset\", \"DatasetDict\"] = func(self, *args, **kwargs)\n  File \"/usr/local/lib/python3.7/dist-packages/datasets/arrow_dataset.py\", line 470, in wrapper\n    out: Union[\"Dataset\", \"DatasetDict\"] = func(self, *args, **kwargs)\n  File \"/usr/local/lib/python3.7/dist-packages/datasets/fingerprint.py\", line 406, in wrapper\n    out = func(self, *args, **kwargs)\n  File \"/usr/local/lib/python3.7/dist-packages/datasets/arrow_dataset.py\", line 2427, in _map_single\n    writer.finalize()\n  File \"/usr/local/lib/python3.7/dist-packages/datasets/arrow_writer.py\", line 442, in finalize\n    self.write_examples_on_file()\n  File \"/usr/local/lib/python3.7/dist-packages/datasets/arrow_writer.py\", line 326, in write_examples_on_file\n    self.write_table(table)\n  File \"/usr/local/lib/python3.7/dist-packages/datasets/arrow_writer.py\", line 433, in write_table\n    self.pa_writer.write_batch(batch)\n  File \"pyarrow/ipc.pxi\", line 365, in pyarrow.lib._CRecordBatchWriter.write_batch\n  File \"pyarrow/error.pxi\", line 97, in pyarrow.lib.check_status\nOSError: [Errno 28] Error writing bytes to file. Detail: [errno 28] No space left on device\n\"\"\"",
            "\nThe above exception was the direct cause of the following exception:\n",
            "\u001b[0;31mOSError\u001b[0m                                   Traceback (most recent call last)",
            "\u001b[0;32m<ipython-input-29-89a131ae3097>\u001b[0m in \u001b[0;36m<module>\u001b[0;34m()\u001b[0m\n\u001b[0;32m----> 1\u001b[0;31m \u001b[0mcommon_voice_train\u001b[0m \u001b[0;34m=\u001b[0m \u001b[0mcommon_voice_train\u001b[0m\u001b[0;34m.\u001b[0m\u001b[0mmap\u001b[0m\u001b[0;34m(\u001b[0m\u001b[0mprepare_dataset\u001b[0m\u001b[0;34m,\u001b[0m \u001b[0mremove_columns\u001b[0m\u001b[0;34m=\u001b[0m\u001b[0mcommon_voice_train\u001b[0m\u001b[0;34m.\u001b[0m\u001b[0mcolumn_names\u001b[0m\u001b[0;34m,\u001b[0m \u001b[0mnum_proc\u001b[0m\u001b[0;34m=\u001b[0m\u001b[0;36m4\u001b[0m\u001b[0;34m)\u001b[0m\u001b[0;34m\u001b[0m\u001b[0;34m\u001b[0m\u001b[0m\n\u001b[0m\u001b[1;32m      2\u001b[0m \u001b[0mcommon_voice_test\u001b[0m \u001b[0;34m=\u001b[0m \u001b[0mcommon_voice_test\u001b[0m\u001b[0;34m.\u001b[0m\u001b[0mmap\u001b[0m\u001b[0;34m(\u001b[0m\u001b[0mprepare_dataset\u001b[0m\u001b[0;34m,\u001b[0m \u001b[0mremove_columns\u001b[0m\u001b[0;34m=\u001b[0m\u001b[0mcommon_voice_test\u001b[0m\u001b[0;34m.\u001b[0m\u001b[0mcolumn_names\u001b[0m\u001b[0;34m,\u001b[0m \u001b[0mnum_proc\u001b[0m\u001b[0;34m=\u001b[0m\u001b[0;36m4\u001b[0m\u001b[0;34m)\u001b[0m\u001b[0;34m\u001b[0m\u001b[0;34m\u001b[0m\u001b[0m\n",
            "\u001b[0;32m/usr/local/lib/python3.7/dist-packages/datasets/arrow_dataset.py\u001b[0m in \u001b[0;36mmap\u001b[0;34m(self, function, with_indices, input_columns, batched, batch_size, drop_last_batch, remove_columns, keep_in_memory, load_from_cache_file, cache_file_name, writer_batch_size, features, disable_nullable, fn_kwargs, num_proc, suffix_template, new_fingerprint, desc)\u001b[0m\n\u001b[1;32m   2139\u001b[0m \u001b[0;34m\u001b[0m\u001b[0m\n\u001b[1;32m   2140\u001b[0m                     \u001b[0;32mfor\u001b[0m \u001b[0mindex\u001b[0m\u001b[0;34m,\u001b[0m \u001b[0masync_result\u001b[0m \u001b[0;32min\u001b[0m \u001b[0mresults\u001b[0m\u001b[0;34m.\u001b[0m\u001b[0mitems\u001b[0m\u001b[0;34m(\u001b[0m\u001b[0;34m)\u001b[0m\u001b[0;34m:\u001b[0m\u001b[0;34m\u001b[0m\u001b[0;34m\u001b[0m\u001b[0m\n\u001b[0;32m-> 2141\u001b[0;31m                         \u001b[0mtransformed_shards\u001b[0m\u001b[0;34m[\u001b[0m\u001b[0mindex\u001b[0m\u001b[0;34m]\u001b[0m \u001b[0;34m=\u001b[0m \u001b[0masync_result\u001b[0m\u001b[0;34m.\u001b[0m\u001b[0mget\u001b[0m\u001b[0;34m(\u001b[0m\u001b[0;34m)\u001b[0m\u001b[0;34m\u001b[0m\u001b[0;34m\u001b[0m\u001b[0m\n\u001b[0m\u001b[1;32m   2142\u001b[0m \u001b[0;34m\u001b[0m\u001b[0m\n\u001b[1;32m   2143\u001b[0m             assert (\n",
            "\u001b[0;32m/usr/local/lib/python3.7/dist-packages/multiprocess/pool.py\u001b[0m in \u001b[0;36mget\u001b[0;34m(self, timeout)\u001b[0m\n\u001b[1;32m    655\u001b[0m             \u001b[0;32mreturn\u001b[0m \u001b[0mself\u001b[0m\u001b[0;34m.\u001b[0m\u001b[0m_value\u001b[0m\u001b[0;34m\u001b[0m\u001b[0;34m\u001b[0m\u001b[0m\n\u001b[1;32m    656\u001b[0m         \u001b[0;32melse\u001b[0m\u001b[0;34m:\u001b[0m\u001b[0;34m\u001b[0m\u001b[0;34m\u001b[0m\u001b[0m\n\u001b[0;32m--> 657\u001b[0;31m             \u001b[0;32mraise\u001b[0m \u001b[0mself\u001b[0m\u001b[0;34m.\u001b[0m\u001b[0m_value\u001b[0m\u001b[0;34m\u001b[0m\u001b[0;34m\u001b[0m\u001b[0m\n\u001b[0m\u001b[1;32m    658\u001b[0m \u001b[0;34m\u001b[0m\u001b[0m\n\u001b[1;32m    659\u001b[0m     \u001b[0;32mdef\u001b[0m \u001b[0m_set\u001b[0m\u001b[0;34m(\u001b[0m\u001b[0mself\u001b[0m\u001b[0;34m,\u001b[0m \u001b[0mi\u001b[0m\u001b[0;34m,\u001b[0m \u001b[0mobj\u001b[0m\u001b[0;34m)\u001b[0m\u001b[0;34m:\u001b[0m\u001b[0;34m\u001b[0m\u001b[0;34m\u001b[0m\u001b[0m\n",
            "\u001b[0;32m/usr/local/lib/python3.7/dist-packages/multiprocess/pool.py\u001b[0m in \u001b[0;36mworker\u001b[0;34m()\u001b[0m\n\u001b[1;32m    119\u001b[0m         \u001b[0mjob\u001b[0m\u001b[0;34m,\u001b[0m \u001b[0mi\u001b[0m\u001b[0;34m,\u001b[0m \u001b[0mfunc\u001b[0m\u001b[0;34m,\u001b[0m \u001b[0margs\u001b[0m\u001b[0;34m,\u001b[0m \u001b[0mkwds\u001b[0m \u001b[0;34m=\u001b[0m \u001b[0mtask\u001b[0m\u001b[0;34m\u001b[0m\u001b[0;34m\u001b[0m\u001b[0m\n\u001b[1;32m    120\u001b[0m         \u001b[0;32mtry\u001b[0m\u001b[0;34m:\u001b[0m\u001b[0;34m\u001b[0m\u001b[0;34m\u001b[0m\u001b[0m\n\u001b[0;32m--> 121\u001b[0;31m             \u001b[0mresult\u001b[0m \u001b[0;34m=\u001b[0m \u001b[0;34m(\u001b[0m\u001b[0;32mTrue\u001b[0m\u001b[0;34m,\u001b[0m \u001b[0mfunc\u001b[0m\u001b[0;34m(\u001b[0m\u001b[0;34m*\u001b[0m\u001b[0margs\u001b[0m\u001b[0;34m,\u001b[0m \u001b[0;34m**\u001b[0m\u001b[0mkwds\u001b[0m\u001b[0;34m)\u001b[0m\u001b[0;34m)\u001b[0m\u001b[0;34m\u001b[0m\u001b[0;34m\u001b[0m\u001b[0m\n\u001b[0m\u001b[1;32m    122\u001b[0m         \u001b[0;32mexcept\u001b[0m \u001b[0mException\u001b[0m \u001b[0;32mas\u001b[0m \u001b[0me\u001b[0m\u001b[0;34m:\u001b[0m\u001b[0;34m\u001b[0m\u001b[0;34m\u001b[0m\u001b[0m\n\u001b[1;32m    123\u001b[0m             \u001b[0;32mif\u001b[0m \u001b[0mwrap_exception\u001b[0m \u001b[0;32mand\u001b[0m \u001b[0mfunc\u001b[0m \u001b[0;32mis\u001b[0m \u001b[0;32mnot\u001b[0m \u001b[0m_helper_reraises_exception\u001b[0m\u001b[0;34m:\u001b[0m\u001b[0;34m\u001b[0m\u001b[0;34m\u001b[0m\u001b[0m\n",
            "\u001b[0;32m/usr/local/lib/python3.7/dist-packages/datasets/arrow_dataset.py\u001b[0m in \u001b[0;36mwrapper\u001b[0;34m()\u001b[0m\n\u001b[1;32m    501\u001b[0m             \u001b[0mself\u001b[0m\u001b[0;34m:\u001b[0m \u001b[0;34m\"Dataset\"\u001b[0m \u001b[0;34m=\u001b[0m \u001b[0mkwargs\u001b[0m\u001b[0;34m.\u001b[0m\u001b[0mpop\u001b[0m\u001b[0;34m(\u001b[0m\u001b[0;34m\"self\"\u001b[0m\u001b[0;34m)\u001b[0m\u001b[0;34m\u001b[0m\u001b[0;34m\u001b[0m\u001b[0m\n\u001b[1;32m    502\u001b[0m         \u001b[0;31m# apply actual function\u001b[0m\u001b[0;34m\u001b[0m\u001b[0;34m\u001b[0m\u001b[0;34m\u001b[0m\u001b[0m\n\u001b[0;32m--> 503\u001b[0;31m         \u001b[0mout\u001b[0m\u001b[0;34m:\u001b[0m \u001b[0mUnion\u001b[0m\u001b[0;34m[\u001b[0m\u001b[0;34m\"Dataset\"\u001b[0m\u001b[0;34m,\u001b[0m \u001b[0;34m\"DatasetDict\"\u001b[0m\u001b[0;34m]\u001b[0m \u001b[0;34m=\u001b[0m \u001b[0mfunc\u001b[0m\u001b[0;34m(\u001b[0m\u001b[0mself\u001b[0m\u001b[0;34m,\u001b[0m \u001b[0;34m*\u001b[0m\u001b[0margs\u001b[0m\u001b[0;34m,\u001b[0m \u001b[0;34m**\u001b[0m\u001b[0mkwargs\u001b[0m\u001b[0;34m)\u001b[0m\u001b[0;34m\u001b[0m\u001b[0;34m\u001b[0m\u001b[0m\n\u001b[0m\u001b[1;32m    504\u001b[0m         \u001b[0mdatasets\u001b[0m\u001b[0;34m:\u001b[0m \u001b[0mList\u001b[0m\u001b[0;34m[\u001b[0m\u001b[0;34m\"Dataset\"\u001b[0m\u001b[0;34m]\u001b[0m \u001b[0;34m=\u001b[0m \u001b[0mlist\u001b[0m\u001b[0;34m(\u001b[0m\u001b[0mout\u001b[0m\u001b[0;34m.\u001b[0m\u001b[0mvalues\u001b[0m\u001b[0;34m(\u001b[0m\u001b[0;34m)\u001b[0m\u001b[0;34m)\u001b[0m \u001b[0;32mif\u001b[0m \u001b[0misinstance\u001b[0m\u001b[0;34m(\u001b[0m\u001b[0mout\u001b[0m\u001b[0;34m,\u001b[0m \u001b[0mdict\u001b[0m\u001b[0;34m)\u001b[0m \u001b[0;32melse\u001b[0m \u001b[0;34m[\u001b[0m\u001b[0mout\u001b[0m\u001b[0;34m]\u001b[0m\u001b[0;34m\u001b[0m\u001b[0;34m\u001b[0m\u001b[0m\n\u001b[1;32m    505\u001b[0m         \u001b[0;32mfor\u001b[0m \u001b[0mdataset\u001b[0m \u001b[0;32min\u001b[0m \u001b[0mdatasets\u001b[0m\u001b[0;34m:\u001b[0m\u001b[0;34m\u001b[0m\u001b[0;34m\u001b[0m\u001b[0m\n",
            "\u001b[0;32m/usr/local/lib/python3.7/dist-packages/datasets/arrow_dataset.py\u001b[0m in \u001b[0;36mwrapper\u001b[0;34m()\u001b[0m\n\u001b[1;32m    468\u001b[0m         }\n\u001b[1;32m    469\u001b[0m         \u001b[0;31m# apply actual function\u001b[0m\u001b[0;34m\u001b[0m\u001b[0;34m\u001b[0m\u001b[0;34m\u001b[0m\u001b[0m\n\u001b[0;32m--> 470\u001b[0;31m         \u001b[0mout\u001b[0m\u001b[0;34m:\u001b[0m \u001b[0mUnion\u001b[0m\u001b[0;34m[\u001b[0m\u001b[0;34m\"Dataset\"\u001b[0m\u001b[0;34m,\u001b[0m \u001b[0;34m\"DatasetDict\"\u001b[0m\u001b[0;34m]\u001b[0m \u001b[0;34m=\u001b[0m \u001b[0mfunc\u001b[0m\u001b[0;34m(\u001b[0m\u001b[0mself\u001b[0m\u001b[0;34m,\u001b[0m \u001b[0;34m*\u001b[0m\u001b[0margs\u001b[0m\u001b[0;34m,\u001b[0m \u001b[0;34m**\u001b[0m\u001b[0mkwargs\u001b[0m\u001b[0;34m)\u001b[0m\u001b[0;34m\u001b[0m\u001b[0;34m\u001b[0m\u001b[0m\n\u001b[0m\u001b[1;32m    471\u001b[0m         \u001b[0mdatasets\u001b[0m\u001b[0;34m:\u001b[0m \u001b[0mList\u001b[0m\u001b[0;34m[\u001b[0m\u001b[0;34m\"Dataset\"\u001b[0m\u001b[0;34m]\u001b[0m \u001b[0;34m=\u001b[0m \u001b[0mlist\u001b[0m\u001b[0;34m(\u001b[0m\u001b[0mout\u001b[0m\u001b[0;34m.\u001b[0m\u001b[0mvalues\u001b[0m\u001b[0;34m(\u001b[0m\u001b[0;34m)\u001b[0m\u001b[0;34m)\u001b[0m \u001b[0;32mif\u001b[0m \u001b[0misinstance\u001b[0m\u001b[0;34m(\u001b[0m\u001b[0mout\u001b[0m\u001b[0;34m,\u001b[0m \u001b[0mdict\u001b[0m\u001b[0;34m)\u001b[0m \u001b[0;32melse\u001b[0m \u001b[0;34m[\u001b[0m\u001b[0mout\u001b[0m\u001b[0;34m]\u001b[0m\u001b[0;34m\u001b[0m\u001b[0;34m\u001b[0m\u001b[0m\n\u001b[1;32m    472\u001b[0m         \u001b[0;31m# re-apply format to the output\u001b[0m\u001b[0;34m\u001b[0m\u001b[0;34m\u001b[0m\u001b[0;34m\u001b[0m\u001b[0m\n",
            "\u001b[0;32m/usr/local/lib/python3.7/dist-packages/datasets/fingerprint.py\u001b[0m in \u001b[0;36mwrapper\u001b[0;34m()\u001b[0m\n\u001b[1;32m    404\u001b[0m             \u001b[0;31m# Call actual function\u001b[0m\u001b[0;34m\u001b[0m\u001b[0;34m\u001b[0m\u001b[0;34m\u001b[0m\u001b[0m\n\u001b[1;32m    405\u001b[0m \u001b[0;34m\u001b[0m\u001b[0m\n\u001b[0;32m--> 406\u001b[0;31m             \u001b[0mout\u001b[0m \u001b[0;34m=\u001b[0m \u001b[0mfunc\u001b[0m\u001b[0;34m(\u001b[0m\u001b[0mself\u001b[0m\u001b[0;34m,\u001b[0m \u001b[0;34m*\u001b[0m\u001b[0margs\u001b[0m\u001b[0;34m,\u001b[0m \u001b[0;34m**\u001b[0m\u001b[0mkwargs\u001b[0m\u001b[0;34m)\u001b[0m\u001b[0;34m\u001b[0m\u001b[0;34m\u001b[0m\u001b[0m\n\u001b[0m\u001b[1;32m    407\u001b[0m \u001b[0;34m\u001b[0m\u001b[0m\n\u001b[1;32m    408\u001b[0m             \u001b[0;31m# Update fingerprint of in-place transforms + update in-place history of transforms\u001b[0m\u001b[0;34m\u001b[0m\u001b[0;34m\u001b[0m\u001b[0;34m\u001b[0m\u001b[0m\n",
            "\u001b[0;32m/usr/local/lib/python3.7/dist-packages/datasets/arrow_dataset.py\u001b[0m in \u001b[0;36m_map_single\u001b[0;34m()\u001b[0m\n\u001b[1;32m   2425\u001b[0m                 \u001b[0;32mif\u001b[0m \u001b[0mupdate_data\u001b[0m\u001b[0;34m:\u001b[0m\u001b[0;34m\u001b[0m\u001b[0;34m\u001b[0m\u001b[0m\n\u001b[1;32m   2426\u001b[0m                     \u001b[0;32mif\u001b[0m \u001b[0mwriter\u001b[0m \u001b[0;32mis\u001b[0m \u001b[0;32mnot\u001b[0m \u001b[0;32mNone\u001b[0m\u001b[0;34m:\u001b[0m\u001b[0;34m\u001b[0m\u001b[0;34m\u001b[0m\u001b[0m\n\u001b[0;32m-> 2427\u001b[0;31m                         \u001b[0mwriter\u001b[0m\u001b[0;34m.\u001b[0m\u001b[0mfinalize\u001b[0m\u001b[0;34m(\u001b[0m\u001b[0;34m)\u001b[0m\u001b[0;34m\u001b[0m\u001b[0;34m\u001b[0m\u001b[0m\n\u001b[0m\u001b[1;32m   2428\u001b[0m                     \u001b[0;32mif\u001b[0m \u001b[0mtmp_file\u001b[0m \u001b[0;32mis\u001b[0m \u001b[0;32mnot\u001b[0m \u001b[0;32mNone\u001b[0m\u001b[0;34m:\u001b[0m\u001b[0;34m\u001b[0m\u001b[0;34m\u001b[0m\u001b[0m\n\u001b[1;32m   2429\u001b[0m                         \u001b[0mtmp_file\u001b[0m\u001b[0;34m.\u001b[0m\u001b[0mclose\u001b[0m\u001b[0;34m(\u001b[0m\u001b[0;34m)\u001b[0m\u001b[0;34m\u001b[0m\u001b[0;34m\u001b[0m\u001b[0m\n",
            "\u001b[0;32m/usr/local/lib/python3.7/dist-packages/datasets/arrow_writer.py\u001b[0m in \u001b[0;36mfinalize\u001b[0;34m()\u001b[0m\n\u001b[1;32m    440\u001b[0m             \u001b[0;31m# Re-intializing to empty list for next batch\u001b[0m\u001b[0;34m\u001b[0m\u001b[0;34m\u001b[0m\u001b[0;34m\u001b[0m\u001b[0m\n\u001b[1;32m    441\u001b[0m             \u001b[0mself\u001b[0m\u001b[0;34m.\u001b[0m\u001b[0mhkey_record\u001b[0m \u001b[0;34m=\u001b[0m \u001b[0;34m[\u001b[0m\u001b[0;34m]\u001b[0m\u001b[0;34m\u001b[0m\u001b[0;34m\u001b[0m\u001b[0m\n\u001b[0;32m--> 442\u001b[0;31m         \u001b[0mself\u001b[0m\u001b[0;34m.\u001b[0m\u001b[0mwrite_examples_on_file\u001b[0m\u001b[0;34m(\u001b[0m\u001b[0;34m)\u001b[0m\u001b[0;34m\u001b[0m\u001b[0;34m\u001b[0m\u001b[0m\n\u001b[0m\u001b[1;32m    443\u001b[0m         \u001b[0;32mif\u001b[0m \u001b[0mself\u001b[0m\u001b[0;34m.\u001b[0m\u001b[0mpa_writer\u001b[0m \u001b[0;32mis\u001b[0m \u001b[0;32mNone\u001b[0m\u001b[0;34m:\u001b[0m\u001b[0;34m\u001b[0m\u001b[0;34m\u001b[0m\u001b[0m\n\u001b[1;32m    444\u001b[0m             \u001b[0;32mif\u001b[0m \u001b[0mself\u001b[0m\u001b[0;34m.\u001b[0m\u001b[0m_schema\u001b[0m \u001b[0;32mis\u001b[0m \u001b[0;32mnot\u001b[0m \u001b[0;32mNone\u001b[0m\u001b[0;34m:\u001b[0m\u001b[0;34m\u001b[0m\u001b[0;34m\u001b[0m\u001b[0m\n",
            "\u001b[0;32m/usr/local/lib/python3.7/dist-packages/datasets/arrow_writer.py\u001b[0m in \u001b[0;36mwrite_examples_on_file\u001b[0;34m()\u001b[0m\n\u001b[1;32m    324\u001b[0m         \u001b[0mschema\u001b[0m \u001b[0;34m=\u001b[0m \u001b[0mpa\u001b[0m\u001b[0;34m.\u001b[0m\u001b[0mschema\u001b[0m\u001b[0;34m(\u001b[0m\u001b[0mzip\u001b[0m\u001b[0;34m(\u001b[0m\u001b[0mcols\u001b[0m\u001b[0;34m,\u001b[0m \u001b[0minferred_types\u001b[0m\u001b[0;34m)\u001b[0m\u001b[0;34m)\u001b[0m \u001b[0;32mif\u001b[0m \u001b[0mself\u001b[0m\u001b[0;34m.\u001b[0m\u001b[0mpa_writer\u001b[0m \u001b[0;32mis\u001b[0m \u001b[0;32mNone\u001b[0m \u001b[0;32melse\u001b[0m \u001b[0mself\u001b[0m\u001b[0;34m.\u001b[0m\u001b[0m_schema\u001b[0m\u001b[0;34m\u001b[0m\u001b[0;34m\u001b[0m\u001b[0m\n\u001b[1;32m    325\u001b[0m         \u001b[0mtable\u001b[0m \u001b[0;34m=\u001b[0m \u001b[0mpa\u001b[0m\u001b[0;34m.\u001b[0m\u001b[0mTable\u001b[0m\u001b[0;34m.\u001b[0m\u001b[0mfrom_arrays\u001b[0m\u001b[0;34m(\u001b[0m\u001b[0marrays\u001b[0m\u001b[0;34m,\u001b[0m \u001b[0mschema\u001b[0m\u001b[0;34m=\u001b[0m\u001b[0mschema\u001b[0m\u001b[0;34m)\u001b[0m\u001b[0;34m\u001b[0m\u001b[0;34m\u001b[0m\u001b[0m\n\u001b[0;32m--> 326\u001b[0;31m         \u001b[0mself\u001b[0m\u001b[0;34m.\u001b[0m\u001b[0mwrite_table\u001b[0m\u001b[0;34m(\u001b[0m\u001b[0mtable\u001b[0m\u001b[0;34m)\u001b[0m\u001b[0;34m\u001b[0m\u001b[0;34m\u001b[0m\u001b[0m\n\u001b[0m\u001b[1;32m    327\u001b[0m         \u001b[0mself\u001b[0m\u001b[0;34m.\u001b[0m\u001b[0mcurrent_examples\u001b[0m \u001b[0;34m=\u001b[0m \u001b[0;34m[\u001b[0m\u001b[0;34m]\u001b[0m\u001b[0;34m\u001b[0m\u001b[0;34m\u001b[0m\u001b[0m\n\u001b[1;32m    328\u001b[0m \u001b[0;34m\u001b[0m\u001b[0m\n",
            "\u001b[0;32m/usr/local/lib/python3.7/dist-packages/datasets/arrow_writer.py\u001b[0m in \u001b[0;36mwrite_table\u001b[0;34m()\u001b[0m\n\u001b[1;32m    431\u001b[0m         \u001b[0mself\u001b[0m\u001b[0;34m.\u001b[0m\u001b[0m_num_examples\u001b[0m \u001b[0;34m+=\u001b[0m \u001b[0mpa_table\u001b[0m\u001b[0;34m.\u001b[0m\u001b[0mnum_rows\u001b[0m\u001b[0;34m\u001b[0m\u001b[0;34m\u001b[0m\u001b[0m\n\u001b[1;32m    432\u001b[0m         \u001b[0;32mfor\u001b[0m \u001b[0mbatch\u001b[0m \u001b[0;32min\u001b[0m \u001b[0mbatches\u001b[0m\u001b[0;34m:\u001b[0m\u001b[0;34m\u001b[0m\u001b[0;34m\u001b[0m\u001b[0m\n\u001b[0;32m--> 433\u001b[0;31m             \u001b[0mself\u001b[0m\u001b[0;34m.\u001b[0m\u001b[0mpa_writer\u001b[0m\u001b[0;34m.\u001b[0m\u001b[0mwrite_batch\u001b[0m\u001b[0;34m(\u001b[0m\u001b[0mbatch\u001b[0m\u001b[0;34m)\u001b[0m\u001b[0;34m\u001b[0m\u001b[0;34m\u001b[0m\u001b[0m\n\u001b[0m\u001b[1;32m    434\u001b[0m \u001b[0;34m\u001b[0m\u001b[0m\n\u001b[1;32m    435\u001b[0m     \u001b[0;32mdef\u001b[0m \u001b[0mfinalize\u001b[0m\u001b[0;34m(\u001b[0m\u001b[0mself\u001b[0m\u001b[0;34m,\u001b[0m \u001b[0mclose_stream\u001b[0m\u001b[0;34m=\u001b[0m\u001b[0;32mTrue\u001b[0m\u001b[0;34m)\u001b[0m\u001b[0;34m:\u001b[0m\u001b[0;34m\u001b[0m\u001b[0;34m\u001b[0m\u001b[0m\n",
            "\u001b[0;32m/usr/local/lib/python3.7/dist-packages/pyarrow/ipc.pxi\u001b[0m in \u001b[0;36mpyarrow.lib._CRecordBatchWriter.write_batch\u001b[0;34m()\u001b[0m\n\u001b[1;32m    363\u001b[0m         \"\"\"\n\u001b[1;32m    364\u001b[0m         \u001b[0;32mwith\u001b[0m \u001b[0mnogil\u001b[0m\u001b[0;34m:\u001b[0m\u001b[0;34m\u001b[0m\u001b[0;34m\u001b[0m\u001b[0m\n\u001b[0;32m--> 365\u001b[0;31m             check_status(self.writer.get()\n\u001b[0m\u001b[1;32m    366\u001b[0m                          .WriteRecordBatch(deref(batch.batch)))\n\u001b[1;32m    367\u001b[0m \u001b[0;34m\u001b[0m\u001b[0m\n",
            "\u001b[0;32m/usr/local/lib/python3.7/dist-packages/pyarrow/error.pxi\u001b[0m in \u001b[0;36mpyarrow.lib.check_status\u001b[0;34m()\u001b[0m\n\u001b[1;32m     95\u001b[0m                 \u001b[0;32mraise\u001b[0m \u001b[0mIOError\u001b[0m\u001b[0;34m(\u001b[0m\u001b[0merrno\u001b[0m\u001b[0;34m,\u001b[0m \u001b[0mmessage\u001b[0m\u001b[0;34m,\u001b[0m \u001b[0;32mNone\u001b[0m\u001b[0;34m,\u001b[0m \u001b[0mwinerror\u001b[0m\u001b[0;34m)\u001b[0m\u001b[0;34m\u001b[0m\u001b[0;34m\u001b[0m\u001b[0m\n\u001b[1;32m     96\u001b[0m             \u001b[0;32melif\u001b[0m \u001b[0merrno\u001b[0m \u001b[0;34m!=\u001b[0m \u001b[0;36m0\u001b[0m\u001b[0;34m:\u001b[0m\u001b[0;34m\u001b[0m\u001b[0;34m\u001b[0m\u001b[0m\n\u001b[0;32m---> 97\u001b[0;31m                 \u001b[0;32mraise\u001b[0m \u001b[0mIOError\u001b[0m\u001b[0;34m(\u001b[0m\u001b[0merrno\u001b[0m\u001b[0;34m,\u001b[0m \u001b[0mmessage\u001b[0m\u001b[0;34m)\u001b[0m\u001b[0;34m\u001b[0m\u001b[0;34m\u001b[0m\u001b[0m\n\u001b[0m\u001b[1;32m     98\u001b[0m             \u001b[0;32melse\u001b[0m\u001b[0;34m:\u001b[0m\u001b[0;34m\u001b[0m\u001b[0;34m\u001b[0m\u001b[0m\n\u001b[1;32m     99\u001b[0m                 \u001b[0;32mraise\u001b[0m \u001b[0mIOError\u001b[0m\u001b[0;34m(\u001b[0m\u001b[0mmessage\u001b[0m\u001b[0;34m)\u001b[0m\u001b[0;34m\u001b[0m\u001b[0;34m\u001b[0m\u001b[0m\n",
            "\u001b[0;31mOSError\u001b[0m: [Errno 28] Error writing bytes to file. Detail: [errno 28] No space left on device"
          ]
        }
      ],
      "metadata": {
        "id": "-np9xYK-wl8q",
        "colab": {
          "base_uri": "https://localhost:8080/",
          "height": 1000
        },
        "outputId": "5b85f2ad-5e8a-483e-c1c9-b4e5c970dcc2"
      }
    },
    {
      "cell_type": "markdown",
      "source": [
        "**Note**: Currently `datasets` make use of [`torchaudio`](https://pytorch.org/audio/stable/index.html) and [`librosa`](https://librosa.org/doc/latest/index.html) for audio loading and resampling. If you wish to implement your own costumized data loading/sampling, feel free to just make use of the `\"path\"` column instead and disregard the `\"audio\"` column."
      ],
      "metadata": {
        "id": "nKcEWHvKI1by"
      }
    },
    {
      "cell_type": "markdown",
      "source": [
        "## Training\n",
        "\n",
        "The data is processed so that we are ready to start setting up the training pipeline. We will make use of 🤗's [Trainer](https://huggingface.co/transformers/master/main_classes/trainer.html?highlight=trainer) for which we essentially need to do the following:\n",
        "\n",
        "- Define a data collator. In contrast to most NLP models, XLSR-Wav2Vec2 has a much larger input length than output length. *E.g.*, a sample of input length 50000 has an output length of no more than 100. Given the large input sizes, it is much more efficient to pad the training batches dynamically meaning that all training samples should only be padded to the longest sample in their batch and not the overall longest sample. Therefore, fine-tuning XLSR-Wav2Vec2 requires a special padding data collator, which we will define below\n",
        "\n",
        "- Evaluation metric. During training, the model should be evaluated on the word error rate. We should define a `compute_metrics` function accordingly\n",
        "\n",
        "- Load a pretrained checkpoint. We need to load a pretrained checkpoint and configure it correctly for training.\n",
        "\n",
        "- Define the training configuration.\n",
        "\n",
        "After having fine-tuned the model, we will correctly evaluate it on the test data and verify that it has indeed learned to correctly transcribe speech."
      ],
      "metadata": {
        "id": "gYlQkKVoRUos"
      }
    },
    {
      "cell_type": "markdown",
      "source": [
        "### Set-up Trainer\n",
        "\n",
        "Let's start by defining the data collator. The code for the data collator was copied from [this example](https://github.com/huggingface/transformers/blob/9a06b6b11bdfc42eea08fa91d0c737d1863c99e3/examples/research_projects/wav2vec2/run_asr.py#L81).\n",
        "\n",
        "Without going into too many details, in contrast to the common data collators, this data collator treats the `input_values` and `labels` differently and thus applies to separate padding functions on them (again making use of XLSR-Wav2Vec2's context manager). This is necessary because in speech input and output are of different modalities meaning that they should not be treated by the same padding function.\n",
        "Analogous to the common data collators, the padding tokens in the labels with `-100` so that those tokens are **not** taken into account when computing the loss."
      ],
      "metadata": {
        "id": "Slk403unUS91"
      }
    },
    {
      "cell_type": "code",
      "execution_count": null,
      "source": [
        "import torch\n",
        "\n",
        "from dataclasses import dataclass, field\n",
        "from typing import Any, Dict, List, Optional, Union\n",
        "\n",
        "@dataclass\n",
        "class DataCollatorCTCWithPadding:\n",
        "    \"\"\"\n",
        "    Data collator that will dynamically pad the inputs received.\n",
        "    Args:\n",
        "        processor (:class:`~transformers.Wav2Vec2Processor`)\n",
        "            The processor used for proccessing the data.\n",
        "        padding (:obj:`bool`, :obj:`str` or :class:`~transformers.tokenization_utils_base.PaddingStrategy`, `optional`, defaults to :obj:`True`):\n",
        "            Select a strategy to pad the returned sequences (according to the model's padding side and padding index)\n",
        "            among:\n",
        "            * :obj:`True` or :obj:`'longest'`: Pad to the longest sequence in the batch (or no padding if only a single\n",
        "              sequence if provided).\n",
        "            * :obj:`'max_length'`: Pad to a maximum length specified with the argument :obj:`max_length` or to the\n",
        "              maximum acceptable input length for the model if that argument is not provided.\n",
        "            * :obj:`False` or :obj:`'do_not_pad'` (default): No padding (i.e., can output a batch with sequences of\n",
        "              different lengths).\n",
        "        max_length (:obj:`int`, `optional`):\n",
        "            Maximum length of the ``input_values`` of the returned list and optionally padding length (see above).\n",
        "        max_length_labels (:obj:`int`, `optional`):\n",
        "            Maximum length of the ``labels`` returned list and optionally padding length (see above).\n",
        "        pad_to_multiple_of (:obj:`int`, `optional`):\n",
        "            If set will pad the sequence to a multiple of the provided value.\n",
        "            This is especially useful to enable the use of Tensor Cores on NVIDIA hardware with compute capability >=\n",
        "            7.5 (Volta).\n",
        "    \"\"\"\n",
        "\n",
        "    processor: Wav2Vec2Processor\n",
        "    padding: Union[bool, str] = True\n",
        "    max_length: Optional[int] = None\n",
        "    max_length_labels: Optional[int] = None\n",
        "    pad_to_multiple_of: Optional[int] = None\n",
        "    pad_to_multiple_of_labels: Optional[int] = None\n",
        "\n",
        "    def __call__(self, features: List[Dict[str, Union[List[int], torch.Tensor]]]) -> Dict[str, torch.Tensor]:\n",
        "        # split inputs and labels since they have to be of different lenghts and need\n",
        "        # different padding methods\n",
        "        input_features = [{\"input_values\": feature[\"input_values\"]} for feature in features]\n",
        "        label_features = [{\"input_ids\": feature[\"labels\"]} for feature in features]\n",
        "\n",
        "        batch = self.processor.pad(\n",
        "            input_features,\n",
        "            padding=self.padding,\n",
        "            max_length=self.max_length,\n",
        "            pad_to_multiple_of=self.pad_to_multiple_of,\n",
        "            return_tensors=\"pt\",\n",
        "        )\n",
        "        with self.processor.as_target_processor():\n",
        "            labels_batch = self.processor.pad(\n",
        "                label_features,\n",
        "                padding=self.padding,\n",
        "                max_length=self.max_length_labels,\n",
        "                pad_to_multiple_of=self.pad_to_multiple_of_labels,\n",
        "                return_tensors=\"pt\",\n",
        "            )\n",
        "\n",
        "        # replace padding with -100 to ignore loss correctly\n",
        "        labels = labels_batch[\"input_ids\"].masked_fill(labels_batch.attention_mask.ne(1), -100)\n",
        "\n",
        "        batch[\"labels\"] = labels\n",
        "\n",
        "        return batch"
      ],
      "outputs": [],
      "metadata": {
        "id": "tborvC9hx88e"
      }
    },
    {
      "cell_type": "code",
      "execution_count": null,
      "source": [
        "data_collator = DataCollatorCTCWithPadding(processor=processor, padding=True)"
      ],
      "outputs": [],
      "metadata": {
        "id": "lbQf5GuZyQ4_"
      }
    },
    {
      "cell_type": "markdown",
      "source": [
        "Next, the evaluation metric is defined. As mentioned earlier, the \n",
        "predominant metric in ASR is the word error rate (WER), hence we will use it in this notebook as well."
      ],
      "metadata": {
        "id": "xO-Zdj-5cxXp"
      }
    },
    {
      "cell_type": "code",
      "execution_count": null,
      "source": [
        "wer_metric = load_metric(\"wer\")"
      ],
      "outputs": [],
      "metadata": {
        "id": "9Xsux2gmyXso"
      }
    },
    {
      "cell_type": "markdown",
      "source": [
        "The model will return a sequence of logit vectors:\n",
        "$\\mathbf{y}_1, \\ldots, \\mathbf{y}_m$ with $\\mathbf{y}_1 = f_{\\theta}(x_1, \\ldots, x_n)[0]$ and $n >> m$.\n",
        "\n",
        "A logit vector $\\mathbf{y}_1$ contains the log-odds for each word in the vocabulary we defined earlier, thus $\\text{len}(\\mathbf{y}_i) =$ `config.vocab_size`. We are interested in the most likely prediction of the model and thus take the `argmax(...)` of the logits. Also, we transform the encoded labels back to the original string by replacing `-100` with the `pad_token_id` and decoding the ids while making sure that consecutive tokens are **not** grouped to the same token in CTC style ${}^1$."
      ],
      "metadata": {
        "id": "E1qZU5p-deqB"
      }
    },
    {
      "cell_type": "code",
      "execution_count": null,
      "source": [
        "def compute_metrics(pred):\n",
        "    pred_logits = pred.predictions\n",
        "    pred_ids = np.argmax(pred_logits, axis=-1)\n",
        "\n",
        "    pred.label_ids[pred.label_ids == -100] = processor.tokenizer.pad_token_id\n",
        "\n",
        "    pred_str = processor.batch_decode(pred_ids)\n",
        "    # we do not want to group tokens when computing the metrics\n",
        "    label_str = processor.batch_decode(pred.label_ids, group_tokens=False)\n",
        "\n",
        "    wer = wer_metric.compute(predictions=pred_str, references=label_str)\n",
        "\n",
        "    return {\"wer\": wer}"
      ],
      "outputs": [],
      "metadata": {
        "id": "1XZ-kjweyTy_"
      }
    },
    {
      "cell_type": "markdown",
      "source": [
        "Now, we can load the pretrained `XLSR-Wav2Vec2` checkpoint. The tokenizer's `pad_token_id` must be to define the model's `pad_token_id` or in the case of `Wav2Vec2ForCTC` also CTC's *blank token* ${}^2$. To save GPU memory, we enable PyTorch's [gradient checkpointing](https://pytorch.org/docs/stable/checkpoint.html) and also set the loss reduction to \"*mean*\".\n",
        "\n",
        "Because the dataset is quite small (~6h of training data) and because Common Voice is quite noisy, fine-tuning Facebook's [wav2vec2-large-xlsr-53 checkpoint](https://huggingface.co/facebook/wav2vec2-large-xlsr-53) seems to require some hyper-parameter tuning. Therefore, I had to play around a bit with different values for dropout, [SpecAugment](https://arxiv.org/abs/1904.08779)'s masking dropout rate, layer dropout, and the learning rate until training seemed to be stable enough. \n",
        "\n",
        "**Note**: When using this notebook to train XLSR-Wav2Vec2 on another language of Common Voice those hyper-parameter settings might not work very well. Feel free to adapt those depending on your use case. "
      ],
      "metadata": {
        "id": "Xmgrx4bRwLIH"
      }
    },
    {
      "cell_type": "code",
      "execution_count": null,
      "source": [
        "from transformers import Wav2Vec2ForCTC\n",
        "\n",
        "model = Wav2Vec2ForCTC.from_pretrained(\n",
        "    \"facebook/wav2vec2-large-xlsr-53\", \n",
        "    attention_dropout=0.1,\n",
        "    hidden_dropout=0.1,\n",
        "    feat_proj_dropout=0.0,\n",
        "    mask_time_prob=0.05,\n",
        "    layerdrop=0.1,\n",
        "    ctc_loss_reduction=\"mean\", \n",
        "    pad_token_id=processor.tokenizer.pad_token_id,\n",
        "    vocab_size=len(processor.tokenizer)\n",
        ")"
      ],
      "outputs": [],
      "metadata": {
        "id": "e7cqAWIayn6w"
      }
    },
    {
      "cell_type": "markdown",
      "source": [
        "The first component of XLSR-Wav2Vec2 consists of a stack of CNN layers that are used to extract acoustically meaningful - but contextually independent - features from the raw speech signal. This part of the model has already been sufficiently trained during pretraining and as stated in the [paper](https://arxiv.org/pdf/2006.13979.pdf) does not need to be fine-tuned anymore. \n",
        "Thus, we can set the `requires_grad` to `False` for all parameters of the *feature extraction* part."
      ],
      "metadata": {
        "id": "1DwR3XLSzGDD"
      }
    },
    {
      "cell_type": "code",
      "execution_count": null,
      "source": [
        "model.freeze_feature_extractor()"
      ],
      "outputs": [],
      "metadata": {
        "id": "oGI8zObtZ3V0"
      }
    },
    {
      "cell_type": "markdown",
      "source": [
        "In addition, let's enable gradient checkpointing to save some memory."
      ],
      "metadata": {
        "id": "3y34yOlVWZca"
      }
    },
    {
      "cell_type": "code",
      "execution_count": null,
      "source": [
        "model.gradient_checkpointing_enable()"
      ],
      "outputs": [],
      "metadata": {
        "id": "JE8uF0dFWeSw"
      }
    },
    {
      "cell_type": "markdown",
      "source": [
        "In a final step, we define all parameters related to training. \n",
        "To give more explanation on some of the parameters:\n",
        "- `group_by_length` makes training more efficient by grouping training samples of similar input length into one batch. This can significantly speed up training time by heavily reducing the overall number of useless padding tokens that are passed through the model\n",
        "- `learning_rate` and `weight_decay` were heuristically tuned until fine-tuning has become stable. Note that those parameters strongly depend on the Common Voice dataset and might be suboptimal for other speech datasets.\n",
        "\n",
        "For more explanations on other parameters, one can take a look at the [docs](https://huggingface.co/transformers/master/main_classes/trainer.html?highlight=trainer#trainingarguments).\n",
        "\n",
        "**Note**: If one wants to save the trained models in his/her google drive the commented-out `output_dir` can be used instead."
      ],
      "metadata": {
        "id": "lD4aGhQM0K-D"
      }
    },
    {
      "cell_type": "code",
      "execution_count": null,
      "source": [
        "from transformers import TrainingArguments\n",
        "\n",
        "training_args = TrainingArguments(\n",
        "  # output_dir=\"/content/gdrive/MyDrive/wav2vec2-large-xlsr-turkish-demo\",\n",
        "  output_dir=\"./wav2vec2-large-xlsr-turkish-demo\",\n",
        "  group_by_length=True,\n",
        "  per_device_train_batch_size=16,\n",
        "  gradient_accumulation_steps=2,\n",
        "  evaluation_strategy=\"steps\",\n",
        "  num_train_epochs=30,\n",
        "  fp16=True,\n",
        "  save_steps=100,\n",
        "  eval_steps=100,\n",
        "  logging_steps=10,\n",
        "  learning_rate=3e-4,\n",
        "  warmup_steps=500,\n",
        "  save_total_limit=2,\n",
        ")"
      ],
      "outputs": [],
      "metadata": {
        "id": "KbeKSV7uzGPP"
      }
    },
    {
      "cell_type": "markdown",
      "source": [
        "Now, all instances can be passed to Trainer and we are ready to start training!"
      ],
      "metadata": {
        "id": "OsW-WZcL1ZtN"
      }
    },
    {
      "cell_type": "code",
      "execution_count": null,
      "source": [
        "from transformers import Trainer\n",
        "\n",
        "trainer = Trainer(\n",
        "    model=model,\n",
        "    data_collator=data_collator,\n",
        "    args=training_args,\n",
        "    compute_metrics=compute_metrics,\n",
        "    train_dataset=common_voice_train,\n",
        "    eval_dataset=common_voice_test,\n",
        "    tokenizer=processor.feature_extractor,\n",
        ")"
      ],
      "outputs": [],
      "metadata": {
        "id": "rY7vBmFCPFgC"
      }
    },
    {
      "cell_type": "markdown",
      "source": [
        "\n",
        "\n",
        "---\n",
        "\n",
        "${}^1$ To allow models to become independent of the speaker rate, in CTC, consecutive tokens that are identical are simply grouped as a single token. However, the encoded labels should not be grouped when decoding since they don't correspond to the predicted tokens of the model, which is why the `group_tokens=False` parameter has to be passed. If we wouldn't pass this parameter a word like `\"hello\"` would incorrectly be encoded, and decoded as `\"helo\"`.\n",
        "\n",
        "${}^2$ The blank token allows the model to predict a word, such as `\"hello\"` by forcing it to insert the blank token between the two l's. A CTC-conform prediction of `\"hello\"` of our model would be `[PAD] [PAD] \"h\" \"e\" \"e\" \"l\" \"l\" [PAD] \"l\" \"o\" \"o\" [PAD]`."
      ],
      "metadata": {
        "id": "UoXBx1JAA0DX"
      }
    },
    {
      "cell_type": "markdown",
      "source": [
        "### Training"
      ],
      "metadata": {
        "id": "rpvZHM1xReIW"
      }
    },
    {
      "cell_type": "markdown",
      "source": [
        "Training will take multiple hours depending on the GPU allocated to this notebook. While the trained model yields somewhat satisfying results on *Common Voice*'s test data of Turkish, it is by no means an optimally fine-tuned model. The purpose of this notebook is to demonstrate how XLSR-Wav2Vec2's [checkpoint](https://huggingface.co/facebook/wav2vec2-large-xlsr-53) can be fine-tuned on a low-resource ASR dataset.\n",
        "\n",
        "In case you want to use this google colab to fine-tune your model, you should make sure that your training doesn't stop due to inactivity. A simple hack to prevent this is to paste the following code into the console of this tab (*right mouse click -> inspect -> Console tab and insert code*)."
      ],
      "metadata": {
        "id": "j-3oKSzZ1hGq"
      }
    },
    {
      "cell_type": "markdown",
      "source": [
        "```javascript\n",
        "function ConnectButton(){\n",
        "    console.log(\"Connect pushed\"); \n",
        "    document.querySelector(\"#top-toolbar > colab-connect-button\").shadowRoot.querySelector(\"#connect\").click() \n",
        "}\n",
        "setInterval(ConnectButton,60000);\n",
        "```"
      ],
      "metadata": {
        "id": "VYYAvgkW4P0m"
      }
    },
    {
      "cell_type": "code",
      "execution_count": null,
      "source": [
        "trainer.train()"
      ],
      "outputs": [],
      "metadata": {
        "id": "_UEjJqGsQw24"
      }
    },
    {
      "cell_type": "markdown",
      "source": [
        "The training and validation loss go down nicely. The WER starts improving only at a later stage. Because this notebook is just for demonstration purposes, we can stop here.\n",
        "\n",
        "To fine-tune larger models on larger datasets using CTC loss, one should take a look at the official speech-recognition examples [here](https://github.com/huggingface/transformers/tree/master/examples/pytorch/speech-recognition#connectionist-temporal-classification-without-language-model-ctc-wo-lm) 🤗."
      ],
      "metadata": {
        "id": "RHIVc44_fY2N"
      }
    }
  ]
}